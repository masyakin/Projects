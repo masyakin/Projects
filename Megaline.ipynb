{
 "cells": [
  {
   "cell_type": "markdown",
   "metadata": {
    "toc": true
   },
   "source": [
    "<h1>Table of Contents<span class=\"tocSkip\"></span></h1>\n",
    "<div class=\"toc\"><ul class=\"toc-item\"><li><span><a href=\"#Обзор-данных\" data-toc-modified-id=\"Обзор-данных-1\"><span class=\"toc-item-num\">1&nbsp;&nbsp;</span>Обзор данных</a></span></li><li><span><a href=\"#Предобработка-данных\" data-toc-modified-id=\"Предобработка-данных-2\"><span class=\"toc-item-num\">2&nbsp;&nbsp;</span>Предобработка данных</a></span><ul class=\"toc-item\"><li><span><a href=\"#Таблица-calls-(информация-о-звонках)\" data-toc-modified-id=\"Таблица-calls-(информация-о-звонках)-2.1\"><span class=\"toc-item-num\">2.1&nbsp;&nbsp;</span>Таблица calls (информация о звонках)</a></span></li><li><span><a href=\"#Таблица-internet-(информация-об-интернет-сессиях)\" data-toc-modified-id=\"Таблица-internet-(информация-об-интернет-сессиях)-2.2\"><span class=\"toc-item-num\">2.2&nbsp;&nbsp;</span>Таблица internet (информация об интернет-сессиях)</a></span></li><li><span><a href=\"#Таблица-messages-(информация-о-сообщениях)\" data-toc-modified-id=\"Таблица-messages-(информация-о-сообщениях)-2.3\"><span class=\"toc-item-num\">2.3&nbsp;&nbsp;</span>Таблица messages (информация о сообщениях)</a></span></li><li><span><a href=\"#Таблица-users-(информация-о-пользователях)\" data-toc-modified-id=\"Таблица-users-(информация-о-пользователях)-2.4\"><span class=\"toc-item-num\">2.4&nbsp;&nbsp;</span>Таблица users (информация о пользователях)</a></span></li><li><span><a href=\"#Количество-сделанных-звонков-и-израсходованных-минут-разговора-по-месяцам\" data-toc-modified-id=\"Количество-сделанных-звонков-и-израсходованных-минут-разговора-по-месяцам-2.5\"><span class=\"toc-item-num\">2.5&nbsp;&nbsp;</span>Количество сделанных звонков и израсходованных минут разговора по месяцам</a></span></li><li><span><a href=\"#Количество-отправленных-сообщений-по-месяцам\" data-toc-modified-id=\"Количество-отправленных-сообщений-по-месяцам-2.6\"><span class=\"toc-item-num\">2.6&nbsp;&nbsp;</span>Количество отправленных сообщений по месяцам</a></span></li><li><span><a href=\"#Oбъем-израсходованного-интернет-трафика-по-месяцам\" data-toc-modified-id=\"Oбъем-израсходованного-интернет-трафика-по-месяцам-2.7\"><span class=\"toc-item-num\">2.7&nbsp;&nbsp;</span>Oбъем израсходованного интернет-трафика по месяцам</a></span></li><li><span><a href=\"#Помесячная-выручка-с-каждого-пользователя\" data-toc-modified-id=\"Помесячная-выручка-с-каждого-пользователя-2.8\"><span class=\"toc-item-num\">2.8&nbsp;&nbsp;</span>Помесячная выручка с каждого пользователя</a></span></li></ul></li><li><span><a href=\"#Анализ-данных\" data-toc-modified-id=\"Анализ-данных-3\"><span class=\"toc-item-num\">3&nbsp;&nbsp;</span>Анализ данных</a></span><ul class=\"toc-item\"><li><span><a href=\"#Минуты-разговора---calls-duration\" data-toc-modified-id=\"Минуты-разговора---calls-duration-3.1\"><span class=\"toc-item-num\">3.1&nbsp;&nbsp;</span>Минуты разговора - calls duration</a></span></li><li><span><a href=\"#Количество-сообщений---messages\" data-toc-modified-id=\"Количество-сообщений---messages-3.2\"><span class=\"toc-item-num\">3.2&nbsp;&nbsp;</span>Количество сообщений - messages</a></span></li><li><span><a href=\"#Объем-интернет-трафика---mb_used\" data-toc-modified-id=\"Объем-интернет-трафика---mb_used-3.3\"><span class=\"toc-item-num\">3.3&nbsp;&nbsp;</span>Объем интернет-трафика - mb_used</a></span></li><li><span><a href=\"#Выручка---total_income\" data-toc-modified-id=\"Выручка---total_income-3.4\"><span class=\"toc-item-num\">3.4&nbsp;&nbsp;</span>Выручка - total_income</a></span></li></ul></li><li><span><a href=\"#Проверка-гипотез\" data-toc-modified-id=\"Проверка-гипотез-4\"><span class=\"toc-item-num\">4&nbsp;&nbsp;</span>Проверка гипотез</a></span><ul class=\"toc-item\"><li><span><a href=\"#Средняя-выручка-пользователей-тарифов-«Ультра»-и-«Смарт»-различаются\" data-toc-modified-id=\"Средняя-выручка-пользователей-тарифов-«Ультра»-и-«Смарт»-различаются-4.1\"><span class=\"toc-item-num\">4.1&nbsp;&nbsp;</span>Средняя выручка пользователей тарифов «Ультра» и «Смарт» различаются</a></span></li><li><span><a href=\"#Cредняя-выручка-пользователей-из-Москвы-отличается-от-выручки-пользователей-из-других-регионов\" data-toc-modified-id=\"Cредняя-выручка-пользователей-из-Москвы-отличается-от-выручки-пользователей-из-других-регионов-4.2\"><span class=\"toc-item-num\">4.2&nbsp;&nbsp;</span>Cредняя выручка пользователей из Москвы отличается от выручки пользователей из других регионов</a></span></li></ul></li><li><span><a href=\"#Общий-вывод\" data-toc-modified-id=\"Общий-вывод-5\"><span class=\"toc-item-num\">5&nbsp;&nbsp;</span>Общий вывод</a></span></li></ul></div>"
   ]
  },
  {
   "cell_type": "markdown",
   "metadata": {},
   "source": [
    "# Определение наиболее выгодного тарифа для компании \"Мегалайн\""
   ]
  },
  {
   "cell_type": "markdown",
   "metadata": {},
   "source": [
    "**Цель**: Определить выгодный тарифный план для корректировки рекламного бюджета.\n",
    "\n",
    "**Выборка**. Данные 500 пользователей тарифных планов «Смарт» и «Ультра»: кто они, откуда, каким тарифом пользуются, сколько звонков и сообщений каждый отправил за 2018 год.\n",
    "\n",
    "**Примечание**: «Мегалайн» всегда округляет секунды до минут, а мегабайты — до гигабайт:\n",
    "\n",
    "* Каждый звонок округляется отдельно: даже если он длился всего 1 секунду, будет засчитан как 1 минута. \n",
    "* Для веб-трафика отдельные сессии не считаются. Вместо этого общая сумма за месяц округляется в бо́льшую сторону. Если абонент использует 1025 мегабайт в этом месяце, с него возьмут плату за 2 гигабайта."
   ]
  },
  {
   "cell_type": "markdown",
   "metadata": {},
   "source": [
    "**План работ:**\n",
    " - [x] Привести данные к нужным типам.\n",
    " - [x] Найти и исправить ошибки в данных, если они есть.\n",
    " - [x] Посчитать для каждого пользователя:\n",
    "       * количество сделанных звонков и израсходованных минут разговора по месяцам;\n",
    "       * количество отправленных сообщений по месяцам;\n",
    "       * объем израсходованного интернет-трафика по месяцам;\n",
    "       * помесячную выручку с каждого пользователя.\n",
    " - [x] Описать поведение клиентов оператора, исходя из выборки. \n",
    "       * Сколько минут разговора, сколько сообщений и какой объём интернет-трафика требуется пользователям каждого тарифа в месяц? \n",
    "       * Посчитать среднее количество, дисперсию и стандартное отклонение.\n",
    "       * Построить гистограммы. \n",
    "       * Описать распределения.\n",
    " - [x] Проверить гипотезу \"средняя выручка пользователей тарифов «Ультра» и «Смарт» различаются\".\n",
    " - [x] Проверить гипотезу \"средняя выручка пользователей из Москвы отличается от выручки пользователей из других регионов\".\n",
    " - [x] Написать общий вывод"
   ]
  },
  {
   "cell_type": "markdown",
   "metadata": {},
   "source": [
    "### Обзор данных"
   ]
  },
  {
   "cell_type": "code",
   "execution_count": 1,
   "metadata": {},
   "outputs": [],
   "source": [
    "# импортируем все необходимые библиотеки для исследования \n",
    "\n",
    "import pandas as pd\n",
    "import matplotlib.pyplot as plt\n",
    "import numpy as np    \n",
    "from scipy import stats as st\n",
    "import seaborn as sns\n",
    "import os\n",
    "\n",
    "%matplotlib inline\n",
    "\n",
    "pd.options.display.float_format = '{:.3f}'.format"
   ]
  },
  {
   "cell_type": "code",
   "execution_count": 2,
   "metadata": {},
   "outputs": [],
   "source": [
    "# загрузим все файлы\n",
    "\n",
    "try:\n",
    "    df_calls = pd.read_csv('https://code.s3.yandex.net/datasets/calls.csv')\n",
    "    df_internet = pd.read_csv('https://code.s3.yandex.net/datasets/internet.csv')\n",
    "    df_messages = pd.read_csv('https://code.s3.yandex.net/datasets/messages.csv')\n",
    "    df_tariffs = pd.read_csv('https://code.s3.yandex.net/datasets/tariffs.csv')\n",
    "    df_users = pd.read_csv('https://code.s3.yandex.net/datasets/users.csv')\n",
    "except:\n",
    "    df_calls = pd.read_csv('D:/anaconda3/calls.csv')\n",
    "    df_internet = pd.read_csv('D:/anaconda3/internet.csv')\n",
    "    df_messages = pd.read_csv('D:/anaconda3/messages.csv')\n",
    "    df_tariffs = pd.read_csv('D:/anaconda3/tariffs.csv')\n",
    "    df_users = pd.read_csv('D:/anaconda3/users.csv')"
   ]
  },
  {
   "cell_type": "code",
   "execution_count": 3,
   "metadata": {},
   "outputs": [],
   "source": [
    "# код для отображения 100 столбцов в датасетах\n",
    "pd.options.display.max_columns = 100"
   ]
  },
  {
   "cell_type": "code",
   "execution_count": 4,
   "metadata": {},
   "outputs": [],
   "source": [
    "# напишем функцию для ускорения процесса обзора данных\n",
    "\n",
    "def display_df(df):\n",
    "    # функция покажет:\n",
    "    # произвольные 5 строк датафрейма\n",
    "    # типы данных\n",
    "    # пропуски\n",
    "    # дубликаты\n",
    "    \n",
    "    print('-------------Первые 5 строк датафрейма-------------')\n",
    "    display(df.head())\n",
    "    print('')\n",
    "    print('')\n",
    "    print('--------------------Типы данных--------------------')\n",
    "    print(df.info())\n",
    "    print('')\n",
    "    print('')\n",
    "    print('---------------------Пропуски---------------------')\n",
    "    count = 0\n",
    "    for element in df.columns:\n",
    "        if df[element].isna().sum() > 0:\n",
    "            print(element, '-', df[element].isna().sum(), 'пропусков')\n",
    "            count =+1\n",
    "    if count == 0:\n",
    "        print('Пропусков нет')\n",
    "    print('')\n",
    "    print('')\n",
    "    print('---------------------Дубликаты---------------------')\n",
    "    if df.duplicated().sum() > 0:\n",
    "        print('Дубликатов:', df.duplicated().sum())\n",
    "    else:\n",
    "        print('Дубликатов нет')   "
   ]
  },
  {
   "cell_type": "code",
   "execution_count": 5,
   "metadata": {},
   "outputs": [
    {
     "name": "stdout",
     "output_type": "stream",
     "text": [
      "-------------Первые 5 строк датафрейма-------------\n"
     ]
    },
    {
     "data": {
      "text/html": [
       "<div>\n",
       "<style scoped>\n",
       "    .dataframe tbody tr th:only-of-type {\n",
       "        vertical-align: middle;\n",
       "    }\n",
       "\n",
       "    .dataframe tbody tr th {\n",
       "        vertical-align: top;\n",
       "    }\n",
       "\n",
       "    .dataframe thead th {\n",
       "        text-align: right;\n",
       "    }\n",
       "</style>\n",
       "<table border=\"1\" class=\"dataframe\">\n",
       "  <thead>\n",
       "    <tr style=\"text-align: right;\">\n",
       "      <th></th>\n",
       "      <th>id</th>\n",
       "      <th>call_date</th>\n",
       "      <th>duration</th>\n",
       "      <th>user_id</th>\n",
       "    </tr>\n",
       "  </thead>\n",
       "  <tbody>\n",
       "    <tr>\n",
       "      <th>0</th>\n",
       "      <td>1000_0</td>\n",
       "      <td>2018-07-25</td>\n",
       "      <td>0.000</td>\n",
       "      <td>1000</td>\n",
       "    </tr>\n",
       "    <tr>\n",
       "      <th>1</th>\n",
       "      <td>1000_1</td>\n",
       "      <td>2018-08-17</td>\n",
       "      <td>0.000</td>\n",
       "      <td>1000</td>\n",
       "    </tr>\n",
       "    <tr>\n",
       "      <th>2</th>\n",
       "      <td>1000_2</td>\n",
       "      <td>2018-06-11</td>\n",
       "      <td>2.850</td>\n",
       "      <td>1000</td>\n",
       "    </tr>\n",
       "    <tr>\n",
       "      <th>3</th>\n",
       "      <td>1000_3</td>\n",
       "      <td>2018-09-21</td>\n",
       "      <td>13.800</td>\n",
       "      <td>1000</td>\n",
       "    </tr>\n",
       "    <tr>\n",
       "      <th>4</th>\n",
       "      <td>1000_4</td>\n",
       "      <td>2018-12-15</td>\n",
       "      <td>5.180</td>\n",
       "      <td>1000</td>\n",
       "    </tr>\n",
       "  </tbody>\n",
       "</table>\n",
       "</div>"
      ],
      "text/plain": [
       "       id   call_date  duration  user_id\n",
       "0  1000_0  2018-07-25     0.000     1000\n",
       "1  1000_1  2018-08-17     0.000     1000\n",
       "2  1000_2  2018-06-11     2.850     1000\n",
       "3  1000_3  2018-09-21    13.800     1000\n",
       "4  1000_4  2018-12-15     5.180     1000"
      ]
     },
     "metadata": {},
     "output_type": "display_data"
    },
    {
     "name": "stdout",
     "output_type": "stream",
     "text": [
      "\n",
      "\n",
      "--------------------Типы данных--------------------\n",
      "<class 'pandas.core.frame.DataFrame'>\n",
      "RangeIndex: 202607 entries, 0 to 202606\n",
      "Data columns (total 4 columns):\n",
      " #   Column     Non-Null Count   Dtype  \n",
      "---  ------     --------------   -----  \n",
      " 0   id         202607 non-null  object \n",
      " 1   call_date  202607 non-null  object \n",
      " 2   duration   202607 non-null  float64\n",
      " 3   user_id    202607 non-null  int64  \n",
      "dtypes: float64(1), int64(1), object(2)\n",
      "memory usage: 6.2+ MB\n",
      "None\n",
      "\n",
      "\n",
      "---------------------Пропуски---------------------\n",
      "Пропусков нет\n",
      "\n",
      "\n",
      "---------------------Дубликаты---------------------\n",
      "Дубликатов нет\n"
     ]
    }
   ],
   "source": [
    "display_df(df_calls)"
   ]
  },
  {
   "cell_type": "markdown",
   "metadata": {},
   "source": [
    "**Таблица calls (информация о звонках):**\n",
    "* id — уникальный номер звонка\n",
    "* call_date — дата звонка\n",
    "* duration — длительность звонка в минутах\n",
    "* user_id — идентификатор пользователя, сделавшего звонок"
   ]
  },
  {
   "cell_type": "markdown",
   "metadata": {},
   "source": [
    "**Вывод:** \n",
    " * изменить тип данных в столбце call_date на datetime\n",
    " * округлить в большую сторону значения в столбце duration, т.к. «Мегалайн» всегда округляет секунды до минут"
   ]
  },
  {
   "cell_type": "code",
   "execution_count": 6,
   "metadata": {},
   "outputs": [
    {
     "name": "stdout",
     "output_type": "stream",
     "text": [
      "-------------Первые 5 строк датафрейма-------------\n"
     ]
    },
    {
     "data": {
      "text/html": [
       "<div>\n",
       "<style scoped>\n",
       "    .dataframe tbody tr th:only-of-type {\n",
       "        vertical-align: middle;\n",
       "    }\n",
       "\n",
       "    .dataframe tbody tr th {\n",
       "        vertical-align: top;\n",
       "    }\n",
       "\n",
       "    .dataframe thead th {\n",
       "        text-align: right;\n",
       "    }\n",
       "</style>\n",
       "<table border=\"1\" class=\"dataframe\">\n",
       "  <thead>\n",
       "    <tr style=\"text-align: right;\">\n",
       "      <th></th>\n",
       "      <th>Unnamed: 0</th>\n",
       "      <th>id</th>\n",
       "      <th>mb_used</th>\n",
       "      <th>session_date</th>\n",
       "      <th>user_id</th>\n",
       "    </tr>\n",
       "  </thead>\n",
       "  <tbody>\n",
       "    <tr>\n",
       "      <th>0</th>\n",
       "      <td>0</td>\n",
       "      <td>1000_0</td>\n",
       "      <td>112.950</td>\n",
       "      <td>2018-11-25</td>\n",
       "      <td>1000</td>\n",
       "    </tr>\n",
       "    <tr>\n",
       "      <th>1</th>\n",
       "      <td>1</td>\n",
       "      <td>1000_1</td>\n",
       "      <td>1052.810</td>\n",
       "      <td>2018-09-07</td>\n",
       "      <td>1000</td>\n",
       "    </tr>\n",
       "    <tr>\n",
       "      <th>2</th>\n",
       "      <td>2</td>\n",
       "      <td>1000_2</td>\n",
       "      <td>1197.260</td>\n",
       "      <td>2018-06-25</td>\n",
       "      <td>1000</td>\n",
       "    </tr>\n",
       "    <tr>\n",
       "      <th>3</th>\n",
       "      <td>3</td>\n",
       "      <td>1000_3</td>\n",
       "      <td>550.270</td>\n",
       "      <td>2018-08-22</td>\n",
       "      <td>1000</td>\n",
       "    </tr>\n",
       "    <tr>\n",
       "      <th>4</th>\n",
       "      <td>4</td>\n",
       "      <td>1000_4</td>\n",
       "      <td>302.560</td>\n",
       "      <td>2018-09-24</td>\n",
       "      <td>1000</td>\n",
       "    </tr>\n",
       "  </tbody>\n",
       "</table>\n",
       "</div>"
      ],
      "text/plain": [
       "   Unnamed: 0      id  mb_used session_date  user_id\n",
       "0           0  1000_0  112.950   2018-11-25     1000\n",
       "1           1  1000_1 1052.810   2018-09-07     1000\n",
       "2           2  1000_2 1197.260   2018-06-25     1000\n",
       "3           3  1000_3  550.270   2018-08-22     1000\n",
       "4           4  1000_4  302.560   2018-09-24     1000"
      ]
     },
     "metadata": {},
     "output_type": "display_data"
    },
    {
     "name": "stdout",
     "output_type": "stream",
     "text": [
      "\n",
      "\n",
      "--------------------Типы данных--------------------\n",
      "<class 'pandas.core.frame.DataFrame'>\n",
      "RangeIndex: 149396 entries, 0 to 149395\n",
      "Data columns (total 5 columns):\n",
      " #   Column        Non-Null Count   Dtype  \n",
      "---  ------        --------------   -----  \n",
      " 0   Unnamed: 0    149396 non-null  int64  \n",
      " 1   id            149396 non-null  object \n",
      " 2   mb_used       149396 non-null  float64\n",
      " 3   session_date  149396 non-null  object \n",
      " 4   user_id       149396 non-null  int64  \n",
      "dtypes: float64(1), int64(2), object(2)\n",
      "memory usage: 5.7+ MB\n",
      "None\n",
      "\n",
      "\n",
      "---------------------Пропуски---------------------\n",
      "Пропусков нет\n",
      "\n",
      "\n",
      "---------------------Дубликаты---------------------\n",
      "Дубликатов нет\n"
     ]
    }
   ],
   "source": [
    "display_df(df_internet)"
   ]
  },
  {
   "cell_type": "markdown",
   "metadata": {},
   "source": [
    "**Таблица internet (информация об интернет-сессиях):**\n",
    "* id — уникальный номер сессии\n",
    "* mb_used — объём потраченного за сессию интернет-трафика (в мегабайтах)\n",
    "* session_date — дата интернет-сессии\n",
    "* user_id — идентификатор пользователя"
   ]
  },
  {
   "cell_type": "markdown",
   "metadata": {},
   "source": [
    "**Вывод:**\n",
    " * обнаружен столбец Unnamed:0, дублирующий индексы датафрейма. Лучше от него избавиться.\n",
    " * изменить тип данных в столбце session_date на datetime"
   ]
  },
  {
   "cell_type": "code",
   "execution_count": 7,
   "metadata": {},
   "outputs": [
    {
     "name": "stdout",
     "output_type": "stream",
     "text": [
      "-------------Первые 5 строк датафрейма-------------\n"
     ]
    },
    {
     "data": {
      "text/html": [
       "<div>\n",
       "<style scoped>\n",
       "    .dataframe tbody tr th:only-of-type {\n",
       "        vertical-align: middle;\n",
       "    }\n",
       "\n",
       "    .dataframe tbody tr th {\n",
       "        vertical-align: top;\n",
       "    }\n",
       "\n",
       "    .dataframe thead th {\n",
       "        text-align: right;\n",
       "    }\n",
       "</style>\n",
       "<table border=\"1\" class=\"dataframe\">\n",
       "  <thead>\n",
       "    <tr style=\"text-align: right;\">\n",
       "      <th></th>\n",
       "      <th>id</th>\n",
       "      <th>message_date</th>\n",
       "      <th>user_id</th>\n",
       "    </tr>\n",
       "  </thead>\n",
       "  <tbody>\n",
       "    <tr>\n",
       "      <th>0</th>\n",
       "      <td>1000_0</td>\n",
       "      <td>2018-06-27</td>\n",
       "      <td>1000</td>\n",
       "    </tr>\n",
       "    <tr>\n",
       "      <th>1</th>\n",
       "      <td>1000_1</td>\n",
       "      <td>2018-10-08</td>\n",
       "      <td>1000</td>\n",
       "    </tr>\n",
       "    <tr>\n",
       "      <th>2</th>\n",
       "      <td>1000_2</td>\n",
       "      <td>2018-08-04</td>\n",
       "      <td>1000</td>\n",
       "    </tr>\n",
       "    <tr>\n",
       "      <th>3</th>\n",
       "      <td>1000_3</td>\n",
       "      <td>2018-06-16</td>\n",
       "      <td>1000</td>\n",
       "    </tr>\n",
       "    <tr>\n",
       "      <th>4</th>\n",
       "      <td>1000_4</td>\n",
       "      <td>2018-12-05</td>\n",
       "      <td>1000</td>\n",
       "    </tr>\n",
       "  </tbody>\n",
       "</table>\n",
       "</div>"
      ],
      "text/plain": [
       "       id message_date  user_id\n",
       "0  1000_0   2018-06-27     1000\n",
       "1  1000_1   2018-10-08     1000\n",
       "2  1000_2   2018-08-04     1000\n",
       "3  1000_3   2018-06-16     1000\n",
       "4  1000_4   2018-12-05     1000"
      ]
     },
     "metadata": {},
     "output_type": "display_data"
    },
    {
     "name": "stdout",
     "output_type": "stream",
     "text": [
      "\n",
      "\n",
      "--------------------Типы данных--------------------\n",
      "<class 'pandas.core.frame.DataFrame'>\n",
      "RangeIndex: 123036 entries, 0 to 123035\n",
      "Data columns (total 3 columns):\n",
      " #   Column        Non-Null Count   Dtype \n",
      "---  ------        --------------   ----- \n",
      " 0   id            123036 non-null  object\n",
      " 1   message_date  123036 non-null  object\n",
      " 2   user_id       123036 non-null  int64 \n",
      "dtypes: int64(1), object(2)\n",
      "memory usage: 2.8+ MB\n",
      "None\n",
      "\n",
      "\n",
      "---------------------Пропуски---------------------\n",
      "Пропусков нет\n",
      "\n",
      "\n",
      "---------------------Дубликаты---------------------\n",
      "Дубликатов нет\n"
     ]
    }
   ],
   "source": [
    "display_df(df_messages)"
   ]
  },
  {
   "cell_type": "markdown",
   "metadata": {},
   "source": [
    "**Таблица messages (информация о сообщениях):**\n",
    "* id — уникальный номер сообщения\n",
    "* message_date — дата сообщения\n",
    "* user_id — идентификатор пользователя, отправившего сообщение"
   ]
  },
  {
   "cell_type": "markdown",
   "metadata": {},
   "source": [
    "**Вывод:** \n",
    " * изменить тип данных в столбце message_date на datetime"
   ]
  },
  {
   "cell_type": "code",
   "execution_count": 8,
   "metadata": {},
   "outputs": [
    {
     "name": "stdout",
     "output_type": "stream",
     "text": [
      "-------------Первые 5 строк датафрейма-------------\n"
     ]
    },
    {
     "data": {
      "text/html": [
       "<div>\n",
       "<style scoped>\n",
       "    .dataframe tbody tr th:only-of-type {\n",
       "        vertical-align: middle;\n",
       "    }\n",
       "\n",
       "    .dataframe tbody tr th {\n",
       "        vertical-align: top;\n",
       "    }\n",
       "\n",
       "    .dataframe thead th {\n",
       "        text-align: right;\n",
       "    }\n",
       "</style>\n",
       "<table border=\"1\" class=\"dataframe\">\n",
       "  <thead>\n",
       "    <tr style=\"text-align: right;\">\n",
       "      <th></th>\n",
       "      <th>messages_included</th>\n",
       "      <th>mb_per_month_included</th>\n",
       "      <th>minutes_included</th>\n",
       "      <th>rub_monthly_fee</th>\n",
       "      <th>rub_per_gb</th>\n",
       "      <th>rub_per_message</th>\n",
       "      <th>rub_per_minute</th>\n",
       "      <th>tariff_name</th>\n",
       "    </tr>\n",
       "  </thead>\n",
       "  <tbody>\n",
       "    <tr>\n",
       "      <th>0</th>\n",
       "      <td>50</td>\n",
       "      <td>15360</td>\n",
       "      <td>500</td>\n",
       "      <td>550</td>\n",
       "      <td>200</td>\n",
       "      <td>3</td>\n",
       "      <td>3</td>\n",
       "      <td>smart</td>\n",
       "    </tr>\n",
       "    <tr>\n",
       "      <th>1</th>\n",
       "      <td>1000</td>\n",
       "      <td>30720</td>\n",
       "      <td>3000</td>\n",
       "      <td>1950</td>\n",
       "      <td>150</td>\n",
       "      <td>1</td>\n",
       "      <td>1</td>\n",
       "      <td>ultra</td>\n",
       "    </tr>\n",
       "  </tbody>\n",
       "</table>\n",
       "</div>"
      ],
      "text/plain": [
       "   messages_included  mb_per_month_included  minutes_included  \\\n",
       "0                 50                  15360               500   \n",
       "1               1000                  30720              3000   \n",
       "\n",
       "   rub_monthly_fee  rub_per_gb  rub_per_message  rub_per_minute tariff_name  \n",
       "0              550         200                3               3       smart  \n",
       "1             1950         150                1               1       ultra  "
      ]
     },
     "metadata": {},
     "output_type": "display_data"
    },
    {
     "name": "stdout",
     "output_type": "stream",
     "text": [
      "\n",
      "\n",
      "--------------------Типы данных--------------------\n",
      "<class 'pandas.core.frame.DataFrame'>\n",
      "RangeIndex: 2 entries, 0 to 1\n",
      "Data columns (total 8 columns):\n",
      " #   Column                 Non-Null Count  Dtype \n",
      "---  ------                 --------------  ----- \n",
      " 0   messages_included      2 non-null      int64 \n",
      " 1   mb_per_month_included  2 non-null      int64 \n",
      " 2   minutes_included       2 non-null      int64 \n",
      " 3   rub_monthly_fee        2 non-null      int64 \n",
      " 4   rub_per_gb             2 non-null      int64 \n",
      " 5   rub_per_message        2 non-null      int64 \n",
      " 6   rub_per_minute         2 non-null      int64 \n",
      " 7   tariff_name            2 non-null      object\n",
      "dtypes: int64(7), object(1)\n",
      "memory usage: 256.0+ bytes\n",
      "None\n",
      "\n",
      "\n",
      "---------------------Пропуски---------------------\n",
      "Пропусков нет\n",
      "\n",
      "\n",
      "---------------------Дубликаты---------------------\n",
      "Дубликатов нет\n"
     ]
    }
   ],
   "source": [
    "display_df(df_tariffs)"
   ]
  },
  {
   "cell_type": "markdown",
   "metadata": {},
   "source": [
    "**Таблица tariffs (информация о тарифах):**\n",
    "* tariff_name — название тарифа\n",
    "* rub_monthly_fee — ежемесячная абонентская плата в рублях\n",
    "* minutes_included — количество минут разговора в месяц, включённых в абонентскую плату\n",
    "* messages_included — количество сообщений в месяц, включённых в абонентскую плату\n",
    "* mb_per_month_included — объём интернет-трафика, включённого в абонентскую плату (в мегабайтах)\n",
    "* rub_per_minute — стоимость минуты разговора сверх тарифного пакета (например, если в тарифе 100 минут разговора в месяц, то со 101 минуты будет взиматься плата)\n",
    "* rub_per_message — стоимость отправки сообщения сверх тарифного пакета\n",
    "* rub_per_gb — стоимость дополнительного гигабайта интернет-трафика сверх тарифного пакета (1 гигабайт = 1024 мегабайта)"
   ]
  },
  {
   "cell_type": "markdown",
   "metadata": {},
   "source": [
    "**Вывод:** все в порядке, пропусков и дубликатов нет, изменений не требуется."
   ]
  },
  {
   "cell_type": "code",
   "execution_count": 9,
   "metadata": {},
   "outputs": [
    {
     "name": "stdout",
     "output_type": "stream",
     "text": [
      "-------------Первые 5 строк датафрейма-------------\n"
     ]
    },
    {
     "data": {
      "text/html": [
       "<div>\n",
       "<style scoped>\n",
       "    .dataframe tbody tr th:only-of-type {\n",
       "        vertical-align: middle;\n",
       "    }\n",
       "\n",
       "    .dataframe tbody tr th {\n",
       "        vertical-align: top;\n",
       "    }\n",
       "\n",
       "    .dataframe thead th {\n",
       "        text-align: right;\n",
       "    }\n",
       "</style>\n",
       "<table border=\"1\" class=\"dataframe\">\n",
       "  <thead>\n",
       "    <tr style=\"text-align: right;\">\n",
       "      <th></th>\n",
       "      <th>user_id</th>\n",
       "      <th>age</th>\n",
       "      <th>churn_date</th>\n",
       "      <th>city</th>\n",
       "      <th>first_name</th>\n",
       "      <th>last_name</th>\n",
       "      <th>reg_date</th>\n",
       "      <th>tariff</th>\n",
       "    </tr>\n",
       "  </thead>\n",
       "  <tbody>\n",
       "    <tr>\n",
       "      <th>0</th>\n",
       "      <td>1000</td>\n",
       "      <td>52</td>\n",
       "      <td>NaN</td>\n",
       "      <td>Краснодар</td>\n",
       "      <td>Рафаил</td>\n",
       "      <td>Верещагин</td>\n",
       "      <td>2018-05-25</td>\n",
       "      <td>ultra</td>\n",
       "    </tr>\n",
       "    <tr>\n",
       "      <th>1</th>\n",
       "      <td>1001</td>\n",
       "      <td>41</td>\n",
       "      <td>NaN</td>\n",
       "      <td>Москва</td>\n",
       "      <td>Иван</td>\n",
       "      <td>Ежов</td>\n",
       "      <td>2018-11-01</td>\n",
       "      <td>smart</td>\n",
       "    </tr>\n",
       "    <tr>\n",
       "      <th>2</th>\n",
       "      <td>1002</td>\n",
       "      <td>59</td>\n",
       "      <td>NaN</td>\n",
       "      <td>Стерлитамак</td>\n",
       "      <td>Евгений</td>\n",
       "      <td>Абрамович</td>\n",
       "      <td>2018-06-17</td>\n",
       "      <td>smart</td>\n",
       "    </tr>\n",
       "    <tr>\n",
       "      <th>3</th>\n",
       "      <td>1003</td>\n",
       "      <td>23</td>\n",
       "      <td>NaN</td>\n",
       "      <td>Москва</td>\n",
       "      <td>Белла</td>\n",
       "      <td>Белякова</td>\n",
       "      <td>2018-08-17</td>\n",
       "      <td>ultra</td>\n",
       "    </tr>\n",
       "    <tr>\n",
       "      <th>4</th>\n",
       "      <td>1004</td>\n",
       "      <td>68</td>\n",
       "      <td>NaN</td>\n",
       "      <td>Новокузнецк</td>\n",
       "      <td>Татьяна</td>\n",
       "      <td>Авдеенко</td>\n",
       "      <td>2018-05-14</td>\n",
       "      <td>ultra</td>\n",
       "    </tr>\n",
       "  </tbody>\n",
       "</table>\n",
       "</div>"
      ],
      "text/plain": [
       "   user_id  age churn_date         city first_name  last_name    reg_date  \\\n",
       "0     1000   52        NaN    Краснодар     Рафаил  Верещагин  2018-05-25   \n",
       "1     1001   41        NaN       Москва       Иван       Ежов  2018-11-01   \n",
       "2     1002   59        NaN  Стерлитамак    Евгений  Абрамович  2018-06-17   \n",
       "3     1003   23        NaN       Москва      Белла   Белякова  2018-08-17   \n",
       "4     1004   68        NaN  Новокузнецк    Татьяна   Авдеенко  2018-05-14   \n",
       "\n",
       "  tariff  \n",
       "0  ultra  \n",
       "1  smart  \n",
       "2  smart  \n",
       "3  ultra  \n",
       "4  ultra  "
      ]
     },
     "metadata": {},
     "output_type": "display_data"
    },
    {
     "name": "stdout",
     "output_type": "stream",
     "text": [
      "\n",
      "\n",
      "--------------------Типы данных--------------------\n",
      "<class 'pandas.core.frame.DataFrame'>\n",
      "RangeIndex: 500 entries, 0 to 499\n",
      "Data columns (total 8 columns):\n",
      " #   Column      Non-Null Count  Dtype \n",
      "---  ------      --------------  ----- \n",
      " 0   user_id     500 non-null    int64 \n",
      " 1   age         500 non-null    int64 \n",
      " 2   churn_date  38 non-null     object\n",
      " 3   city        500 non-null    object\n",
      " 4   first_name  500 non-null    object\n",
      " 5   last_name   500 non-null    object\n",
      " 6   reg_date    500 non-null    object\n",
      " 7   tariff      500 non-null    object\n",
      "dtypes: int64(2), object(6)\n",
      "memory usage: 31.4+ KB\n",
      "None\n",
      "\n",
      "\n",
      "---------------------Пропуски---------------------\n",
      "churn_date - 462 пропусков\n",
      "\n",
      "\n",
      "---------------------Дубликаты---------------------\n",
      "Дубликатов нет\n"
     ]
    }
   ],
   "source": [
    "display_df(df_users)"
   ]
  },
  {
   "cell_type": "markdown",
   "metadata": {},
   "source": [
    "**Таблица users (информация о пользователях):**\n",
    "* user_id — уникальный идентификатор пользователя\n",
    "* first_name — имя пользователя\n",
    "* last_name — фамилия пользователя\n",
    "* age — возраст пользователя (годы)\n",
    "* reg_date — дата подключения тарифа (день, месяц, год)\n",
    "* churn_date — дата прекращения пользования тарифом (если значение пропущено, то тариф ещё действовал на момент выгрузки данных)\n",
    "* city — город проживания пользователя\n",
    "* tariff — название тарифного плана"
   ]
  },
  {
   "cell_type": "markdown",
   "metadata": {},
   "source": [
    "**Вывод:** \n",
    " * изменить тип данных в столбцах reg_date и churn_date на datetime\n",
    " * пропущенные значения в столбце churn_date означают, что тариф ещё действовал на момент выгрузки данных"
   ]
  },
  {
   "cell_type": "markdown",
   "metadata": {},
   "source": [
    "###  Предобработка данных"
   ]
  },
  {
   "cell_type": "markdown",
   "metadata": {},
   "source": [
    "#### Таблица calls (информация о звонках)"
   ]
  },
  {
   "cell_type": "code",
   "execution_count": 10,
   "metadata": {},
   "outputs": [],
   "source": [
    "# Изменим тип данных в столбце call_date\n",
    "df_calls['call_date'] = pd.to_datetime(df_calls['call_date'], format='%Y-%m-%d')\n",
    "\n",
    "# Добавляем столбец с категорией месяца: Январь - 1, Февраль - 2, ..., Декабрь - 12\n",
    "df_calls['month_num'] = pd.DatetimeIndex(df_calls['call_date']).month\n",
    "\n",
    "\n",
    "# Округляем длительность звонков и меняем тип данных на целочисленный\n",
    "df_calls['duration'] = np.ceil(df_calls['duration']).astype('int')"
   ]
  },
  {
   "cell_type": "code",
   "execution_count": 11,
   "metadata": {},
   "outputs": [
    {
     "data": {
      "text/html": [
       "<div>\n",
       "<style scoped>\n",
       "    .dataframe tbody tr th:only-of-type {\n",
       "        vertical-align: middle;\n",
       "    }\n",
       "\n",
       "    .dataframe tbody tr th {\n",
       "        vertical-align: top;\n",
       "    }\n",
       "\n",
       "    .dataframe thead th {\n",
       "        text-align: right;\n",
       "    }\n",
       "</style>\n",
       "<table border=\"1\" class=\"dataframe\">\n",
       "  <thead>\n",
       "    <tr style=\"text-align: right;\">\n",
       "      <th></th>\n",
       "      <th>id</th>\n",
       "      <th>call_date</th>\n",
       "      <th>duration</th>\n",
       "      <th>user_id</th>\n",
       "      <th>month_num</th>\n",
       "    </tr>\n",
       "  </thead>\n",
       "  <tbody>\n",
       "    <tr>\n",
       "      <th>0</th>\n",
       "      <td>1000_0</td>\n",
       "      <td>2018-07-25</td>\n",
       "      <td>0</td>\n",
       "      <td>1000</td>\n",
       "      <td>7</td>\n",
       "    </tr>\n",
       "    <tr>\n",
       "      <th>1</th>\n",
       "      <td>1000_1</td>\n",
       "      <td>2018-08-17</td>\n",
       "      <td>0</td>\n",
       "      <td>1000</td>\n",
       "      <td>8</td>\n",
       "    </tr>\n",
       "    <tr>\n",
       "      <th>2</th>\n",
       "      <td>1000_2</td>\n",
       "      <td>2018-06-11</td>\n",
       "      <td>3</td>\n",
       "      <td>1000</td>\n",
       "      <td>6</td>\n",
       "    </tr>\n",
       "    <tr>\n",
       "      <th>3</th>\n",
       "      <td>1000_3</td>\n",
       "      <td>2018-09-21</td>\n",
       "      <td>14</td>\n",
       "      <td>1000</td>\n",
       "      <td>9</td>\n",
       "    </tr>\n",
       "    <tr>\n",
       "      <th>4</th>\n",
       "      <td>1000_4</td>\n",
       "      <td>2018-12-15</td>\n",
       "      <td>6</td>\n",
       "      <td>1000</td>\n",
       "      <td>12</td>\n",
       "    </tr>\n",
       "  </tbody>\n",
       "</table>\n",
       "</div>"
      ],
      "text/plain": [
       "       id  call_date  duration  user_id  month_num\n",
       "0  1000_0 2018-07-25         0     1000          7\n",
       "1  1000_1 2018-08-17         0     1000          8\n",
       "2  1000_2 2018-06-11         3     1000          6\n",
       "3  1000_3 2018-09-21        14     1000          9\n",
       "4  1000_4 2018-12-15         6     1000         12"
      ]
     },
     "execution_count": 11,
     "metadata": {},
     "output_type": "execute_result"
    }
   ],
   "source": [
    "df_calls.head()"
   ]
  },
  {
   "cell_type": "code",
   "execution_count": 12,
   "metadata": {},
   "outputs": [],
   "source": [
    "# Напишем функцию для построения гистограммы, где наглядно представлены среднее значение и медиана\n",
    "def hist_maker(column):\n",
    "    print(column.describe())\n",
    "    plt.figure(figsize=(10,6))\n",
    "    plt.hist(column, bins=30, color='grey', edgecolor='grey', alpha=0.8)\n",
    "    plt.axvline(column.describe()['mean'], color='r', linestyle='dashed', linewidth=3, label='Mean value: {:.2f}'.format(column.describe()['mean']))\n",
    "    plt.axvline(column.describe()['50%'], color='b', linestyle='dotted', linewidth=3, label='Median value: {:.0f}'.format(column.describe()['50%']))\n",
    "    plt.legend()\n",
    "    plt.title('Histogramm {}'.format(column.name))"
   ]
  },
  {
   "cell_type": "code",
   "execution_count": 13,
   "metadata": {},
   "outputs": [
    {
     "name": "stdout",
     "output_type": "stream",
     "text": [
      "count   202607.000\n",
      "mean         7.158\n",
      "std          5.959\n",
      "min          0.000\n",
      "25%          2.000\n",
      "50%          6.000\n",
      "75%         11.000\n",
      "max         38.000\n",
      "Name: duration, dtype: float64\n"
     ]
    },
    {
     "data": {
      "image/png": "[encoded data removed]",
      "text/plain": [
       "<Figure size 720x432 with 1 Axes>"
      ]
     },
     "metadata": {
      "needs_background": "light"
     },
     "output_type": "display_data"
    }
   ],
   "source": [
    "hist_maker(df_calls['duration'])"
   ]
  },
  {
   "cell_type": "markdown",
   "metadata": {},
   "source": [
    "Найдем границы, за которыми начинаются выбросы, по правилу 3х сигм:"
   ]
  },
  {
   "cell_type": "code",
   "execution_count": 14,
   "metadata": {},
   "outputs": [
    {
     "name": "stdout",
     "output_type": "stream",
     "text": [
      "Верхняя граница выбросов равна 25.03571598427953\n"
     ]
    }
   ],
   "source": [
    "print(f\"Верхняя граница выбросов равна {df_calls['duration'].mean() + 3 * df_calls['duration'].std()}\")"
   ]
  },
  {
   "cell_type": "markdown",
   "metadata": {},
   "source": [
    "* Из гистограммы видно, что больше всего звонков длительностью 0 мин. Согласно данным \"Мегалайн\", нулями обозначены пропущенные звонки. Я бы удалила их совсем из выборки, поскольку они влияют на среднее значение и не несут никакой пользы для дальнейшего исследования.\n",
    "* Медиана равна 6 мин, среднее значение равно 7 мин.\n",
    "* Согласно правилу 3 сигм, значения выше 25 мин. уже являются выбросами."
   ]
  },
  {
   "cell_type": "markdown",
   "metadata": {},
   "source": [
    "#### Таблица internet (информация об интернет-сессиях)"
   ]
  },
  {
   "cell_type": "code",
   "execution_count": 15,
   "metadata": {},
   "outputs": [],
   "source": [
    "# Удалим столбец Unnamed: 0\n",
    "df_internet.pop('Unnamed: 0')\n",
    "\n",
    "# Изменим тип данных в столбце session_date\n",
    "df_internet['session_date'] = pd.to_datetime(df_internet['session_date'], format='%Y-%m-%d')\n",
    "\n",
    "# Добавляем столбец с категорией месяца: Январь - 1, Февраль - 2, ..., Декабрь - 12\n",
    "df_internet['month_num'] = pd.DatetimeIndex(df_internet['session_date']).month"
   ]
  },
  {
   "cell_type": "code",
   "execution_count": 16,
   "metadata": {},
   "outputs": [
    {
     "data": {
      "text/html": [
       "<div>\n",
       "<style scoped>\n",
       "    .dataframe tbody tr th:only-of-type {\n",
       "        vertical-align: middle;\n",
       "    }\n",
       "\n",
       "    .dataframe tbody tr th {\n",
       "        vertical-align: top;\n",
       "    }\n",
       "\n",
       "    .dataframe thead th {\n",
       "        text-align: right;\n",
       "    }\n",
       "</style>\n",
       "<table border=\"1\" class=\"dataframe\">\n",
       "  <thead>\n",
       "    <tr style=\"text-align: right;\">\n",
       "      <th></th>\n",
       "      <th>id</th>\n",
       "      <th>mb_used</th>\n",
       "      <th>session_date</th>\n",
       "      <th>user_id</th>\n",
       "      <th>month_num</th>\n",
       "    </tr>\n",
       "  </thead>\n",
       "  <tbody>\n",
       "    <tr>\n",
       "      <th>0</th>\n",
       "      <td>1000_0</td>\n",
       "      <td>112.950</td>\n",
       "      <td>2018-11-25</td>\n",
       "      <td>1000</td>\n",
       "      <td>11</td>\n",
       "    </tr>\n",
       "    <tr>\n",
       "      <th>1</th>\n",
       "      <td>1000_1</td>\n",
       "      <td>1052.810</td>\n",
       "      <td>2018-09-07</td>\n",
       "      <td>1000</td>\n",
       "      <td>9</td>\n",
       "    </tr>\n",
       "    <tr>\n",
       "      <th>2</th>\n",
       "      <td>1000_2</td>\n",
       "      <td>1197.260</td>\n",
       "      <td>2018-06-25</td>\n",
       "      <td>1000</td>\n",
       "      <td>6</td>\n",
       "    </tr>\n",
       "    <tr>\n",
       "      <th>3</th>\n",
       "      <td>1000_3</td>\n",
       "      <td>550.270</td>\n",
       "      <td>2018-08-22</td>\n",
       "      <td>1000</td>\n",
       "      <td>8</td>\n",
       "    </tr>\n",
       "    <tr>\n",
       "      <th>4</th>\n",
       "      <td>1000_4</td>\n",
       "      <td>302.560</td>\n",
       "      <td>2018-09-24</td>\n",
       "      <td>1000</td>\n",
       "      <td>9</td>\n",
       "    </tr>\n",
       "  </tbody>\n",
       "</table>\n",
       "</div>"
      ],
      "text/plain": [
       "       id  mb_used session_date  user_id  month_num\n",
       "0  1000_0  112.950   2018-11-25     1000         11\n",
       "1  1000_1 1052.810   2018-09-07     1000          9\n",
       "2  1000_2 1197.260   2018-06-25     1000          6\n",
       "3  1000_3  550.270   2018-08-22     1000          8\n",
       "4  1000_4  302.560   2018-09-24     1000          9"
      ]
     },
     "execution_count": 16,
     "metadata": {},
     "output_type": "execute_result"
    }
   ],
   "source": [
    "df_internet.head()"
   ]
  },
  {
   "cell_type": "code",
   "execution_count": 17,
   "metadata": {},
   "outputs": [
    {
     "name": "stdout",
     "output_type": "stream",
     "text": [
      "count   149396.000\n",
      "mean       370.192\n",
      "std        278.301\n",
      "min          0.000\n",
      "25%        138.188\n",
      "50%        348.015\n",
      "75%        559.553\n",
      "max       1724.830\n",
      "Name: mb_used, dtype: float64\n"
     ]
    },
    {
     "data": {
      "image/png": "[encoded data removed]",
      "text/plain": [
       "<Figure size 720x432 with 1 Axes>"
      ]
     },
     "metadata": {
      "needs_background": "light"
     },
     "output_type": "display_data"
    }
   ],
   "source": [
    "hist_maker(df_internet['mb_used'])"
   ]
  },
  {
   "cell_type": "code",
   "execution_count": 18,
   "metadata": {},
   "outputs": [
    {
     "name": "stdout",
     "output_type": "stream",
     "text": [
      "Верхняя граница выбросов равна 1205.0952797336554\n"
     ]
    }
   ],
   "source": [
    "print(f\"Верхняя граница выбросов равна {df_internet['mb_used'].mean() + 3 * df_internet['mb_used'].std()}\")"
   ]
  },
  {
   "cell_type": "markdown",
   "metadata": {},
   "source": [
    "* Из гистограммы видно, что больше всего сеансов с нулевым трафиком. Я бы удалила их совсем из выборки, поскольку они влияют на среднее значение и не несут никакой пользы для дальнейшего исследования.\n",
    "* Медиана равна 348 Мб, среднее значение равно 370 Мб.\n",
    "* Согласно правилу 3 сигм, значения выше 1205 Мб. уже являются выбросами."
   ]
  },
  {
   "cell_type": "markdown",
   "metadata": {},
   "source": [
    "#### Таблица messages (информация о сообщениях)"
   ]
  },
  {
   "cell_type": "code",
   "execution_count": 19,
   "metadata": {},
   "outputs": [],
   "source": [
    "# Изменим тип данных в столбце message_date\n",
    "df_messages['message_date'] = pd.to_datetime(df_messages['message_date'], format='%Y-%m-%d')\n",
    "\n",
    "# Добавляем столбец с категорией месяца: Январь - 1, Февраль - 2, ..., Декабрь - 12\n",
    "df_messages['month_num'] = pd.DatetimeIndex(df_messages['message_date']).month"
   ]
  },
  {
   "cell_type": "code",
   "execution_count": 20,
   "metadata": {
    "scrolled": true
   },
   "outputs": [
    {
     "data": {
      "text/html": [
       "<div>\n",
       "<style scoped>\n",
       "    .dataframe tbody tr th:only-of-type {\n",
       "        vertical-align: middle;\n",
       "    }\n",
       "\n",
       "    .dataframe tbody tr th {\n",
       "        vertical-align: top;\n",
       "    }\n",
       "\n",
       "    .dataframe thead th {\n",
       "        text-align: right;\n",
       "    }\n",
       "</style>\n",
       "<table border=\"1\" class=\"dataframe\">\n",
       "  <thead>\n",
       "    <tr style=\"text-align: right;\">\n",
       "      <th></th>\n",
       "      <th>id</th>\n",
       "      <th>message_date</th>\n",
       "      <th>user_id</th>\n",
       "      <th>month_num</th>\n",
       "    </tr>\n",
       "  </thead>\n",
       "  <tbody>\n",
       "    <tr>\n",
       "      <th>0</th>\n",
       "      <td>1000_0</td>\n",
       "      <td>2018-06-27</td>\n",
       "      <td>1000</td>\n",
       "      <td>6</td>\n",
       "    </tr>\n",
       "    <tr>\n",
       "      <th>1</th>\n",
       "      <td>1000_1</td>\n",
       "      <td>2018-10-08</td>\n",
       "      <td>1000</td>\n",
       "      <td>10</td>\n",
       "    </tr>\n",
       "    <tr>\n",
       "      <th>2</th>\n",
       "      <td>1000_2</td>\n",
       "      <td>2018-08-04</td>\n",
       "      <td>1000</td>\n",
       "      <td>8</td>\n",
       "    </tr>\n",
       "    <tr>\n",
       "      <th>3</th>\n",
       "      <td>1000_3</td>\n",
       "      <td>2018-06-16</td>\n",
       "      <td>1000</td>\n",
       "      <td>6</td>\n",
       "    </tr>\n",
       "    <tr>\n",
       "      <th>4</th>\n",
       "      <td>1000_4</td>\n",
       "      <td>2018-12-05</td>\n",
       "      <td>1000</td>\n",
       "      <td>12</td>\n",
       "    </tr>\n",
       "  </tbody>\n",
       "</table>\n",
       "</div>"
      ],
      "text/plain": [
       "       id message_date  user_id  month_num\n",
       "0  1000_0   2018-06-27     1000          6\n",
       "1  1000_1   2018-10-08     1000         10\n",
       "2  1000_2   2018-08-04     1000          8\n",
       "3  1000_3   2018-06-16     1000          6\n",
       "4  1000_4   2018-12-05     1000         12"
      ]
     },
     "execution_count": 20,
     "metadata": {},
     "output_type": "execute_result"
    }
   ],
   "source": [
    "df_messages.head()"
   ]
  },
  {
   "cell_type": "markdown",
   "metadata": {},
   "source": [
    "#### Таблица users (информация о пользователях)"
   ]
  },
  {
   "cell_type": "code",
   "execution_count": 21,
   "metadata": {},
   "outputs": [],
   "source": [
    "# Изменим тип данных в столбце reg_date\n",
    "df_users['reg_date'] = pd.to_datetime(df_users['reg_date'], format='%Y-%m-%d')\n",
    "\n",
    "# Изменим тип данных в столбце churn_date\n",
    "df_users['churn_date'] = pd.to_datetime(df_users['churn_date'], format='%Y-%m-%d')"
   ]
  },
  {
   "cell_type": "code",
   "execution_count": 22,
   "metadata": {},
   "outputs": [
    {
     "name": "stdout",
     "output_type": "stream",
     "text": [
      "<class 'pandas.core.frame.DataFrame'>\n",
      "RangeIndex: 500 entries, 0 to 499\n",
      "Data columns (total 8 columns):\n",
      " #   Column      Non-Null Count  Dtype         \n",
      "---  ------      --------------  -----         \n",
      " 0   user_id     500 non-null    int64         \n",
      " 1   age         500 non-null    int64         \n",
      " 2   churn_date  38 non-null     datetime64[ns]\n",
      " 3   city        500 non-null    object        \n",
      " 4   first_name  500 non-null    object        \n",
      " 5   last_name   500 non-null    object        \n",
      " 6   reg_date    500 non-null    datetime64[ns]\n",
      " 7   tariff      500 non-null    object        \n",
      "dtypes: datetime64[ns](2), int64(2), object(4)\n",
      "memory usage: 31.4+ KB\n"
     ]
    }
   ],
   "source": [
    "df_users.info()"
   ]
  },
  {
   "cell_type": "code",
   "execution_count": 23,
   "metadata": {},
   "outputs": [
    {
     "data": {
      "text/plain": [
       "array(['Архангельск', 'Астрахань', 'Балашиха', 'Барнаул', 'Белгород',\n",
       "       'Брянск', 'Владивосток', 'Владикавказ', 'Владимир', 'Волгоград',\n",
       "       'Волжский', 'Вологда', 'Воронеж', 'Грозный', 'Екатеринбург',\n",
       "       'Иваново', 'Ижевск', 'Иркутск', 'Казань', 'Калининград', 'Калуга',\n",
       "       'Кемерово', 'Киров', 'Кострома', 'Краснодар', 'Красноярск',\n",
       "       'Курган', 'Курск', 'Липецк', 'Магнитогорск', 'Махачкала', 'Москва',\n",
       "       'Мурманск', 'Набережные Челны', 'Нижневартовск', 'Нижний Новгород',\n",
       "       'Нижний Тагил', 'Новокузнецк', 'Новороссийск', 'Новосибирск',\n",
       "       'Омск', 'Оренбург', 'Орёл', 'Пенза', 'Пермь', 'Петрозаводск',\n",
       "       'Подольск', 'Ростов-на-Дону', 'Рязань', 'Самара',\n",
       "       'Санкт-Петербург', 'Саранск', 'Саратов', 'Севастополь', 'Смоленск',\n",
       "       'Сочи', 'Ставрополь', 'Стерлитамак', 'Сургут', 'Тамбов', 'Тверь',\n",
       "       'Тольятти', 'Томск', 'Тула', 'Тюмень', 'Улан-Удэ', 'Ульяновск',\n",
       "       'Уфа', 'Хабаровск', 'Химки', 'Чебоксары', 'Челябинск', 'Череповец',\n",
       "       'Чита', 'Якутск', 'Ярославль'], dtype=object)"
      ]
     },
     "execution_count": 23,
     "metadata": {},
     "output_type": "execute_result"
    }
   ],
   "source": [
    "# Проверим нет ли неявных дубликатов\n",
    "df_users.sort_values(by='city')['city'].unique()"
   ]
  },
  {
   "cell_type": "code",
   "execution_count": 24,
   "metadata": {},
   "outputs": [
    {
     "data": {
      "text/plain": [
       "array(['Авксентий', 'Агата', 'Агафья', 'Агнесса', 'Адам', 'Аким', 'Аксён',\n",
       "       'Алан', 'Алевтина', 'Александр', 'Александра', 'Алексей', 'Алина',\n",
       "       'Алиса', 'Алла', 'Альберта', 'Альбин', 'Альфред', 'Алёна',\n",
       "       'Анатолий', 'Анвар', 'Ангелина', 'Андрей', 'Анжелика', 'Анита',\n",
       "       'Антонина', 'Анфиса', 'Арина', 'Арнольд', 'Арсен', 'Арсений',\n",
       "       'Артемий', 'Артём', 'Аурелия', 'Афанасий', 'Ахмет', 'Аюна',\n",
       "       'Белла', 'Берта', 'Борис', 'Вадим', 'Валентина', 'Валерий',\n",
       "       'Валерия', 'Варвара', 'Варлам', 'Василиса', 'Вениамин', 'Вера',\n",
       "       'Вероника', 'Веселина', 'Виктор', 'Виктория', 'Виолетта',\n",
       "       'Виталий', 'Владимир', 'Владислав', 'Владислава', 'Всеволод',\n",
       "       'Габриель', 'Габриэль', 'Гайдар', 'Галина', 'Гарри', 'Гектор',\n",
       "       'Гелена', 'Геннадий', 'Геодар', 'Георгий', 'Георгина', 'Геральд',\n",
       "       'Герасим', 'Глеб', 'Гордей', 'Григорий', 'Дайна', 'Дана', 'Даниил',\n",
       "       'Даниэла', 'Дебора', 'Демьян', 'Денис', 'Джемма', 'Джозефина',\n",
       "       'Джулия', 'Динара', 'Доминика', 'Ева', 'Евгений', 'Евгения',\n",
       "       'Евдокия', 'Евфросинья', 'Егор', 'Екатерина', 'Елена', 'Еремей',\n",
       "       'Ермолай', 'Ефим', 'Зинаида', 'Иван', 'Игнатий', 'Игорь',\n",
       "       'Изольда', 'Илзе', 'Илья', 'Инара', 'Инга', 'Инесса', 'Инна',\n",
       "       'Иннокентий', 'Ириней', 'Исаак', 'Исак', 'Иулиан', 'Камилла',\n",
       "       'Карина', 'Каролина', 'Касьян', 'Ким', 'Клавдия', 'Клара',\n",
       "       'Клариса', 'Константин', 'Кристина', 'Ксения', 'Кузьма',\n",
       "       'Лаврентий', 'Лариса', 'Лаура', 'Лев', 'Лейла', 'Леон', 'Леонид',\n",
       "       'Леонтий', 'Леся', 'Лидия', 'Лилия', 'Лия', 'Лола', 'Лолита',\n",
       "       'Луиза', 'Лукий', 'Людмила', 'Мадина', 'Майя', 'Максим',\n",
       "       'Мальвина', 'Мануэла', 'Маргарита', 'Марианна', 'Мариетта',\n",
       "       'Марина', 'Марица', 'Мария', 'Марта', 'Марьяна', 'Матвей',\n",
       "       'Милана', 'Милена', 'Милица', 'Мирослава', 'Михаил', 'Мстислав',\n",
       "       'Надежда', 'Наида', 'Наталья', 'Нателла', 'Нелли', 'Николай',\n",
       "       'Нина', 'Оксана', 'Олег', 'Олеся', 'Онисим', 'Павел', 'Пётр',\n",
       "       'Радим', 'Радислав', 'Радомир', 'Раиса', 'Рауль', 'Рафаил',\n",
       "       'Рафаэль', 'Рашид', 'Рем', 'Ренальд', 'Ренат', 'Рената', 'Ринат',\n",
       "       'Роберт', 'Роза', 'Розалия', 'Роксана', 'Ростислав', 'Рубен',\n",
       "       'Рудольф', 'Рузана', 'Руслан', 'Руслана', 'Рустам', 'Рустем',\n",
       "       'Рустэм', 'Рэм', 'Сабина', 'Саида', 'Сара', 'Светлана',\n",
       "       'Святослав', 'Семён', 'Серафима', 'Симона', 'Снежана', 'Софья',\n",
       "       'Станислав', 'Степан', 'Таира', 'Таисия', 'Тала', 'Тамара',\n",
       "       'Татьяна', 'Тимофей', 'Тихон', 'Трифон', 'Трофим', 'Фаддей',\n",
       "       'Фёдор', 'Харитон', 'Эдита', 'Эдуард', 'Элеонора', 'Элина', 'Элла',\n",
       "       'Эллада', 'Эльвира', 'Эльга', 'Эльза', 'Эльмира', 'Эмилия',\n",
       "       'Эсмеральда', 'Юзефа', 'Юлий', 'Юлия', 'Юна', 'Юрий', 'Яков',\n",
       "       'Яна'], dtype=object)"
      ]
     },
     "execution_count": 24,
     "metadata": {},
     "output_type": "execute_result"
    }
   ],
   "source": [
    "df_users.sort_values(by='first_name')['first_name'].unique()"
   ]
  },
  {
   "cell_type": "code",
   "execution_count": 25,
   "metadata": {},
   "outputs": [
    {
     "data": {
      "text/plain": [
       "array(['Ёлчина', 'Ёркин', 'Ёркина', 'Ёрохов', 'Ёрохова', 'Абаимов',\n",
       "       'Абакумов', 'Абакшина', 'Абалакова', 'Абалдуева', 'Абалкин',\n",
       "       'Абашкин', 'Абашкина', 'Абдулина', 'Абоимов', 'Абрамович',\n",
       "       'Абрамцев', 'Абрамычева', 'Абрашина', 'Абрикосова', 'Авдеев',\n",
       "       'Авдеенко', 'Авдонюшкин', 'Авдушева', 'Авдышев', 'Авдюков',\n",
       "       'Авраамова', 'Авраменко', 'Авринский', 'Аврорин', 'Авроров',\n",
       "       'Авросимова', 'Авросинова', 'Авсейкина', 'Авчинникова', 'Агаев',\n",
       "       'Агаева', 'Агапеева', 'Агеева', 'Адаменко', 'Адамов', 'Азаров',\n",
       "       'Азерников', 'Азимова', 'Акимов', 'Акимчин', 'Акимычева',\n",
       "       'Акиндинов', 'Акинин', 'Акинфьев', 'Аксёнов', 'Акуленко',\n",
       "       'Александрова', 'Александрович', 'Александрюк', 'Алексеева',\n",
       "       'Алексеенко', 'Алексеичев', 'Аленникова', 'Алесин', 'Алехина',\n",
       "       'Алешин', 'Алешина', 'Алешкова', 'Алиев', 'Алфеева', 'Алфимов',\n",
       "       'Алфимова', 'Алымова', 'Алютин', 'Алюшина', 'Алёшко', 'Алёшкова',\n",
       "       'Амелин', 'Амелишко', 'Амельченко', 'Ананьева', 'Андреенко',\n",
       "       'Андрейкин', 'Андрейчук', 'Андрианов', 'Андропов', 'Андропова',\n",
       "       'Андрющенко', 'Аникина', 'Аничкина', 'Анищенко', 'Антипов',\n",
       "       'Антоненко', 'Антонова', 'Антропов', 'Антропова', 'Аракина',\n",
       "       'Аракчеев', 'Аркадьев', 'Арсенкова', 'Артемчук', 'Артемьев',\n",
       "       'Артёменко', 'Артёмов', 'Артёшин', 'Архипова', 'Асафьева',\n",
       "       'Астапенко', 'Астапов', 'Астафьева', 'Афанасенко', 'Афанасова',\n",
       "       'Афинин', 'Афонасьева', 'Афонин', 'Афонина', 'Ахмадулин',\n",
       "       'Ахматов', 'Ахматулин', 'Ахматулина', 'Ахмедов', 'Бабушкина',\n",
       "       'Барсуков', 'Басова', 'Безруков', 'Беликова', 'Белова',\n",
       "       'Белозёров', 'Белоусова', 'Беляев', 'Беляева', 'Белякова',\n",
       "       'Березина', 'Блинова', 'Блохин', 'Блохина', 'Боброва', 'Бобылёв',\n",
       "       'Богданов', 'Богданова', 'Болдырев', 'Болдырева', 'Бондарев',\n",
       "       'Борисова', 'Бородин', 'Бородина', 'Булгаков', 'Бычкова',\n",
       "       'Васильева', 'Верещагин', 'Верещагина', 'Веселов', 'Вешнякова',\n",
       "       'Вишневский', 'Вишняков', 'Воронин', 'Воронина', 'Гаврилова',\n",
       "       'Галкин', 'Глушков', 'Голованова', 'Гончаров', 'Горбачева',\n",
       "       'Горбунов', 'Горлов', 'Григорьев', 'Григорьева', 'Гришина',\n",
       "       'Громова', 'Давыдов', 'Демидов', 'Демьянов', 'Демьянова',\n",
       "       'Денисова', 'Добрынин', 'Добрынина', 'Дорофеева', 'Дроздов',\n",
       "       'Дубинина', 'Дьячкова', 'Евсеев', 'Ежов', 'Елизаров', 'Емельянова',\n",
       "       'Еремин', 'Ермилов', 'Ермолаев', 'Ерофеев', 'Ерофеева', 'Ефремов',\n",
       "       'Жарова', 'Жданов', 'Жукова', 'Завьялова', 'Зайцев', 'Зеленина',\n",
       "       'Зимина', 'Золотов', 'Золотова', 'Зубков', 'Зубкова', 'Зуев',\n",
       "       'Зыков', 'Иванов', 'Иванова', 'Игнатова', 'Игнатьев', 'Игнатьева',\n",
       "       'Измайлова', 'Ильин', 'Ильина', 'Кабанова', 'Казакова', 'Казанцев',\n",
       "       'Калинина', 'Капустин', 'Карасев', 'Карасева', 'Карташова',\n",
       "       'Касьянова', 'Киреева', 'Кириллов', 'Киселёв', 'Климова',\n",
       "       'Ковалева', 'Козлов', 'Козлова', 'Козырева', 'Колесова', 'Колобов',\n",
       "       'Кольцова', 'Кондратов', 'Коновалова', 'Кононов', 'Константинова',\n",
       "       'Корнеева', 'Корнилов', 'Корнилова', 'Корольков', 'Королькова',\n",
       "       'Короткова', 'Коршунов', 'Костин', 'Костина', 'Кочергина',\n",
       "       'Кочетков', 'Кочетов', 'Кошелева', 'Кравцов', 'Красильников',\n",
       "       'Круглов', 'Крылова', 'Крюков', 'Крюкова', 'Крючков', 'Кузнецов',\n",
       "       'Кукушкин', 'Кулагина', 'Кулешова', 'Куприянов', 'Курочкин',\n",
       "       'Лазарева', 'Лапина', 'Лаптева', 'Ларин', 'Ларина', 'Ларионова',\n",
       "       'Латышева', 'Лебедев', 'Левин', 'Леонтьев', 'Литвинов', 'Лобанова',\n",
       "       'Логинов', 'Лосева', 'Лукин', 'Любимов', 'Макаров', 'Макарова',\n",
       "       'Макеев', 'Малахов', 'Малинин', 'Малинина', 'Малышев', 'Мальцев',\n",
       "       'Мамонтова', 'Марков', 'Масленникова', 'Матвеев', 'Медведев',\n",
       "       'Мельникова', 'Меркулова', 'Минаев', 'Минаева', 'Мишин',\n",
       "       'Молчанова', 'Моргунов', 'Морозов', 'Муравьева', 'Муравьёв',\n",
       "       'Мясникова', 'Наумов', 'Некрасов', 'Нестеров', 'Нестерова',\n",
       "       'Нечаева', 'Никонов', 'Никулин', 'Новикова', 'Носкова',\n",
       "       'Овчинников', 'Одинцов', 'Одинцова', 'Озерова', 'Орлов',\n",
       "       'Павловский', 'Панов', 'Пантелеева', 'Панфилов', 'Панфилова',\n",
       "       'Парфенов', 'Петухова', 'Пирогова', 'Платонова', 'Покровский',\n",
       "       'Поликарпова', 'Поляков', 'Пономарев', 'Пономарева', 'Пономарёв',\n",
       "       'Попов', 'Прокофьева', 'Пугачева', 'Ракова', 'Родина', 'Родионов',\n",
       "       'Родионова', 'Розанова', 'Рудаков', 'Румянцева', 'Русанова',\n",
       "       'Рыбакова', 'Рябов', 'Савельева', 'Сазонов', 'Сазонова',\n",
       "       'Сальников', 'Сафонова', 'Сахарова', 'Свиридов', 'Севастьянова',\n",
       "       'Седова', 'Селезнев', 'Селезнева', 'Селиванова', 'Семенова',\n",
       "       'Семин', 'Семина', 'Семёнов', 'Сергеева', 'Серебрякова', 'Серов',\n",
       "       'Силин', 'Симонова', 'Синицын', 'Ситникова', 'Соколов', 'Соловьев',\n",
       "       'Соловьёв', 'Сомова', 'Сорокин', 'Софронов', 'Спиридонова',\n",
       "       'Субботина', 'Суслов', 'Суслова', 'Сухарев', 'Сухарева', 'Сухова',\n",
       "       'Сысоев', 'Тарасов', 'Тарасова', 'Терехова', 'Тетерина',\n",
       "       'Тимофеев', 'Тимофеева', 'Тихомирова', 'Тихонов', 'Толкачев',\n",
       "       'Третьякова', 'Троицкий', 'Трофимов', 'Трофимова', 'Трошин',\n",
       "       'Уваров', 'Устинов', 'Устинова', 'Фадеева', 'Федосеев', 'Фетисова',\n",
       "       'Филатов', 'Фокин', 'Фокина', 'Фомин', 'Фролов', 'Фёдоров',\n",
       "       'Худяков', 'Чернов', 'Черный', 'Чернышев', 'Черняев', 'Чеснокова',\n",
       "       'Чижова', 'Чистякова', 'Чумаков', 'Шарапов', 'Шарапова', 'Шарова',\n",
       "       'Швецов', 'Шевцов', 'Шевцова', 'Щербакова', 'Яшина'], dtype=object)"
      ]
     },
     "execution_count": 25,
     "metadata": {},
     "output_type": "execute_result"
    }
   ],
   "source": [
    "df_users.sort_values(by='last_name')['last_name'].unique()"
   ]
  },
  {
   "cell_type": "markdown",
   "metadata": {},
   "source": [
    "Неявных дубликатов и аномалий не обнаружено"
   ]
  },
  {
   "cell_type": "markdown",
   "metadata": {},
   "source": [
    "Посмотрим распределение клиентов по тарифам."
   ]
  },
  {
   "cell_type": "code",
   "execution_count": 26,
   "metadata": {},
   "outputs": [
    {
     "name": "stdout",
     "output_type": "stream",
     "text": [
      "Количество клиентов на тарифе smart - 351\n",
      "Количество клиентов на тарифе ultra - 149\n"
     ]
    }
   ],
   "source": [
    "print(f\"Количество клиентов на тарифе smart - {len(df_users.loc[df_users['tariff'] == 'smart'])}\")\n",
    "print(f\"Количество клиентов на тарифе ultra - {len(df_users.loc[df_users['tariff'] == 'ultra'])}\")"
   ]
  },
  {
   "cell_type": "markdown",
   "metadata": {},
   "source": [
    "#### Количество сделанных звонков и израсходованных минут разговора по месяцам"
   ]
  },
  {
   "cell_type": "code",
   "execution_count": 27,
   "metadata": {},
   "outputs": [
    {
     "data": {
      "text/html": [
       "<div>\n",
       "<style scoped>\n",
       "    .dataframe tbody tr th:only-of-type {\n",
       "        vertical-align: middle;\n",
       "    }\n",
       "\n",
       "    .dataframe tbody tr th {\n",
       "        vertical-align: top;\n",
       "    }\n",
       "\n",
       "    .dataframe thead th {\n",
       "        text-align: right;\n",
       "    }\n",
       "</style>\n",
       "<table border=\"1\" class=\"dataframe\">\n",
       "  <thead>\n",
       "    <tr style=\"text-align: right;\">\n",
       "      <th></th>\n",
       "      <th>user_id</th>\n",
       "      <th>month_num</th>\n",
       "      <th>calls_duration</th>\n",
       "      <th>calls_count</th>\n",
       "    </tr>\n",
       "  </thead>\n",
       "  <tbody>\n",
       "    <tr>\n",
       "      <th>1054</th>\n",
       "      <td>1169</td>\n",
       "      <td>10</td>\n",
       "      <td>453</td>\n",
       "      <td>51</td>\n",
       "    </tr>\n",
       "    <tr>\n",
       "      <th>829</th>\n",
       "      <td>1134</td>\n",
       "      <td>2</td>\n",
       "      <td>458</td>\n",
       "      <td>59</td>\n",
       "    </tr>\n",
       "    <tr>\n",
       "      <th>785</th>\n",
       "      <td>1125</td>\n",
       "      <td>9</td>\n",
       "      <td>332</td>\n",
       "      <td>38</td>\n",
       "    </tr>\n",
       "    <tr>\n",
       "      <th>2459</th>\n",
       "      <td>1390</td>\n",
       "      <td>9</td>\n",
       "      <td>198</td>\n",
       "      <td>25</td>\n",
       "    </tr>\n",
       "    <tr>\n",
       "      <th>870</th>\n",
       "      <td>1142</td>\n",
       "      <td>8</td>\n",
       "      <td>354</td>\n",
       "      <td>59</td>\n",
       "    </tr>\n",
       "  </tbody>\n",
       "</table>\n",
       "</div>"
      ],
      "text/plain": [
       "      user_id  month_num  calls_duration  calls_count\n",
       "1054     1169         10             453           51\n",
       "829      1134          2             458           59\n",
       "785      1125          9             332           38\n",
       "2459     1390          9             198           25\n",
       "870      1142          8             354           59"
      ]
     },
     "execution_count": 27,
     "metadata": {},
     "output_type": "execute_result"
    }
   ],
   "source": [
    "calls = df_calls.groupby(['user_id', 'month_num']).agg({'duration':'sum', 'id':'count'}).reset_index()\n",
    "calls = calls.rename(columns={'duration':'calls_duration', 'id':'calls_count'})\n",
    "calls.sample(5)"
   ]
  },
  {
   "cell_type": "markdown",
   "metadata": {},
   "source": [
    "#### Количество отправленных сообщений по месяцам"
   ]
  },
  {
   "cell_type": "code",
   "execution_count": 28,
   "metadata": {},
   "outputs": [
    {
     "data": {
      "text/html": [
       "<div>\n",
       "<style scoped>\n",
       "    .dataframe tbody tr th:only-of-type {\n",
       "        vertical-align: middle;\n",
       "    }\n",
       "\n",
       "    .dataframe tbody tr th {\n",
       "        vertical-align: top;\n",
       "    }\n",
       "\n",
       "    .dataframe thead th {\n",
       "        text-align: right;\n",
       "    }\n",
       "</style>\n",
       "<table border=\"1\" class=\"dataframe\">\n",
       "  <thead>\n",
       "    <tr style=\"text-align: right;\">\n",
       "      <th></th>\n",
       "      <th>user_id</th>\n",
       "      <th>month_num</th>\n",
       "      <th>messages_count</th>\n",
       "    </tr>\n",
       "  </thead>\n",
       "  <tbody>\n",
       "    <tr>\n",
       "      <th>1279</th>\n",
       "      <td>1249</td>\n",
       "      <td>9</td>\n",
       "      <td>14</td>\n",
       "    </tr>\n",
       "    <tr>\n",
       "      <th>954</th>\n",
       "      <td>1180</td>\n",
       "      <td>4</td>\n",
       "      <td>14</td>\n",
       "    </tr>\n",
       "    <tr>\n",
       "      <th>950</th>\n",
       "      <td>1178</td>\n",
       "      <td>11</td>\n",
       "      <td>13</td>\n",
       "    </tr>\n",
       "    <tr>\n",
       "      <th>830</th>\n",
       "      <td>1158</td>\n",
       "      <td>2</td>\n",
       "      <td>55</td>\n",
       "    </tr>\n",
       "    <tr>\n",
       "      <th>2456</th>\n",
       "      <td>1455</td>\n",
       "      <td>4</td>\n",
       "      <td>3</td>\n",
       "    </tr>\n",
       "  </tbody>\n",
       "</table>\n",
       "</div>"
      ],
      "text/plain": [
       "      user_id  month_num  messages_count\n",
       "1279     1249          9              14\n",
       "954      1180          4              14\n",
       "950      1178         11              13\n",
       "830      1158          2              55\n",
       "2456     1455          4               3"
      ]
     },
     "execution_count": 28,
     "metadata": {},
     "output_type": "execute_result"
    }
   ],
   "source": [
    "messages = df_messages.groupby(['user_id', 'month_num']).agg({'id':'count'}).reset_index()\n",
    "messages = messages.rename(columns={'id':'messages_count'})\n",
    "messages.sample(5)"
   ]
  },
  {
   "cell_type": "markdown",
   "metadata": {},
   "source": [
    "#### Oбъем израсходованного интернет-трафика по месяцам"
   ]
  },
  {
   "cell_type": "code",
   "execution_count": 29,
   "metadata": {},
   "outputs": [
    {
     "data": {
      "text/html": [
       "<div>\n",
       "<style scoped>\n",
       "    .dataframe tbody tr th:only-of-type {\n",
       "        vertical-align: middle;\n",
       "    }\n",
       "\n",
       "    .dataframe tbody tr th {\n",
       "        vertical-align: top;\n",
       "    }\n",
       "\n",
       "    .dataframe thead th {\n",
       "        text-align: right;\n",
       "    }\n",
       "</style>\n",
       "<table border=\"1\" class=\"dataframe\">\n",
       "  <thead>\n",
       "    <tr style=\"text-align: right;\">\n",
       "      <th></th>\n",
       "      <th>user_id</th>\n",
       "      <th>month_num</th>\n",
       "      <th>mb_used</th>\n",
       "    </tr>\n",
       "  </thead>\n",
       "  <tbody>\n",
       "    <tr>\n",
       "      <th>1855</th>\n",
       "      <td>1293</td>\n",
       "      <td>11</td>\n",
       "      <td>8673.310</td>\n",
       "    </tr>\n",
       "    <tr>\n",
       "      <th>1420</th>\n",
       "      <td>1223</td>\n",
       "      <td>12</td>\n",
       "      <td>21556.940</td>\n",
       "    </tr>\n",
       "    <tr>\n",
       "      <th>381</th>\n",
       "      <td>1059</td>\n",
       "      <td>12</td>\n",
       "      <td>19068.160</td>\n",
       "    </tr>\n",
       "    <tr>\n",
       "      <th>902</th>\n",
       "      <td>1144</td>\n",
       "      <td>5</td>\n",
       "      <td>20397.600</td>\n",
       "    </tr>\n",
       "    <tr>\n",
       "      <th>718</th>\n",
       "      <td>1113</td>\n",
       "      <td>6</td>\n",
       "      <td>7818.590</td>\n",
       "    </tr>\n",
       "  </tbody>\n",
       "</table>\n",
       "</div>"
      ],
      "text/plain": [
       "      user_id  month_num   mb_used\n",
       "1855     1293         11  8673.310\n",
       "1420     1223         12 21556.940\n",
       "381      1059         12 19068.160\n",
       "902      1144          5 20397.600\n",
       "718      1113          6  7818.590"
      ]
     },
     "execution_count": 29,
     "metadata": {},
     "output_type": "execute_result"
    }
   ],
   "source": [
    "internet = df_internet.groupby(['user_id', 'month_num']).agg({'mb_used':'sum'}).reset_index()\n",
    "internet.sample(5)"
   ]
  },
  {
   "cell_type": "markdown",
   "metadata": {},
   "source": [
    "«Мегалайн» всегда округляет мегабайты  до гигабайт. Для веб-трафика отдельные сессии не считаются. Вместо этого общая сумма за месяц округляется в бо́льшую сторону. Если абонент использует 1025 мегабайт в этом месяце, с него возьмут плату за 2 гигабайта. Округлим израсходованный объем интеpнет трафика."
   ]
  },
  {
   "cell_type": "code",
   "execution_count": 30,
   "metadata": {},
   "outputs": [
    {
     "data": {
      "text/html": [
       "<div>\n",
       "<style scoped>\n",
       "    .dataframe tbody tr th:only-of-type {\n",
       "        vertical-align: middle;\n",
       "    }\n",
       "\n",
       "    .dataframe tbody tr th {\n",
       "        vertical-align: top;\n",
       "    }\n",
       "\n",
       "    .dataframe thead th {\n",
       "        text-align: right;\n",
       "    }\n",
       "</style>\n",
       "<table border=\"1\" class=\"dataframe\">\n",
       "  <thead>\n",
       "    <tr style=\"text-align: right;\">\n",
       "      <th></th>\n",
       "      <th>user_id</th>\n",
       "      <th>month_num</th>\n",
       "      <th>mb_used</th>\n",
       "      <th>gb_used</th>\n",
       "    </tr>\n",
       "  </thead>\n",
       "  <tbody>\n",
       "    <tr>\n",
       "      <th>1120</th>\n",
       "      <td>1176</td>\n",
       "      <td>1</td>\n",
       "      <td>6854.920</td>\n",
       "      <td>7</td>\n",
       "    </tr>\n",
       "    <tr>\n",
       "      <th>1050</th>\n",
       "      <td>1166</td>\n",
       "      <td>12</td>\n",
       "      <td>12491.740</td>\n",
       "      <td>13</td>\n",
       "    </tr>\n",
       "    <tr>\n",
       "      <th>3051</th>\n",
       "      <td>1475</td>\n",
       "      <td>11</td>\n",
       "      <td>20721.140</td>\n",
       "      <td>21</td>\n",
       "    </tr>\n",
       "    <tr>\n",
       "      <th>2850</th>\n",
       "      <td>1446</td>\n",
       "      <td>11</td>\n",
       "      <td>16318.670</td>\n",
       "      <td>16</td>\n",
       "    </tr>\n",
       "    <tr>\n",
       "      <th>3079</th>\n",
       "      <td>1479</td>\n",
       "      <td>9</td>\n",
       "      <td>21046.180</td>\n",
       "      <td>21</td>\n",
       "    </tr>\n",
       "  </tbody>\n",
       "</table>\n",
       "</div>"
      ],
      "text/plain": [
       "      user_id  month_num   mb_used  gb_used\n",
       "1120     1176          1  6854.920        7\n",
       "1050     1166         12 12491.740       13\n",
       "3051     1475         11 20721.140       21\n",
       "2850     1446         11 16318.670       16\n",
       "3079     1479          9 21046.180       21"
      ]
     },
     "execution_count": 30,
     "metadata": {},
     "output_type": "execute_result"
    }
   ],
   "source": [
    "internet['gb_used'] = internet['mb_used'] / 1024\n",
    "internet['gb_used'] = np.ceil(internet['gb_used']).astype('int')\n",
    "internet.sample(5)"
   ]
  },
  {
   "cell_type": "markdown",
   "metadata": {},
   "source": [
    "#### Помесячная выручка с каждого пользователя"
   ]
  },
  {
   "cell_type": "code",
   "execution_count": 31,
   "metadata": {},
   "outputs": [
    {
     "data": {
      "text/html": [
       "<div>\n",
       "<style scoped>\n",
       "    .dataframe tbody tr th:only-of-type {\n",
       "        vertical-align: middle;\n",
       "    }\n",
       "\n",
       "    .dataframe tbody tr th {\n",
       "        vertical-align: top;\n",
       "    }\n",
       "\n",
       "    .dataframe thead th {\n",
       "        text-align: right;\n",
       "    }\n",
       "</style>\n",
       "<table border=\"1\" class=\"dataframe\">\n",
       "  <thead>\n",
       "    <tr style=\"text-align: right;\">\n",
       "      <th></th>\n",
       "      <th>user_id</th>\n",
       "      <th>month_num</th>\n",
       "      <th>calls_duration</th>\n",
       "      <th>calls_count</th>\n",
       "      <th>messages_count</th>\n",
       "      <th>mb_used</th>\n",
       "      <th>gb_used</th>\n",
       "      <th>tariff</th>\n",
       "      <th>messages_included</th>\n",
       "      <th>mb_per_month_included</th>\n",
       "      <th>minutes_included</th>\n",
       "      <th>rub_monthly_fee</th>\n",
       "      <th>rub_per_gb</th>\n",
       "      <th>rub_per_message</th>\n",
       "      <th>rub_per_minute</th>\n",
       "    </tr>\n",
       "  </thead>\n",
       "  <tbody>\n",
       "    <tr>\n",
       "      <th>0</th>\n",
       "      <td>1000</td>\n",
       "      <td>5.000</td>\n",
       "      <td>159.000</td>\n",
       "      <td>22.000</td>\n",
       "      <td>22.000</td>\n",
       "      <td>2253.490</td>\n",
       "      <td>3.000</td>\n",
       "      <td>ultra</td>\n",
       "      <td>1000</td>\n",
       "      <td>30720</td>\n",
       "      <td>3000</td>\n",
       "      <td>1950</td>\n",
       "      <td>150</td>\n",
       "      <td>1</td>\n",
       "      <td>1</td>\n",
       "    </tr>\n",
       "    <tr>\n",
       "      <th>1</th>\n",
       "      <td>1000</td>\n",
       "      <td>6.000</td>\n",
       "      <td>172.000</td>\n",
       "      <td>43.000</td>\n",
       "      <td>60.000</td>\n",
       "      <td>23233.770</td>\n",
       "      <td>23.000</td>\n",
       "      <td>ultra</td>\n",
       "      <td>1000</td>\n",
       "      <td>30720</td>\n",
       "      <td>3000</td>\n",
       "      <td>1950</td>\n",
       "      <td>150</td>\n",
       "      <td>1</td>\n",
       "      <td>1</td>\n",
       "    </tr>\n",
       "    <tr>\n",
       "      <th>2</th>\n",
       "      <td>1000</td>\n",
       "      <td>7.000</td>\n",
       "      <td>340.000</td>\n",
       "      <td>47.000</td>\n",
       "      <td>75.000</td>\n",
       "      <td>14003.640</td>\n",
       "      <td>14.000</td>\n",
       "      <td>ultra</td>\n",
       "      <td>1000</td>\n",
       "      <td>30720</td>\n",
       "      <td>3000</td>\n",
       "      <td>1950</td>\n",
       "      <td>150</td>\n",
       "      <td>1</td>\n",
       "      <td>1</td>\n",
       "    </tr>\n",
       "    <tr>\n",
       "      <th>3</th>\n",
       "      <td>1000</td>\n",
       "      <td>8.000</td>\n",
       "      <td>408.000</td>\n",
       "      <td>52.000</td>\n",
       "      <td>81.000</td>\n",
       "      <td>14055.930</td>\n",
       "      <td>14.000</td>\n",
       "      <td>ultra</td>\n",
       "      <td>1000</td>\n",
       "      <td>30720</td>\n",
       "      <td>3000</td>\n",
       "      <td>1950</td>\n",
       "      <td>150</td>\n",
       "      <td>1</td>\n",
       "      <td>1</td>\n",
       "    </tr>\n",
       "    <tr>\n",
       "      <th>4</th>\n",
       "      <td>1000</td>\n",
       "      <td>9.000</td>\n",
       "      <td>466.000</td>\n",
       "      <td>58.000</td>\n",
       "      <td>57.000</td>\n",
       "      <td>14568.910</td>\n",
       "      <td>15.000</td>\n",
       "      <td>ultra</td>\n",
       "      <td>1000</td>\n",
       "      <td>30720</td>\n",
       "      <td>3000</td>\n",
       "      <td>1950</td>\n",
       "      <td>150</td>\n",
       "      <td>1</td>\n",
       "      <td>1</td>\n",
       "    </tr>\n",
       "    <tr>\n",
       "      <th>5</th>\n",
       "      <td>1000</td>\n",
       "      <td>10.000</td>\n",
       "      <td>350.000</td>\n",
       "      <td>57.000</td>\n",
       "      <td>73.000</td>\n",
       "      <td>14702.490</td>\n",
       "      <td>15.000</td>\n",
       "      <td>ultra</td>\n",
       "      <td>1000</td>\n",
       "      <td>30720</td>\n",
       "      <td>3000</td>\n",
       "      <td>1950</td>\n",
       "      <td>150</td>\n",
       "      <td>1</td>\n",
       "      <td>1</td>\n",
       "    </tr>\n",
       "    <tr>\n",
       "      <th>6</th>\n",
       "      <td>1000</td>\n",
       "      <td>11.000</td>\n",
       "      <td>338.000</td>\n",
       "      <td>43.000</td>\n",
       "      <td>58.000</td>\n",
       "      <td>14756.470</td>\n",
       "      <td>15.000</td>\n",
       "      <td>ultra</td>\n",
       "      <td>1000</td>\n",
       "      <td>30720</td>\n",
       "      <td>3000</td>\n",
       "      <td>1950</td>\n",
       "      <td>150</td>\n",
       "      <td>1</td>\n",
       "      <td>1</td>\n",
       "    </tr>\n",
       "    <tr>\n",
       "      <th>7</th>\n",
       "      <td>1000</td>\n",
       "      <td>12.000</td>\n",
       "      <td>333.000</td>\n",
       "      <td>46.000</td>\n",
       "      <td>70.000</td>\n",
       "      <td>9817.610</td>\n",
       "      <td>10.000</td>\n",
       "      <td>ultra</td>\n",
       "      <td>1000</td>\n",
       "      <td>30720</td>\n",
       "      <td>3000</td>\n",
       "      <td>1950</td>\n",
       "      <td>150</td>\n",
       "      <td>1</td>\n",
       "      <td>1</td>\n",
       "    </tr>\n",
       "    <tr>\n",
       "      <th>8</th>\n",
       "      <td>1001</td>\n",
       "      <td>11.000</td>\n",
       "      <td>430.000</td>\n",
       "      <td>59.000</td>\n",
       "      <td>NaN</td>\n",
       "      <td>18429.340</td>\n",
       "      <td>18.000</td>\n",
       "      <td>smart</td>\n",
       "      <td>50</td>\n",
       "      <td>15360</td>\n",
       "      <td>500</td>\n",
       "      <td>550</td>\n",
       "      <td>200</td>\n",
       "      <td>3</td>\n",
       "      <td>3</td>\n",
       "    </tr>\n",
       "    <tr>\n",
       "      <th>9</th>\n",
       "      <td>1001</td>\n",
       "      <td>12.000</td>\n",
       "      <td>414.000</td>\n",
       "      <td>63.000</td>\n",
       "      <td>NaN</td>\n",
       "      <td>14036.660</td>\n",
       "      <td>14.000</td>\n",
       "      <td>smart</td>\n",
       "      <td>50</td>\n",
       "      <td>15360</td>\n",
       "      <td>500</td>\n",
       "      <td>550</td>\n",
       "      <td>200</td>\n",
       "      <td>3</td>\n",
       "      <td>3</td>\n",
       "    </tr>\n",
       "  </tbody>\n",
       "</table>\n",
       "</div>"
      ],
      "text/plain": [
       "   user_id  month_num  calls_duration  calls_count  messages_count   mb_used  \\\n",
       "0     1000      5.000         159.000       22.000          22.000  2253.490   \n",
       "1     1000      6.000         172.000       43.000          60.000 23233.770   \n",
       "2     1000      7.000         340.000       47.000          75.000 14003.640   \n",
       "3     1000      8.000         408.000       52.000          81.000 14055.930   \n",
       "4     1000      9.000         466.000       58.000          57.000 14568.910   \n",
       "5     1000     10.000         350.000       57.000          73.000 14702.490   \n",
       "6     1000     11.000         338.000       43.000          58.000 14756.470   \n",
       "7     1000     12.000         333.000       46.000          70.000  9817.610   \n",
       "8     1001     11.000         430.000       59.000             NaN 18429.340   \n",
       "9     1001     12.000         414.000       63.000             NaN 14036.660   \n",
       "\n",
       "   gb_used tariff  messages_included  mb_per_month_included  minutes_included  \\\n",
       "0    3.000  ultra               1000                  30720              3000   \n",
       "1   23.000  ultra               1000                  30720              3000   \n",
       "2   14.000  ultra               1000                  30720              3000   \n",
       "3   14.000  ultra               1000                  30720              3000   \n",
       "4   15.000  ultra               1000                  30720              3000   \n",
       "5   15.000  ultra               1000                  30720              3000   \n",
       "6   15.000  ultra               1000                  30720              3000   \n",
       "7   10.000  ultra               1000                  30720              3000   \n",
       "8   18.000  smart                 50                  15360               500   \n",
       "9   14.000  smart                 50                  15360               500   \n",
       "\n",
       "   rub_monthly_fee  rub_per_gb  rub_per_message  rub_per_minute  \n",
       "0             1950         150                1               1  \n",
       "1             1950         150                1               1  \n",
       "2             1950         150                1               1  \n",
       "3             1950         150                1               1  \n",
       "4             1950         150                1               1  \n",
       "5             1950         150                1               1  \n",
       "6             1950         150                1               1  \n",
       "7             1950         150                1               1  \n",
       "8              550         200                3               3  \n",
       "9              550         200                3               3  "
      ]
     },
     "execution_count": 31,
     "metadata": {},
     "output_type": "execute_result"
    }
   ],
   "source": [
    "# Объединим 3 таблицы с данными о звонках, сообщениях и трафике по столбцам 'user_id' и 'month_num'\n",
    "revenue = calls.merge(messages, how='outer', on=['user_id', 'month_num'])\n",
    "revenue = revenue.merge(internet, how='outer', on=['user_id', 'month_num'])\n",
    "\n",
    "# Добавим информацию о тарифе из таблиц df_users и df_tariffs\n",
    "revenue = revenue.merge(df_users[['user_id', 'tariff']], how='outer', on='user_id')\n",
    "df_tariffs = df_tariffs.rename(columns={'tariff_name':'tariff'})\n",
    "revenue = revenue.merge(df_tariffs, how='left', on='tariff')\n",
    "revenue.head(10)"
   ]
  },
  {
   "cell_type": "code",
   "execution_count": 32,
   "metadata": {},
   "outputs": [
    {
     "data": {
      "text/plain": [
       "500"
      ]
     },
     "execution_count": 32,
     "metadata": {},
     "output_type": "execute_result"
    }
   ],
   "source": [
    "# Проверим сохранилось ли количество уникальных пользователей\n",
    "\n",
    "revenue['user_id'].nunique()"
   ]
  },
  {
   "cell_type": "markdown",
   "metadata": {},
   "source": [
    "Количество пользователей соответствует исходной таблице df_users."
   ]
  },
  {
   "cell_type": "code",
   "execution_count": 33,
   "metadata": {},
   "outputs": [
    {
     "name": "stdout",
     "output_type": "stream",
     "text": [
      "Количество строк в таблице calls - 3174\n",
      "Количество строк в таблице messages - 2717\n",
      "Количество строк в таблице internet - 3203\n",
      "Количество строк в таблице revenue - 3216\n"
     ]
    }
   ],
   "source": [
    "print(f\"Количество строк в таблице calls - {len(calls)}\")\n",
    "print(f\"Количество строк в таблице messages - {len(messages)}\")\n",
    "print(f\"Количество строк в таблице internet - {len(internet)}\")\n",
    "print(f\"Количество строк в таблице revenue - {len(revenue)}\")"
   ]
  },
  {
   "cell_type": "markdown",
   "metadata": {},
   "source": [
    "Количетсво строк в финальной таблице больше, чем в объединяемых, данные не потеряны.\n",
    "\n",
    "В случае верного объединения таблиц каждой паре месяц-пользователь должна соответствовать ровно 1 строка в талице revenue. Проверим выполнение этого условия."
   ]
  },
  {
   "cell_type": "code",
   "execution_count": 34,
   "metadata": {},
   "outputs": [
    {
     "name": "stdout",
     "output_type": "stream",
     "text": [
      "Объединение таблиц прошло успешно\n"
     ]
    }
   ],
   "source": [
    "if len(revenue.groupby(['user_id', 'month_num'])) == len(revenue):\n",
    "    print('Объединение таблиц прошло успешно')\n",
    "else:\n",
    "    print('Нужно еще добработать')"
   ]
  },
  {
   "cell_type": "code",
   "execution_count": 35,
   "metadata": {},
   "outputs": [
    {
     "data": {
      "text/plain": [
       "user_id                    0\n",
       "month_num                  2\n",
       "calls_duration            42\n",
       "calls_count               42\n",
       "messages_count           499\n",
       "mb_used                   13\n",
       "gb_used                   13\n",
       "tariff                     0\n",
       "messages_included          0\n",
       "mb_per_month_included      0\n",
       "minutes_included           0\n",
       "rub_monthly_fee            0\n",
       "rub_per_gb                 0\n",
       "rub_per_message            0\n",
       "rub_per_minute             0\n",
       "dtype: int64"
      ]
     },
     "execution_count": 35,
     "metadata": {},
     "output_type": "execute_result"
    }
   ],
   "source": [
    "# Посмотрим есть ли пропущенные значения\n",
    "revenue.isna().sum()"
   ]
  },
  {
   "cell_type": "code",
   "execution_count": 36,
   "metadata": {},
   "outputs": [
    {
     "data": {
      "text/html": [
       "<div>\n",
       "<style scoped>\n",
       "    .dataframe tbody tr th:only-of-type {\n",
       "        vertical-align: middle;\n",
       "    }\n",
       "\n",
       "    .dataframe tbody tr th {\n",
       "        vertical-align: top;\n",
       "    }\n",
       "\n",
       "    .dataframe thead th {\n",
       "        text-align: right;\n",
       "    }\n",
       "</style>\n",
       "<table border=\"1\" class=\"dataframe\">\n",
       "  <thead>\n",
       "    <tr style=\"text-align: right;\">\n",
       "      <th></th>\n",
       "      <th>user_id</th>\n",
       "      <th>month_num</th>\n",
       "      <th>calls_duration</th>\n",
       "      <th>calls_count</th>\n",
       "      <th>messages_count</th>\n",
       "      <th>mb_used</th>\n",
       "      <th>gb_used</th>\n",
       "      <th>tariff</th>\n",
       "      <th>messages_included</th>\n",
       "      <th>mb_per_month_included</th>\n",
       "      <th>minutes_included</th>\n",
       "      <th>rub_monthly_fee</th>\n",
       "      <th>rub_per_gb</th>\n",
       "      <th>rub_per_message</th>\n",
       "      <th>rub_per_minute</th>\n",
       "    </tr>\n",
       "  </thead>\n",
       "  <tbody>\n",
       "    <tr>\n",
       "      <th>3214</th>\n",
       "      <td>1128</td>\n",
       "      <td>NaN</td>\n",
       "      <td>NaN</td>\n",
       "      <td>NaN</td>\n",
       "      <td>NaN</td>\n",
       "      <td>NaN</td>\n",
       "      <td>NaN</td>\n",
       "      <td>ultra</td>\n",
       "      <td>1000</td>\n",
       "      <td>30720</td>\n",
       "      <td>3000</td>\n",
       "      <td>1950</td>\n",
       "      <td>150</td>\n",
       "      <td>1</td>\n",
       "      <td>1</td>\n",
       "    </tr>\n",
       "    <tr>\n",
       "      <th>3215</th>\n",
       "      <td>1371</td>\n",
       "      <td>NaN</td>\n",
       "      <td>NaN</td>\n",
       "      <td>NaN</td>\n",
       "      <td>NaN</td>\n",
       "      <td>NaN</td>\n",
       "      <td>NaN</td>\n",
       "      <td>smart</td>\n",
       "      <td>50</td>\n",
       "      <td>15360</td>\n",
       "      <td>500</td>\n",
       "      <td>550</td>\n",
       "      <td>200</td>\n",
       "      <td>3</td>\n",
       "      <td>3</td>\n",
       "    </tr>\n",
       "  </tbody>\n",
       "</table>\n",
       "</div>"
      ],
      "text/plain": [
       "      user_id  month_num  calls_duration  calls_count  messages_count  \\\n",
       "3214     1128        NaN             NaN          NaN             NaN   \n",
       "3215     1371        NaN             NaN          NaN             NaN   \n",
       "\n",
       "      mb_used  gb_used tariff  messages_included  mb_per_month_included  \\\n",
       "3214      NaN      NaN  ultra               1000                  30720   \n",
       "3215      NaN      NaN  smart                 50                  15360   \n",
       "\n",
       "      minutes_included  rub_monthly_fee  rub_per_gb  rub_per_message  \\\n",
       "3214              3000             1950         150                1   \n",
       "3215               500              550         200                3   \n",
       "\n",
       "      rub_per_minute  \n",
       "3214               1  \n",
       "3215               3  "
      ]
     },
     "execution_count": 36,
     "metadata": {},
     "output_type": "execute_result"
    }
   ],
   "source": [
    "# Проверим пропущенные значения в столбце month_num\n",
    "\n",
    "revenue.loc[revenue['month_num'].isna()]"
   ]
  },
  {
   "cell_type": "code",
   "execution_count": 37,
   "metadata": {},
   "outputs": [
    {
     "data": {
      "text/html": [
       "<div>\n",
       "<style scoped>\n",
       "    .dataframe tbody tr th:only-of-type {\n",
       "        vertical-align: middle;\n",
       "    }\n",
       "\n",
       "    .dataframe tbody tr th {\n",
       "        vertical-align: top;\n",
       "    }\n",
       "\n",
       "    .dataframe thead th {\n",
       "        text-align: right;\n",
       "    }\n",
       "</style>\n",
       "<table border=\"1\" class=\"dataframe\">\n",
       "  <thead>\n",
       "    <tr style=\"text-align: right;\">\n",
       "      <th></th>\n",
       "      <th>user_id</th>\n",
       "      <th>age</th>\n",
       "      <th>churn_date</th>\n",
       "      <th>city</th>\n",
       "      <th>first_name</th>\n",
       "      <th>last_name</th>\n",
       "      <th>reg_date</th>\n",
       "      <th>tariff</th>\n",
       "    </tr>\n",
       "  </thead>\n",
       "  <tbody>\n",
       "    <tr>\n",
       "      <th>371</th>\n",
       "      <td>1371</td>\n",
       "      <td>50</td>\n",
       "      <td>2018-12-30</td>\n",
       "      <td>Омск</td>\n",
       "      <td>Ириней</td>\n",
       "      <td>Трофимов</td>\n",
       "      <td>2018-12-25</td>\n",
       "      <td>smart</td>\n",
       "    </tr>\n",
       "  </tbody>\n",
       "</table>\n",
       "</div>"
      ],
      "text/plain": [
       "     user_id  age churn_date  city first_name last_name   reg_date tariff\n",
       "371     1371   50 2018-12-30  Омск     Ириней  Трофимов 2018-12-25  smart"
      ]
     },
     "execution_count": 37,
     "metadata": {},
     "output_type": "execute_result"
    }
   ],
   "source": [
    "df_users.query('user_id == 1371')"
   ]
  },
  {
   "cell_type": "code",
   "execution_count": 38,
   "metadata": {},
   "outputs": [
    {
     "data": {
      "text/html": [
       "<div>\n",
       "<style scoped>\n",
       "    .dataframe tbody tr th:only-of-type {\n",
       "        vertical-align: middle;\n",
       "    }\n",
       "\n",
       "    .dataframe tbody tr th {\n",
       "        vertical-align: top;\n",
       "    }\n",
       "\n",
       "    .dataframe thead th {\n",
       "        text-align: right;\n",
       "    }\n",
       "</style>\n",
       "<table border=\"1\" class=\"dataframe\">\n",
       "  <thead>\n",
       "    <tr style=\"text-align: right;\">\n",
       "      <th></th>\n",
       "      <th>user_id</th>\n",
       "      <th>month_num</th>\n",
       "      <th>mb_used</th>\n",
       "      <th>gb_used</th>\n",
       "    </tr>\n",
       "  </thead>\n",
       "  <tbody>\n",
       "  </tbody>\n",
       "</table>\n",
       "</div>"
      ],
      "text/plain": [
       "Empty DataFrame\n",
       "Columns: [user_id, month_num, mb_used, gb_used]\n",
       "Index: []"
      ]
     },
     "execution_count": 38,
     "metadata": {},
     "output_type": "execute_result"
    }
   ],
   "source": [
    "internet.query('user_id == 1371')"
   ]
  },
  {
   "cell_type": "markdown",
   "metadata": {},
   "source": [
    "Пропуски соответствуют тем абонентам, которые зарегистрировались и разорвали договор в один и тот же месяц, не успев совершить звонки, отправить сообщения и зайти в интернет."
   ]
  },
  {
   "cell_type": "markdown",
   "metadata": {},
   "source": [
    "Проверим пропуски по столбцу mb_used"
   ]
  },
  {
   "cell_type": "code",
   "execution_count": 39,
   "metadata": {},
   "outputs": [
    {
     "data": {
      "text/html": [
       "<div>\n",
       "<style scoped>\n",
       "    .dataframe tbody tr th:only-of-type {\n",
       "        vertical-align: middle;\n",
       "    }\n",
       "\n",
       "    .dataframe tbody tr th {\n",
       "        vertical-align: top;\n",
       "    }\n",
       "\n",
       "    .dataframe thead th {\n",
       "        text-align: right;\n",
       "    }\n",
       "</style>\n",
       "<table border=\"1\" class=\"dataframe\">\n",
       "  <thead>\n",
       "    <tr style=\"text-align: right;\">\n",
       "      <th></th>\n",
       "      <th>user_id</th>\n",
       "      <th>month_num</th>\n",
       "      <th>calls_duration</th>\n",
       "      <th>calls_count</th>\n",
       "      <th>messages_count</th>\n",
       "      <th>mb_used</th>\n",
       "      <th>gb_used</th>\n",
       "      <th>tariff</th>\n",
       "      <th>messages_included</th>\n",
       "      <th>mb_per_month_included</th>\n",
       "      <th>minutes_included</th>\n",
       "      <th>rub_monthly_fee</th>\n",
       "      <th>rub_per_gb</th>\n",
       "      <th>rub_per_message</th>\n",
       "      <th>rub_per_minute</th>\n",
       "    </tr>\n",
       "  </thead>\n",
       "  <tbody>\n",
       "    <tr>\n",
       "      <th>1697</th>\n",
       "      <td>1273</td>\n",
       "      <td>5.000</td>\n",
       "      <td>220.000</td>\n",
       "      <td>24.000</td>\n",
       "      <td>21.000</td>\n",
       "      <td>NaN</td>\n",
       "      <td>NaN</td>\n",
       "      <td>ultra</td>\n",
       "      <td>1000</td>\n",
       "      <td>30720</td>\n",
       "      <td>3000</td>\n",
       "      <td>1950</td>\n",
       "      <td>150</td>\n",
       "      <td>1</td>\n",
       "      <td>1</td>\n",
       "    </tr>\n",
       "    <tr>\n",
       "      <th>1698</th>\n",
       "      <td>1273</td>\n",
       "      <td>6.000</td>\n",
       "      <td>230.000</td>\n",
       "      <td>40.000</td>\n",
       "      <td>38.000</td>\n",
       "      <td>NaN</td>\n",
       "      <td>NaN</td>\n",
       "      <td>ultra</td>\n",
       "      <td>1000</td>\n",
       "      <td>30720</td>\n",
       "      <td>3000</td>\n",
       "      <td>1950</td>\n",
       "      <td>150</td>\n",
       "      <td>1</td>\n",
       "      <td>1</td>\n",
       "    </tr>\n",
       "    <tr>\n",
       "      <th>1699</th>\n",
       "      <td>1273</td>\n",
       "      <td>7.000</td>\n",
       "      <td>253.000</td>\n",
       "      <td>44.000</td>\n",
       "      <td>37.000</td>\n",
       "      <td>NaN</td>\n",
       "      <td>NaN</td>\n",
       "      <td>ultra</td>\n",
       "      <td>1000</td>\n",
       "      <td>30720</td>\n",
       "      <td>3000</td>\n",
       "      <td>1950</td>\n",
       "      <td>150</td>\n",
       "      <td>1</td>\n",
       "      <td>1</td>\n",
       "    </tr>\n",
       "    <tr>\n",
       "      <th>1700</th>\n",
       "      <td>1273</td>\n",
       "      <td>8.000</td>\n",
       "      <td>253.000</td>\n",
       "      <td>53.000</td>\n",
       "      <td>41.000</td>\n",
       "      <td>NaN</td>\n",
       "      <td>NaN</td>\n",
       "      <td>ultra</td>\n",
       "      <td>1000</td>\n",
       "      <td>30720</td>\n",
       "      <td>3000</td>\n",
       "      <td>1950</td>\n",
       "      <td>150</td>\n",
       "      <td>1</td>\n",
       "      <td>1</td>\n",
       "    </tr>\n",
       "    <tr>\n",
       "      <th>1701</th>\n",
       "      <td>1273</td>\n",
       "      <td>9.000</td>\n",
       "      <td>223.000</td>\n",
       "      <td>33.000</td>\n",
       "      <td>32.000</td>\n",
       "      <td>NaN</td>\n",
       "      <td>NaN</td>\n",
       "      <td>ultra</td>\n",
       "      <td>1000</td>\n",
       "      <td>30720</td>\n",
       "      <td>3000</td>\n",
       "      <td>1950</td>\n",
       "      <td>150</td>\n",
       "      <td>1</td>\n",
       "      <td>1</td>\n",
       "    </tr>\n",
       "    <tr>\n",
       "      <th>1702</th>\n",
       "      <td>1273</td>\n",
       "      <td>10.000</td>\n",
       "      <td>315.000</td>\n",
       "      <td>40.000</td>\n",
       "      <td>35.000</td>\n",
       "      <td>NaN</td>\n",
       "      <td>NaN</td>\n",
       "      <td>ultra</td>\n",
       "      <td>1000</td>\n",
       "      <td>30720</td>\n",
       "      <td>3000</td>\n",
       "      <td>1950</td>\n",
       "      <td>150</td>\n",
       "      <td>1</td>\n",
       "      <td>1</td>\n",
       "    </tr>\n",
       "    <tr>\n",
       "      <th>1703</th>\n",
       "      <td>1273</td>\n",
       "      <td>11.000</td>\n",
       "      <td>272.000</td>\n",
       "      <td>45.000</td>\n",
       "      <td>29.000</td>\n",
       "      <td>NaN</td>\n",
       "      <td>NaN</td>\n",
       "      <td>ultra</td>\n",
       "      <td>1000</td>\n",
       "      <td>30720</td>\n",
       "      <td>3000</td>\n",
       "      <td>1950</td>\n",
       "      <td>150</td>\n",
       "      <td>1</td>\n",
       "      <td>1</td>\n",
       "    </tr>\n",
       "    <tr>\n",
       "      <th>1704</th>\n",
       "      <td>1273</td>\n",
       "      <td>12.000</td>\n",
       "      <td>260.000</td>\n",
       "      <td>41.000</td>\n",
       "      <td>39.000</td>\n",
       "      <td>NaN</td>\n",
       "      <td>NaN</td>\n",
       "      <td>ultra</td>\n",
       "      <td>1000</td>\n",
       "      <td>30720</td>\n",
       "      <td>3000</td>\n",
       "      <td>1950</td>\n",
       "      <td>150</td>\n",
       "      <td>1</td>\n",
       "      <td>1</td>\n",
       "    </tr>\n",
       "    <tr>\n",
       "      <th>2359</th>\n",
       "      <td>1377</td>\n",
       "      <td>2.000</td>\n",
       "      <td>179.000</td>\n",
       "      <td>23.000</td>\n",
       "      <td>2.000</td>\n",
       "      <td>NaN</td>\n",
       "      <td>NaN</td>\n",
       "      <td>ultra</td>\n",
       "      <td>1000</td>\n",
       "      <td>30720</td>\n",
       "      <td>3000</td>\n",
       "      <td>1950</td>\n",
       "      <td>150</td>\n",
       "      <td>1</td>\n",
       "      <td>1</td>\n",
       "    </tr>\n",
       "    <tr>\n",
       "      <th>2472</th>\n",
       "      <td>1392</td>\n",
       "      <td>2.000</td>\n",
       "      <td>13.000</td>\n",
       "      <td>2.000</td>\n",
       "      <td>3.000</td>\n",
       "      <td>NaN</td>\n",
       "      <td>NaN</td>\n",
       "      <td>ultra</td>\n",
       "      <td>1000</td>\n",
       "      <td>30720</td>\n",
       "      <td>3000</td>\n",
       "      <td>1950</td>\n",
       "      <td>150</td>\n",
       "      <td>1</td>\n",
       "      <td>1</td>\n",
       "    </tr>\n",
       "    <tr>\n",
       "      <th>2830</th>\n",
       "      <td>1446</td>\n",
       "      <td>8.000</td>\n",
       "      <td>50.000</td>\n",
       "      <td>4.000</td>\n",
       "      <td>1.000</td>\n",
       "      <td>NaN</td>\n",
       "      <td>NaN</td>\n",
       "      <td>smart</td>\n",
       "      <td>50</td>\n",
       "      <td>15360</td>\n",
       "      <td>500</td>\n",
       "      <td>550</td>\n",
       "      <td>200</td>\n",
       "      <td>3</td>\n",
       "      <td>3</td>\n",
       "    </tr>\n",
       "    <tr>\n",
       "      <th>3214</th>\n",
       "      <td>1128</td>\n",
       "      <td>NaN</td>\n",
       "      <td>NaN</td>\n",
       "      <td>NaN</td>\n",
       "      <td>NaN</td>\n",
       "      <td>NaN</td>\n",
       "      <td>NaN</td>\n",
       "      <td>ultra</td>\n",
       "      <td>1000</td>\n",
       "      <td>30720</td>\n",
       "      <td>3000</td>\n",
       "      <td>1950</td>\n",
       "      <td>150</td>\n",
       "      <td>1</td>\n",
       "      <td>1</td>\n",
       "    </tr>\n",
       "    <tr>\n",
       "      <th>3215</th>\n",
       "      <td>1371</td>\n",
       "      <td>NaN</td>\n",
       "      <td>NaN</td>\n",
       "      <td>NaN</td>\n",
       "      <td>NaN</td>\n",
       "      <td>NaN</td>\n",
       "      <td>NaN</td>\n",
       "      <td>smart</td>\n",
       "      <td>50</td>\n",
       "      <td>15360</td>\n",
       "      <td>500</td>\n",
       "      <td>550</td>\n",
       "      <td>200</td>\n",
       "      <td>3</td>\n",
       "      <td>3</td>\n",
       "    </tr>\n",
       "  </tbody>\n",
       "</table>\n",
       "</div>"
      ],
      "text/plain": [
       "      user_id  month_num  calls_duration  calls_count  messages_count  \\\n",
       "1697     1273      5.000         220.000       24.000          21.000   \n",
       "1698     1273      6.000         230.000       40.000          38.000   \n",
       "1699     1273      7.000         253.000       44.000          37.000   \n",
       "1700     1273      8.000         253.000       53.000          41.000   \n",
       "1701     1273      9.000         223.000       33.000          32.000   \n",
       "1702     1273     10.000         315.000       40.000          35.000   \n",
       "1703     1273     11.000         272.000       45.000          29.000   \n",
       "1704     1273     12.000         260.000       41.000          39.000   \n",
       "2359     1377      2.000         179.000       23.000           2.000   \n",
       "2472     1392      2.000          13.000        2.000           3.000   \n",
       "2830     1446      8.000          50.000        4.000           1.000   \n",
       "3214     1128        NaN             NaN          NaN             NaN   \n",
       "3215     1371        NaN             NaN          NaN             NaN   \n",
       "\n",
       "      mb_used  gb_used tariff  messages_included  mb_per_month_included  \\\n",
       "1697      NaN      NaN  ultra               1000                  30720   \n",
       "1698      NaN      NaN  ultra               1000                  30720   \n",
       "1699      NaN      NaN  ultra               1000                  30720   \n",
       "1700      NaN      NaN  ultra               1000                  30720   \n",
       "1701      NaN      NaN  ultra               1000                  30720   \n",
       "1702      NaN      NaN  ultra               1000                  30720   \n",
       "1703      NaN      NaN  ultra               1000                  30720   \n",
       "1704      NaN      NaN  ultra               1000                  30720   \n",
       "2359      NaN      NaN  ultra               1000                  30720   \n",
       "2472      NaN      NaN  ultra               1000                  30720   \n",
       "2830      NaN      NaN  smart                 50                  15360   \n",
       "3214      NaN      NaN  ultra               1000                  30720   \n",
       "3215      NaN      NaN  smart                 50                  15360   \n",
       "\n",
       "      minutes_included  rub_monthly_fee  rub_per_gb  rub_per_message  \\\n",
       "1697              3000             1950         150                1   \n",
       "1698              3000             1950         150                1   \n",
       "1699              3000             1950         150                1   \n",
       "1700              3000             1950         150                1   \n",
       "1701              3000             1950         150                1   \n",
       "1702              3000             1950         150                1   \n",
       "1703              3000             1950         150                1   \n",
       "1704              3000             1950         150                1   \n",
       "2359              3000             1950         150                1   \n",
       "2472              3000             1950         150                1   \n",
       "2830               500              550         200                3   \n",
       "3214              3000             1950         150                1   \n",
       "3215               500              550         200                3   \n",
       "\n",
       "      rub_per_minute  \n",
       "1697               1  \n",
       "1698               1  \n",
       "1699               1  \n",
       "1700               1  \n",
       "1701               1  \n",
       "1702               1  \n",
       "1703               1  \n",
       "1704               1  \n",
       "2359               1  \n",
       "2472               1  \n",
       "2830               3  \n",
       "3214               1  \n",
       "3215               3  "
      ]
     },
     "execution_count": 39,
     "metadata": {},
     "output_type": "execute_result"
    }
   ],
   "source": [
    "revenue.loc[revenue['mb_used'].isna()]"
   ]
  },
  {
   "cell_type": "markdown",
   "metadata": {},
   "source": [
    "Посмотрим есть ли значения в таблице internet для user_id с номером 1273"
   ]
  },
  {
   "cell_type": "code",
   "execution_count": 40,
   "metadata": {},
   "outputs": [
    {
     "data": {
      "text/html": [
       "<div>\n",
       "<style scoped>\n",
       "    .dataframe tbody tr th:only-of-type {\n",
       "        vertical-align: middle;\n",
       "    }\n",
       "\n",
       "    .dataframe tbody tr th {\n",
       "        vertical-align: top;\n",
       "    }\n",
       "\n",
       "    .dataframe thead th {\n",
       "        text-align: right;\n",
       "    }\n",
       "</style>\n",
       "<table border=\"1\" class=\"dataframe\">\n",
       "  <thead>\n",
       "    <tr style=\"text-align: right;\">\n",
       "      <th></th>\n",
       "      <th>user_id</th>\n",
       "      <th>month_num</th>\n",
       "      <th>mb_used</th>\n",
       "      <th>gb_used</th>\n",
       "    </tr>\n",
       "  </thead>\n",
       "  <tbody>\n",
       "  </tbody>\n",
       "</table>\n",
       "</div>"
      ],
      "text/plain": [
       "Empty DataFrame\n",
       "Columns: [user_id, month_num, mb_used, gb_used]\n",
       "Index: []"
      ]
     },
     "execution_count": 40,
     "metadata": {},
     "output_type": "execute_result"
    }
   ],
   "source": [
    "internet.query('user_id == 1273')"
   ]
  },
  {
   "cell_type": "markdown",
   "metadata": {},
   "source": [
    "Таким образом, пропущенные значения образовались в тех столбцах, где у пользователей не было расхода в текущем месяце по пакету тарифного плана, следовательно, нужно заменить их на 0."
   ]
  },
  {
   "cell_type": "code",
   "execution_count": 41,
   "metadata": {},
   "outputs": [],
   "source": [
    "#Заменим их на 0\n",
    "revenue = revenue.fillna(0)"
   ]
  },
  {
   "cell_type": "code",
   "execution_count": 42,
   "metadata": {},
   "outputs": [
    {
     "data": {
      "text/html": [
       "<div>\n",
       "<style scoped>\n",
       "    .dataframe tbody tr th:only-of-type {\n",
       "        vertical-align: middle;\n",
       "    }\n",
       "\n",
       "    .dataframe tbody tr th {\n",
       "        vertical-align: top;\n",
       "    }\n",
       "\n",
       "    .dataframe thead th {\n",
       "        text-align: right;\n",
       "    }\n",
       "</style>\n",
       "<table border=\"1\" class=\"dataframe\">\n",
       "  <thead>\n",
       "    <tr style=\"text-align: right;\">\n",
       "      <th></th>\n",
       "      <th>user_id</th>\n",
       "      <th>month_num</th>\n",
       "      <th>calls_duration</th>\n",
       "      <th>calls_count</th>\n",
       "      <th>messages_count</th>\n",
       "      <th>mb_used</th>\n",
       "      <th>gb_used</th>\n",
       "      <th>tariff</th>\n",
       "      <th>messages_included</th>\n",
       "      <th>mb_per_month_included</th>\n",
       "      <th>minutes_included</th>\n",
       "      <th>rub_monthly_fee</th>\n",
       "      <th>rub_per_gb</th>\n",
       "      <th>rub_per_message</th>\n",
       "      <th>rub_per_minute</th>\n",
       "      <th>total_income</th>\n",
       "    </tr>\n",
       "  </thead>\n",
       "  <tbody>\n",
       "    <tr>\n",
       "      <th>0</th>\n",
       "      <td>1000</td>\n",
       "      <td>5.000</td>\n",
       "      <td>159.000</td>\n",
       "      <td>22.000</td>\n",
       "      <td>22.000</td>\n",
       "      <td>2253.490</td>\n",
       "      <td>3.000</td>\n",
       "      <td>ultra</td>\n",
       "      <td>1000</td>\n",
       "      <td>30720</td>\n",
       "      <td>3000</td>\n",
       "      <td>1950</td>\n",
       "      <td>150</td>\n",
       "      <td>1</td>\n",
       "      <td>1</td>\n",
       "      <td>1950.000</td>\n",
       "    </tr>\n",
       "    <tr>\n",
       "      <th>1</th>\n",
       "      <td>1000</td>\n",
       "      <td>6.000</td>\n",
       "      <td>172.000</td>\n",
       "      <td>43.000</td>\n",
       "      <td>60.000</td>\n",
       "      <td>23233.770</td>\n",
       "      <td>23.000</td>\n",
       "      <td>ultra</td>\n",
       "      <td>1000</td>\n",
       "      <td>30720</td>\n",
       "      <td>3000</td>\n",
       "      <td>1950</td>\n",
       "      <td>150</td>\n",
       "      <td>1</td>\n",
       "      <td>1</td>\n",
       "      <td>1950.000</td>\n",
       "    </tr>\n",
       "    <tr>\n",
       "      <th>2</th>\n",
       "      <td>1000</td>\n",
       "      <td>7.000</td>\n",
       "      <td>340.000</td>\n",
       "      <td>47.000</td>\n",
       "      <td>75.000</td>\n",
       "      <td>14003.640</td>\n",
       "      <td>14.000</td>\n",
       "      <td>ultra</td>\n",
       "      <td>1000</td>\n",
       "      <td>30720</td>\n",
       "      <td>3000</td>\n",
       "      <td>1950</td>\n",
       "      <td>150</td>\n",
       "      <td>1</td>\n",
       "      <td>1</td>\n",
       "      <td>1950.000</td>\n",
       "    </tr>\n",
       "    <tr>\n",
       "      <th>3</th>\n",
       "      <td>1000</td>\n",
       "      <td>8.000</td>\n",
       "      <td>408.000</td>\n",
       "      <td>52.000</td>\n",
       "      <td>81.000</td>\n",
       "      <td>14055.930</td>\n",
       "      <td>14.000</td>\n",
       "      <td>ultra</td>\n",
       "      <td>1000</td>\n",
       "      <td>30720</td>\n",
       "      <td>3000</td>\n",
       "      <td>1950</td>\n",
       "      <td>150</td>\n",
       "      <td>1</td>\n",
       "      <td>1</td>\n",
       "      <td>1950.000</td>\n",
       "    </tr>\n",
       "    <tr>\n",
       "      <th>4</th>\n",
       "      <td>1000</td>\n",
       "      <td>9.000</td>\n",
       "      <td>466.000</td>\n",
       "      <td>58.000</td>\n",
       "      <td>57.000</td>\n",
       "      <td>14568.910</td>\n",
       "      <td>15.000</td>\n",
       "      <td>ultra</td>\n",
       "      <td>1000</td>\n",
       "      <td>30720</td>\n",
       "      <td>3000</td>\n",
       "      <td>1950</td>\n",
       "      <td>150</td>\n",
       "      <td>1</td>\n",
       "      <td>1</td>\n",
       "      <td>1950.000</td>\n",
       "    </tr>\n",
       "    <tr>\n",
       "      <th>5</th>\n",
       "      <td>1000</td>\n",
       "      <td>10.000</td>\n",
       "      <td>350.000</td>\n",
       "      <td>57.000</td>\n",
       "      <td>73.000</td>\n",
       "      <td>14702.490</td>\n",
       "      <td>15.000</td>\n",
       "      <td>ultra</td>\n",
       "      <td>1000</td>\n",
       "      <td>30720</td>\n",
       "      <td>3000</td>\n",
       "      <td>1950</td>\n",
       "      <td>150</td>\n",
       "      <td>1</td>\n",
       "      <td>1</td>\n",
       "      <td>1950.000</td>\n",
       "    </tr>\n",
       "    <tr>\n",
       "      <th>6</th>\n",
       "      <td>1000</td>\n",
       "      <td>11.000</td>\n",
       "      <td>338.000</td>\n",
       "      <td>43.000</td>\n",
       "      <td>58.000</td>\n",
       "      <td>14756.470</td>\n",
       "      <td>15.000</td>\n",
       "      <td>ultra</td>\n",
       "      <td>1000</td>\n",
       "      <td>30720</td>\n",
       "      <td>3000</td>\n",
       "      <td>1950</td>\n",
       "      <td>150</td>\n",
       "      <td>1</td>\n",
       "      <td>1</td>\n",
       "      <td>1950.000</td>\n",
       "    </tr>\n",
       "    <tr>\n",
       "      <th>7</th>\n",
       "      <td>1000</td>\n",
       "      <td>12.000</td>\n",
       "      <td>333.000</td>\n",
       "      <td>46.000</td>\n",
       "      <td>70.000</td>\n",
       "      <td>9817.610</td>\n",
       "      <td>10.000</td>\n",
       "      <td>ultra</td>\n",
       "      <td>1000</td>\n",
       "      <td>30720</td>\n",
       "      <td>3000</td>\n",
       "      <td>1950</td>\n",
       "      <td>150</td>\n",
       "      <td>1</td>\n",
       "      <td>1</td>\n",
       "      <td>1950.000</td>\n",
       "    </tr>\n",
       "    <tr>\n",
       "      <th>9</th>\n",
       "      <td>1001</td>\n",
       "      <td>12.000</td>\n",
       "      <td>414.000</td>\n",
       "      <td>63.000</td>\n",
       "      <td>0.000</td>\n",
       "      <td>14036.660</td>\n",
       "      <td>14.000</td>\n",
       "      <td>smart</td>\n",
       "      <td>50</td>\n",
       "      <td>15360</td>\n",
       "      <td>500</td>\n",
       "      <td>550</td>\n",
       "      <td>200</td>\n",
       "      <td>3</td>\n",
       "      <td>3</td>\n",
       "      <td>550.000</td>\n",
       "    </tr>\n",
       "    <tr>\n",
       "      <th>8</th>\n",
       "      <td>1001</td>\n",
       "      <td>11.000</td>\n",
       "      <td>430.000</td>\n",
       "      <td>59.000</td>\n",
       "      <td>0.000</td>\n",
       "      <td>18429.340</td>\n",
       "      <td>18.000</td>\n",
       "      <td>smart</td>\n",
       "      <td>50</td>\n",
       "      <td>15360</td>\n",
       "      <td>500</td>\n",
       "      <td>550</td>\n",
       "      <td>200</td>\n",
       "      <td>3</td>\n",
       "      <td>3</td>\n",
       "      <td>1150.000</td>\n",
       "    </tr>\n",
       "    <tr>\n",
       "      <th>10</th>\n",
       "      <td>1002</td>\n",
       "      <td>6.000</td>\n",
       "      <td>117.000</td>\n",
       "      <td>15.000</td>\n",
       "      <td>4.000</td>\n",
       "      <td>10856.820</td>\n",
       "      <td>11.000</td>\n",
       "      <td>smart</td>\n",
       "      <td>50</td>\n",
       "      <td>15360</td>\n",
       "      <td>500</td>\n",
       "      <td>550</td>\n",
       "      <td>200</td>\n",
       "      <td>3</td>\n",
       "      <td>3</td>\n",
       "      <td>550.000</td>\n",
       "    </tr>\n",
       "    <tr>\n",
       "      <th>11</th>\n",
       "      <td>1002</td>\n",
       "      <td>7.000</td>\n",
       "      <td>214.000</td>\n",
       "      <td>26.000</td>\n",
       "      <td>11.000</td>\n",
       "      <td>17580.100</td>\n",
       "      <td>18.000</td>\n",
       "      <td>smart</td>\n",
       "      <td>50</td>\n",
       "      <td>15360</td>\n",
       "      <td>500</td>\n",
       "      <td>550</td>\n",
       "      <td>200</td>\n",
       "      <td>3</td>\n",
       "      <td>3</td>\n",
       "      <td>1150.000</td>\n",
       "    </tr>\n",
       "    <tr>\n",
       "      <th>12</th>\n",
       "      <td>1002</td>\n",
       "      <td>8.000</td>\n",
       "      <td>289.000</td>\n",
       "      <td>42.000</td>\n",
       "      <td>13.000</td>\n",
       "      <td>20319.260</td>\n",
       "      <td>20.000</td>\n",
       "      <td>smart</td>\n",
       "      <td>50</td>\n",
       "      <td>15360</td>\n",
       "      <td>500</td>\n",
       "      <td>550</td>\n",
       "      <td>200</td>\n",
       "      <td>3</td>\n",
       "      <td>3</td>\n",
       "      <td>1550.000</td>\n",
       "    </tr>\n",
       "    <tr>\n",
       "      <th>13</th>\n",
       "      <td>1002</td>\n",
       "      <td>9.000</td>\n",
       "      <td>206.000</td>\n",
       "      <td>36.000</td>\n",
       "      <td>4.000</td>\n",
       "      <td>16691.080</td>\n",
       "      <td>17.000</td>\n",
       "      <td>smart</td>\n",
       "      <td>50</td>\n",
       "      <td>15360</td>\n",
       "      <td>500</td>\n",
       "      <td>550</td>\n",
       "      <td>200</td>\n",
       "      <td>3</td>\n",
       "      <td>3</td>\n",
       "      <td>950.000</td>\n",
       "    </tr>\n",
       "    <tr>\n",
       "      <th>14</th>\n",
       "      <td>1002</td>\n",
       "      <td>10.000</td>\n",
       "      <td>212.000</td>\n",
       "      <td>33.000</td>\n",
       "      <td>10.000</td>\n",
       "      <td>13888.250</td>\n",
       "      <td>14.000</td>\n",
       "      <td>smart</td>\n",
       "      <td>50</td>\n",
       "      <td>15360</td>\n",
       "      <td>500</td>\n",
       "      <td>550</td>\n",
       "      <td>200</td>\n",
       "      <td>3</td>\n",
       "      <td>3</td>\n",
       "      <td>550.000</td>\n",
       "    </tr>\n",
       "  </tbody>\n",
       "</table>\n",
       "</div>"
      ],
      "text/plain": [
       "    user_id  month_num  calls_duration  calls_count  messages_count   mb_used  \\\n",
       "0      1000      5.000         159.000       22.000          22.000  2253.490   \n",
       "1      1000      6.000         172.000       43.000          60.000 23233.770   \n",
       "2      1000      7.000         340.000       47.000          75.000 14003.640   \n",
       "3      1000      8.000         408.000       52.000          81.000 14055.930   \n",
       "4      1000      9.000         466.000       58.000          57.000 14568.910   \n",
       "5      1000     10.000         350.000       57.000          73.000 14702.490   \n",
       "6      1000     11.000         338.000       43.000          58.000 14756.470   \n",
       "7      1000     12.000         333.000       46.000          70.000  9817.610   \n",
       "9      1001     12.000         414.000       63.000           0.000 14036.660   \n",
       "8      1001     11.000         430.000       59.000           0.000 18429.340   \n",
       "10     1002      6.000         117.000       15.000           4.000 10856.820   \n",
       "11     1002      7.000         214.000       26.000          11.000 17580.100   \n",
       "12     1002      8.000         289.000       42.000          13.000 20319.260   \n",
       "13     1002      9.000         206.000       36.000           4.000 16691.080   \n",
       "14     1002     10.000         212.000       33.000          10.000 13888.250   \n",
       "\n",
       "    gb_used tariff  messages_included  mb_per_month_included  \\\n",
       "0     3.000  ultra               1000                  30720   \n",
       "1    23.000  ultra               1000                  30720   \n",
       "2    14.000  ultra               1000                  30720   \n",
       "3    14.000  ultra               1000                  30720   \n",
       "4    15.000  ultra               1000                  30720   \n",
       "5    15.000  ultra               1000                  30720   \n",
       "6    15.000  ultra               1000                  30720   \n",
       "7    10.000  ultra               1000                  30720   \n",
       "9    14.000  smart                 50                  15360   \n",
       "8    18.000  smart                 50                  15360   \n",
       "10   11.000  smart                 50                  15360   \n",
       "11   18.000  smart                 50                  15360   \n",
       "12   20.000  smart                 50                  15360   \n",
       "13   17.000  smart                 50                  15360   \n",
       "14   14.000  smart                 50                  15360   \n",
       "\n",
       "    minutes_included  rub_monthly_fee  rub_per_gb  rub_per_message  \\\n",
       "0               3000             1950         150                1   \n",
       "1               3000             1950         150                1   \n",
       "2               3000             1950         150                1   \n",
       "3               3000             1950         150                1   \n",
       "4               3000             1950         150                1   \n",
       "5               3000             1950         150                1   \n",
       "6               3000             1950         150                1   \n",
       "7               3000             1950         150                1   \n",
       "9                500              550         200                3   \n",
       "8                500              550         200                3   \n",
       "10               500              550         200                3   \n",
       "11               500              550         200                3   \n",
       "12               500              550         200                3   \n",
       "13               500              550         200                3   \n",
       "14               500              550         200                3   \n",
       "\n",
       "    rub_per_minute  total_income  \n",
       "0                1      1950.000  \n",
       "1                1      1950.000  \n",
       "2                1      1950.000  \n",
       "3                1      1950.000  \n",
       "4                1      1950.000  \n",
       "5                1      1950.000  \n",
       "6                1      1950.000  \n",
       "7                1      1950.000  \n",
       "9                3       550.000  \n",
       "8                3      1150.000  \n",
       "10               3       550.000  \n",
       "11               3      1150.000  \n",
       "12               3      1550.000  \n",
       "13               3       950.000  \n",
       "14               3       550.000  "
      ]
     },
     "execution_count": 42,
     "metadata": {},
     "output_type": "execute_result"
    }
   ],
   "source": [
    "# Напишем функцию для расчета выручки\n",
    "\n",
    "def total_revenue(row):\n",
    "    total_value = row['rub_monthly_fee']\n",
    "    if row['calls_duration'] > row['minutes_included']:\n",
    "        total_value += (row['calls_duration'] - row['minutes_included']) * row['rub_per_minute']\n",
    "    if row['messages_count'] > row['messages_included']:\n",
    "        total_value += (row['messages_count'] - row['messages_included']) * row['rub_per_message']\n",
    "    if row['mb_used'] > row['mb_per_month_included']:\n",
    "        total_value += (row['gb_used'] - (row['mb_per_month_included'] / 1024)) * row['rub_per_gb']\n",
    "    return total_value\n",
    "\n",
    "revenue['total_income'] = revenue.apply(total_revenue, axis=1)\n",
    "revenue.sort_values(by='user_id').head(15)"
   ]
  },
  {
   "cell_type": "markdown",
   "metadata": {},
   "source": [
    "### Анализ данных"
   ]
  },
  {
   "cell_type": "code",
   "execution_count": 43,
   "metadata": {},
   "outputs": [
    {
     "data": {
      "text/html": [
       "<div>\n",
       "<style scoped>\n",
       "    .dataframe tbody tr th:only-of-type {\n",
       "        vertical-align: middle;\n",
       "    }\n",
       "\n",
       "    .dataframe tbody tr th {\n",
       "        vertical-align: top;\n",
       "    }\n",
       "\n",
       "    .dataframe thead th {\n",
       "        text-align: right;\n",
       "    }\n",
       "</style>\n",
       "<table border=\"1\" class=\"dataframe\">\n",
       "  <thead>\n",
       "    <tr style=\"text-align: right;\">\n",
       "      <th></th>\n",
       "      <th>index</th>\n",
       "      <th>user_id</th>\n",
       "      <th>month_num</th>\n",
       "      <th>calls_duration</th>\n",
       "      <th>calls_count</th>\n",
       "      <th>messages_count</th>\n",
       "      <th>mb_used</th>\n",
       "      <th>gb_used</th>\n",
       "      <th>tariff</th>\n",
       "      <th>messages_included</th>\n",
       "      <th>mb_per_month_included</th>\n",
       "      <th>minutes_included</th>\n",
       "      <th>rub_monthly_fee</th>\n",
       "      <th>rub_per_gb</th>\n",
       "      <th>rub_per_message</th>\n",
       "      <th>rub_per_minute</th>\n",
       "      <th>total_income</th>\n",
       "    </tr>\n",
       "  </thead>\n",
       "  <tbody>\n",
       "    <tr>\n",
       "      <th>1390</th>\n",
       "      <td>1910</td>\n",
       "      <td>1305</td>\n",
       "      <td>10.000</td>\n",
       "      <td>131.000</td>\n",
       "      <td>15.000</td>\n",
       "      <td>0.000</td>\n",
       "      <td>3456.330</td>\n",
       "      <td>4.000</td>\n",
       "      <td>smart</td>\n",
       "      <td>50</td>\n",
       "      <td>15360</td>\n",
       "      <td>500</td>\n",
       "      <td>550</td>\n",
       "      <td>200</td>\n",
       "      <td>3</td>\n",
       "      <td>3</td>\n",
       "      <td>550.000</td>\n",
       "    </tr>\n",
       "    <tr>\n",
       "      <th>1587</th>\n",
       "      <td>2223</td>\n",
       "      <td>1357</td>\n",
       "      <td>9.000</td>\n",
       "      <td>342.000</td>\n",
       "      <td>42.000</td>\n",
       "      <td>48.000</td>\n",
       "      <td>14566.160</td>\n",
       "      <td>15.000</td>\n",
       "      <td>smart</td>\n",
       "      <td>50</td>\n",
       "      <td>15360</td>\n",
       "      <td>500</td>\n",
       "      <td>550</td>\n",
       "      <td>200</td>\n",
       "      <td>3</td>\n",
       "      <td>3</td>\n",
       "      <td>550.000</td>\n",
       "    </tr>\n",
       "    <tr>\n",
       "      <th>649</th>\n",
       "      <td>884</td>\n",
       "      <td>1144</td>\n",
       "      <td>4.000</td>\n",
       "      <td>32.000</td>\n",
       "      <td>6.000</td>\n",
       "      <td>3.000</td>\n",
       "      <td>690.000</td>\n",
       "      <td>1.000</td>\n",
       "      <td>smart</td>\n",
       "      <td>50</td>\n",
       "      <td>15360</td>\n",
       "      <td>500</td>\n",
       "      <td>550</td>\n",
       "      <td>200</td>\n",
       "      <td>3</td>\n",
       "      <td>3</td>\n",
       "      <td>550.000</td>\n",
       "    </tr>\n",
       "    <tr>\n",
       "      <th>1265</th>\n",
       "      <td>1738</td>\n",
       "      <td>1279</td>\n",
       "      <td>9.000</td>\n",
       "      <td>413.000</td>\n",
       "      <td>68.000</td>\n",
       "      <td>0.000</td>\n",
       "      <td>10204.380</td>\n",
       "      <td>10.000</td>\n",
       "      <td>smart</td>\n",
       "      <td>50</td>\n",
       "      <td>15360</td>\n",
       "      <td>500</td>\n",
       "      <td>550</td>\n",
       "      <td>200</td>\n",
       "      <td>3</td>\n",
       "      <td>3</td>\n",
       "      <td>550.000</td>\n",
       "    </tr>\n",
       "    <tr>\n",
       "      <th>903</th>\n",
       "      <td>1216</td>\n",
       "      <td>1191</td>\n",
       "      <td>8.000</td>\n",
       "      <td>452.000</td>\n",
       "      <td>72.000</td>\n",
       "      <td>105.000</td>\n",
       "      <td>27873.770</td>\n",
       "      <td>28.000</td>\n",
       "      <td>smart</td>\n",
       "      <td>50</td>\n",
       "      <td>15360</td>\n",
       "      <td>500</td>\n",
       "      <td>550</td>\n",
       "      <td>200</td>\n",
       "      <td>3</td>\n",
       "      <td>3</td>\n",
       "      <td>3315.000</td>\n",
       "    </tr>\n",
       "  </tbody>\n",
       "</table>\n",
       "</div>"
      ],
      "text/plain": [
       "      index  user_id  month_num  calls_duration  calls_count  messages_count  \\\n",
       "1390   1910     1305     10.000         131.000       15.000           0.000   \n",
       "1587   2223     1357      9.000         342.000       42.000          48.000   \n",
       "649     884     1144      4.000          32.000        6.000           3.000   \n",
       "1265   1738     1279      9.000         413.000       68.000           0.000   \n",
       "903    1216     1191      8.000         452.000       72.000         105.000   \n",
       "\n",
       "       mb_used  gb_used tariff  messages_included  mb_per_month_included  \\\n",
       "1390  3456.330    4.000  smart                 50                  15360   \n",
       "1587 14566.160   15.000  smart                 50                  15360   \n",
       "649    690.000    1.000  smart                 50                  15360   \n",
       "1265 10204.380   10.000  smart                 50                  15360   \n",
       "903  27873.770   28.000  smart                 50                  15360   \n",
       "\n",
       "      minutes_included  rub_monthly_fee  rub_per_gb  rub_per_message  \\\n",
       "1390               500              550         200                3   \n",
       "1587               500              550         200                3   \n",
       "649                500              550         200                3   \n",
       "1265               500              550         200                3   \n",
       "903                500              550         200                3   \n",
       "\n",
       "      rub_per_minute  total_income  \n",
       "1390               3       550.000  \n",
       "1587               3       550.000  \n",
       "649                3       550.000  \n",
       "1265               3       550.000  \n",
       "903                3      3315.000  "
      ]
     },
     "execution_count": 43,
     "metadata": {},
     "output_type": "execute_result"
    }
   ],
   "source": [
    "# сделаем срез по тарифу smart\n",
    "\n",
    "smart = revenue.query('tariff == \"smart\"').reset_index()\n",
    "smart.sample(5)\n"
   ]
  },
  {
   "cell_type": "code",
   "execution_count": 44,
   "metadata": {},
   "outputs": [
    {
     "data": {
      "text/html": [
       "<div>\n",
       "<style scoped>\n",
       "    .dataframe tbody tr th:only-of-type {\n",
       "        vertical-align: middle;\n",
       "    }\n",
       "\n",
       "    .dataframe tbody tr th {\n",
       "        vertical-align: top;\n",
       "    }\n",
       "\n",
       "    .dataframe thead th {\n",
       "        text-align: right;\n",
       "    }\n",
       "</style>\n",
       "<table border=\"1\" class=\"dataframe\">\n",
       "  <thead>\n",
       "    <tr style=\"text-align: right;\">\n",
       "      <th></th>\n",
       "      <th>index</th>\n",
       "      <th>user_id</th>\n",
       "      <th>month_num</th>\n",
       "      <th>calls_duration</th>\n",
       "      <th>calls_count</th>\n",
       "      <th>messages_count</th>\n",
       "      <th>mb_used</th>\n",
       "      <th>gb_used</th>\n",
       "      <th>tariff</th>\n",
       "      <th>messages_included</th>\n",
       "      <th>mb_per_month_included</th>\n",
       "      <th>minutes_included</th>\n",
       "      <th>rub_monthly_fee</th>\n",
       "      <th>rub_per_gb</th>\n",
       "      <th>rub_per_message</th>\n",
       "      <th>rub_per_minute</th>\n",
       "      <th>total_income</th>\n",
       "    </tr>\n",
       "  </thead>\n",
       "  <tbody>\n",
       "    <tr>\n",
       "      <th>790</th>\n",
       "      <td>2564</td>\n",
       "      <td>1403</td>\n",
       "      <td>11.000</td>\n",
       "      <td>109.000</td>\n",
       "      <td>15.000</td>\n",
       "      <td>49.000</td>\n",
       "      <td>35656.270</td>\n",
       "      <td>35.000</td>\n",
       "      <td>ultra</td>\n",
       "      <td>1000</td>\n",
       "      <td>30720</td>\n",
       "      <td>3000</td>\n",
       "      <td>1950</td>\n",
       "      <td>150</td>\n",
       "      <td>1</td>\n",
       "      <td>1</td>\n",
       "      <td>2700.000</td>\n",
       "    </tr>\n",
       "    <tr>\n",
       "      <th>752</th>\n",
       "      <td>2473</td>\n",
       "      <td>1392</td>\n",
       "      <td>3.000</td>\n",
       "      <td>467.000</td>\n",
       "      <td>60.000</td>\n",
       "      <td>38.000</td>\n",
       "      <td>22977.990</td>\n",
       "      <td>23.000</td>\n",
       "      <td>ultra</td>\n",
       "      <td>1000</td>\n",
       "      <td>30720</td>\n",
       "      <td>3000</td>\n",
       "      <td>1950</td>\n",
       "      <td>150</td>\n",
       "      <td>1</td>\n",
       "      <td>1</td>\n",
       "      <td>1950.000</td>\n",
       "    </tr>\n",
       "    <tr>\n",
       "      <th>324</th>\n",
       "      <td>1262</td>\n",
       "      <td>1200</td>\n",
       "      <td>6.000</td>\n",
       "      <td>567.000</td>\n",
       "      <td>83.000</td>\n",
       "      <td>44.000</td>\n",
       "      <td>19300.030</td>\n",
       "      <td>19.000</td>\n",
       "      <td>ultra</td>\n",
       "      <td>1000</td>\n",
       "      <td>30720</td>\n",
       "      <td>3000</td>\n",
       "      <td>1950</td>\n",
       "      <td>150</td>\n",
       "      <td>1</td>\n",
       "      <td>1</td>\n",
       "      <td>1950.000</td>\n",
       "    </tr>\n",
       "    <tr>\n",
       "      <th>716</th>\n",
       "      <td>2402</td>\n",
       "      <td>1381</td>\n",
       "      <td>8.000</td>\n",
       "      <td>654.000</td>\n",
       "      <td>81.000</td>\n",
       "      <td>42.000</td>\n",
       "      <td>21885.460</td>\n",
       "      <td>22.000</td>\n",
       "      <td>ultra</td>\n",
       "      <td>1000</td>\n",
       "      <td>30720</td>\n",
       "      <td>3000</td>\n",
       "      <td>1950</td>\n",
       "      <td>150</td>\n",
       "      <td>1</td>\n",
       "      <td>1</td>\n",
       "      <td>1950.000</td>\n",
       "    </tr>\n",
       "    <tr>\n",
       "      <th>331</th>\n",
       "      <td>1269</td>\n",
       "      <td>1201</td>\n",
       "      <td>8.000</td>\n",
       "      <td>850.000</td>\n",
       "      <td>106.000</td>\n",
       "      <td>0.000</td>\n",
       "      <td>9248.090</td>\n",
       "      <td>10.000</td>\n",
       "      <td>ultra</td>\n",
       "      <td>1000</td>\n",
       "      <td>30720</td>\n",
       "      <td>3000</td>\n",
       "      <td>1950</td>\n",
       "      <td>150</td>\n",
       "      <td>1</td>\n",
       "      <td>1</td>\n",
       "      <td>1950.000</td>\n",
       "    </tr>\n",
       "  </tbody>\n",
       "</table>\n",
       "</div>"
      ],
      "text/plain": [
       "     index  user_id  month_num  calls_duration  calls_count  messages_count  \\\n",
       "790   2564     1403     11.000         109.000       15.000          49.000   \n",
       "752   2473     1392      3.000         467.000       60.000          38.000   \n",
       "324   1262     1200      6.000         567.000       83.000          44.000   \n",
       "716   2402     1381      8.000         654.000       81.000          42.000   \n",
       "331   1269     1201      8.000         850.000      106.000           0.000   \n",
       "\n",
       "      mb_used  gb_used tariff  messages_included  mb_per_month_included  \\\n",
       "790 35656.270   35.000  ultra               1000                  30720   \n",
       "752 22977.990   23.000  ultra               1000                  30720   \n",
       "324 19300.030   19.000  ultra               1000                  30720   \n",
       "716 21885.460   22.000  ultra               1000                  30720   \n",
       "331  9248.090   10.000  ultra               1000                  30720   \n",
       "\n",
       "     minutes_included  rub_monthly_fee  rub_per_gb  rub_per_message  \\\n",
       "790              3000             1950         150                1   \n",
       "752              3000             1950         150                1   \n",
       "324              3000             1950         150                1   \n",
       "716              3000             1950         150                1   \n",
       "331              3000             1950         150                1   \n",
       "\n",
       "     rub_per_minute  total_income  \n",
       "790               1      2700.000  \n",
       "752               1      1950.000  \n",
       "324               1      1950.000  \n",
       "716               1      1950.000  \n",
       "331               1      1950.000  "
      ]
     },
     "execution_count": 44,
     "metadata": {},
     "output_type": "execute_result"
    }
   ],
   "source": [
    "# сделаем срез по тарифу ultra\n",
    "\n",
    "ultra = revenue.query('tariff == \"ultra\"').reset_index()\n",
    "ultra.sample(5)"
   ]
  },
  {
   "cell_type": "markdown",
   "metadata": {},
   "source": [
    "#### Минуты разговора - calls duration"
   ]
  },
  {
   "cell_type": "code",
   "execution_count": 45,
   "metadata": {},
   "outputs": [
    {
     "data": {
      "text/html": [
       "<div>\n",
       "<style scoped>\n",
       "    .dataframe tbody tr th:only-of-type {\n",
       "        vertical-align: middle;\n",
       "    }\n",
       "\n",
       "    .dataframe tbody tr th {\n",
       "        vertical-align: top;\n",
       "    }\n",
       "\n",
       "    .dataframe thead th {\n",
       "        text-align: right;\n",
       "    }\n",
       "</style>\n",
       "<table border=\"1\" class=\"dataframe\">\n",
       "  <thead>\n",
       "    <tr style=\"text-align: right;\">\n",
       "      <th></th>\n",
       "      <th>count</th>\n",
       "      <th>mean</th>\n",
       "      <th>std</th>\n",
       "      <th>min</th>\n",
       "      <th>25%</th>\n",
       "      <th>50%</th>\n",
       "      <th>75%</th>\n",
       "      <th>max</th>\n",
       "      <th>var</th>\n",
       "      <th>mean+3std</th>\n",
       "    </tr>\n",
       "    <tr>\n",
       "      <th>tariff</th>\n",
       "      <th></th>\n",
       "      <th></th>\n",
       "      <th></th>\n",
       "      <th></th>\n",
       "      <th></th>\n",
       "      <th></th>\n",
       "      <th></th>\n",
       "      <th></th>\n",
       "      <th></th>\n",
       "      <th></th>\n",
       "    </tr>\n",
       "  </thead>\n",
       "  <tbody>\n",
       "    <tr>\n",
       "      <th>smart</th>\n",
       "      <td>2230.000</td>\n",
       "      <td>417.748</td>\n",
       "      <td>190.477</td>\n",
       "      <td>0.000</td>\n",
       "      <td>282.000</td>\n",
       "      <td>421.500</td>\n",
       "      <td>545.000</td>\n",
       "      <td>1435.000</td>\n",
       "      <td>36281.394</td>\n",
       "      <td>989.178</td>\n",
       "    </tr>\n",
       "    <tr>\n",
       "      <th>ultra</th>\n",
       "      <td>986.000</td>\n",
       "      <td>526.089</td>\n",
       "      <td>317.888</td>\n",
       "      <td>0.000</td>\n",
       "      <td>282.500</td>\n",
       "      <td>518.000</td>\n",
       "      <td>751.750</td>\n",
       "      <td>1673.000</td>\n",
       "      <td>101052.494</td>\n",
       "      <td>1479.752</td>\n",
       "    </tr>\n",
       "  </tbody>\n",
       "</table>\n",
       "</div>"
      ],
      "text/plain": [
       "          count    mean     std   min     25%     50%     75%      max  \\\n",
       "tariff                                                                   \n",
       "smart  2230.000 417.748 190.477 0.000 282.000 421.500 545.000 1435.000   \n",
       "ultra   986.000 526.089 317.888 0.000 282.500 518.000 751.750 1673.000   \n",
       "\n",
       "              var  mean+3std  \n",
       "tariff                        \n",
       "smart   36281.394    989.178  \n",
       "ultra  101052.494   1479.752  "
      ]
     },
     "execution_count": 45,
     "metadata": {},
     "output_type": "execute_result"
    }
   ],
   "source": [
    "# проанализируем основные показатели столбца calls_duration по тарифам\n",
    "\n",
    "calls_analysis = revenue.groupby('tariff')['calls_duration'].describe()\n",
    "\n",
    "#добавим в таблицу показатель дисперсии\n",
    "\n",
    "calls_analysis['var'] = [np.var(smart['calls_duration'], ddof=1), np.var(ultra['calls_duration'], ddof=1)]\n",
    "calls_analysis['mean+3std'] = calls_analysis['mean'] + 3 * calls_analysis['std']\n",
    "calls_analysis"
   ]
  },
  {
   "cell_type": "markdown",
   "metadata": {},
   "source": [
    "Как видно из таблицы, в выборке более чем в 2 раза больше пользователей тарифа smart.\n",
    "\n",
    "Средняя длительность звонков на тарифе smart составляет 418 мин. в месяц, на тарифе ultra - 526 мин.\n",
    "\n",
    "Стандартное отклонение на тарифе smart равно 190, на тарифе ultra - 318.\n",
    "\n",
    "Дисперсия на тарифе smart равна 36 281, на тарифе ultra - 101 052.\n",
    "\n",
    "Согласно правилу 3х сигм, длительность звонков более 989 мин. на тарифе smart уже являются выбросами, а на тарифе ultra - более 1480 мин.\n",
    "\n",
    "Для большей наглядности построим диаграммы и ящики с выбросами для обоих тарифов."
   ]
  },
  {
   "cell_type": "code",
   "execution_count": 46,
   "metadata": {},
   "outputs": [
    {
     "name": "stdout",
     "output_type": "stream",
     "text": [
      " \n",
      "--------СРАВНЕНИЕ ДЛИТЕЛЬНОСТЕЙ ЗВОНКОВ ПО ТАРИФАМ ULTRA И SMART--------\n"
     ]
    },
    {
     "data": {
      "image/png": "[encoded data removed]",
      "text/plain": [
       "<Figure size 1080x504 with 1 Axes>"
      ]
     },
     "metadata": {
      "needs_background": "light"
     },
     "output_type": "display_data"
    }
   ],
   "source": [
    "print(' ')\n",
    "print('--------СРАВНЕНИЕ ДЛИТЕЛЬНОСТЕЙ ЗВОНКОВ ПО ТАРИФАМ ULTRA И SMART--------')\n",
    "plt.figure(figsize=(15, 7))\n",
    "sns.boxplot(x='calls_duration', y='tariff', orient='h', \n",
    "            data=revenue, hue='tariff', palette='Set1', width=0.7, linewidth=1, dodge=False)\n",
    "plt.show()"
   ]
  },
  {
   "cell_type": "markdown",
   "metadata": {},
   "source": [
    "Диаграммы размаха подтверждают, что звонки длительностью более 989 мин. на тарифе smart уже являются выбросами, а на тарифе ultra - более 1480 мин."
   ]
  },
  {
   "cell_type": "code",
   "execution_count": 47,
   "metadata": {},
   "outputs": [
    {
     "data": {
      "text/plain": [
       "Text(0.5, 1.0, 'Гистограмма длительности звонков')"
      ]
     },
     "execution_count": 47,
     "metadata": {},
     "output_type": "execute_result"
    },
    {
     "data": {
      "image/png": "[encoded data removed]",
      "text/plain": [
       "<Figure size 1080x504 with 1 Axes>"
      ]
     },
     "metadata": {
      "needs_background": "light"
     },
     "output_type": "display_data"
    }
   ],
   "source": [
    "# Построим гистограммы длительности звонков для тарифов\n",
    "\n",
    "plt.figure(figsize=(15, 7))\n",
    "plt.hist(smart['calls_duration'], bins=50, color='blue', \n",
    "               edgecolor='black', alpha=0.25, label='smart', density=False)\n",
    "plt.hist(ultra['calls_duration'], bins=50, color='red', \n",
    "               edgecolor='black', alpha=0.25, label='ultra', density=False)\n",
    "\n",
    "# Отобразим средние значения по тарифам\n",
    "\n",
    "plt.axvline(calls_analysis['mean'][0], color='blue', linestyle='dashed', \n",
    "            linewidth=2, label='Mean smart: {:.2f}'.format(calls_analysis['mean'][0]))\n",
    "plt.axvline(calls_analysis['mean'][1], color='red', linestyle='dashed', \n",
    "            linewidth=2, label='Mean ultra: {:.2f}'.format(calls_analysis['mean'][1]))\n",
    "\n",
    "# Отобразим включенный в тариф пакет минут: 500 мин. для smart и 3000 мин. для ultra\n",
    "\n",
    "plt.axvline(500, color='blue', linestyle='solid', linewidth=3, label='Included in tariff smart')\n",
    "plt.axvline(3000, color='red', linestyle='solid', linewidth=3, label='Included in tariff ultra')\n",
    "    \n",
    "plt.legend()\n",
    "plt.title('Гистограмма длительности звонков')"
   ]
  },
  {
   "cell_type": "markdown",
   "metadata": {},
   "source": [
    "Из гистограммы видно, что пользователи тарифа smart часто выходят за рамки пакета минут, включенного в их тариф и, соответственно, платят дополнительно за израсходованные сверх пакета минуты. \n",
    "\n",
    "Дисперсия и стандартное отклонение выше на тарифе ultra, но пользователи этого тарифа всегда укладываются в установленные лимиты. Максимальное число минут разговора в месяц значительно меньше заложенных в него 3000.\n",
    "\n",
    "Гистограмма для тарифа ultra скошена вправо, а для тарифа smart - практически симметрична."
   ]
  },
  {
   "cell_type": "code",
   "execution_count": 48,
   "metadata": {
    "scrolled": true
   },
   "outputs": [
    {
     "name": "stdout",
     "output_type": "stream",
     "text": [
      "Процент пользователей тарифа smart, превышающих лимит по минутам 33.81%\n",
      "Процент пользователей тарифа ultra, превышающих лимит по минутам 0.00%\n"
     ]
    }
   ],
   "source": [
    "# Оценим процент пользователей, превышающих бесплатные лимиты\n",
    "print(f\"Процент пользователей тарифа smart, превышающих лимит по минутам {(len(smart.query('calls_duration > 500')) / len(smart)):.2%}\")\n",
    "print(f\"Процент пользователей тарифа ultra, превышающих лимит по минутам {(len(ultra.query('calls_duration > 3000')) / len(ultra)):.2%}\")"
   ]
  },
  {
   "cell_type": "markdown",
   "metadata": {},
   "source": [
    "#### Количество сообщений - messages"
   ]
  },
  {
   "cell_type": "code",
   "execution_count": 49,
   "metadata": {},
   "outputs": [
    {
     "data": {
      "text/html": [
       "<div>\n",
       "<style scoped>\n",
       "    .dataframe tbody tr th:only-of-type {\n",
       "        vertical-align: middle;\n",
       "    }\n",
       "\n",
       "    .dataframe tbody tr th {\n",
       "        vertical-align: top;\n",
       "    }\n",
       "\n",
       "    .dataframe thead th {\n",
       "        text-align: right;\n",
       "    }\n",
       "</style>\n",
       "<table border=\"1\" class=\"dataframe\">\n",
       "  <thead>\n",
       "    <tr style=\"text-align: right;\">\n",
       "      <th></th>\n",
       "      <th>count</th>\n",
       "      <th>mean</th>\n",
       "      <th>std</th>\n",
       "      <th>min</th>\n",
       "      <th>25%</th>\n",
       "      <th>50%</th>\n",
       "      <th>75%</th>\n",
       "      <th>max</th>\n",
       "      <th>var</th>\n",
       "      <th>mean+3std</th>\n",
       "    </tr>\n",
       "    <tr>\n",
       "      <th>tariff</th>\n",
       "      <th></th>\n",
       "      <th></th>\n",
       "      <th></th>\n",
       "      <th></th>\n",
       "      <th></th>\n",
       "      <th></th>\n",
       "      <th></th>\n",
       "      <th></th>\n",
       "      <th></th>\n",
       "      <th></th>\n",
       "    </tr>\n",
       "  </thead>\n",
       "  <tbody>\n",
       "    <tr>\n",
       "      <th>smart</th>\n",
       "      <td>2230.000</td>\n",
       "      <td>33.369</td>\n",
       "      <td>28.230</td>\n",
       "      <td>0.000</td>\n",
       "      <td>10.000</td>\n",
       "      <td>28.000</td>\n",
       "      <td>51.000</td>\n",
       "      <td>143.000</td>\n",
       "      <td>796.955</td>\n",
       "      <td>118.060</td>\n",
       "    </tr>\n",
       "    <tr>\n",
       "      <th>ultra</th>\n",
       "      <td>986.000</td>\n",
       "      <td>49.313</td>\n",
       "      <td>47.806</td>\n",
       "      <td>0.000</td>\n",
       "      <td>6.000</td>\n",
       "      <td>38.000</td>\n",
       "      <td>78.750</td>\n",
       "      <td>224.000</td>\n",
       "      <td>2285.417</td>\n",
       "      <td>192.732</td>\n",
       "    </tr>\n",
       "  </tbody>\n",
       "</table>\n",
       "</div>"
      ],
      "text/plain": [
       "          count   mean    std   min    25%    50%    75%     max      var  \\\n",
       "tariff                                                                      \n",
       "smart  2230.000 33.369 28.230 0.000 10.000 28.000 51.000 143.000  796.955   \n",
       "ultra   986.000 49.313 47.806 0.000  6.000 38.000 78.750 224.000 2285.417   \n",
       "\n",
       "        mean+3std  \n",
       "tariff             \n",
       "smart     118.060  \n",
       "ultra     192.732  "
      ]
     },
     "execution_count": 49,
     "metadata": {},
     "output_type": "execute_result"
    }
   ],
   "source": [
    "# проанализируем основные показатели столбца messages по тарифам\n",
    "\n",
    "messages_analysis = revenue.groupby('tariff')['messages_count'].describe()\n",
    "\n",
    "#добавим в таблицу показатель дисперсии\n",
    "messages_analysis['var'] = [np.var(smart['messages_count'], ddof=1), np.var(ultra['messages_count'], ddof=1)]\n",
    "messages_analysis['mean+3std'] = messages_analysis['mean'] + 3 * messages_analysis['std']\n",
    "messages_analysis"
   ]
  },
  {
   "cell_type": "markdown",
   "metadata": {},
   "source": [
    "Как видно из таблицы, в выборке более чем в 2 раза больше пользователей тарифа smart.\n",
    "\n",
    "Среднее количество сообщений в месяц на тарифе smart составляет 33, на тарифе ultra - 49.\n",
    "\n",
    "Стандартное отклонение на тарифе smart равно 28, на тарифе ultra - 48.\n",
    "\n",
    "Дисперсия на тарифе smart равна 797, на тарифе ultra - 2 285.\n",
    "\n",
    "Согласно правилу 3х сигм, количество сообщений более 118 на тарифе smart уже являются выбросами, а на тарифе ultra - более 193.\n",
    "\n",
    "Для большей наглядности построим диаграммы и ящики с выбросами для обоих тарифов."
   ]
  },
  {
   "cell_type": "code",
   "execution_count": 50,
   "metadata": {},
   "outputs": [
    {
     "name": "stdout",
     "output_type": "stream",
     "text": [
      " \n",
      "--------СРАВНЕНИЕ КОЛИЧЕСТВА ОТПРАВЛЕННЫХ СООБЩЕНИЙ ПО ТАРИФАМ ULTRA И SMART--------\n"
     ]
    },
    {
     "data": {
      "image/png": "[encoded data removed]",
      "text/plain": [
       "<Figure size 1080x504 with 1 Axes>"
      ]
     },
     "metadata": {
      "needs_background": "light"
     },
     "output_type": "display_data"
    }
   ],
   "source": [
    "print(' ')\n",
    "print('--------СРАВНЕНИЕ КОЛИЧЕСТВА ОТПРАВЛЕННЫХ СООБЩЕНИЙ ПО ТАРИФАМ ULTRA И SMART--------')\n",
    "plt.figure(figsize=(15, 7))\n",
    "sns.boxplot(x='messages_count', y='tariff', orient='h', \n",
    "            data=revenue, hue='tariff', palette='Set1', width=0.7, linewidth=1, dodge=False)\n",
    "plt.show()"
   ]
  },
  {
   "cell_type": "markdown",
   "metadata": {},
   "source": [
    "Диаграммы размаха подтверждают, количество сообщений более 118 на тарифе smart уже являются выбросами, а на тарифе ultra - более 193."
   ]
  },
  {
   "cell_type": "code",
   "execution_count": 51,
   "metadata": {},
   "outputs": [
    {
     "data": {
      "text/plain": [
       "Text(0.5, 1.0, 'Гистограмма отправленных сообщений')"
      ]
     },
     "execution_count": 51,
     "metadata": {},
     "output_type": "execute_result"
    },
    {
     "data": {
      "image/png": "[encoded data removed]",
      "text/plain": [
       "<Figure size 1080x504 with 1 Axes>"
      ]
     },
     "metadata": {
      "needs_background": "light"
     },
     "output_type": "display_data"
    }
   ],
   "source": [
    "# Построим гистограммы отправленных сообщений для тарифов\n",
    "\n",
    "plt.figure(figsize=(15, 7))\n",
    "plt.hist(smart['messages_count'], bins=20, color='blue', \n",
    "               edgecolor='black', alpha=0.25, label='smart', density=False)\n",
    "plt.hist(ultra['messages_count'], bins=20, color='red', \n",
    "               edgecolor='black', alpha=0.25, label='ultra', density=False)\n",
    "\n",
    "# Отобразим средние значения по тарифам\n",
    "\n",
    "plt.axvline(messages_analysis['mean'][0], color='blue', linestyle='dashed', \n",
    "            linewidth=3, label='Mean smart: {:.2f}'.format(messages_analysis['mean'][0]))\n",
    "plt.axvline(messages_analysis['mean'][1], color='red', linestyle='dashed', \n",
    "            linewidth=3, label='Mean ultra: {:.2f}'.format(messages_analysis['mean'][1]))\n",
    "\n",
    "# Отобразим включенный в тариф пакет сообщений: 50 - для smart и 1000 - для ultra\n",
    "\n",
    "plt.axvline(50, color='blue', linestyle='solid', linewidth=2, label='Included in tariff smart')\n",
    "plt.axvline(1000, color='red', linestyle='solid', linewidth=2, label='Included in tariff ultra')\n",
    "    \n",
    "plt.legend()\n",
    "plt.title('Гистограмма отправленных сообщений')"
   ]
  },
  {
   "cell_type": "markdown",
   "metadata": {},
   "source": [
    "Из гистограммы видно, что пользователи тарифа smart часто выходят за рамки пакета сообщений, включенного в их тариф и, соответственно, платят дополнительно за израсходованные сверх пакета сообщения. \n",
    "\n",
    "Дисперсия и стандартное отклонение выше на тарифе ultra, но пользователи этого тарифа всегда укладываются в установленные лимиты. Максимальное число отправленных сообщений в месяц значительно меньше заложенных в него 1000.\n",
    "\n",
    "Гистограммы для обоих тарифов скошены вправо, средние значения больше медианы."
   ]
  },
  {
   "cell_type": "code",
   "execution_count": 52,
   "metadata": {},
   "outputs": [
    {
     "name": "stdout",
     "output_type": "stream",
     "text": [
      "Процент пользователей тарифа smart, превышающих лимит по сообщениям 25.29%\n",
      "Процент пользователей тарифа ultra, превышающих лимит по сообщениям 0.00%\n"
     ]
    }
   ],
   "source": [
    "# Оценим процент пользователей, превышающих бесплатные лимиты\n",
    "print(f\"Процент пользователей тарифа smart, превышающих лимит по сообщениям {(len(smart.query('messages_count > 50')) / len(smart)):.2%}\")\n",
    "print(f\"Процент пользователей тарифа ultra, превышающих лимит по сообщениям {(len(ultra.query('messages_count > 1000')) / len(ultra)):.2%}\")"
   ]
  },
  {
   "cell_type": "markdown",
   "metadata": {},
   "source": [
    "####  Объем интернет-трафика - mb_used"
   ]
  },
  {
   "cell_type": "code",
   "execution_count": 53,
   "metadata": {},
   "outputs": [
    {
     "data": {
      "text/html": [
       "<div>\n",
       "<style scoped>\n",
       "    .dataframe tbody tr th:only-of-type {\n",
       "        vertical-align: middle;\n",
       "    }\n",
       "\n",
       "    .dataframe tbody tr th {\n",
       "        vertical-align: top;\n",
       "    }\n",
       "\n",
       "    .dataframe thead th {\n",
       "        text-align: right;\n",
       "    }\n",
       "</style>\n",
       "<table border=\"1\" class=\"dataframe\">\n",
       "  <thead>\n",
       "    <tr style=\"text-align: right;\">\n",
       "      <th></th>\n",
       "      <th>count</th>\n",
       "      <th>mean</th>\n",
       "      <th>std</th>\n",
       "      <th>min</th>\n",
       "      <th>25%</th>\n",
       "      <th>50%</th>\n",
       "      <th>75%</th>\n",
       "      <th>max</th>\n",
       "      <th>var</th>\n",
       "      <th>mean+3std</th>\n",
       "    </tr>\n",
       "    <tr>\n",
       "      <th>tariff</th>\n",
       "      <th></th>\n",
       "      <th></th>\n",
       "      <th></th>\n",
       "      <th></th>\n",
       "      <th></th>\n",
       "      <th></th>\n",
       "      <th></th>\n",
       "      <th></th>\n",
       "      <th></th>\n",
       "      <th></th>\n",
       "    </tr>\n",
       "  </thead>\n",
       "  <tbody>\n",
       "    <tr>\n",
       "      <th>smart</th>\n",
       "      <td>2230.000</td>\n",
       "      <td>16201.119</td>\n",
       "      <td>5879.187</td>\n",
       "      <td>0.000</td>\n",
       "      <td>12630.035</td>\n",
       "      <td>16505.475</td>\n",
       "      <td>20042.108</td>\n",
       "      <td>38552.450</td>\n",
       "      <td>34564843.481</td>\n",
       "      <td>33838.681</td>\n",
       "    </tr>\n",
       "    <tr>\n",
       "      <th>ultra</th>\n",
       "      <td>986.000</td>\n",
       "      <td>19449.060</td>\n",
       "      <td>10101.095</td>\n",
       "      <td>0.000</td>\n",
       "      <td>11748.585</td>\n",
       "      <td>19304.020</td>\n",
       "      <td>26835.885</td>\n",
       "      <td>49745.690</td>\n",
       "      <td>102032129.465</td>\n",
       "      <td>49752.346</td>\n",
       "    </tr>\n",
       "  </tbody>\n",
       "</table>\n",
       "</div>"
      ],
      "text/plain": [
       "          count      mean       std   min       25%       50%       75%  \\\n",
       "tariff                                                                    \n",
       "smart  2230.000 16201.119  5879.187 0.000 12630.035 16505.475 20042.108   \n",
       "ultra   986.000 19449.060 10101.095 0.000 11748.585 19304.020 26835.885   \n",
       "\n",
       "             max           var  mean+3std  \n",
       "tariff                                     \n",
       "smart  38552.450  34564843.481  33838.681  \n",
       "ultra  49745.690 102032129.465  49752.346  "
      ]
     },
     "execution_count": 53,
     "metadata": {},
     "output_type": "execute_result"
    }
   ],
   "source": [
    "# проанализируем основные показатели столбца mb_used по тарифам\n",
    "\n",
    "internet_analysis = revenue.groupby('tariff')['mb_used'].describe()\n",
    "\n",
    "#добавим в таблицу показатель дисперсии\n",
    "internet_analysis['var'] = [np.var(smart['mb_used'], ddof=1), np.var(ultra['mb_used'], ddof=1)]\n",
    "internet_analysis['mean+3std'] = internet_analysis['mean'] + 3 * internet_analysis['std']\n",
    "internet_analysis"
   ]
  },
  {
   "cell_type": "markdown",
   "metadata": {},
   "source": [
    "Как видно из таблицы, в выборке более чем в 2 раза больше пользователей тарифа smart.\n",
    "\n",
    "Среднее количество интернет-трафика в месяц на тарифе smart составляет 16 201 Мб, на тарифе ultra - 19 449 Мб.\n",
    "\n",
    "Стандартное отклонение на тарифе smart равно 5 879, на тарифе ultra - 10 101.\n",
    "\n",
    "Дисперсия на тарифе smart равна 34 564 843, на тарифе ultra - 102 032 129.\n",
    "\n",
    "Согласно правилу 3х сигм, интернет-трафик более 33 839 Мб на тарифе smart уже являются выбросами, а на тарифе ultra - более 49 752 Мб.\n",
    "\n",
    "Для большей наглядности построим диаграммы и ящики с выбросами для обоих тарифов."
   ]
  },
  {
   "cell_type": "code",
   "execution_count": 54,
   "metadata": {},
   "outputs": [
    {
     "name": "stdout",
     "output_type": "stream",
     "text": [
      " \n",
      "--------СРАВНЕНИЕ ИНТЕРНЕТ-ТРАФИКА ПО ТАРИФАМ ULTRA И SMART--------\n"
     ]
    },
    {
     "data": {
      "image/png": "[encoded data removed]",
      "text/plain": [
       "<Figure size 1080x504 with 1 Axes>"
      ]
     },
     "metadata": {
      "needs_background": "light"
     },
     "output_type": "display_data"
    }
   ],
   "source": [
    "print(' ')\n",
    "print('--------СРАВНЕНИЕ ИНТЕРНЕТ-ТРАФИКА ПО ТАРИФАМ ULTRA И SMART--------')\n",
    "plt.figure(figsize=(15, 7))\n",
    "sns.boxplot(x='mb_used', y='tariff', orient='h', \n",
    "            data=revenue, hue='tariff', palette='Set1', width=0.7, linewidth=1, dodge=False)\n",
    "plt.show()"
   ]
  },
  {
   "cell_type": "markdown",
   "metadata": {},
   "source": [
    "Диаграмма размаха подтверждает, что интернет-трафик более 33 839 Мб на тарифе smart уже являются выбросами, а на тарифе ultra - более 49 752 Мб."
   ]
  },
  {
   "cell_type": "code",
   "execution_count": 55,
   "metadata": {},
   "outputs": [
    {
     "data": {
      "text/plain": [
       "Text(0.5, 1.0, 'Гистограмма интернет-трафика')"
      ]
     },
     "execution_count": 55,
     "metadata": {},
     "output_type": "execute_result"
    },
    {
     "data": {
      "image/png": "[encoded data removed]",
      "text/plain": [
       "<Figure size 1080x504 with 1 Axes>"
      ]
     },
     "metadata": {
      "needs_background": "light"
     },
     "output_type": "display_data"
    }
   ],
   "source": [
    "# Построим гистограммы интернет-трафика для тарифов\n",
    "\n",
    "plt.figure(figsize=(15, 7))\n",
    "plt.hist(smart['mb_used'], bins=50, color='blue', \n",
    "               edgecolor='black', alpha=0.25, label='smart', density=False)\n",
    "plt.hist(ultra['mb_used'], bins=50, color='red', \n",
    "               edgecolor='black', alpha=0.25, label='ultra', density=False)\n",
    "\n",
    "# Отобразим средние значения по тарифам\n",
    "\n",
    "plt.axvline(internet_analysis['mean'][0], color='blue', linestyle='dashed', \n",
    "            linewidth=3, label='Mean smart: {:.2f}'.format(internet_analysis['mean'][0]))\n",
    "plt.axvline(internet_analysis['mean'][1], color='red', linestyle='dashed', \n",
    "            linewidth=3, label='Mean ultra: {:.2f}'.format(internet_analysis['mean'][1]))\n",
    "\n",
    "# Отобразим включенный в тариф пакет интренет-трафика: 15 Гб или 15 360 Мб - для smart\n",
    "# и 30 Гб или 30 720 Мб - для ultra\n",
    "\n",
    "plt.axvline(15360, color='blue', linestyle='solid', linewidth=2, label='Included in tariff smart')\n",
    "plt.axvline(30720, color='red', linestyle='solid', linewidth=2, label='Included in tariff ultra')\n",
    "    \n",
    "plt.legend()\n",
    "plt.title('Гистограмма интернет-трафика')"
   ]
  },
  {
   "cell_type": "markdown",
   "metadata": {},
   "source": [
    "Из гистограммы видно, что пользователи обоих тарифов выходят за рамки пакета интернет-трафика, включенного в их тариф и, соответственно, платят дополнительно за израсходованные сверх пакета гигабайты. \n",
    "\n",
    "Дисперсия и стандартное отклонение выше на тарифе ultra.\n",
    "\n",
    "Гистограмма для тарифа ultra чуть скошена вправо, а для тарифа smart - практически симметрична."
   ]
  },
  {
   "cell_type": "code",
   "execution_count": 56,
   "metadata": {},
   "outputs": [
    {
     "name": "stdout",
     "output_type": "stream",
     "text": [
      "Процент пользователей тарифа smart, превышающих лимит интернет-трафика 58.48%\n",
      "Процент пользователей тарифа ultra, превышающих лимит интернет-трафика 13.59%\n"
     ]
    }
   ],
   "source": [
    "# Оценим процент пользователей, превышающих бесплатные лимиты\n",
    "print(f\"Процент пользователей тарифа smart, превышающих лимит интернет-трафика {(len(smart.query('mb_used > 15360')) / len(smart)):.2%}\")\n",
    "print(f\"Процент пользователей тарифа ultra, превышающих лимит интернет-трафика {(len(ultra.query('mb_used > 30720')) / len(ultra)):.2%}\")"
   ]
  },
  {
   "cell_type": "markdown",
   "metadata": {},
   "source": [
    "####  Выручка - total_income"
   ]
  },
  {
   "cell_type": "code",
   "execution_count": 57,
   "metadata": {},
   "outputs": [
    {
     "data": {
      "text/html": [
       "<div>\n",
       "<style scoped>\n",
       "    .dataframe tbody tr th:only-of-type {\n",
       "        vertical-align: middle;\n",
       "    }\n",
       "\n",
       "    .dataframe tbody tr th {\n",
       "        vertical-align: top;\n",
       "    }\n",
       "\n",
       "    .dataframe thead th {\n",
       "        text-align: right;\n",
       "    }\n",
       "</style>\n",
       "<table border=\"1\" class=\"dataframe\">\n",
       "  <thead>\n",
       "    <tr style=\"text-align: right;\">\n",
       "      <th></th>\n",
       "      <th>tariff</th>\n",
       "      <th>count</th>\n",
       "      <th>mean</th>\n",
       "      <th>std</th>\n",
       "      <th>min</th>\n",
       "      <th>25%</th>\n",
       "      <th>50%</th>\n",
       "      <th>75%</th>\n",
       "      <th>max</th>\n",
       "      <th>var</th>\n",
       "      <th>mean+3std</th>\n",
       "    </tr>\n",
       "  </thead>\n",
       "  <tbody>\n",
       "    <tr>\n",
       "      <th>0</th>\n",
       "      <td>smart</td>\n",
       "      <td>2230.000</td>\n",
       "      <td>1289.642</td>\n",
       "      <td>818.371</td>\n",
       "      <td>550.000</td>\n",
       "      <td>550.000</td>\n",
       "      <td>1021.000</td>\n",
       "      <td>1750.000</td>\n",
       "      <td>6770.000</td>\n",
       "      <td>669730.764</td>\n",
       "      <td>3744.754</td>\n",
       "    </tr>\n",
       "    <tr>\n",
       "      <th>1</th>\n",
       "      <td>ultra</td>\n",
       "      <td>986.000</td>\n",
       "      <td>2070.030</td>\n",
       "      <td>376.016</td>\n",
       "      <td>1950.000</td>\n",
       "      <td>1950.000</td>\n",
       "      <td>1950.000</td>\n",
       "      <td>1950.000</td>\n",
       "      <td>4800.000</td>\n",
       "      <td>141387.715</td>\n",
       "      <td>3198.077</td>\n",
       "    </tr>\n",
       "  </tbody>\n",
       "</table>\n",
       "</div>"
      ],
      "text/plain": [
       "  tariff    count     mean     std      min      25%      50%      75%  \\\n",
       "0  smart 2230.000 1289.642 818.371  550.000  550.000 1021.000 1750.000   \n",
       "1  ultra  986.000 2070.030 376.016 1950.000 1950.000 1950.000 1950.000   \n",
       "\n",
       "       max        var  mean+3std  \n",
       "0 6770.000 669730.764   3744.754  \n",
       "1 4800.000 141387.715   3198.077  "
      ]
     },
     "execution_count": 57,
     "metadata": {},
     "output_type": "execute_result"
    }
   ],
   "source": [
    "# проанализируем основные показатели столбца total_income по тарифам\n",
    "\n",
    "income_analysis = revenue.groupby('tariff')['total_income'].describe().reset_index()\n",
    "\n",
    "#добавим в таблицу показатель дисперсии\n",
    "income_analysis['var'] = [np.var(smart['total_income'], ddof=1), np.var(ultra['total_income'], ddof=1)]\n",
    "income_analysis['mean+3std'] = income_analysis['mean'] + 3 * income_analysis['std']\n",
    "income_analysis"
   ]
  },
  {
   "cell_type": "code",
   "execution_count": 58,
   "metadata": {},
   "outputs": [],
   "source": [
    "# Сохраним для дальнейшего анализа границы выбросов в отдельных переменных\n",
    "\n",
    "smart_3sigma = smart['total_income'].mean() + 3 * smart['total_income'].std()\n",
    "ultra_3sigma = ultra['total_income'].mean() + 3 * ultra['total_income'].std()"
   ]
  },
  {
   "cell_type": "markdown",
   "metadata": {},
   "source": [
    "Как видно из таблицы, в выборке более чем в 2 раза больше пользователей тарифа smart.\n",
    "\n",
    "Средняя выручка в месяц на тарифе smart составляет 1 290 руб., на тарифе ultra - 2 070 руб.\n",
    "\n",
    "Стандартное отклонение на тарифе smart равно 818, на тарифе ultra - 376.\n",
    "\n",
    "Дисперсия на тарифе smart равна 669 731, на тарифе ultra - 141 388.\n",
    "\n",
    "Согласно правилу 3х сигм, выручка более 3 745 руб. на тарифе smart уже является выбросом, а на тарифе ultra - более 3 199 руб.\n",
    "\n",
    "Для большей наглядности построим диаграммы и ящики с выбросами для обоих тарифов."
   ]
  },
  {
   "cell_type": "code",
   "execution_count": 59,
   "metadata": {},
   "outputs": [
    {
     "name": "stdout",
     "output_type": "stream",
     "text": [
      " \n",
      "--------СРАВНЕНИЕ ВЫРУЧКИ ПО ТАРИФАМ ULTRA И SMART--------\n"
     ]
    },
    {
     "data": {
      "text/plain": [
       "<Figure size 1440x432 with 0 Axes>"
      ]
     },
     "metadata": {},
     "output_type": "display_data"
    },
    {
     "data": {
      "image/png": "[encoded data removed]",
      "text/plain": [
       "<Figure size 1080x504 with 1 Axes>"
      ]
     },
     "metadata": {
      "needs_background": "light"
     },
     "output_type": "display_data"
    }
   ],
   "source": [
    "print(' ')\n",
    "print('--------СРАВНЕНИЕ ВЫРУЧКИ ПО ТАРИФАМ ULTRA И SMART--------')\n",
    "plt.figure(figsize=(20, 6))\n",
    "plt.figure(figsize=(15, 7))\n",
    "sns.boxplot(x='total_income', y='tariff', orient='h', \n",
    "            data=revenue, hue='tariff', palette='Set1', width=0.7, linewidth=1, dodge=False)\n",
    "plt.show()"
   ]
  },
  {
   "cell_type": "markdown",
   "metadata": {},
   "source": [
    "Диаграмма размаха подтверждает, что выручка более 3 745 руб. на тарифе smart уже является выбросом. На тарифе ultra основная часть значений сконцентрирована вокруг 1950 руб., поэтому диаграмма размаха неинформативна."
   ]
  },
  {
   "cell_type": "code",
   "execution_count": 60,
   "metadata": {},
   "outputs": [
    {
     "data": {
      "text/plain": [
       "Text(0.5, 1.0, 'Гистограмма выручки')"
      ]
     },
     "execution_count": 60,
     "metadata": {},
     "output_type": "execute_result"
    },
    {
     "data": {
      "image/png": "[encoded data removed]",
      "text/plain": [
       "<Figure size 1080x504 with 1 Axes>"
      ]
     },
     "metadata": {
      "needs_background": "light"
     },
     "output_type": "display_data"
    }
   ],
   "source": [
    "# Построим гистограммы выручки для тарифов\n",
    "\n",
    "plt.figure(figsize=(15, 7))\n",
    "plt.hist(smart['total_income'], bins=50, color='blue', \n",
    "               edgecolor='black', alpha=0.25, label='smart', density=False)\n",
    "plt.hist(ultra['total_income'], bins=50, color='red', \n",
    "               edgecolor='black', alpha=0.25, label='ultra', density=False)\n",
    "\n",
    "# Отобразим средние значения по тарифам\n",
    "\n",
    "plt.axvline(income_analysis['mean'][0], color='blue', linestyle='dashed', \n",
    "            linewidth=3, label='Mean smart: {:.2f}'.format(income_analysis['mean'][0]))\n",
    "plt.axvline(income_analysis['mean'][1], color='red', linestyle='dashed', \n",
    "            linewidth=3, label='Mean ultra: {:.2f}'.format(income_analysis['mean'][1]))\n",
    "\n",
    "# Отобразим стоимость абонентской платы: 550 руб. для тарифа smart и 1950 руб. для тарифа ultra\n",
    "\n",
    "plt.axvline(550, color='blue', linestyle='solid', linewidth=2, label='Included in tariff smart')\n",
    "plt.axvline(1950, color='red', linestyle='solid', linewidth=2, label='Included in tariff ultra')\n",
    "    \n",
    "plt.legend()\n",
    "plt.title('Гистограмма выручки')"
   ]
  },
  {
   "cell_type": "markdown",
   "metadata": {},
   "source": [
    "Из гистограммы видно, что пользователи обоих тарифов выходят за рамки включенных в тариф пакетов и,  соответственно, платят дополнительно сверх абоентской платы.\n",
    "\n",
    "Дисперсия и стандартное отклонение выше на тарифе smart, поскольку он предлагает более \"узкий\" пакет, который легко превысить, а плата сверх пакета стоит дороже, чем на тарифе ultra.\n",
    "\n",
    "Гистограммы для обоих тарифов скошены вправо, средние значения больше медианы. \n"
   ]
  },
  {
   "cell_type": "code",
   "execution_count": 61,
   "metadata": {},
   "outputs": [
    {
     "name": "stdout",
     "output_type": "stream",
     "text": [
      "Процент пользователей тарифа smart, превышающих пакет тарифа 74.53%\n",
      "Процент пользователей тарифа ultra, превышающих пакет тарифа 13.59%\n"
     ]
    }
   ],
   "source": [
    "# Оценим процент пользователей, оплачивающих сверх абонентской платы\n",
    "print(f\"Процент пользователей тарифа smart, превышающих пакет тарифа {(len(smart.query('total_income > 550')) / len(smart)):.2%}\")\n",
    "print(f\"Процент пользователей тарифа ultra, превышающих пакет тарифа {(len(ultra.query('total_income > 1950')) / len(ultra)):.2%}\")"
   ]
  },
  {
   "cell_type": "markdown",
   "metadata": {},
   "source": [
    "Посмотрим общую сумму выручки по каждому тарифу."
   ]
  },
  {
   "cell_type": "code",
   "execution_count": 62,
   "metadata": {},
   "outputs": [
    {
     "name": "stdout",
     "output_type": "stream",
     "text": [
      "Общая выручка по тарифу smart равна 2875901.0 руб.\n",
      "Общая выручка по тарифу ultra равна 2041050.0 руб.\n"
     ]
    }
   ],
   "source": [
    "print(f\"Общая выручка по тарифу smart равна {smart['total_income'].sum()} руб.\")\n",
    "print(f\"Общая выручка по тарифу ultra равна {ultra['total_income'].sum()} руб.\")      "
   ]
  },
  {
   "cell_type": "markdown",
   "metadata": {},
   "source": [
    "Таким образом, можно сделать следующие выводы:\n",
    "\n",
    "По пользователям тарифа Smart:\n",
    "\n",
    " * Около 34% пользователей превышают данный пакетом лимит в 500 минут.\n",
    " * Около 25% пользователям недостаточно 50 сообщений в месяц.\n",
    " * Около 59% пользователей использую больше 15 ГБ трафика интернета в месяц.\n",
    " * Результатом использования сверх пакета, предусмотренного тарифом, является ситуация с дополнительной оплатой за месяц. Рекордная сумма - 6 770 руб. 75% пользователей платят больше 550 рублей\n",
    "\n",
    "По пользователям тарифа Ultra:\n",
    "\n",
    " * Пользователи не превышают лимиты по количеству минут и смс в месяц.\n",
    " * Около 14% перерасходуют лимит по интернету и, соответственно, платят сверх абонентской платы, предусмотренной тарифом. Рекордная сумма - 4 800 руб.\n",
    " \n",
    " \n",
    " Поскольку 75% пользователей тарифа smart переплачивают сверх абонентской платы, компании - оператору сотовой связи \"Мегалайн\" - нужно подумать над созданием промежуточного тарифа, который бы включал в пакет средние значения между тарифом smart и ultra. Это было бы выгодно клиентам и увеличило бы среднюю выручку оператора.\n",
    "\n",
    "Номинально тариф Smart принес больше выручки компании Мегалайн за 2018 год - 2,9 млн.руб. против 2 млн.руб. от клиентов тарифа Ultra. Это связано с тем, что на тарифе Smart более чем в 2 раза больше клиентов - 351 пользователь против 149 на тарифе Ultra."
   ]
  },
  {
   "cell_type": "markdown",
   "metadata": {},
   "source": [
    "### Проверка гипотез"
   ]
  },
  {
   "cell_type": "markdown",
   "metadata": {},
   "source": [
    "#### Средняя выручка пользователей тарифов «Ультра» и «Смарт» различаются"
   ]
  },
  {
   "cell_type": "markdown",
   "metadata": {},
   "source": [
    "Сформулируем нулевую гипотезу и альтернативную гипотезы:\n",
    "\n",
    "H0: \"средняя выручка пользователей тарифов «Ультра» и «Смарт» равны\".\n",
    "\n",
    "Н1: \"средняя выручка пользователей тарифов «Ультра» и «Смарт» не равны\"."
   ]
  },
  {
   "cell_type": "markdown",
   "metadata": {},
   "source": [
    "Сначала очистим выборки от выбросов. Ранее были оценены границы с помощью метода 3х сигм. Оставим в выборках только те значения, которые входят  в эти границы."
   ]
  },
  {
   "cell_type": "code",
   "execution_count": 63,
   "metadata": {},
   "outputs": [
    {
     "data": {
      "text/html": [
       "<div>\n",
       "<style scoped>\n",
       "    .dataframe tbody tr th:only-of-type {\n",
       "        vertical-align: middle;\n",
       "    }\n",
       "\n",
       "    .dataframe tbody tr th {\n",
       "        vertical-align: top;\n",
       "    }\n",
       "\n",
       "    .dataframe thead th {\n",
       "        text-align: right;\n",
       "    }\n",
       "</style>\n",
       "<table border=\"1\" class=\"dataframe\">\n",
       "  <thead>\n",
       "    <tr style=\"text-align: right;\">\n",
       "      <th></th>\n",
       "      <th>index</th>\n",
       "      <th>user_id</th>\n",
       "      <th>month_num</th>\n",
       "      <th>calls_duration</th>\n",
       "      <th>calls_count</th>\n",
       "      <th>messages_count</th>\n",
       "      <th>mb_used</th>\n",
       "      <th>gb_used</th>\n",
       "      <th>tariff</th>\n",
       "      <th>messages_included</th>\n",
       "      <th>mb_per_month_included</th>\n",
       "      <th>minutes_included</th>\n",
       "      <th>rub_monthly_fee</th>\n",
       "      <th>rub_per_gb</th>\n",
       "      <th>rub_per_message</th>\n",
       "      <th>rub_per_minute</th>\n",
       "      <th>total_income</th>\n",
       "    </tr>\n",
       "  </thead>\n",
       "  <tbody>\n",
       "    <tr>\n",
       "      <th>1366</th>\n",
       "      <td>1872</td>\n",
       "      <td>1299</td>\n",
       "      <td>5.000</td>\n",
       "      <td>520.000</td>\n",
       "      <td>61.000</td>\n",
       "      <td>40.000</td>\n",
       "      <td>15516.530</td>\n",
       "      <td>16.000</td>\n",
       "      <td>smart</td>\n",
       "      <td>50</td>\n",
       "      <td>15360</td>\n",
       "      <td>500</td>\n",
       "      <td>550</td>\n",
       "      <td>200</td>\n",
       "      <td>3</td>\n",
       "      <td>3</td>\n",
       "      <td>810.000</td>\n",
       "    </tr>\n",
       "    <tr>\n",
       "      <th>1743</th>\n",
       "      <td>2502</td>\n",
       "      <td>1394</td>\n",
       "      <td>12.000</td>\n",
       "      <td>480.000</td>\n",
       "      <td>68.000</td>\n",
       "      <td>6.000</td>\n",
       "      <td>5810.780</td>\n",
       "      <td>6.000</td>\n",
       "      <td>smart</td>\n",
       "      <td>50</td>\n",
       "      <td>15360</td>\n",
       "      <td>500</td>\n",
       "      <td>550</td>\n",
       "      <td>200</td>\n",
       "      <td>3</td>\n",
       "      <td>3</td>\n",
       "      <td>550.000</td>\n",
       "    </tr>\n",
       "    <tr>\n",
       "      <th>738</th>\n",
       "      <td>1004</td>\n",
       "      <td>1160</td>\n",
       "      <td>10.000</td>\n",
       "      <td>336.000</td>\n",
       "      <td>47.000</td>\n",
       "      <td>41.000</td>\n",
       "      <td>17282.980</td>\n",
       "      <td>17.000</td>\n",
       "      <td>smart</td>\n",
       "      <td>50</td>\n",
       "      <td>15360</td>\n",
       "      <td>500</td>\n",
       "      <td>550</td>\n",
       "      <td>200</td>\n",
       "      <td>3</td>\n",
       "      <td>3</td>\n",
       "      <td>950.000</td>\n",
       "    </tr>\n",
       "    <tr>\n",
       "      <th>81</th>\n",
       "      <td>104</td>\n",
       "      <td>1014</td>\n",
       "      <td>9.000</td>\n",
       "      <td>250.000</td>\n",
       "      <td>33.000</td>\n",
       "      <td>48.000</td>\n",
       "      <td>25740.520</td>\n",
       "      <td>26.000</td>\n",
       "      <td>smart</td>\n",
       "      <td>50</td>\n",
       "      <td>15360</td>\n",
       "      <td>500</td>\n",
       "      <td>550</td>\n",
       "      <td>200</td>\n",
       "      <td>3</td>\n",
       "      <td>3</td>\n",
       "      <td>2750.000</td>\n",
       "    </tr>\n",
       "    <tr>\n",
       "      <th>1104</th>\n",
       "      <td>1482</td>\n",
       "      <td>1238</td>\n",
       "      <td>9.000</td>\n",
       "      <td>73.000</td>\n",
       "      <td>11.000</td>\n",
       "      <td>30.000</td>\n",
       "      <td>16722.220</td>\n",
       "      <td>17.000</td>\n",
       "      <td>smart</td>\n",
       "      <td>50</td>\n",
       "      <td>15360</td>\n",
       "      <td>500</td>\n",
       "      <td>550</td>\n",
       "      <td>200</td>\n",
       "      <td>3</td>\n",
       "      <td>3</td>\n",
       "      <td>950.000</td>\n",
       "    </tr>\n",
       "  </tbody>\n",
       "</table>\n",
       "</div>"
      ],
      "text/plain": [
       "      index  user_id  month_num  calls_duration  calls_count  messages_count  \\\n",
       "1366   1872     1299      5.000         520.000       61.000          40.000   \n",
       "1743   2502     1394     12.000         480.000       68.000           6.000   \n",
       "738    1004     1160     10.000         336.000       47.000          41.000   \n",
       "81      104     1014      9.000         250.000       33.000          48.000   \n",
       "1104   1482     1238      9.000          73.000       11.000          30.000   \n",
       "\n",
       "       mb_used  gb_used tariff  messages_included  mb_per_month_included  \\\n",
       "1366 15516.530   16.000  smart                 50                  15360   \n",
       "1743  5810.780    6.000  smart                 50                  15360   \n",
       "738  17282.980   17.000  smart                 50                  15360   \n",
       "81   25740.520   26.000  smart                 50                  15360   \n",
       "1104 16722.220   17.000  smart                 50                  15360   \n",
       "\n",
       "      minutes_included  rub_monthly_fee  rub_per_gb  rub_per_message  \\\n",
       "1366               500              550         200                3   \n",
       "1743               500              550         200                3   \n",
       "738                500              550         200                3   \n",
       "81                 500              550         200                3   \n",
       "1104               500              550         200                3   \n",
       "\n",
       "      rub_per_minute  total_income  \n",
       "1366               3       810.000  \n",
       "1743               3       550.000  \n",
       "738                3       950.000  \n",
       "81                 3      2750.000  \n",
       "1104               3       950.000  "
      ]
     },
     "execution_count": 63,
     "metadata": {},
     "output_type": "execute_result"
    }
   ],
   "source": [
    "smart_clean = smart.query('total_income < @smart_3sigma')\n",
    "smart_clean.sample(5)"
   ]
  },
  {
   "cell_type": "code",
   "execution_count": 64,
   "metadata": {},
   "outputs": [
    {
     "data": {
      "text/html": [
       "<div>\n",
       "<style scoped>\n",
       "    .dataframe tbody tr th:only-of-type {\n",
       "        vertical-align: middle;\n",
       "    }\n",
       "\n",
       "    .dataframe tbody tr th {\n",
       "        vertical-align: top;\n",
       "    }\n",
       "\n",
       "    .dataframe thead th {\n",
       "        text-align: right;\n",
       "    }\n",
       "</style>\n",
       "<table border=\"1\" class=\"dataframe\">\n",
       "  <thead>\n",
       "    <tr style=\"text-align: right;\">\n",
       "      <th></th>\n",
       "      <th>level_0</th>\n",
       "      <th>index</th>\n",
       "      <th>user_id</th>\n",
       "      <th>month_num</th>\n",
       "      <th>calls_duration</th>\n",
       "      <th>calls_count</th>\n",
       "      <th>messages_count</th>\n",
       "      <th>mb_used</th>\n",
       "      <th>gb_used</th>\n",
       "      <th>tariff</th>\n",
       "      <th>messages_included</th>\n",
       "      <th>mb_per_month_included</th>\n",
       "      <th>minutes_included</th>\n",
       "      <th>rub_monthly_fee</th>\n",
       "      <th>rub_per_gb</th>\n",
       "      <th>rub_per_message</th>\n",
       "      <th>rub_per_minute</th>\n",
       "      <th>total_income</th>\n",
       "    </tr>\n",
       "  </thead>\n",
       "  <tbody>\n",
       "    <tr>\n",
       "      <th>839</th>\n",
       "      <td>869</td>\n",
       "      <td>2886</td>\n",
       "      <td>1455</td>\n",
       "      <td>3.000</td>\n",
       "      <td>134.000</td>\n",
       "      <td>15.000</td>\n",
       "      <td>0.000</td>\n",
       "      <td>5208.120</td>\n",
       "      <td>6.000</td>\n",
       "      <td>ultra</td>\n",
       "      <td>1000</td>\n",
       "      <td>30720</td>\n",
       "      <td>3000</td>\n",
       "      <td>1950</td>\n",
       "      <td>150</td>\n",
       "      <td>1</td>\n",
       "      <td>1</td>\n",
       "      <td>1950.000</td>\n",
       "    </tr>\n",
       "    <tr>\n",
       "      <th>588</th>\n",
       "      <td>609</td>\n",
       "      <td>2176</td>\n",
       "      <td>1348</td>\n",
       "      <td>10.000</td>\n",
       "      <td>526.000</td>\n",
       "      <td>63.000</td>\n",
       "      <td>21.000</td>\n",
       "      <td>19254.660</td>\n",
       "      <td>19.000</td>\n",
       "      <td>ultra</td>\n",
       "      <td>1000</td>\n",
       "      <td>30720</td>\n",
       "      <td>3000</td>\n",
       "      <td>1950</td>\n",
       "      <td>150</td>\n",
       "      <td>1</td>\n",
       "      <td>1</td>\n",
       "      <td>1950.000</td>\n",
       "    </tr>\n",
       "    <tr>\n",
       "      <th>692</th>\n",
       "      <td>719</td>\n",
       "      <td>2405</td>\n",
       "      <td>1381</td>\n",
       "      <td>11.000</td>\n",
       "      <td>567.000</td>\n",
       "      <td>91.000</td>\n",
       "      <td>41.000</td>\n",
       "      <td>26788.150</td>\n",
       "      <td>27.000</td>\n",
       "      <td>ultra</td>\n",
       "      <td>1000</td>\n",
       "      <td>30720</td>\n",
       "      <td>3000</td>\n",
       "      <td>1950</td>\n",
       "      <td>150</td>\n",
       "      <td>1</td>\n",
       "      <td>1</td>\n",
       "      <td>1950.000</td>\n",
       "    </tr>\n",
       "    <tr>\n",
       "      <th>678</th>\n",
       "      <td>704</td>\n",
       "      <td>2390</td>\n",
       "      <td>1380</td>\n",
       "      <td>8.000</td>\n",
       "      <td>629.000</td>\n",
       "      <td>91.000</td>\n",
       "      <td>26.000</td>\n",
       "      <td>33044.800</td>\n",
       "      <td>33.000</td>\n",
       "      <td>ultra</td>\n",
       "      <td>1000</td>\n",
       "      <td>30720</td>\n",
       "      <td>3000</td>\n",
       "      <td>1950</td>\n",
       "      <td>150</td>\n",
       "      <td>1</td>\n",
       "      <td>1</td>\n",
       "      <td>2400.000</td>\n",
       "    </tr>\n",
       "    <tr>\n",
       "      <th>900</th>\n",
       "      <td>931</td>\n",
       "      <td>3036</td>\n",
       "      <td>1476</td>\n",
       "      <td>10.000</td>\n",
       "      <td>540.000</td>\n",
       "      <td>68.000</td>\n",
       "      <td>4.000</td>\n",
       "      <td>25125.690</td>\n",
       "      <td>25.000</td>\n",
       "      <td>ultra</td>\n",
       "      <td>1000</td>\n",
       "      <td>30720</td>\n",
       "      <td>3000</td>\n",
       "      <td>1950</td>\n",
       "      <td>150</td>\n",
       "      <td>1</td>\n",
       "      <td>1</td>\n",
       "      <td>1950.000</td>\n",
       "    </tr>\n",
       "  </tbody>\n",
       "</table>\n",
       "</div>"
      ],
      "text/plain": [
       "     level_0  index  user_id  month_num  calls_duration  calls_count  \\\n",
       "839      869   2886     1455      3.000         134.000       15.000   \n",
       "588      609   2176     1348     10.000         526.000       63.000   \n",
       "692      719   2405     1381     11.000         567.000       91.000   \n",
       "678      704   2390     1380      8.000         629.000       91.000   \n",
       "900      931   3036     1476     10.000         540.000       68.000   \n",
       "\n",
       "     messages_count   mb_used  gb_used tariff  messages_included  \\\n",
       "839           0.000  5208.120    6.000  ultra               1000   \n",
       "588          21.000 19254.660   19.000  ultra               1000   \n",
       "692          41.000 26788.150   27.000  ultra               1000   \n",
       "678          26.000 33044.800   33.000  ultra               1000   \n",
       "900           4.000 25125.690   25.000  ultra               1000   \n",
       "\n",
       "     mb_per_month_included  minutes_included  rub_monthly_fee  rub_per_gb  \\\n",
       "839                  30720              3000             1950         150   \n",
       "588                  30720              3000             1950         150   \n",
       "692                  30720              3000             1950         150   \n",
       "678                  30720              3000             1950         150   \n",
       "900                  30720              3000             1950         150   \n",
       "\n",
       "     rub_per_message  rub_per_minute  total_income  \n",
       "839                1               1      1950.000  \n",
       "588                1               1      1950.000  \n",
       "692                1               1      1950.000  \n",
       "678                1               1      2400.000  \n",
       "900                1               1      1950.000  "
      ]
     },
     "execution_count": 64,
     "metadata": {},
     "output_type": "execute_result"
    }
   ],
   "source": [
    "ultra_clean = ultra.query('total_income < @ultra_3sigma').reset_index()\n",
    "ultra_clean.sample(5)"
   ]
  },
  {
   "cell_type": "code",
   "execution_count": 65,
   "metadata": {},
   "outputs": [
    {
     "name": "stdout",
     "output_type": "stream",
     "text": [
      "Среднее значение выручки для тарифа smart равно 1250.1747616886064\n",
      "Среднее значение выручки для тарифа ultra равно 2012.079831932773\n"
     ]
    }
   ],
   "source": [
    "# Найдем средние значения выборок\n",
    "\n",
    "print(f\"Среднее значение выручки для тарифа smart равно {smart_clean['total_income'].mean()}\")\n",
    "print(f\"Среднее значение выручки для тарифа ultra равно {ultra_clean['total_income'].mean()}\")"
   ]
  },
  {
   "cell_type": "markdown",
   "metadata": {},
   "source": [
    "Сверим дисперсии очищенных выборок"
   ]
  },
  {
   "cell_type": "code",
   "execution_count": 66,
   "metadata": {},
   "outputs": [
    {
     "name": "stdout",
     "output_type": "stream",
     "text": [
      "Дисперсия средней выручки для тарифа smart равна 542179.8018695504\n",
      "Дисперсия средней выручки для тарифа ultra равна 44265.070381464895\n"
     ]
    }
   ],
   "source": [
    "print(f\"Дисперсия средней выручки для тарифа smart равна {np.var(smart_clean['total_income'], ddof=1)}\")\n",
    "print(f\"Дисперсия средней выручки для тарифа ultra равна {np.var(ultra_clean['total_income'], ddof=1)}\")"
   ]
  },
  {
   "cell_type": "code",
   "execution_count": 67,
   "metadata": {},
   "outputs": [
    {
     "name": "stdout",
     "output_type": "stream",
     "text": [
      "Отношение дисперсий составляет 1225%\n"
     ]
    }
   ],
   "source": [
    "print(f\"Отношение дисперсий составляет {(np.var(smart_clean['total_income'], ddof=1)) / (np.var(ultra_clean['total_income'], ddof=1)):.0%}\")"
   ]
  },
  {
   "cell_type": "markdown",
   "metadata": {},
   "source": [
    "Дисперсии выборок сильно различаются, значит будем использовать параметр equal_var = False"
   ]
  },
  {
   "cell_type": "code",
   "execution_count": 68,
   "metadata": {},
   "outputs": [
    {
     "name": "stdout",
     "output_type": "stream",
     "text": [
      "p-значение: 0.0\n",
      "Отвергаем нулевую гипотезу\n"
     ]
    }
   ],
   "source": [
    "sample_1 = smart_clean['total_income']\n",
    "sample_2 = ultra_clean['total_income']\n",
    "\n",
    "# критический уровень статистической значимости\n",
    "# если p-value окажется меньше него - отвегнем гипотезу\n",
    "alpha = .05\n",
    "\n",
    "results = st.ttest_ind(sample_1, sample_2, equal_var = False)\n",
    "\n",
    "print('p-значение:', results.pvalue)\n",
    "\n",
    "if results.pvalue < alpha:\n",
    "    print(\"Отвергаем нулевую гипотезу\")\n",
    "else:\n",
    "    print(\"Не получилось отвергнуть нулевую гипотезу\")"
   ]
  },
  {
   "cell_type": "markdown",
   "metadata": {},
   "source": [
    "p-значение равно 0, что дает основание отвергнуть предположение об отсутствии различий между выручками у разных тарифных планов, т.е. маловероятна случайность результатов теста гипотезы."
   ]
  },
  {
   "cell_type": "markdown",
   "metadata": {},
   "source": [
    "#### Cредняя выручка пользователей из Москвы отличается от выручки пользователей из других регионов"
   ]
  },
  {
   "cell_type": "markdown",
   "metadata": {},
   "source": [
    "Сформулируем нулевую гипотезу  и альтернативную гипотезы:\n",
    "\n",
    "H0: \"средняя выручка пользователей из Москвы и из регионов равны\". \n",
    "\n",
    "Н1: \"средняя выручка пользователей из Москвы и из регионов не равны\"."
   ]
  },
  {
   "cell_type": "markdown",
   "metadata": {},
   "source": [
    "Объединив датафреймы с очищенными от выбросов данными, необходимо добавить туда информацию о городе проживания пользователя"
   ]
  },
  {
   "cell_type": "code",
   "execution_count": 69,
   "metadata": {
    "scrolled": true
   },
   "outputs": [
    {
     "data": {
      "text/html": [
       "<div>\n",
       "<style scoped>\n",
       "    .dataframe tbody tr th:only-of-type {\n",
       "        vertical-align: middle;\n",
       "    }\n",
       "\n",
       "    .dataframe tbody tr th {\n",
       "        vertical-align: top;\n",
       "    }\n",
       "\n",
       "    .dataframe thead th {\n",
       "        text-align: right;\n",
       "    }\n",
       "</style>\n",
       "<table border=\"1\" class=\"dataframe\">\n",
       "  <thead>\n",
       "    <tr style=\"text-align: right;\">\n",
       "      <th></th>\n",
       "      <th>index</th>\n",
       "      <th>user_id</th>\n",
       "      <th>month_num</th>\n",
       "      <th>calls_duration</th>\n",
       "      <th>calls_count</th>\n",
       "      <th>messages_count</th>\n",
       "      <th>mb_used</th>\n",
       "      <th>gb_used</th>\n",
       "      <th>tariff_x</th>\n",
       "      <th>messages_included</th>\n",
       "      <th>mb_per_month_included</th>\n",
       "      <th>minutes_included</th>\n",
       "      <th>rub_monthly_fee</th>\n",
       "      <th>rub_per_gb</th>\n",
       "      <th>rub_per_message</th>\n",
       "      <th>rub_per_minute</th>\n",
       "      <th>total_income</th>\n",
       "      <th>level_0</th>\n",
       "      <th>age</th>\n",
       "      <th>churn_date</th>\n",
       "      <th>city</th>\n",
       "      <th>first_name</th>\n",
       "      <th>last_name</th>\n",
       "      <th>reg_date</th>\n",
       "      <th>tariff_y</th>\n",
       "    </tr>\n",
       "  </thead>\n",
       "  <tbody>\n",
       "    <tr>\n",
       "      <th>1123</th>\n",
       "      <td>1536</td>\n",
       "      <td>1246</td>\n",
       "      <td>12.000</td>\n",
       "      <td>350.000</td>\n",
       "      <td>57.000</td>\n",
       "      <td>16.000</td>\n",
       "      <td>22003.660</td>\n",
       "      <td>22.000</td>\n",
       "      <td>smart</td>\n",
       "      <td>50</td>\n",
       "      <td>15360</td>\n",
       "      <td>500</td>\n",
       "      <td>550</td>\n",
       "      <td>200</td>\n",
       "      <td>3</td>\n",
       "      <td>3</td>\n",
       "      <td>1950.000</td>\n",
       "      <td>NaN</td>\n",
       "      <td>27</td>\n",
       "      <td>NaT</td>\n",
       "      <td>Санкт-Петербург</td>\n",
       "      <td>Марта</td>\n",
       "      <td>Ситникова</td>\n",
       "      <td>2018-09-26</td>\n",
       "      <td>smart</td>\n",
       "    </tr>\n",
       "    <tr>\n",
       "      <th>1642</th>\n",
       "      <td>2336</td>\n",
       "      <td>1374</td>\n",
       "      <td>10.000</td>\n",
       "      <td>617.000</td>\n",
       "      <td>72.000</td>\n",
       "      <td>80.000</td>\n",
       "      <td>21315.620</td>\n",
       "      <td>21.000</td>\n",
       "      <td>smart</td>\n",
       "      <td>50</td>\n",
       "      <td>15360</td>\n",
       "      <td>500</td>\n",
       "      <td>550</td>\n",
       "      <td>200</td>\n",
       "      <td>3</td>\n",
       "      <td>3</td>\n",
       "      <td>2191.000</td>\n",
       "      <td>NaN</td>\n",
       "      <td>67</td>\n",
       "      <td>NaT</td>\n",
       "      <td>Махачкала</td>\n",
       "      <td>Леонид</td>\n",
       "      <td>Аркадьев</td>\n",
       "      <td>2018-04-01</td>\n",
       "      <td>smart</td>\n",
       "    </tr>\n",
       "    <tr>\n",
       "      <th>1753</th>\n",
       "      <td>2567</td>\n",
       "      <td>1404</td>\n",
       "      <td>5.000</td>\n",
       "      <td>209.000</td>\n",
       "      <td>25.000</td>\n",
       "      <td>37.000</td>\n",
       "      <td>17330.010</td>\n",
       "      <td>17.000</td>\n",
       "      <td>smart</td>\n",
       "      <td>50</td>\n",
       "      <td>15360</td>\n",
       "      <td>500</td>\n",
       "      <td>550</td>\n",
       "      <td>200</td>\n",
       "      <td>3</td>\n",
       "      <td>3</td>\n",
       "      <td>950.000</td>\n",
       "      <td>NaN</td>\n",
       "      <td>61</td>\n",
       "      <td>NaT</td>\n",
       "      <td>Иркутск</td>\n",
       "      <td>Роберт</td>\n",
       "      <td>Уваров</td>\n",
       "      <td>2018-04-18</td>\n",
       "      <td>smart</td>\n",
       "    </tr>\n",
       "    <tr>\n",
       "      <th>2596</th>\n",
       "      <td>1587</td>\n",
       "      <td>1254</td>\n",
       "      <td>4.000</td>\n",
       "      <td>497.000</td>\n",
       "      <td>78.000</td>\n",
       "      <td>0.000</td>\n",
       "      <td>17862.280</td>\n",
       "      <td>18.000</td>\n",
       "      <td>ultra</td>\n",
       "      <td>1000</td>\n",
       "      <td>30720</td>\n",
       "      <td>3000</td>\n",
       "      <td>1950</td>\n",
       "      <td>150</td>\n",
       "      <td>1</td>\n",
       "      <td>1</td>\n",
       "      <td>1950.000</td>\n",
       "      <td>408.000</td>\n",
       "      <td>75</td>\n",
       "      <td>2018-08-17</td>\n",
       "      <td>Москва</td>\n",
       "      <td>Александра</td>\n",
       "      <td>Сухарева</td>\n",
       "      <td>2018-01-04</td>\n",
       "      <td>ultra</td>\n",
       "    </tr>\n",
       "    <tr>\n",
       "      <th>2344</th>\n",
       "      <td>562</td>\n",
       "      <td>1089</td>\n",
       "      <td>8.000</td>\n",
       "      <td>466.000</td>\n",
       "      <td>64.000</td>\n",
       "      <td>126.000</td>\n",
       "      <td>17103.590</td>\n",
       "      <td>17.000</td>\n",
       "      <td>ultra</td>\n",
       "      <td>1000</td>\n",
       "      <td>30720</td>\n",
       "      <td>3000</td>\n",
       "      <td>1950</td>\n",
       "      <td>150</td>\n",
       "      <td>1</td>\n",
       "      <td>1</td>\n",
       "      <td>1950.000</td>\n",
       "      <td>143.000</td>\n",
       "      <td>19</td>\n",
       "      <td>NaT</td>\n",
       "      <td>Иркутск</td>\n",
       "      <td>Ксения</td>\n",
       "      <td>Нечаева</td>\n",
       "      <td>2018-02-24</td>\n",
       "      <td>ultra</td>\n",
       "    </tr>\n",
       "  </tbody>\n",
       "</table>\n",
       "</div>"
      ],
      "text/plain": [
       "      index  user_id  month_num  calls_duration  calls_count  messages_count  \\\n",
       "1123   1536     1246     12.000         350.000       57.000          16.000   \n",
       "1642   2336     1374     10.000         617.000       72.000          80.000   \n",
       "1753   2567     1404      5.000         209.000       25.000          37.000   \n",
       "2596   1587     1254      4.000         497.000       78.000           0.000   \n",
       "2344    562     1089      8.000         466.000       64.000         126.000   \n",
       "\n",
       "       mb_used  gb_used tariff_x  messages_included  mb_per_month_included  \\\n",
       "1123 22003.660   22.000    smart                 50                  15360   \n",
       "1642 21315.620   21.000    smart                 50                  15360   \n",
       "1753 17330.010   17.000    smart                 50                  15360   \n",
       "2596 17862.280   18.000    ultra               1000                  30720   \n",
       "2344 17103.590   17.000    ultra               1000                  30720   \n",
       "\n",
       "      minutes_included  rub_monthly_fee  rub_per_gb  rub_per_message  \\\n",
       "1123               500              550         200                3   \n",
       "1642               500              550         200                3   \n",
       "1753               500              550         200                3   \n",
       "2596              3000             1950         150                1   \n",
       "2344              3000             1950         150                1   \n",
       "\n",
       "      rub_per_minute  total_income  level_0  age churn_date             city  \\\n",
       "1123               3      1950.000      NaN   27        NaT  Санкт-Петербург   \n",
       "1642               3      2191.000      NaN   67        NaT        Махачкала   \n",
       "1753               3       950.000      NaN   61        NaT          Иркутск   \n",
       "2596               1      1950.000  408.000   75 2018-08-17           Москва   \n",
       "2344               1      1950.000  143.000   19        NaT          Иркутск   \n",
       "\n",
       "      first_name  last_name   reg_date tariff_y  \n",
       "1123       Марта  Ситникова 2018-09-26    smart  \n",
       "1642      Леонид   Аркадьев 2018-04-01    smart  \n",
       "1753      Роберт     Уваров 2018-04-18    smart  \n",
       "2596  Александра   Сухарева 2018-01-04    ultra  \n",
       "2344      Ксения    Нечаева 2018-02-24    ultra  "
      ]
     },
     "execution_count": 69,
     "metadata": {},
     "output_type": "execute_result"
    }
   ],
   "source": [
    "clean_city = smart_clean.append(ultra_clean, ignore_index=True)\n",
    "clean_city = clean_city.merge(df_users, on='user_id', how='left')\n",
    "clean_city.sample(5)"
   ]
  },
  {
   "cell_type": "code",
   "execution_count": 70,
   "metadata": {},
   "outputs": [],
   "source": [
    "# Сформируем срезы по городу проживания\n",
    "\n",
    "moscow = clean_city.query('city == \"Москва\"').copy()\n",
    "regions = clean_city.query('city != \"Москва\"').copy()"
   ]
  },
  {
   "cell_type": "code",
   "execution_count": 71,
   "metadata": {},
   "outputs": [
    {
     "name": "stdout",
     "output_type": "stream",
     "text": [
      "Среднее значение выручки для пользователей из Москвы 1515.514096185738\n",
      "Среднее значение выручки для пользователей из регионов 1471.7006269592478\n"
     ]
    }
   ],
   "source": [
    "# Найдем средние значения выборок\n",
    "\n",
    "print(f\"Среднее значение выручки для пользователей из Москвы {moscow['total_income'].mean()}\")\n",
    "print(f\"Среднее значение выручки для пользователей из регионов {regions['total_income'].mean()}\")"
   ]
  },
  {
   "cell_type": "markdown",
   "metadata": {},
   "source": [
    "Сверим дисперсии очищенных выборок"
   ]
  },
  {
   "cell_type": "code",
   "execution_count": 72,
   "metadata": {},
   "outputs": [
    {
     "name": "stdout",
     "output_type": "stream",
     "text": [
      "Дисперсия средней выручки для тарифа smart равна 493646.86483419\n",
      "Дисперсия средней выручки для тарифа ultra равна 518912.45130497724\n"
     ]
    }
   ],
   "source": [
    "print(f\"Дисперсия средней выручки для тарифа smart равна {np.var(moscow['total_income'], ddof=1)}\")\n",
    "print(f\"Дисперсия средней выручки для тарифа ultra равна {np.var(regions['total_income'], ddof=1)}\")"
   ]
  },
  {
   "cell_type": "code",
   "execution_count": 73,
   "metadata": {},
   "outputs": [
    {
     "name": "stdout",
     "output_type": "stream",
     "text": [
      "Отношение дисперсий составляет 95%\n"
     ]
    }
   ],
   "source": [
    "print(f\"Отношение дисперсий составляет {(np.var(moscow['total_income'], ddof=1)) / (np.var(regions['total_income'], ddof=1)):.0%}\")"
   ]
  },
  {
   "cell_type": "markdown",
   "metadata": {},
   "source": [
    "Дисперсии отличаются на 5%, значит будем использовать параметр equal_var = True"
   ]
  },
  {
   "cell_type": "code",
   "execution_count": 74,
   "metadata": {},
   "outputs": [
    {
     "name": "stdout",
     "output_type": "stream",
     "text": [
      "p-значение: 0.17725823377199865\n",
      "Не получилось отвергнуть нулевую гипотезу\n"
     ]
    }
   ],
   "source": [
    "sample_1 = moscow['total_income']\n",
    "sample_2 = regions['total_income']\n",
    "\n",
    "# критический уровень статистической значимости\n",
    "# если p-value окажется меньше него - отвегнем гипотезу\n",
    "alpha = .05\n",
    "\n",
    "results = st.ttest_ind(sample_1, sample_2)\n",
    "\n",
    "print('p-значение:', results.pvalue)\n",
    "\n",
    "if results.pvalue < alpha:\n",
    "    print(\"Отвергаем нулевую гипотезу\")\n",
    "else:\n",
    "    print(\"Не получилось отвергнуть нулевую гипотезу\")"
   ]
  },
  {
   "cell_type": "markdown",
   "metadata": {},
   "source": [
    "p-значение равно 0.18, что не дает основания отвергнуть предположение об отсутствии различий между выручками клиентов из Москвы и регионов, т.е. маловероятна случайность результатов теста гипотезы."
   ]
  },
  {
   "cell_type": "markdown",
   "metadata": {},
   "source": [
    "Таким образом, по результатам статистического анализа доходы от тарифа «Ультра» больше, чем от тарифа «Смарт»: в среднем «Мегалайн» от одного пользователя в месяц получает 2 012 рублей и 1 250 рублей соответственно  (p−значение=0 ,  α=5%) .\n",
    "\n",
    "Cредняя выручка пользователей из Москвы не отличается от выручки пользователей из других регионов: разница статистически не значима (p-значение: 0,18) и составляет 44 руб.: 1 516 руб. в Москве против 1 472 руб в других регионах."
   ]
  },
  {
   "cell_type": "markdown",
   "metadata": {},
   "source": [
    "### Общий вывод"
   ]
  },
  {
   "cell_type": "markdown",
   "metadata": {},
   "source": [
    " Проанализированы данные о пользователях телекомуникационной компании «Мегалайн» за 2018 год. Вся необходима информация была сохранена в 5 датасетах, содержащих общую информацию о клиентах, информацию о датах и продолжительности звонков, отправленных сообщениях, интернет сессиях и использованном трафике, а так же общую информацию о тарифах компании.\n",
    "\n",
    "Во время изучения общей информации нам удалось выяснить, что в представленной выборке клиентов содержится 500 пользователей, причем 149 из них используют тариф Ultra, остальные - тариф Smart.\n",
    " \n",
    "Хотя пользователи тарифа Smart принесли за 2018 год больше выручки - 2.9 млн. руб. против 2 млн.руб. от клиентов тарифа Ultra, средняя выручка в месяц на тарифе Smart гораздо меньше средней выручки на тарифе Ultra - 1 290 руб. против 2 070 руб.\n",
    "\n",
    "Пользователи тарифа Smart чаще пользователей тарифа Ultra перерасходуют лимиты. Сравнение процента пользователей, которые не переходят за порог - 25% для Smart и 86% для Ultra - говорит о том, что первый тариф не соответвует большинству пользователей практически по всем пунктам (более половины случаев переплат только за интернет). Второму тарифу слишком много лимита по минутам и смс, а перерасход может быть только по интернету (14% пользователей). В связи с этим компании - оператору сотовой связи \"Мегалайн\" - нужно подумать над созданием промежуточного тарифа, который бы включал в пакет средние значения между тарифом smart и ultra. Это было бы выгодно клиентам и увеличило бы среднюю выручку оператора.\n",
    "\n",
    "По результатам статистического анализа доходы от тарифа «Ультра» больше, чем от тарифа «Смарт»: в среднем «Мегалайн» от одного пользователя в месяц получает 2 012 рублей и 1 250 рублей соответственно.\n",
    "\n",
    "Особенности использования тарифов заключаются в следующем:\n",
    "\n",
    " * Пользователям тарифа «Смарт» не хватает услуг в рамках тарифного пакета: кроме абонентской платы пользователи в среднем доплачивают еще 700 рублей ежемесячно (+127%).\n",
    " * Пользователи тарифа «Ультра», напротив, редко пользуются услугами сверх пакета в рамках тарифного плана. В среднем они доплачивают 62 руб. (+3%).\n",
    "\n",
    "Cредняя выручка пользователей из Москвы не отличается от выручки пользователей из других регионов: разница статистически не значима и составляет 44 руб.: 1 516 руб. в Москве против 1 472 руб в других регионах.\n",
    "\n",
    "Более перспективным для компании является тариф Ultra, именно на него следует сделать упор при формировании рекламного бюджета. Хоть этот тариф и имеет намного меньше пользователей, однако, средняя выручка, которую приносит тариф компании - больше. Среди пользователей тарифа Smart заметна тенденция к увеличению потребления услуг компании, что в конечном итоге может привести их к переходу на более дорогой тариф Ultra. Увеличение количества пользователей этого тарифа смогло бы значительно увеличить и выручку компании. \n",
    "\n",
    "Тариф Smart, напротив, прекрасно показывает себя при текущих параметрах. Ему удалось привлечь значительное количество пользователей, которые вынуждены доплачивать за дополнительные услуги по более высоким тарифам, чем пользователи Ultra, и тем самым приносить значительный доход."
   ]
  }
 ],
 "metadata": {
  "ExecuteTimeLog": [
   {
    "duration": 1450,
    "start_time": "2022-03-30T18:26:25.403Z"
   },
   {
    "duration": 5,
    "start_time": "2022-03-30T18:27:03.874Z"
   },
   {
    "duration": 850,
    "start_time": "2022-03-30T18:31:51.368Z"
   },
   {
    "duration": 3,
    "start_time": "2022-03-30T18:32:14.105Z"
   },
   {
    "duration": 5,
    "start_time": "2022-03-30T18:32:52.276Z"
   },
   {
    "duration": 47,
    "start_time": "2022-03-30T18:39:36.361Z"
   },
   {
    "duration": 1318,
    "start_time": "2022-03-30T18:39:51.913Z"
   },
   {
    "duration": 776,
    "start_time": "2022-03-30T18:39:53.233Z"
   },
   {
    "duration": 3,
    "start_time": "2022-03-30T18:39:54.010Z"
   },
   {
    "duration": 8,
    "start_time": "2022-03-30T18:39:54.015Z"
   },
   {
    "duration": 160,
    "start_time": "2022-03-30T18:39:54.025Z"
   },
   {
    "duration": 101,
    "start_time": "2022-03-30T18:41:00.248Z"
   },
   {
    "duration": 72,
    "start_time": "2022-03-30T18:41:59.414Z"
   },
   {
    "duration": 20,
    "start_time": "2022-03-30T18:42:54.939Z"
   },
   {
    "duration": 20,
    "start_time": "2022-03-30T18:43:28.545Z"
   },
   {
    "duration": 61,
    "start_time": "2022-03-30T18:43:52.258Z"
   },
   {
    "duration": 72,
    "start_time": "2022-03-30T18:45:06.043Z"
   },
   {
    "duration": 9,
    "start_time": "2022-03-30T18:45:16.631Z"
   },
   {
    "duration": 5,
    "start_time": "2022-03-30T18:45:39.881Z"
   },
   {
    "duration": 416,
    "start_time": "2022-03-30T18:46:05.973Z"
   },
   {
    "duration": 51,
    "start_time": "2022-03-30T18:47:34.682Z"
   },
   {
    "duration": 9,
    "start_time": "2022-03-30T18:47:44.240Z"
   },
   {
    "duration": 358,
    "start_time": "2022-03-30T18:47:55.659Z"
   },
   {
    "duration": 45,
    "start_time": "2022-03-30T18:48:43.889Z"
   },
   {
    "duration": 39,
    "start_time": "2022-03-30T18:51:23.742Z"
   },
   {
    "duration": 10,
    "start_time": "2022-03-30T18:51:24.661Z"
   },
   {
    "duration": 4,
    "start_time": "2022-03-30T18:51:27.256Z"
   },
   {
    "duration": 328,
    "start_time": "2022-03-30T18:51:28.120Z"
   },
   {
    "duration": 1244,
    "start_time": "2022-03-30T18:51:41.560Z"
   },
   {
    "duration": 0,
    "start_time": "2022-03-30T18:51:42.806Z"
   },
   {
    "duration": 346,
    "start_time": "2022-03-30T18:51:43.283Z"
   },
   {
    "duration": 24,
    "start_time": "2022-03-30T18:51:57.436Z"
   },
   {
    "duration": 9,
    "start_time": "2022-03-30T18:52:24.379Z"
   },
   {
    "duration": 24,
    "start_time": "2022-03-30T18:52:31.321Z"
   },
   {
    "duration": 8,
    "start_time": "2022-03-30T18:52:32.745Z"
   },
   {
    "duration": 1075,
    "start_time": "2022-03-30T18:52:49.724Z"
   },
   {
    "duration": 905,
    "start_time": "2022-03-30T18:52:50.801Z"
   },
   {
    "duration": 2,
    "start_time": "2022-03-30T18:52:51.708Z"
   },
   {
    "duration": 12,
    "start_time": "2022-03-30T18:52:51.712Z"
   },
   {
    "duration": 148,
    "start_time": "2022-03-30T18:52:51.725Z"
   },
   {
    "duration": 96,
    "start_time": "2022-03-30T18:52:51.875Z"
   },
   {
    "duration": 88,
    "start_time": "2022-03-30T18:52:51.973Z"
   },
   {
    "duration": 19,
    "start_time": "2022-03-30T18:52:52.063Z"
   },
   {
    "duration": 38,
    "start_time": "2022-03-30T18:52:52.083Z"
   },
   {
    "duration": 50,
    "start_time": "2022-03-30T18:52:52.124Z"
   },
   {
    "duration": 7,
    "start_time": "2022-03-30T18:52:52.176Z"
   },
   {
    "duration": 4,
    "start_time": "2022-03-30T18:52:52.209Z"
   },
   {
    "duration": 335,
    "start_time": "2022-03-30T18:52:52.215Z"
   },
   {
    "duration": 39,
    "start_time": "2022-03-30T18:52:52.552Z"
   },
   {
    "duration": 17,
    "start_time": "2022-03-30T18:52:52.593Z"
   },
   {
    "duration": 331,
    "start_time": "2022-03-30T18:52:52.612Z"
   },
   {
    "duration": 33,
    "start_time": "2022-03-30T18:52:52.944Z"
   },
   {
    "duration": 8,
    "start_time": "2022-03-30T18:52:52.979Z"
   },
   {
    "duration": 6,
    "start_time": "2022-03-30T18:53:33.838Z"
   },
   {
    "duration": 11,
    "start_time": "2022-03-30T18:53:42.332Z"
   },
   {
    "duration": 7,
    "start_time": "2022-03-30T18:53:59.202Z"
   },
   {
    "duration": 7,
    "start_time": "2022-03-30T18:54:15.238Z"
   },
   {
    "duration": 8,
    "start_time": "2022-03-30T18:54:36.675Z"
   },
   {
    "duration": 49,
    "start_time": "2022-03-30T18:55:24.907Z"
   },
   {
    "duration": 2,
    "start_time": "2022-03-30T18:55:49.921Z"
   },
   {
    "duration": 24,
    "start_time": "2022-03-30T18:56:10.309Z"
   },
   {
    "duration": 19,
    "start_time": "2022-03-30T18:56:39.717Z"
   },
   {
    "duration": 11,
    "start_time": "2022-03-30T18:57:18.089Z"
   },
   {
    "duration": 46,
    "start_time": "2022-03-30T18:58:03.481Z"
   },
   {
    "duration": 7,
    "start_time": "2022-03-30T18:58:28.490Z"
   },
   {
    "duration": 4,
    "start_time": "2022-03-30T18:58:42.805Z"
   },
   {
    "duration": 109,
    "start_time": "2022-03-30T18:59:00.089Z"
   },
   {
    "duration": 1757,
    "start_time": "2022-03-31T09:14:13.410Z"
   },
   {
    "duration": 735,
    "start_time": "2022-03-31T09:14:15.170Z"
   },
   {
    "duration": 3,
    "start_time": "2022-03-31T09:14:15.906Z"
   },
   {
    "duration": 18,
    "start_time": "2022-03-31T09:14:15.911Z"
   },
   {
    "duration": 147,
    "start_time": "2022-03-31T09:14:15.931Z"
   },
   {
    "duration": 162,
    "start_time": "2022-03-31T09:14:16.080Z"
   },
   {
    "duration": 125,
    "start_time": "2022-03-31T09:14:16.244Z"
   },
   {
    "duration": 24,
    "start_time": "2022-03-31T09:14:16.371Z"
   },
   {
    "duration": 28,
    "start_time": "2022-03-31T09:14:16.397Z"
   },
   {
    "duration": 89,
    "start_time": "2022-03-31T09:14:16.427Z"
   },
   {
    "duration": 8,
    "start_time": "2022-03-31T09:14:16.517Z"
   },
   {
    "duration": 7,
    "start_time": "2022-03-31T09:14:16.527Z"
   },
   {
    "duration": 439,
    "start_time": "2022-03-31T09:14:16.535Z"
   },
   {
    "duration": 43,
    "start_time": "2022-03-31T09:14:16.977Z"
   },
   {
    "duration": 8,
    "start_time": "2022-03-31T09:14:17.021Z"
   },
   {
    "duration": 356,
    "start_time": "2022-03-31T09:14:17.031Z"
   },
   {
    "duration": 33,
    "start_time": "2022-03-31T09:14:17.389Z"
   },
   {
    "duration": 8,
    "start_time": "2022-03-31T09:14:17.424Z"
   },
   {
    "duration": 8,
    "start_time": "2022-03-31T09:14:17.434Z"
   },
   {
    "duration": 29,
    "start_time": "2022-03-31T09:14:17.444Z"
   },
   {
    "duration": 9,
    "start_time": "2022-03-31T09:14:17.475Z"
   },
   {
    "duration": 7,
    "start_time": "2022-03-31T09:14:17.486Z"
   },
   {
    "duration": 8,
    "start_time": "2022-03-31T09:14:17.496Z"
   },
   {
    "duration": 58,
    "start_time": "2022-03-31T09:14:17.507Z"
   },
   {
    "duration": 33,
    "start_time": "2022-03-31T09:14:17.567Z"
   },
   {
    "duration": 25,
    "start_time": "2022-03-31T09:14:17.601Z"
   },
   {
    "duration": 12,
    "start_time": "2022-03-31T09:14:17.628Z"
   },
   {
    "duration": 37,
    "start_time": "2022-03-31T09:14:17.642Z"
   },
   {
    "duration": 7,
    "start_time": "2022-03-31T09:14:17.681Z"
   },
   {
    "duration": 7,
    "start_time": "2022-03-31T09:14:17.689Z"
   },
   {
    "duration": 111,
    "start_time": "2022-03-31T09:14:17.697Z"
   },
   {
    "duration": 111,
    "start_time": "2022-03-31T09:23:41.930Z"
   },
   {
    "duration": 26,
    "start_time": "2022-03-31T09:24:20.926Z"
   },
   {
    "duration": 13,
    "start_time": "2022-03-31T09:24:37.889Z"
   },
   {
    "duration": 14,
    "start_time": "2022-03-31T09:24:45.645Z"
   },
   {
    "duration": 127,
    "start_time": "2022-03-31T09:37:46.126Z"
   },
   {
    "duration": 10,
    "start_time": "2022-03-31T09:37:51.775Z"
   },
   {
    "duration": 125,
    "start_time": "2022-03-31T09:41:58.188Z"
   },
   {
    "duration": 133,
    "start_time": "2022-03-31T09:42:12.067Z"
   },
   {
    "duration": 11,
    "start_time": "2022-03-31T09:49:49.234Z"
   },
   {
    "duration": 2406,
    "start_time": "2022-03-31T12:59:34.467Z"
   },
   {
    "duration": 1307,
    "start_time": "2022-03-31T12:59:36.877Z"
   },
   {
    "duration": 4,
    "start_time": "2022-03-31T12:59:38.187Z"
   },
   {
    "duration": 25,
    "start_time": "2022-03-31T12:59:38.194Z"
   },
   {
    "duration": 244,
    "start_time": "2022-03-31T12:59:38.223Z"
   },
   {
    "duration": 184,
    "start_time": "2022-03-31T12:59:38.470Z"
   },
   {
    "duration": 153,
    "start_time": "2022-03-31T12:59:38.658Z"
   },
   {
    "duration": 37,
    "start_time": "2022-03-31T12:59:38.813Z"
   },
   {
    "duration": 46,
    "start_time": "2022-03-31T12:59:38.853Z"
   },
   {
    "duration": 158,
    "start_time": "2022-03-31T12:59:38.902Z"
   },
   {
    "duration": 16,
    "start_time": "2022-03-31T12:59:39.063Z"
   },
   {
    "duration": 35,
    "start_time": "2022-03-31T12:59:39.082Z"
   },
   {
    "duration": 627,
    "start_time": "2022-03-31T12:59:39.120Z"
   },
   {
    "duration": 63,
    "start_time": "2022-03-31T12:59:39.753Z"
   },
   {
    "duration": 12,
    "start_time": "2022-03-31T12:59:39.818Z"
   },
   {
    "duration": 560,
    "start_time": "2022-03-31T12:59:39.844Z"
   },
   {
    "duration": 61,
    "start_time": "2022-03-31T12:59:40.407Z"
   },
   {
    "duration": 14,
    "start_time": "2022-03-31T12:59:40.471Z"
   },
   {
    "duration": 22,
    "start_time": "2022-03-31T12:59:40.488Z"
   },
   {
    "duration": 31,
    "start_time": "2022-03-31T12:59:40.512Z"
   },
   {
    "duration": 23,
    "start_time": "2022-03-31T12:59:40.545Z"
   },
   {
    "duration": 25,
    "start_time": "2022-03-31T12:59:40.571Z"
   },
   {
    "duration": 34,
    "start_time": "2022-03-31T12:59:40.599Z"
   },
   {
    "duration": 66,
    "start_time": "2022-03-31T12:59:40.635Z"
   },
   {
    "duration": 32,
    "start_time": "2022-03-31T12:59:40.703Z"
   },
   {
    "duration": 27,
    "start_time": "2022-03-31T12:59:40.737Z"
   },
   {
    "duration": 18,
    "start_time": "2022-03-31T12:59:40.766Z"
   },
   {
    "duration": 68,
    "start_time": "2022-03-31T12:59:40.786Z"
   },
   {
    "duration": 10,
    "start_time": "2022-03-31T12:59:40.856Z"
   },
   {
    "duration": 11,
    "start_time": "2022-03-31T12:59:40.868Z"
   },
   {
    "duration": 200,
    "start_time": "2022-03-31T12:59:40.881Z"
   },
   {
    "duration": 4,
    "start_time": "2022-03-31T12:59:41.084Z"
   },
   {
    "duration": 35,
    "start_time": "2022-03-31T13:03:35.013Z"
   },
   {
    "duration": 18,
    "start_time": "2022-03-31T13:04:24.163Z"
   },
   {
    "duration": 66,
    "start_time": "2022-03-31T13:04:38.736Z"
   },
   {
    "duration": 17,
    "start_time": "2022-03-31T13:06:31.424Z"
   },
   {
    "duration": 19,
    "start_time": "2022-03-31T13:06:34.725Z"
   },
   {
    "duration": 26,
    "start_time": "2022-03-31T13:06:36.350Z"
   },
   {
    "duration": 174,
    "start_time": "2022-03-31T13:10:52.823Z"
   },
   {
    "duration": 20,
    "start_time": "2022-03-31T13:11:23.698Z"
   },
   {
    "duration": 24,
    "start_time": "2022-03-31T13:11:31.609Z"
   },
   {
    "duration": 15,
    "start_time": "2022-03-31T13:17:24.699Z"
   },
   {
    "duration": 25,
    "start_time": "2022-03-31T13:17:37.788Z"
   },
   {
    "duration": 298,
    "start_time": "2022-03-31T13:21:14.029Z"
   },
   {
    "duration": 23,
    "start_time": "2022-03-31T13:23:30.603Z"
   },
   {
    "duration": 23,
    "start_time": "2022-03-31T13:23:32.374Z"
   },
   {
    "duration": 28,
    "start_time": "2022-03-31T13:24:10.830Z"
   },
   {
    "duration": 29,
    "start_time": "2022-03-31T13:32:24.096Z"
   },
   {
    "duration": 226,
    "start_time": "2022-03-31T13:48:50.624Z"
   },
   {
    "duration": 248,
    "start_time": "2022-03-31T13:57:56.129Z"
   },
   {
    "duration": 191,
    "start_time": "2022-03-31T13:58:18.200Z"
   },
   {
    "duration": 181,
    "start_time": "2022-03-31T13:58:33.621Z"
   },
   {
    "duration": 252,
    "start_time": "2022-03-31T13:59:03.793Z"
   },
   {
    "duration": 419,
    "start_time": "2022-03-31T13:59:49.013Z"
   },
   {
    "duration": 304,
    "start_time": "2022-03-31T14:00:04.235Z"
   },
   {
    "duration": 276,
    "start_time": "2022-03-31T14:00:19.779Z"
   },
   {
    "duration": 298,
    "start_time": "2022-03-31T14:00:27.595Z"
   },
   {
    "duration": 293,
    "start_time": "2022-03-31T14:00:37.371Z"
   },
   {
    "duration": 311,
    "start_time": "2022-03-31T14:01:22.231Z"
   },
   {
    "duration": 384,
    "start_time": "2022-03-31T14:02:00.392Z"
   },
   {
    "duration": 383,
    "start_time": "2022-03-31T15:38:02.818Z"
   },
   {
    "duration": 291,
    "start_time": "2022-03-31T15:40:29.177Z"
   },
   {
    "duration": 312,
    "start_time": "2022-03-31T15:41:27.837Z"
   },
   {
    "duration": 800,
    "start_time": "2022-03-31T16:10:59.410Z"
   },
   {
    "duration": 705,
    "start_time": "2022-03-31T16:11:29.801Z"
   },
   {
    "duration": 757,
    "start_time": "2022-03-31T16:11:44.642Z"
   },
   {
    "duration": 772,
    "start_time": "2022-03-31T16:12:40.366Z"
   },
   {
    "duration": 782,
    "start_time": "2022-03-31T16:32:07.518Z"
   },
   {
    "duration": 984,
    "start_time": "2022-03-31T16:32:49.968Z"
   },
   {
    "duration": 764,
    "start_time": "2022-03-31T16:33:11.534Z"
   },
   {
    "duration": 766,
    "start_time": "2022-03-31T16:33:48.281Z"
   },
   {
    "duration": 49,
    "start_time": "2022-04-01T07:51:16.988Z"
   },
   {
    "duration": 7,
    "start_time": "2022-04-01T07:51:37.809Z"
   },
   {
    "duration": 8,
    "start_time": "2022-04-01T07:52:13.003Z"
   },
   {
    "duration": 7,
    "start_time": "2022-04-01T07:52:54.924Z"
   },
   {
    "duration": 1376,
    "start_time": "2022-04-01T07:53:04.746Z"
   },
   {
    "duration": 2551,
    "start_time": "2022-04-01T07:53:06.124Z"
   },
   {
    "duration": 3,
    "start_time": "2022-04-01T07:53:08.677Z"
   },
   {
    "duration": 6,
    "start_time": "2022-04-01T07:53:08.682Z"
   },
   {
    "duration": 166,
    "start_time": "2022-04-01T07:53:08.690Z"
   },
   {
    "duration": 124,
    "start_time": "2022-04-01T07:53:08.858Z"
   },
   {
    "duration": 98,
    "start_time": "2022-04-01T07:53:08.984Z"
   },
   {
    "duration": 20,
    "start_time": "2022-04-01T07:53:09.084Z"
   },
   {
    "duration": 46,
    "start_time": "2022-04-01T07:53:09.106Z"
   },
   {
    "duration": 56,
    "start_time": "2022-04-01T07:53:09.154Z"
   },
   {
    "duration": 33,
    "start_time": "2022-04-01T07:53:09.212Z"
   },
   {
    "duration": 12,
    "start_time": "2022-04-01T07:53:09.247Z"
   },
   {
    "duration": 452,
    "start_time": "2022-04-01T07:53:09.261Z"
   },
   {
    "duration": 46,
    "start_time": "2022-04-01T07:53:09.717Z"
   },
   {
    "duration": 10,
    "start_time": "2022-04-01T07:53:09.765Z"
   },
   {
    "duration": 405,
    "start_time": "2022-04-01T07:53:09.777Z"
   },
   {
    "duration": 35,
    "start_time": "2022-04-01T07:53:10.184Z"
   },
   {
    "duration": 24,
    "start_time": "2022-04-01T07:53:10.220Z"
   },
   {
    "duration": 15,
    "start_time": "2022-04-01T07:53:10.245Z"
   },
   {
    "duration": 19,
    "start_time": "2022-04-01T07:53:10.261Z"
   },
   {
    "duration": 9,
    "start_time": "2022-04-01T07:53:10.282Z"
   },
   {
    "duration": 11,
    "start_time": "2022-04-01T07:53:10.293Z"
   },
   {
    "duration": 16,
    "start_time": "2022-04-01T07:53:10.306Z"
   },
   {
    "duration": 37,
    "start_time": "2022-04-01T07:53:10.339Z"
   },
   {
    "duration": 22,
    "start_time": "2022-04-01T07:53:10.378Z"
   },
   {
    "duration": 47,
    "start_time": "2022-04-01T07:53:10.401Z"
   },
   {
    "duration": 12,
    "start_time": "2022-04-01T07:53:10.449Z"
   },
   {
    "duration": 32,
    "start_time": "2022-04-01T07:53:10.462Z"
   },
   {
    "duration": 8,
    "start_time": "2022-04-01T07:53:10.495Z"
   },
   {
    "duration": 37,
    "start_time": "2022-04-01T07:53:10.504Z"
   },
   {
    "duration": 119,
    "start_time": "2022-04-01T07:53:10.543Z"
   },
   {
    "duration": 19,
    "start_time": "2022-04-01T07:53:10.664Z"
   },
   {
    "duration": 17,
    "start_time": "2022-04-01T07:53:10.684Z"
   },
   {
    "duration": 45,
    "start_time": "2022-04-01T07:53:10.703Z"
   },
   {
    "duration": 182,
    "start_time": "2022-04-01T07:53:10.750Z"
   },
   {
    "duration": 209,
    "start_time": "2022-04-01T07:53:10.937Z"
   },
   {
    "duration": 499,
    "start_time": "2022-04-01T07:53:11.148Z"
   },
   {
    "duration": 160,
    "start_time": "2022-04-01T07:53:23.578Z"
   },
   {
    "duration": 154,
    "start_time": "2022-04-01T07:53:29.365Z"
   },
   {
    "duration": 246,
    "start_time": "2022-04-01T07:53:38.165Z"
   },
   {
    "duration": 160,
    "start_time": "2022-04-01T07:53:52.008Z"
   },
   {
    "duration": 161,
    "start_time": "2022-04-01T07:54:00.993Z"
   },
   {
    "duration": 173,
    "start_time": "2022-04-01T07:54:50.039Z"
   },
   {
    "duration": 150,
    "start_time": "2022-04-01T07:55:08.411Z"
   },
   {
    "duration": 151,
    "start_time": "2022-04-01T07:55:20.124Z"
   },
   {
    "duration": 161,
    "start_time": "2022-04-01T07:56:00.553Z"
   },
   {
    "duration": 145,
    "start_time": "2022-04-01T07:58:20.075Z"
   },
   {
    "duration": 153,
    "start_time": "2022-04-01T07:59:05.502Z"
   },
   {
    "duration": 150,
    "start_time": "2022-04-01T08:01:15.432Z"
   },
   {
    "duration": 105,
    "start_time": "2022-04-01T08:14:39.026Z"
   },
   {
    "duration": 20,
    "start_time": "2022-04-01T08:15:34.663Z"
   },
   {
    "duration": 20,
    "start_time": "2022-04-01T08:15:44.352Z"
   },
   {
    "duration": 142,
    "start_time": "2022-04-01T08:19:45.607Z"
   },
   {
    "duration": 19,
    "start_time": "2022-04-01T08:20:59.861Z"
   },
   {
    "duration": 484,
    "start_time": "2022-04-01T08:25:18.434Z"
   },
   {
    "duration": 392,
    "start_time": "2022-04-01T08:25:34.659Z"
   },
   {
    "duration": 525,
    "start_time": "2022-04-01T08:26:39.139Z"
   },
   {
    "duration": 428,
    "start_time": "2022-04-01T08:26:59.447Z"
   },
   {
    "duration": 499,
    "start_time": "2022-04-01T08:27:45.787Z"
   },
   {
    "duration": 400,
    "start_time": "2022-04-01T08:28:01.603Z"
   },
   {
    "duration": 21,
    "start_time": "2022-04-01T08:51:41.640Z"
   },
   {
    "duration": 143,
    "start_time": "2022-04-01T08:55:57.010Z"
   },
   {
    "duration": 446,
    "start_time": "2022-04-01T09:01:11.130Z"
   },
   {
    "duration": 109,
    "start_time": "2022-04-01T09:14:51.500Z"
   },
   {
    "duration": 16,
    "start_time": "2022-04-01T09:14:57.267Z"
   },
   {
    "duration": 17,
    "start_time": "2022-04-01T09:14:59.041Z"
   },
   {
    "duration": 18,
    "start_time": "2022-04-01T09:15:51.814Z"
   },
   {
    "duration": 19,
    "start_time": "2022-04-01T09:17:07.366Z"
   },
   {
    "duration": 16,
    "start_time": "2022-04-01T09:20:43.569Z"
   },
   {
    "duration": 16,
    "start_time": "2022-04-01T09:22:05.892Z"
   },
   {
    "duration": 5,
    "start_time": "2022-04-01T09:23:21.837Z"
   },
   {
    "duration": 1204,
    "start_time": "2022-04-01T09:24:34.908Z"
   },
   {
    "duration": 823,
    "start_time": "2022-04-01T09:24:36.114Z"
   },
   {
    "duration": 3,
    "start_time": "2022-04-01T09:24:36.939Z"
   },
   {
    "duration": 15,
    "start_time": "2022-04-01T09:24:36.943Z"
   },
   {
    "duration": 153,
    "start_time": "2022-04-01T09:24:36.961Z"
   },
   {
    "duration": 102,
    "start_time": "2022-04-01T09:24:37.116Z"
   },
   {
    "duration": 84,
    "start_time": "2022-04-01T09:24:37.219Z"
   },
   {
    "duration": 36,
    "start_time": "2022-04-01T09:24:37.305Z"
   },
   {
    "duration": 21,
    "start_time": "2022-04-01T09:24:37.342Z"
   },
   {
    "duration": 50,
    "start_time": "2022-04-01T09:24:37.365Z"
   },
   {
    "duration": 8,
    "start_time": "2022-04-01T09:24:37.438Z"
   },
   {
    "duration": 5,
    "start_time": "2022-04-01T09:24:37.448Z"
   },
   {
    "duration": 350,
    "start_time": "2022-04-01T09:24:37.455Z"
   },
   {
    "duration": 47,
    "start_time": "2022-04-01T09:24:37.807Z"
   },
   {
    "duration": 8,
    "start_time": "2022-04-01T09:24:37.856Z"
   },
   {
    "duration": 350,
    "start_time": "2022-04-01T09:24:37.866Z"
   },
   {
    "duration": 40,
    "start_time": "2022-04-01T09:24:38.218Z"
   },
   {
    "duration": 7,
    "start_time": "2022-04-01T09:24:38.260Z"
   },
   {
    "duration": 8,
    "start_time": "2022-04-01T09:24:38.269Z"
   },
   {
    "duration": 21,
    "start_time": "2022-04-01T09:24:38.279Z"
   },
   {
    "duration": 8,
    "start_time": "2022-04-01T09:24:38.302Z"
   },
   {
    "duration": 7,
    "start_time": "2022-04-01T09:24:38.312Z"
   },
   {
    "duration": 23,
    "start_time": "2022-04-01T09:24:38.321Z"
   },
   {
    "duration": 38,
    "start_time": "2022-04-01T09:24:38.346Z"
   },
   {
    "duration": 23,
    "start_time": "2022-04-01T09:24:38.385Z"
   },
   {
    "duration": 39,
    "start_time": "2022-04-01T09:24:38.410Z"
   },
   {
    "duration": 10,
    "start_time": "2022-04-01T09:24:38.451Z"
   },
   {
    "duration": 28,
    "start_time": "2022-04-01T09:24:38.462Z"
   },
   {
    "duration": 7,
    "start_time": "2022-04-01T09:24:38.491Z"
   },
   {
    "duration": 10,
    "start_time": "2022-04-01T09:24:38.499Z"
   },
   {
    "duration": 124,
    "start_time": "2022-04-01T09:24:38.511Z"
   },
   {
    "duration": 15,
    "start_time": "2022-04-01T09:24:38.638Z"
   },
   {
    "duration": 15,
    "start_time": "2022-04-01T09:24:38.655Z"
   },
   {
    "duration": 19,
    "start_time": "2022-04-01T09:24:38.672Z"
   },
   {
    "duration": 185,
    "start_time": "2022-04-01T09:24:38.693Z"
   },
   {
    "duration": 498,
    "start_time": "2022-04-01T09:24:38.880Z"
   },
   {
    "duration": 20,
    "start_time": "2022-04-01T09:24:39.380Z"
   },
   {
    "duration": 159,
    "start_time": "2022-04-01T09:24:39.401Z"
   },
   {
    "duration": 350,
    "start_time": "2022-04-01T09:24:39.562Z"
   },
   {
    "duration": 28,
    "start_time": "2022-04-01T09:24:39.914Z"
   },
   {
    "duration": 227,
    "start_time": "2022-04-01T09:24:39.945Z"
   },
   {
    "duration": 474,
    "start_time": "2022-04-01T09:24:40.174Z"
   },
   {
    "duration": 18,
    "start_time": "2022-04-01T09:24:40.650Z"
   },
   {
    "duration": 13,
    "start_time": "2022-04-01T09:24:40.670Z"
   },
   {
    "duration": 4,
    "start_time": "2022-04-01T09:24:40.685Z"
   },
   {
    "duration": 16,
    "start_time": "2022-04-01T09:25:16.606Z"
   },
   {
    "duration": 105,
    "start_time": "2022-04-01T09:30:46.377Z"
   },
   {
    "duration": 15,
    "start_time": "2022-04-01T09:31:13.387Z"
   },
   {
    "duration": 20,
    "start_time": "2022-04-01T09:31:27.015Z"
   },
   {
    "duration": 20,
    "start_time": "2022-04-01T09:44:32.173Z"
   },
   {
    "duration": 141,
    "start_time": "2022-04-01T09:48:56.986Z"
   },
   {
    "duration": 178,
    "start_time": "2022-04-01T09:49:05.867Z"
   },
   {
    "duration": 146,
    "start_time": "2022-04-01T09:49:39.139Z"
   },
   {
    "duration": 145,
    "start_time": "2022-04-01T09:52:24.266Z"
   },
   {
    "duration": 146,
    "start_time": "2022-04-01T09:52:37.591Z"
   },
   {
    "duration": 101,
    "start_time": "2022-04-01T09:52:50.320Z"
   },
   {
    "duration": 16,
    "start_time": "2022-04-01T09:53:02.001Z"
   },
   {
    "duration": 16,
    "start_time": "2022-04-01T10:01:29.731Z"
   },
   {
    "duration": 18,
    "start_time": "2022-04-01T10:01:36.970Z"
   },
   {
    "duration": 146,
    "start_time": "2022-04-01T10:01:54.030Z"
   },
   {
    "duration": 153,
    "start_time": "2022-04-01T10:02:54.384Z"
   },
   {
    "duration": 158,
    "start_time": "2022-04-01T10:03:01.828Z"
   },
   {
    "duration": 147,
    "start_time": "2022-04-01T10:03:08.080Z"
   },
   {
    "duration": 145,
    "start_time": "2022-04-01T10:03:17.609Z"
   },
   {
    "duration": 301,
    "start_time": "2022-04-01T10:08:13.942Z"
   },
   {
    "duration": 198,
    "start_time": "2022-04-01T10:08:30.466Z"
   },
   {
    "duration": 172,
    "start_time": "2022-04-01T10:08:45.152Z"
   },
   {
    "duration": 168,
    "start_time": "2022-04-01T10:09:05.010Z"
   },
   {
    "duration": 164,
    "start_time": "2022-04-01T10:10:17.884Z"
   },
   {
    "duration": 162,
    "start_time": "2022-04-01T10:10:46.007Z"
   },
   {
    "duration": 178,
    "start_time": "2022-04-01T10:11:10.881Z"
   },
   {
    "duration": 111,
    "start_time": "2022-04-01T10:11:53.644Z"
   },
   {
    "duration": 115,
    "start_time": "2022-04-01T10:11:58.543Z"
   },
   {
    "duration": 118,
    "start_time": "2022-04-01T10:12:25.442Z"
   },
   {
    "duration": 125,
    "start_time": "2022-04-01T10:17:19.180Z"
   },
   {
    "duration": 290,
    "start_time": "2022-04-01T10:17:31.947Z"
   },
   {
    "duration": 171,
    "start_time": "2022-04-01T10:18:44.083Z"
   },
   {
    "duration": 473,
    "start_time": "2022-04-01T10:28:01.033Z"
   },
   {
    "duration": 17,
    "start_time": "2022-04-01T10:28:45.477Z"
   },
   {
    "duration": 15,
    "start_time": "2022-04-01T10:28:49.711Z"
   },
   {
    "duration": 461,
    "start_time": "2022-04-01T10:29:09.716Z"
   },
   {
    "duration": 115,
    "start_time": "2022-04-01T11:18:11.635Z"
   },
   {
    "duration": 122,
    "start_time": "2022-04-01T11:18:36.175Z"
   },
   {
    "duration": 118,
    "start_time": "2022-04-01T11:19:02.835Z"
   },
   {
    "duration": 22,
    "start_time": "2022-04-01T11:21:23.246Z"
   },
   {
    "duration": 135,
    "start_time": "2022-04-01T11:22:01.921Z"
   },
   {
    "duration": 112,
    "start_time": "2022-04-01T11:22:17.838Z"
   },
   {
    "duration": 6,
    "start_time": "2022-04-01T11:23:37.146Z"
   },
   {
    "duration": 6,
    "start_time": "2022-04-01T11:25:59.908Z"
   },
   {
    "duration": 6,
    "start_time": "2022-04-01T11:26:32.155Z"
   },
   {
    "duration": 11,
    "start_time": "2022-04-01T11:26:41.141Z"
   },
   {
    "duration": 7,
    "start_time": "2022-04-01T11:26:47.698Z"
   },
   {
    "duration": 6,
    "start_time": "2022-04-01T11:27:00.541Z"
   },
   {
    "duration": 162,
    "start_time": "2022-04-01T11:27:16.342Z"
   },
   {
    "duration": 125,
    "start_time": "2022-04-01T11:27:34.027Z"
   },
   {
    "duration": 6,
    "start_time": "2022-04-01T11:27:41.072Z"
   },
   {
    "duration": 10,
    "start_time": "2022-04-01T11:29:57.892Z"
   },
   {
    "duration": 9,
    "start_time": "2022-04-01T11:36:39.918Z"
   },
   {
    "duration": 8,
    "start_time": "2022-04-01T11:36:54.055Z"
   },
   {
    "duration": 8,
    "start_time": "2022-04-01T11:38:55.380Z"
   },
   {
    "duration": 10,
    "start_time": "2022-04-01T11:41:02.439Z"
   },
   {
    "duration": 16,
    "start_time": "2022-04-01T13:27:27.020Z"
   },
   {
    "duration": 15,
    "start_time": "2022-04-01T13:28:07.190Z"
   },
   {
    "duration": 16,
    "start_time": "2022-04-01T13:28:24.436Z"
   },
   {
    "duration": 15,
    "start_time": "2022-04-01T13:29:05.779Z"
   },
   {
    "duration": 136,
    "start_time": "2022-04-01T13:33:52.246Z"
   },
   {
    "duration": 24,
    "start_time": "2022-04-01T13:42:54.724Z"
   },
   {
    "duration": 17,
    "start_time": "2022-04-01T13:43:46.046Z"
   },
   {
    "duration": 20,
    "start_time": "2022-04-01T13:44:13.504Z"
   },
   {
    "duration": 122,
    "start_time": "2022-04-01T13:47:18.468Z"
   },
   {
    "duration": 5,
    "start_time": "2022-04-01T13:47:59.474Z"
   },
   {
    "duration": 5,
    "start_time": "2022-04-01T13:49:23.253Z"
   },
   {
    "duration": 16,
    "start_time": "2022-04-01T13:49:33.403Z"
   },
   {
    "duration": 18,
    "start_time": "2022-04-01T13:49:36.989Z"
   },
   {
    "duration": 5,
    "start_time": "2022-04-01T13:49:44.269Z"
   },
   {
    "duration": 21,
    "start_time": "2022-04-01T13:50:56.503Z"
   },
   {
    "duration": 6,
    "start_time": "2022-04-01T14:47:18.179Z"
   },
   {
    "duration": 6,
    "start_time": "2022-04-01T14:47:34.761Z"
   },
   {
    "duration": 6,
    "start_time": "2022-04-01T14:47:47.853Z"
   },
   {
    "duration": 6,
    "start_time": "2022-04-01T14:48:24.757Z"
   },
   {
    "duration": 6,
    "start_time": "2022-04-01T14:48:35.781Z"
   },
   {
    "duration": 113,
    "start_time": "2022-04-01T14:52:34.303Z"
   },
   {
    "duration": 5,
    "start_time": "2022-04-01T14:53:51.262Z"
   },
   {
    "duration": 6,
    "start_time": "2022-04-01T14:54:01.068Z"
   },
   {
    "duration": 25,
    "start_time": "2022-04-01T15:04:13.983Z"
   },
   {
    "duration": 25,
    "start_time": "2022-04-01T15:06:02.423Z"
   },
   {
    "duration": 37,
    "start_time": "2022-04-01T15:13:00.916Z"
   },
   {
    "duration": 28,
    "start_time": "2022-04-01T15:14:04.554Z"
   },
   {
    "duration": 117,
    "start_time": "2022-04-01T15:18:43.693Z"
   },
   {
    "duration": 111,
    "start_time": "2022-04-01T15:19:04.613Z"
   },
   {
    "duration": 613,
    "start_time": "2022-04-01T15:19:15.893Z"
   },
   {
    "duration": 12,
    "start_time": "2022-04-01T15:19:40.204Z"
   },
   {
    "duration": 16,
    "start_time": "2022-04-01T16:27:35.898Z"
   },
   {
    "duration": 14,
    "start_time": "2022-04-01T16:36:29.518Z"
   },
   {
    "duration": 17,
    "start_time": "2022-04-01T16:36:46.503Z"
   },
   {
    "duration": 5,
    "start_time": "2022-04-01T16:37:34.401Z"
   },
   {
    "duration": 4,
    "start_time": "2022-04-01T16:38:00.557Z"
   },
   {
    "duration": 26,
    "start_time": "2022-04-01T16:38:15.863Z"
   },
   {
    "duration": 115,
    "start_time": "2022-04-01T16:54:33.717Z"
   },
   {
    "duration": 18,
    "start_time": "2022-04-01T16:56:36.098Z"
   },
   {
    "duration": 11,
    "start_time": "2022-04-01T16:57:35.605Z"
   },
   {
    "duration": 6,
    "start_time": "2022-04-01T17:00:01.513Z"
   },
   {
    "duration": 128,
    "start_time": "2022-04-01T17:02:03.629Z"
   },
   {
    "duration": 5,
    "start_time": "2022-04-01T17:02:56.813Z"
   },
   {
    "duration": 4,
    "start_time": "2022-04-01T17:20:33.440Z"
   },
   {
    "duration": 4,
    "start_time": "2022-04-01T17:45:55.585Z"
   },
   {
    "duration": 1219,
    "start_time": "2022-04-01T18:01:08.894Z"
   },
   {
    "duration": 2381,
    "start_time": "2022-04-01T18:01:10.115Z"
   },
   {
    "duration": 3,
    "start_time": "2022-04-01T18:01:12.498Z"
   },
   {
    "duration": 8,
    "start_time": "2022-04-01T18:01:12.503Z"
   },
   {
    "duration": 153,
    "start_time": "2022-04-01T18:01:12.513Z"
   },
   {
    "duration": 104,
    "start_time": "2022-04-01T18:01:12.668Z"
   },
   {
    "duration": 91,
    "start_time": "2022-04-01T18:01:12.773Z"
   },
   {
    "duration": 19,
    "start_time": "2022-04-01T18:01:12.866Z"
   },
   {
    "duration": 33,
    "start_time": "2022-04-01T18:01:12.886Z"
   },
   {
    "duration": 54,
    "start_time": "2022-04-01T18:01:12.937Z"
   },
   {
    "duration": 8,
    "start_time": "2022-04-01T18:01:12.992Z"
   },
   {
    "duration": 7,
    "start_time": "2022-04-01T18:01:13.002Z"
   },
   {
    "duration": 366,
    "start_time": "2022-04-01T18:01:13.010Z"
   },
   {
    "duration": 39,
    "start_time": "2022-04-01T18:01:13.378Z"
   },
   {
    "duration": 20,
    "start_time": "2022-04-01T18:01:13.419Z"
   },
   {
    "duration": 337,
    "start_time": "2022-04-01T18:01:13.440Z"
   },
   {
    "duration": 35,
    "start_time": "2022-04-01T18:01:13.779Z"
   },
   {
    "duration": 23,
    "start_time": "2022-04-01T18:01:13.816Z"
   },
   {
    "duration": 8,
    "start_time": "2022-04-01T18:01:13.840Z"
   },
   {
    "duration": 14,
    "start_time": "2022-04-01T18:01:13.850Z"
   },
   {
    "duration": 9,
    "start_time": "2022-04-01T18:01:13.866Z"
   },
   {
    "duration": 11,
    "start_time": "2022-04-01T18:01:13.876Z"
   },
   {
    "duration": 10,
    "start_time": "2022-04-01T18:01:13.888Z"
   },
   {
    "duration": 61,
    "start_time": "2022-04-01T18:01:13.900Z"
   },
   {
    "duration": 24,
    "start_time": "2022-04-01T18:01:13.962Z"
   },
   {
    "duration": 19,
    "start_time": "2022-04-01T18:01:13.988Z"
   },
   {
    "duration": 32,
    "start_time": "2022-04-01T18:01:14.009Z"
   },
   {
    "duration": 30,
    "start_time": "2022-04-01T18:01:14.045Z"
   },
   {
    "duration": 7,
    "start_time": "2022-04-01T18:01:14.077Z"
   },
   {
    "duration": 6,
    "start_time": "2022-04-01T18:01:14.085Z"
   },
   {
    "duration": 126,
    "start_time": "2022-04-01T18:01:14.093Z"
   },
   {
    "duration": 21,
    "start_time": "2022-04-01T18:01:14.220Z"
   },
   {
    "duration": 17,
    "start_time": "2022-04-01T18:01:14.243Z"
   },
   {
    "duration": 17,
    "start_time": "2022-04-01T18:01:14.262Z"
   },
   {
    "duration": 190,
    "start_time": "2022-04-01T18:01:14.281Z"
   },
   {
    "duration": 508,
    "start_time": "2022-04-01T18:01:14.473Z"
   },
   {
    "duration": 9,
    "start_time": "2022-04-01T18:01:14.983Z"
   },
   {
    "duration": 29,
    "start_time": "2022-04-01T18:01:14.994Z"
   },
   {
    "duration": 169,
    "start_time": "2022-04-01T18:01:15.025Z"
   },
   {
    "duration": 405,
    "start_time": "2022-04-01T18:01:15.196Z"
   },
   {
    "duration": 9,
    "start_time": "2022-04-01T18:01:15.602Z"
   },
   {
    "duration": 31,
    "start_time": "2022-04-01T18:01:15.613Z"
   },
   {
    "duration": 274,
    "start_time": "2022-04-01T18:01:15.646Z"
   },
   {
    "duration": 465,
    "start_time": "2022-04-01T18:01:15.922Z"
   },
   {
    "duration": 9,
    "start_time": "2022-04-01T18:01:16.389Z"
   },
   {
    "duration": 25,
    "start_time": "2022-04-01T18:01:16.400Z"
   },
   {
    "duration": 184,
    "start_time": "2022-04-01T18:01:16.439Z"
   },
   {
    "duration": 454,
    "start_time": "2022-04-01T18:01:16.625Z"
   },
   {
    "duration": 8,
    "start_time": "2022-04-01T18:01:17.081Z"
   },
   {
    "duration": 19,
    "start_time": "2022-04-01T18:01:17.091Z"
   },
   {
    "duration": 33,
    "start_time": "2022-04-01T18:01:17.111Z"
   },
   {
    "duration": 4,
    "start_time": "2022-04-01T18:01:17.146Z"
   },
   {
    "duration": 16,
    "start_time": "2022-04-01T18:01:17.151Z"
   },
   {
    "duration": 6,
    "start_time": "2022-04-01T18:01:17.169Z"
   },
   {
    "duration": 25,
    "start_time": "2022-04-01T18:01:17.177Z"
   },
   {
    "duration": 115,
    "start_time": "2022-04-01T18:01:17.204Z"
   },
   {
    "duration": 0,
    "start_time": "2022-04-01T18:01:17.320Z"
   },
   {
    "duration": 0,
    "start_time": "2022-04-01T18:01:17.322Z"
   },
   {
    "duration": 9,
    "start_time": "2022-04-01T18:42:50.852Z"
   },
   {
    "duration": 1202,
    "start_time": "2022-04-01T18:43:11.635Z"
   },
   {
    "duration": 2441,
    "start_time": "2022-04-01T18:43:12.839Z"
   },
   {
    "duration": 2,
    "start_time": "2022-04-01T18:43:15.282Z"
   },
   {
    "duration": 7,
    "start_time": "2022-04-01T18:43:15.286Z"
   },
   {
    "duration": 163,
    "start_time": "2022-04-01T18:43:15.294Z"
   },
   {
    "duration": 114,
    "start_time": "2022-04-01T18:43:15.458Z"
   },
   {
    "duration": 93,
    "start_time": "2022-04-01T18:43:15.574Z"
   },
   {
    "duration": 21,
    "start_time": "2022-04-01T18:43:15.669Z"
   },
   {
    "duration": 50,
    "start_time": "2022-04-01T18:43:15.691Z"
   },
   {
    "duration": 53,
    "start_time": "2022-04-01T18:43:15.744Z"
   },
   {
    "duration": 8,
    "start_time": "2022-04-01T18:43:15.799Z"
   },
   {
    "duration": 5,
    "start_time": "2022-04-01T18:43:15.809Z"
   },
   {
    "duration": 364,
    "start_time": "2022-04-01T18:43:15.816Z"
   },
   {
    "duration": 40,
    "start_time": "2022-04-01T18:43:16.182Z"
   },
   {
    "duration": 18,
    "start_time": "2022-04-01T18:43:16.224Z"
   },
   {
    "duration": 336,
    "start_time": "2022-04-01T18:43:16.243Z"
   },
   {
    "duration": 34,
    "start_time": "2022-04-01T18:43:16.581Z"
   },
   {
    "duration": 23,
    "start_time": "2022-04-01T18:43:16.616Z"
   },
   {
    "duration": 8,
    "start_time": "2022-04-01T18:43:16.641Z"
   },
   {
    "duration": 16,
    "start_time": "2022-04-01T18:43:16.650Z"
   },
   {
    "duration": 9,
    "start_time": "2022-04-01T18:43:16.668Z"
   },
   {
    "duration": 10,
    "start_time": "2022-04-01T18:43:16.679Z"
   },
   {
    "duration": 8,
    "start_time": "2022-04-01T18:43:16.691Z"
   },
   {
    "duration": 55,
    "start_time": "2022-04-01T18:43:16.700Z"
   },
   {
    "duration": 20,
    "start_time": "2022-04-01T18:43:16.756Z"
   },
   {
    "duration": 17,
    "start_time": "2022-04-01T18:43:16.778Z"
   },
   {
    "duration": 10,
    "start_time": "2022-04-01T18:43:16.796Z"
   },
   {
    "duration": 28,
    "start_time": "2022-04-01T18:43:16.837Z"
   },
   {
    "duration": 8,
    "start_time": "2022-04-01T18:43:16.867Z"
   },
   {
    "duration": 5,
    "start_time": "2022-04-01T18:43:16.877Z"
   },
   {
    "duration": 126,
    "start_time": "2022-04-01T18:43:16.884Z"
   },
   {
    "duration": 27,
    "start_time": "2022-04-01T18:43:17.011Z"
   },
   {
    "duration": 16,
    "start_time": "2022-04-01T18:43:17.040Z"
   },
   {
    "duration": 19,
    "start_time": "2022-04-01T18:43:17.058Z"
   },
   {
    "duration": 192,
    "start_time": "2022-04-01T18:43:17.079Z"
   },
   {
    "duration": 511,
    "start_time": "2022-04-01T18:43:17.273Z"
   },
   {
    "duration": 10,
    "start_time": "2022-04-01T18:43:17.785Z"
   },
   {
    "duration": 25,
    "start_time": "2022-04-01T18:43:17.796Z"
   },
   {
    "duration": 172,
    "start_time": "2022-04-01T18:43:17.822Z"
   },
   {
    "duration": 414,
    "start_time": "2022-04-01T18:43:17.996Z"
   },
   {
    "duration": 9,
    "start_time": "2022-04-01T18:43:18.412Z"
   },
   {
    "duration": 32,
    "start_time": "2022-04-01T18:43:18.423Z"
   },
   {
    "duration": 281,
    "start_time": "2022-04-01T18:43:18.457Z"
   },
   {
    "duration": 452,
    "start_time": "2022-04-01T18:43:18.740Z"
   },
   {
    "duration": 9,
    "start_time": "2022-04-01T18:43:19.194Z"
   },
   {
    "duration": 36,
    "start_time": "2022-04-01T18:43:19.205Z"
   },
   {
    "duration": 186,
    "start_time": "2022-04-01T18:43:19.243Z"
   },
   {
    "duration": 456,
    "start_time": "2022-04-01T18:43:19.431Z"
   },
   {
    "duration": 9,
    "start_time": "2022-04-01T18:43:19.889Z"
   },
   {
    "duration": 20,
    "start_time": "2022-04-01T18:43:19.900Z"
   },
   {
    "duration": 29,
    "start_time": "2022-04-01T18:43:19.921Z"
   },
   {
    "duration": 5,
    "start_time": "2022-04-01T18:43:19.951Z"
   },
   {
    "duration": 7,
    "start_time": "2022-04-01T18:43:19.958Z"
   },
   {
    "duration": 6,
    "start_time": "2022-04-01T18:43:19.967Z"
   },
   {
    "duration": 30,
    "start_time": "2022-04-01T18:43:19.975Z"
   },
   {
    "duration": 39,
    "start_time": "2022-04-01T18:43:20.007Z"
   },
   {
    "duration": 7,
    "start_time": "2022-04-01T18:43:20.048Z"
   },
   {
    "duration": 10,
    "start_time": "2022-04-01T18:43:20.056Z"
   },
   {
    "duration": 9,
    "start_time": "2022-04-01T18:43:20.068Z"
   },
   {
    "duration": 1140,
    "start_time": "2022-04-01T18:49:28.701Z"
   },
   {
    "duration": 1862,
    "start_time": "2022-04-01T18:49:29.843Z"
   },
   {
    "duration": 2,
    "start_time": "2022-04-01T18:49:31.707Z"
   },
   {
    "duration": 10,
    "start_time": "2022-04-01T18:49:31.711Z"
   },
   {
    "duration": 172,
    "start_time": "2022-04-01T18:49:31.723Z"
   },
   {
    "duration": 107,
    "start_time": "2022-04-01T18:49:31.897Z"
   },
   {
    "duration": 94,
    "start_time": "2022-04-01T18:49:32.006Z"
   },
   {
    "duration": 19,
    "start_time": "2022-04-01T18:49:32.102Z"
   },
   {
    "duration": 26,
    "start_time": "2022-04-01T18:49:32.138Z"
   },
   {
    "duration": 81,
    "start_time": "2022-04-01T18:49:32.168Z"
   },
   {
    "duration": 9,
    "start_time": "2022-04-01T18:49:32.250Z"
   },
   {
    "duration": 8,
    "start_time": "2022-04-01T18:49:32.260Z"
   },
   {
    "duration": 381,
    "start_time": "2022-04-01T18:49:32.270Z"
   },
   {
    "duration": 39,
    "start_time": "2022-04-01T18:49:32.653Z"
   },
   {
    "duration": 9,
    "start_time": "2022-04-01T18:49:32.694Z"
   },
   {
    "duration": 355,
    "start_time": "2022-04-01T18:49:32.704Z"
   },
   {
    "duration": 34,
    "start_time": "2022-04-01T18:49:33.061Z"
   },
   {
    "duration": 9,
    "start_time": "2022-04-01T18:49:33.097Z"
   },
   {
    "duration": 30,
    "start_time": "2022-04-01T18:49:33.108Z"
   },
   {
    "duration": 13,
    "start_time": "2022-04-01T18:49:33.140Z"
   },
   {
    "duration": 8,
    "start_time": "2022-04-01T18:49:33.155Z"
   },
   {
    "duration": 13,
    "start_time": "2022-04-01T18:49:33.165Z"
   },
   {
    "duration": 9,
    "start_time": "2022-04-01T18:49:33.180Z"
   },
   {
    "duration": 58,
    "start_time": "2022-04-01T18:49:33.191Z"
   },
   {
    "duration": 23,
    "start_time": "2022-04-01T18:49:33.251Z"
   },
   {
    "duration": 18,
    "start_time": "2022-04-01T18:49:33.276Z"
   },
   {
    "duration": 10,
    "start_time": "2022-04-01T18:49:33.296Z"
   },
   {
    "duration": 54,
    "start_time": "2022-04-01T18:49:33.309Z"
   },
   {
    "duration": 6,
    "start_time": "2022-04-01T18:49:33.365Z"
   },
   {
    "duration": 25,
    "start_time": "2022-04-01T18:49:33.373Z"
   },
   {
    "duration": 130,
    "start_time": "2022-04-01T18:49:33.400Z"
   },
   {
    "duration": 15,
    "start_time": "2022-04-01T18:49:33.531Z"
   },
   {
    "duration": 22,
    "start_time": "2022-04-01T18:49:33.548Z"
   },
   {
    "duration": 24,
    "start_time": "2022-04-01T18:49:33.572Z"
   },
   {
    "duration": 164,
    "start_time": "2022-04-01T18:49:33.598Z"
   },
   {
    "duration": 509,
    "start_time": "2022-04-01T18:49:33.764Z"
   },
   {
    "duration": 10,
    "start_time": "2022-04-01T18:49:34.275Z"
   },
   {
    "duration": 30,
    "start_time": "2022-04-01T18:49:34.287Z"
   },
   {
    "duration": 162,
    "start_time": "2022-04-01T18:49:34.318Z"
   },
   {
    "duration": 403,
    "start_time": "2022-04-01T18:49:34.482Z"
   },
   {
    "duration": 9,
    "start_time": "2022-04-01T18:49:34.886Z"
   },
   {
    "duration": 32,
    "start_time": "2022-04-01T18:49:34.896Z"
   },
   {
    "duration": 267,
    "start_time": "2022-04-01T18:49:34.930Z"
   },
   {
    "duration": 466,
    "start_time": "2022-04-01T18:49:35.199Z"
   },
   {
    "duration": 8,
    "start_time": "2022-04-01T18:49:35.666Z"
   },
   {
    "duration": 40,
    "start_time": "2022-04-01T18:49:35.676Z"
   },
   {
    "duration": 172,
    "start_time": "2022-04-01T18:49:35.718Z"
   },
   {
    "duration": 460,
    "start_time": "2022-04-01T18:49:35.891Z"
   },
   {
    "duration": 8,
    "start_time": "2022-04-01T18:49:36.353Z"
   },
   {
    "duration": 33,
    "start_time": "2022-04-01T18:49:36.362Z"
   },
   {
    "duration": 14,
    "start_time": "2022-04-01T18:49:36.397Z"
   },
   {
    "duration": 16,
    "start_time": "2022-04-01T18:49:36.413Z"
   },
   {
    "duration": 48,
    "start_time": "2022-04-01T18:49:36.431Z"
   },
   {
    "duration": 14,
    "start_time": "2022-04-01T18:49:36.481Z"
   },
   {
    "duration": 41,
    "start_time": "2022-04-01T18:49:36.497Z"
   },
   {
    "duration": 9,
    "start_time": "2022-04-01T18:49:36.539Z"
   },
   {
    "duration": 24,
    "start_time": "2022-04-01T18:49:36.550Z"
   },
   {
    "duration": 14,
    "start_time": "2022-04-01T18:49:36.576Z"
   },
   {
    "duration": 20,
    "start_time": "2022-04-01T18:49:36.592Z"
   },
   {
    "duration": 1870,
    "start_time": "2022-04-13T10:16:59.623Z"
   },
   {
    "duration": 2855,
    "start_time": "2022-04-13T10:17:03.774Z"
   },
   {
    "duration": 4,
    "start_time": "2022-04-13T10:17:09.870Z"
   },
   {
    "duration": 10,
    "start_time": "2022-04-13T10:17:11.053Z"
   },
   {
    "duration": 191,
    "start_time": "2022-04-13T10:17:15.920Z"
   },
   {
    "duration": 167,
    "start_time": "2022-04-13T10:17:21.690Z"
   },
   {
    "duration": 110,
    "start_time": "2022-04-13T10:17:26.323Z"
   },
   {
    "duration": 30,
    "start_time": "2022-04-13T10:17:30.541Z"
   },
   {
    "duration": 36,
    "start_time": "2022-04-13T10:17:34.276Z"
   },
   {
    "duration": 84,
    "start_time": "2022-04-13T10:17:38.072Z"
   },
   {
    "duration": 12,
    "start_time": "2022-04-13T10:17:40.493Z"
   },
   {
    "duration": 199,
    "start_time": "2022-04-13T10:17:48.252Z"
   },
   {
    "duration": 7,
    "start_time": "2022-04-13T10:18:00.986Z"
   },
   {
    "duration": 3805,
    "start_time": "2022-04-13T10:18:03.309Z"
   },
   {
    "duration": 68,
    "start_time": "2022-04-13T10:19:50.727Z"
   },
   {
    "duration": 67,
    "start_time": "2022-04-13T10:20:40.423Z"
   },
   {
    "duration": 7,
    "start_time": "2022-04-13T10:20:48.470Z"
   },
   {
    "duration": 1049,
    "start_time": "2022-04-13T10:20:49.724Z"
   },
   {
    "duration": 86,
    "start_time": "2022-04-13T10:21:06.373Z"
   },
   {
    "duration": 14,
    "start_time": "2022-04-13T10:21:19.922Z"
   },
   {
    "duration": 13,
    "start_time": "2022-04-13T10:21:54.135Z"
   },
   {
    "duration": 6,
    "start_time": "2022-04-13T10:22:40.915Z"
   },
   {
    "duration": 908,
    "start_time": "2022-04-13T10:22:42.016Z"
   },
   {
    "duration": 71,
    "start_time": "2022-04-13T10:22:48.631Z"
   },
   {
    "duration": 12,
    "start_time": "2022-04-13T10:22:50.303Z"
   },
   {
    "duration": 17,
    "start_time": "2022-04-13T10:23:43.476Z"
   },
   {
    "duration": 7,
    "start_time": "2022-04-13T10:24:24.681Z"
   },
   {
    "duration": 6,
    "start_time": "2022-04-13T10:24:30.773Z"
   },
   {
    "duration": 569,
    "start_time": "2022-04-13T10:24:33.883Z"
   },
   {
    "duration": 6,
    "start_time": "2022-04-13T10:28:08.413Z"
   },
   {
    "duration": 7,
    "start_time": "2022-04-13T10:28:23.075Z"
   },
   {
    "duration": 7,
    "start_time": "2022-04-13T10:30:19.045Z"
   },
   {
    "duration": 5,
    "start_time": "2022-04-13T10:41:45.020Z"
   },
   {
    "duration": 13,
    "start_time": "2022-04-13T10:42:05.511Z"
   },
   {
    "duration": 41,
    "start_time": "2022-04-13T10:42:20.273Z"
   },
   {
    "duration": 19,
    "start_time": "2022-04-13T10:42:22.133Z"
   },
   {
    "duration": 15,
    "start_time": "2022-04-13T10:42:34.939Z"
   },
   {
    "duration": 54,
    "start_time": "2022-04-13T10:43:07.708Z"
   },
   {
    "duration": 11,
    "start_time": "2022-04-13T10:43:10.421Z"
   },
   {
    "duration": 46,
    "start_time": "2022-04-13T10:43:18.241Z"
   },
   {
    "duration": 9,
    "start_time": "2022-04-13T10:43:20.947Z"
   },
   {
    "duration": 31,
    "start_time": "2022-04-13T10:43:33.655Z"
   },
   {
    "duration": 25,
    "start_time": "2022-04-13T10:43:37.555Z"
   },
   {
    "duration": 14,
    "start_time": "2022-04-13T10:43:41.717Z"
   },
   {
    "duration": 20,
    "start_time": "2022-04-13T10:43:46.448Z"
   },
   {
    "duration": 7,
    "start_time": "2022-04-13T10:44:14.348Z"
   },
   {
    "duration": 2150,
    "start_time": "2022-04-13T10:44:15.158Z"
   },
   {
    "duration": 97,
    "start_time": "2022-04-13T10:44:59.143Z"
   },
   {
    "duration": 56,
    "start_time": "2022-04-13T10:45:58.171Z"
   },
   {
    "duration": 10,
    "start_time": "2022-04-13T10:46:04.589Z"
   },
   {
    "duration": 495,
    "start_time": "2022-04-13T10:46:05.669Z"
   },
   {
    "duration": 6,
    "start_time": "2022-04-13T10:46:10.420Z"
   },
   {
    "duration": 58,
    "start_time": "2022-04-13T10:46:15.708Z"
   },
   {
    "duration": 51,
    "start_time": "2022-04-13T10:46:19.865Z"
   },
   {
    "duration": 8,
    "start_time": "2022-04-13T10:46:24.444Z"
   },
   {
    "duration": 47,
    "start_time": "2022-04-13T10:46:32.057Z"
   },
   {
    "duration": 35,
    "start_time": "2022-04-13T10:46:33.592Z"
   },
   {
    "duration": 25,
    "start_time": "2022-04-13T10:46:38.018Z"
   },
   {
    "duration": 16,
    "start_time": "2022-04-13T10:46:41.651Z"
   },
   {
    "duration": 108,
    "start_time": "2022-04-13T10:46:42.907Z"
   },
   {
    "duration": 11,
    "start_time": "2022-04-13T10:46:49.931Z"
   },
   {
    "duration": 6,
    "start_time": "2022-04-13T10:46:51.707Z"
   },
   {
    "duration": 21,
    "start_time": "2022-04-13T10:53:56.536Z"
   },
   {
    "duration": 11,
    "start_time": "2022-04-13T10:55:40.876Z"
   },
   {
    "duration": 192,
    "start_time": "2022-04-13T11:04:37.069Z"
   },
   {
    "duration": 185,
    "start_time": "2022-04-13T11:05:13.746Z"
   },
   {
    "duration": 187,
    "start_time": "2022-04-13T11:05:28.674Z"
   },
   {
    "duration": 202,
    "start_time": "2022-04-13T11:06:56.238Z"
   },
   {
    "duration": 190,
    "start_time": "2022-04-13T11:14:21.265Z"
   },
   {
    "duration": 11,
    "start_time": "2022-04-13T11:15:50.695Z"
   },
   {
    "duration": 17,
    "start_time": "2022-04-13T11:15:55.341Z"
   },
   {
    "duration": 183,
    "start_time": "2022-04-13T11:16:11.960Z"
   },
   {
    "duration": 24,
    "start_time": "2022-04-13T11:16:25.925Z"
   },
   {
    "duration": 25,
    "start_time": "2022-04-13T11:16:38.666Z"
   },
   {
    "duration": 24,
    "start_time": "2022-04-13T11:16:40.347Z"
   },
   {
    "duration": 30,
    "start_time": "2022-04-13T11:16:51.962Z"
   },
   {
    "duration": 23,
    "start_time": "2022-04-13T11:16:54.286Z"
   },
   {
    "duration": 3115,
    "start_time": "2022-04-13T11:17:26.262Z"
   },
   {
    "duration": 7,
    "start_time": "2022-04-13T11:17:41.232Z"
   },
   {
    "duration": 29,
    "start_time": "2022-04-13T11:18:24.430Z"
   },
   {
    "duration": 3160,
    "start_time": "2022-04-13T11:19:23.967Z"
   },
   {
    "duration": 8,
    "start_time": "2022-04-13T11:20:31.773Z"
   },
   {
    "duration": 6,
    "start_time": "2022-04-13T11:21:35.033Z"
   },
   {
    "duration": 25,
    "start_time": "2022-04-13T11:22:16.123Z"
   },
   {
    "duration": 24,
    "start_time": "2022-04-13T11:22:39.925Z"
   },
   {
    "duration": 7,
    "start_time": "2022-04-13T11:25:22.852Z"
   },
   {
    "duration": 6,
    "start_time": "2022-04-13T11:25:50.370Z"
   },
   {
    "duration": 22,
    "start_time": "2022-04-13T11:25:59.382Z"
   },
   {
    "duration": 44,
    "start_time": "2022-04-13T11:26:14.397Z"
   },
   {
    "duration": 25,
    "start_time": "2022-04-13T11:26:19.272Z"
   },
   {
    "duration": 7,
    "start_time": "2022-04-13T11:28:58.996Z"
   },
   {
    "duration": 6,
    "start_time": "2022-04-13T11:37:23.818Z"
   },
   {
    "duration": 7,
    "start_time": "2022-04-13T11:37:37.392Z"
   },
   {
    "duration": 7,
    "start_time": "2022-04-13T11:38:14.674Z"
   },
   {
    "duration": 5,
    "start_time": "2022-04-13T11:38:21.146Z"
   },
   {
    "duration": 6,
    "start_time": "2022-04-13T11:38:50.120Z"
   },
   {
    "duration": 10,
    "start_time": "2022-04-13T11:39:19.089Z"
   },
   {
    "duration": 11,
    "start_time": "2022-04-13T12:04:11.895Z"
   },
   {
    "duration": 56,
    "start_time": "2022-04-13T12:04:24.808Z"
   },
   {
    "duration": 19,
    "start_time": "2022-04-13T12:04:28.815Z"
   },
   {
    "duration": 8,
    "start_time": "2022-04-13T12:04:30.020Z"
   },
   {
    "duration": 6,
    "start_time": "2022-04-13T12:04:34.834Z"
   },
   {
    "duration": 6,
    "start_time": "2022-04-13T12:04:36.434Z"
   },
   {
    "duration": 7,
    "start_time": "2022-04-13T12:05:43.727Z"
   },
   {
    "duration": 6,
    "start_time": "2022-04-13T12:30:25.904Z"
   },
   {
    "duration": 2750,
    "start_time": "2022-04-13T12:30:25.913Z"
   },
   {
    "duration": 4,
    "start_time": "2022-04-13T12:30:28.665Z"
   },
   {
    "duration": 7,
    "start_time": "2022-04-13T12:30:28.672Z"
   },
   {
    "duration": 197,
    "start_time": "2022-04-13T12:30:28.681Z"
   },
   {
    "duration": 179,
    "start_time": "2022-04-13T12:30:28.880Z"
   },
   {
    "duration": 115,
    "start_time": "2022-04-13T12:30:29.062Z"
   },
   {
    "duration": 41,
    "start_time": "2022-04-13T12:30:29.179Z"
   },
   {
    "duration": 81,
    "start_time": "2022-04-13T12:30:29.224Z"
   },
   {
    "duration": 103,
    "start_time": "2022-04-13T12:30:29.308Z"
   },
   {
    "duration": 13,
    "start_time": "2022-04-13T12:30:29.413Z"
   },
   {
    "duration": 7,
    "start_time": "2022-04-13T12:30:29.428Z"
   },
   {
    "duration": 515,
    "start_time": "2022-04-13T12:30:29.437Z"
   },
   {
    "duration": 6,
    "start_time": "2022-04-13T12:30:29.955Z"
   },
   {
    "duration": 79,
    "start_time": "2022-04-13T12:30:29.963Z"
   },
   {
    "duration": 12,
    "start_time": "2022-04-13T12:30:30.045Z"
   },
   {
    "duration": 484,
    "start_time": "2022-04-13T12:30:30.059Z"
   },
   {
    "duration": 7,
    "start_time": "2022-04-13T12:30:30.545Z"
   },
   {
    "duration": 73,
    "start_time": "2022-04-13T12:30:30.554Z"
   },
   {
    "duration": 12,
    "start_time": "2022-04-13T12:30:30.629Z"
   },
   {
    "duration": 18,
    "start_time": "2022-04-13T12:30:30.643Z"
   },
   {
    "duration": 39,
    "start_time": "2022-04-13T12:30:30.663Z"
   },
   {
    "duration": 12,
    "start_time": "2022-04-13T12:30:30.704Z"
   },
   {
    "duration": 8,
    "start_time": "2022-04-13T12:30:30.722Z"
   },
   {
    "duration": 27,
    "start_time": "2022-04-13T12:30:30.732Z"
   },
   {
    "duration": 79,
    "start_time": "2022-04-13T12:30:30.761Z"
   },
   {
    "duration": 32,
    "start_time": "2022-04-13T12:30:30.842Z"
   },
   {
    "duration": 40,
    "start_time": "2022-04-13T12:30:30.876Z"
   },
   {
    "duration": 19,
    "start_time": "2022-04-13T12:30:30.918Z"
   },
   {
    "duration": 82,
    "start_time": "2022-04-13T12:30:30.939Z"
   },
   {
    "duration": 10,
    "start_time": "2022-04-13T12:30:31.024Z"
   },
   {
    "duration": 12,
    "start_time": "2022-04-13T12:30:31.037Z"
   },
   {
    "duration": 56,
    "start_time": "2022-04-13T12:30:31.052Z"
   },
   {
    "duration": 17,
    "start_time": "2022-04-13T12:30:31.110Z"
   },
   {
    "duration": 19,
    "start_time": "2022-04-13T12:30:31.130Z"
   },
   {
    "duration": 202,
    "start_time": "2022-04-13T12:30:31.151Z"
   },
   {
    "duration": 42,
    "start_time": "2022-04-13T12:30:31.355Z"
   },
   {
    "duration": 26,
    "start_time": "2022-04-13T12:30:31.399Z"
   },
   {
    "duration": 72,
    "start_time": "2022-04-13T12:30:31.427Z"
   },
   {
    "duration": 314,
    "start_time": "2022-04-13T12:30:31.501Z"
   },
   {
    "duration": 744,
    "start_time": "2022-04-13T12:30:31.818Z"
   },
   {
    "duration": 13,
    "start_time": "2022-04-13T12:30:32.565Z"
   },
   {
    "duration": 44,
    "start_time": "2022-04-13T12:30:32.580Z"
   },
   {
    "duration": 303,
    "start_time": "2022-04-13T12:30:32.627Z"
   },
   {
    "duration": 680,
    "start_time": "2022-04-13T12:30:32.933Z"
   },
   {
    "duration": 14,
    "start_time": "2022-04-13T12:30:33.616Z"
   },
   {
    "duration": 68,
    "start_time": "2022-04-13T12:30:33.632Z"
   },
   {
    "duration": 298,
    "start_time": "2022-04-13T12:30:33.703Z"
   },
   {
    "duration": 714,
    "start_time": "2022-04-13T12:30:34.003Z"
   },
   {
    "duration": 13,
    "start_time": "2022-04-13T12:30:34.720Z"
   },
   {
    "duration": 70,
    "start_time": "2022-04-13T12:30:34.736Z"
   },
   {
    "duration": 7,
    "start_time": "2022-04-13T12:30:34.809Z"
   },
   {
    "duration": 328,
    "start_time": "2022-04-13T12:30:34.819Z"
   },
   {
    "duration": 734,
    "start_time": "2022-04-13T12:30:35.150Z"
   },
   {
    "duration": 18,
    "start_time": "2022-04-13T12:30:35.887Z"
   },
   {
    "duration": 33,
    "start_time": "2022-04-13T12:30:35.907Z"
   },
   {
    "duration": 60,
    "start_time": "2022-04-13T12:30:35.943Z"
   },
   {
    "duration": 8,
    "start_time": "2022-04-13T12:30:36.006Z"
   },
   {
    "duration": 11,
    "start_time": "2022-04-13T12:30:36.016Z"
   },
   {
    "duration": 8,
    "start_time": "2022-04-13T12:30:36.029Z"
   },
   {
    "duration": 9,
    "start_time": "2022-04-13T12:30:36.038Z"
   },
   {
    "duration": 41,
    "start_time": "2022-04-13T12:30:36.094Z"
   },
   {
    "duration": 14,
    "start_time": "2022-04-13T12:30:36.137Z"
   },
   {
    "duration": 39,
    "start_time": "2022-04-13T12:30:36.154Z"
   },
   {
    "duration": 6,
    "start_time": "2022-04-13T12:30:36.196Z"
   },
   {
    "duration": 8,
    "start_time": "2022-04-13T12:30:36.204Z"
   },
   {
    "duration": 8,
    "start_time": "2022-04-13T12:30:36.214Z"
   },
   {
    "duration": 6,
    "start_time": "2022-04-13T12:58:09.471Z"
   },
   {
    "duration": 6,
    "start_time": "2022-04-13T12:59:01.755Z"
   },
   {
    "duration": 194,
    "start_time": "2022-04-13T13:03:31.637Z"
   },
   {
    "duration": 191,
    "start_time": "2022-04-13T13:04:40.289Z"
   },
   {
    "duration": 187,
    "start_time": "2022-04-13T13:05:52.380Z"
   },
   {
    "duration": 6,
    "start_time": "2022-04-13T13:06:43.548Z"
   },
   {
    "duration": 7,
    "start_time": "2022-04-13T13:07:07.484Z"
   },
   {
    "duration": 6,
    "start_time": "2022-04-13T13:20:50.892Z"
   },
   {
    "duration": 146,
    "start_time": "2022-04-13T15:24:41.087Z"
   },
   {
    "duration": 152,
    "start_time": "2022-04-13T15:32:04.092Z"
   },
   {
    "duration": 134,
    "start_time": "2022-04-13T15:35:05.955Z"
   },
   {
    "duration": 150,
    "start_time": "2022-04-13T15:42:26.950Z"
   },
   {
    "duration": 71,
    "start_time": "2022-04-14T08:25:14.742Z"
   },
   {
    "duration": 1859,
    "start_time": "2022-04-14T08:25:23.712Z"
   },
   {
    "duration": 4290,
    "start_time": "2022-04-14T08:25:25.575Z"
   },
   {
    "duration": 5,
    "start_time": "2022-04-14T08:25:29.867Z"
   },
   {
    "duration": 11,
    "start_time": "2022-04-14T08:25:29.874Z"
   },
   {
    "duration": 206,
    "start_time": "2022-04-14T08:25:29.889Z"
   },
   {
    "duration": 177,
    "start_time": "2022-04-14T08:25:30.097Z"
   },
   {
    "duration": 127,
    "start_time": "2022-04-14T08:25:30.276Z"
   },
   {
    "duration": 45,
    "start_time": "2022-04-14T08:25:30.405Z"
   },
   {
    "duration": 45,
    "start_time": "2022-04-14T08:25:30.452Z"
   },
   {
    "duration": 90,
    "start_time": "2022-04-14T08:25:30.524Z"
   },
   {
    "duration": 12,
    "start_time": "2022-04-14T08:25:30.625Z"
   },
   {
    "duration": 10,
    "start_time": "2022-04-14T08:25:30.639Z"
   },
   {
    "duration": 567,
    "start_time": "2022-04-14T08:25:30.652Z"
   },
   {
    "duration": 6,
    "start_time": "2022-04-14T08:25:31.227Z"
   },
   {
    "duration": 68,
    "start_time": "2022-04-14T08:25:31.236Z"
   },
   {
    "duration": 23,
    "start_time": "2022-04-14T08:25:31.306Z"
   },
   {
    "duration": 519,
    "start_time": "2022-04-14T08:25:31.332Z"
   },
   {
    "duration": 9,
    "start_time": "2022-04-14T08:25:31.854Z"
   },
   {
    "duration": 73,
    "start_time": "2022-04-14T08:25:31.866Z"
   },
   {
    "duration": 13,
    "start_time": "2022-04-14T08:25:31.942Z"
   },
   {
    "duration": 19,
    "start_time": "2022-04-14T08:25:31.957Z"
   },
   {
    "duration": 32,
    "start_time": "2022-04-14T08:25:31.978Z"
   },
   {
    "duration": 18,
    "start_time": "2022-04-14T08:25:32.013Z"
   },
   {
    "duration": 12,
    "start_time": "2022-04-14T08:25:32.033Z"
   },
   {
    "duration": 16,
    "start_time": "2022-04-14T08:25:32.048Z"
   },
   {
    "duration": 10,
    "start_time": "2022-04-14T08:25:32.067Z"
   },
   {
    "duration": 92,
    "start_time": "2022-04-14T08:25:32.080Z"
   },
   {
    "duration": 51,
    "start_time": "2022-04-14T08:25:32.175Z"
   },
   {
    "duration": 30,
    "start_time": "2022-04-14T08:25:32.229Z"
   },
   {
    "duration": 20,
    "start_time": "2022-04-14T08:25:32.262Z"
   },
   {
    "duration": 80,
    "start_time": "2022-04-14T08:25:32.284Z"
   },
   {
    "duration": 9,
    "start_time": "2022-04-14T08:25:32.366Z"
   },
   {
    "duration": 12,
    "start_time": "2022-04-14T08:25:32.377Z"
   },
   {
    "duration": 34,
    "start_time": "2022-04-14T08:25:32.391Z"
   },
   {
    "duration": 22,
    "start_time": "2022-04-14T08:25:32.429Z"
   },
   {
    "duration": 13,
    "start_time": "2022-04-14T08:25:32.454Z"
   },
   {
    "duration": 8,
    "start_time": "2022-04-14T08:25:32.470Z"
   },
   {
    "duration": 228,
    "start_time": "2022-04-14T08:25:32.481Z"
   },
   {
    "duration": 35,
    "start_time": "2022-04-14T08:25:32.712Z"
   },
   {
    "duration": 25,
    "start_time": "2022-04-14T08:25:32.750Z"
   },
   {
    "duration": 62,
    "start_time": "2022-04-14T08:25:32.783Z"
   },
   {
    "duration": 324,
    "start_time": "2022-04-14T08:25:32.848Z"
   },
   {
    "duration": 761,
    "start_time": "2022-04-14T08:25:33.174Z"
   },
   {
    "duration": 17,
    "start_time": "2022-04-14T08:25:33.938Z"
   },
   {
    "duration": 34,
    "start_time": "2022-04-14T08:25:33.958Z"
   },
   {
    "duration": 318,
    "start_time": "2022-04-14T08:25:33.994Z"
   },
   {
    "duration": 567,
    "start_time": "2022-04-14T08:25:34.314Z"
   },
   {
    "duration": 12,
    "start_time": "2022-04-14T08:25:34.883Z"
   },
   {
    "duration": 49,
    "start_time": "2022-04-14T08:25:34.897Z"
   },
   {
    "duration": 395,
    "start_time": "2022-04-14T08:25:34.949Z"
   },
   {
    "duration": 816,
    "start_time": "2022-04-14T08:25:35.347Z"
   },
   {
    "duration": 12,
    "start_time": "2022-04-14T08:25:36.165Z"
   },
   {
    "duration": 47,
    "start_time": "2022-04-14T08:25:36.180Z"
   },
   {
    "duration": 6,
    "start_time": "2022-04-14T08:25:36.230Z"
   },
   {
    "duration": 324,
    "start_time": "2022-04-14T08:25:36.238Z"
   },
   {
    "duration": 717,
    "start_time": "2022-04-14T08:25:36.564Z"
   },
   {
    "duration": 12,
    "start_time": "2022-04-14T08:25:37.284Z"
   },
   {
    "duration": 35,
    "start_time": "2022-04-14T08:25:37.298Z"
   },
   {
    "duration": 35,
    "start_time": "2022-04-14T08:25:37.335Z"
   },
   {
    "duration": 37,
    "start_time": "2022-04-14T08:25:37.372Z"
   },
   {
    "duration": 18,
    "start_time": "2022-04-14T08:25:37.411Z"
   },
   {
    "duration": 21,
    "start_time": "2022-04-14T08:25:37.432Z"
   },
   {
    "duration": 24,
    "start_time": "2022-04-14T08:25:37.455Z"
   },
   {
    "duration": 15,
    "start_time": "2022-04-14T08:25:37.482Z"
   },
   {
    "duration": 41,
    "start_time": "2022-04-14T08:25:37.499Z"
   },
   {
    "duration": 14,
    "start_time": "2022-04-14T08:25:37.542Z"
   },
   {
    "duration": 9,
    "start_time": "2022-04-14T08:25:37.558Z"
   },
   {
    "duration": 14,
    "start_time": "2022-04-14T08:25:37.569Z"
   },
   {
    "duration": 8,
    "start_time": "2022-04-14T08:25:37.585Z"
   },
   {
    "duration": 30,
    "start_time": "2022-04-14T08:25:37.595Z"
   },
   {
    "duration": 46,
    "start_time": "2022-04-14T08:27:22.495Z"
   },
   {
    "duration": 7,
    "start_time": "2022-04-14T08:27:28.368Z"
   },
   {
    "duration": 10,
    "start_time": "2022-04-14T08:28:33.732Z"
   },
   {
    "duration": 6,
    "start_time": "2022-04-14T08:28:48.446Z"
   },
   {
    "duration": 21,
    "start_time": "2022-04-14T08:28:56.513Z"
   },
   {
    "duration": 12,
    "start_time": "2022-04-14T08:29:04.036Z"
   },
   {
    "duration": 5,
    "start_time": "2022-04-14T08:29:12.768Z"
   },
   {
    "duration": 12,
    "start_time": "2022-04-14T08:30:06.220Z"
   },
   {
    "duration": 7,
    "start_time": "2022-04-14T08:30:44.826Z"
   },
   {
    "duration": 2614,
    "start_time": "2022-04-14T08:30:46.187Z"
   },
   {
    "duration": 76,
    "start_time": "2022-04-14T08:30:58.075Z"
   },
   {
    "duration": 60,
    "start_time": "2022-04-14T08:31:04.347Z"
   },
   {
    "duration": 47,
    "start_time": "2022-04-14T08:31:10.584Z"
   },
   {
    "duration": 9,
    "start_time": "2022-04-14T08:31:12.047Z"
   },
   {
    "duration": 44,
    "start_time": "2022-04-14T08:31:21.247Z"
   },
   {
    "duration": 30,
    "start_time": "2022-04-14T08:31:34.029Z"
   },
   {
    "duration": 24,
    "start_time": "2022-04-14T08:31:35.452Z"
   },
   {
    "duration": 16,
    "start_time": "2022-04-14T08:31:40.598Z"
   },
   {
    "duration": 49,
    "start_time": "2022-04-14T08:31:45.221Z"
   },
   {
    "duration": 8,
    "start_time": "2022-04-14T08:31:49.562Z"
   },
   {
    "duration": 10,
    "start_time": "2022-04-14T08:31:58.987Z"
   },
   {
    "duration": 18,
    "start_time": "2022-04-14T08:32:03.562Z"
   },
   {
    "duration": 19,
    "start_time": "2022-04-14T08:33:14.584Z"
   },
   {
    "duration": 19,
    "start_time": "2022-04-14T08:33:44.783Z"
   },
   {
    "duration": 14,
    "start_time": "2022-04-14T08:35:01.849Z"
   },
   {
    "duration": 14,
    "start_time": "2022-04-14T08:35:23.928Z"
   },
   {
    "duration": 116,
    "start_time": "2022-04-14T08:36:32.678Z"
   },
   {
    "duration": 239,
    "start_time": "2022-04-14T08:36:46.398Z"
   },
   {
    "duration": 17,
    "start_time": "2022-04-14T08:37:05.787Z"
   },
   {
    "duration": 12,
    "start_time": "2022-04-14T08:37:20.707Z"
   },
   {
    "duration": 19,
    "start_time": "2022-04-14T08:37:43.629Z"
   },
   {
    "duration": 16,
    "start_time": "2022-04-14T08:38:09.358Z"
   },
   {
    "duration": 16,
    "start_time": "2022-04-14T08:38:37.120Z"
   },
   {
    "duration": 37,
    "start_time": "2022-04-14T08:39:24.196Z"
   },
   {
    "duration": 15,
    "start_time": "2022-04-14T08:39:55.667Z"
   },
   {
    "duration": 18,
    "start_time": "2022-04-14T08:40:49.024Z"
   },
   {
    "duration": 11,
    "start_time": "2022-04-14T08:43:46.374Z"
   },
   {
    "duration": 12,
    "start_time": "2022-04-14T08:43:53.060Z"
   },
   {
    "duration": 12,
    "start_time": "2022-04-14T08:43:59.711Z"
   },
   {
    "duration": 11,
    "start_time": "2022-04-14T08:44:05.967Z"
   },
   {
    "duration": 10,
    "start_time": "2022-04-14T08:52:46.807Z"
   },
   {
    "duration": 15,
    "start_time": "2022-04-14T08:53:06.256Z"
   },
   {
    "duration": 31,
    "start_time": "2022-04-14T08:53:55.499Z"
   },
   {
    "duration": 14,
    "start_time": "2022-04-14T08:54:57.683Z"
   },
   {
    "duration": 12,
    "start_time": "2022-04-14T08:55:18.432Z"
   },
   {
    "duration": 17,
    "start_time": "2022-04-14T08:57:36.974Z"
   },
   {
    "duration": 75,
    "start_time": "2022-04-14T08:57:58.994Z"
   },
   {
    "duration": 52,
    "start_time": "2022-04-14T08:58:19.925Z"
   },
   {
    "duration": 144,
    "start_time": "2022-04-14T08:58:21.314Z"
   },
   {
    "duration": 87,
    "start_time": "2022-04-14T09:00:07.669Z"
   },
   {
    "duration": 2372,
    "start_time": "2022-04-14T09:05:36.117Z"
   },
   {
    "duration": 2611,
    "start_time": "2022-04-14T09:05:38.493Z"
   },
   {
    "duration": 4,
    "start_time": "2022-04-14T09:05:41.106Z"
   },
   {
    "duration": 11,
    "start_time": "2022-04-14T09:05:41.112Z"
   },
   {
    "duration": 278,
    "start_time": "2022-04-14T09:05:41.127Z"
   },
   {
    "duration": 218,
    "start_time": "2022-04-14T09:05:41.408Z"
   },
   {
    "duration": 145,
    "start_time": "2022-04-14T09:05:41.630Z"
   },
   {
    "duration": 52,
    "start_time": "2022-04-14T09:05:41.777Z"
   },
   {
    "duration": 43,
    "start_time": "2022-04-14T09:05:41.831Z"
   },
   {
    "duration": 117,
    "start_time": "2022-04-14T09:05:41.876Z"
   },
   {
    "duration": 13,
    "start_time": "2022-04-14T09:05:41.995Z"
   },
   {
    "duration": 23,
    "start_time": "2022-04-14T09:05:42.010Z"
   },
   {
    "duration": 559,
    "start_time": "2022-04-14T09:05:42.036Z"
   },
   {
    "duration": 7,
    "start_time": "2022-04-14T09:05:42.600Z"
   },
   {
    "duration": 76,
    "start_time": "2022-04-14T09:05:42.610Z"
   },
   {
    "duration": 14,
    "start_time": "2022-04-14T09:05:42.689Z"
   },
   {
    "duration": 553,
    "start_time": "2022-04-14T09:05:42.729Z"
   },
   {
    "duration": 7,
    "start_time": "2022-04-14T09:05:43.285Z"
   },
   {
    "duration": 81,
    "start_time": "2022-04-14T09:05:43.295Z"
   },
   {
    "duration": 13,
    "start_time": "2022-04-14T09:05:43.378Z"
   },
   {
    "duration": 11,
    "start_time": "2022-04-14T09:05:43.394Z"
   },
   {
    "duration": 26,
    "start_time": "2022-04-14T09:05:43.424Z"
   },
   {
    "duration": 9,
    "start_time": "2022-04-14T09:05:43.453Z"
   },
   {
    "duration": 10,
    "start_time": "2022-04-14T09:05:43.465Z"
   },
   {
    "duration": 14,
    "start_time": "2022-04-14T09:05:43.478Z"
   },
   {
    "duration": 13,
    "start_time": "2022-04-14T09:05:43.531Z"
   },
   {
    "duration": 95,
    "start_time": "2022-04-14T09:05:43.548Z"
   },
   {
    "duration": 31,
    "start_time": "2022-04-14T09:05:43.646Z"
   },
   {
    "duration": 56,
    "start_time": "2022-04-14T09:05:43.679Z"
   },
   {
    "duration": 20,
    "start_time": "2022-04-14T09:05:43.737Z"
   },
   {
    "duration": 69,
    "start_time": "2022-04-14T09:05:43.759Z"
   },
   {
    "duration": 9,
    "start_time": "2022-04-14T09:05:43.831Z"
   },
   {
    "duration": 9,
    "start_time": "2022-04-14T09:05:43.843Z"
   },
   {
    "duration": 71,
    "start_time": "2022-04-14T09:05:43.855Z"
   },
   {
    "duration": 11,
    "start_time": "2022-04-14T09:05:43.929Z"
   },
   {
    "duration": 36,
    "start_time": "2022-04-14T09:05:43.943Z"
   },
   {
    "duration": 65,
    "start_time": "2022-04-14T09:05:43.982Z"
   },
   {
    "duration": 12,
    "start_time": "2022-04-14T09:05:44.050Z"
   },
   {
    "duration": 25,
    "start_time": "2022-04-14T09:05:44.064Z"
   },
   {
    "duration": 42,
    "start_time": "2022-04-14T09:05:44.092Z"
   },
   {
    "duration": 7,
    "start_time": "2022-04-14T09:05:44.144Z"
   },
   {
    "duration": 301,
    "start_time": "2022-04-14T09:05:44.154Z"
   },
   {
    "duration": 34,
    "start_time": "2022-04-14T09:05:44.458Z"
   },
   {
    "duration": 74,
    "start_time": "2022-04-14T09:05:44.494Z"
   },
   {
    "duration": 54,
    "start_time": "2022-04-14T09:05:44.571Z"
   },
   {
    "duration": 414,
    "start_time": "2022-04-14T09:05:44.628Z"
   },
   {
    "duration": 946,
    "start_time": "2022-04-14T09:05:45.045Z"
   },
   {
    "duration": 13,
    "start_time": "2022-04-14T09:05:45.994Z"
   },
   {
    "duration": 44,
    "start_time": "2022-04-14T09:05:46.010Z"
   },
   {
    "duration": 324,
    "start_time": "2022-04-14T09:05:46.057Z"
   },
   {
    "duration": 708,
    "start_time": "2022-04-14T09:05:46.384Z"
   },
   {
    "duration": 13,
    "start_time": "2022-04-14T09:05:47.094Z"
   },
   {
    "duration": 32,
    "start_time": "2022-04-14T09:05:47.125Z"
   },
   {
    "duration": 327,
    "start_time": "2022-04-14T09:05:47.160Z"
   },
   {
    "duration": 849,
    "start_time": "2022-04-14T09:05:47.490Z"
   },
   {
    "duration": 14,
    "start_time": "2022-04-14T09:05:48.343Z"
   },
   {
    "duration": 35,
    "start_time": "2022-04-14T09:05:48.361Z"
   },
   {
    "duration": 33,
    "start_time": "2022-04-14T09:05:48.398Z"
   },
   {
    "duration": 310,
    "start_time": "2022-04-14T09:05:48.440Z"
   },
   {
    "duration": 729,
    "start_time": "2022-04-14T09:05:48.752Z"
   },
   {
    "duration": 14,
    "start_time": "2022-04-14T09:05:49.484Z"
   },
   {
    "duration": 27,
    "start_time": "2022-04-14T09:05:49.502Z"
   },
   {
    "duration": 42,
    "start_time": "2022-04-14T09:05:49.535Z"
   },
   {
    "duration": 61,
    "start_time": "2022-04-14T09:05:49.580Z"
   },
   {
    "duration": 10,
    "start_time": "2022-04-14T09:05:49.645Z"
   },
   {
    "duration": 16,
    "start_time": "2022-04-14T09:05:49.658Z"
   },
   {
    "duration": 8,
    "start_time": "2022-04-14T09:05:49.678Z"
   },
   {
    "duration": 38,
    "start_time": "2022-04-14T09:05:49.690Z"
   },
   {
    "duration": 50,
    "start_time": "2022-04-14T09:05:49.733Z"
   },
   {
    "duration": 19,
    "start_time": "2022-04-14T09:05:49.786Z"
   },
   {
    "duration": 31,
    "start_time": "2022-04-14T09:05:49.808Z"
   },
   {
    "duration": 18,
    "start_time": "2022-04-14T09:05:49.845Z"
   },
   {
    "duration": 10,
    "start_time": "2022-04-14T09:05:49.866Z"
   },
   {
    "duration": 15,
    "start_time": "2022-04-14T09:05:49.879Z"
   }
  ],
  "kernelspec": {
   "display_name": "Python 3",
   "language": "python",
   "name": "python3"
  },
  "language_info": {
   "codemirror_mode": {
    "name": "ipython",
    "version": 3
   },
   "file_extension": ".py",
   "mimetype": "text/x-python",
   "name": "python",
   "nbconvert_exporter": "python",
   "pygments_lexer": "ipython3",
   "version": "3.7.0"
  },
  "toc": {
   "base_numbering": 1,
   "nav_menu": {
    "height": "12px",
    "width": "160px"
   },
   "number_sections": true,
   "sideBar": true,
   "skip_h1_title": true,
   "title_cell": "Table of Contents",
   "title_sidebar": "Contents",
   "toc_cell": true,
   "toc_position": {
    "height": "calc(100% - 180px)",
    "left": "10px",
    "top": "150px",
    "width": "165px"
   },
   "toc_section_display": true,
   "toc_window_display": false
  }
 },
 "nbformat": 4,
 "nbformat_minor": 2
}
