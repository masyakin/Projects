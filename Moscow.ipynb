{
 "cells": [
  {
   "cell_type": "markdown",
   "metadata": {
    "toc": true
   },
   "source": [
    "<h1>Table of Contents<span class=\"tocSkip\"></span></h1>\n",
    "<div class=\"toc\"><ul class=\"toc-item\"><li><span><a href=\"#Обзор-данных\" data-toc-modified-id=\"Обзор-данных-1\"><span class=\"toc-item-num\">1&nbsp;&nbsp;</span>Обзор данных</a></span></li><li><span><a href=\"#Предобработка-данных\" data-toc-modified-id=\"Предобработка-данных-2\"><span class=\"toc-item-num\">2&nbsp;&nbsp;</span>Предобработка данных</a></span></li><li><span><a href=\"#Анализ-данных\" data-toc-modified-id=\"Анализ-данных-3\"><span class=\"toc-item-num\">3&nbsp;&nbsp;</span>Анализ данных</a></span><ul class=\"toc-item\"><li><span><a href=\"#Cоотношение-видов-объектов-общественного-питания-по-количеству\" data-toc-modified-id=\"Cоотношение-видов-объектов-общественного-питания-по-количеству-3.1\"><span class=\"toc-item-num\">3.1&nbsp;&nbsp;</span>Cоотношение видов объектов общественного питания по количеству</a></span></li><li><span><a href=\"#Cоотношение-сетевых-и-несетевых-заведений-по-количеству\" data-toc-modified-id=\"Cоотношение-сетевых-и-несетевых-заведений-по-количеству-3.2\"><span class=\"toc-item-num\">3.2&nbsp;&nbsp;</span>Cоотношение сетевых и несетевых заведений по количеству</a></span></li><li><span><a href=\"#Объекты-общественного-питания-с-сетевым-распространением\" data-toc-modified-id=\"Объекты-общественного-питания-с-сетевым-распространением-3.3\"><span class=\"toc-item-num\">3.3&nbsp;&nbsp;</span>Объекты общественного питания с сетевым распространением</a></span></li><li><span><a href=\"#Характеристика-сетевых-заведений\" data-toc-modified-id=\"Характеристика-сетевых-заведений-3.4\"><span class=\"toc-item-num\">3.4&nbsp;&nbsp;</span>Характеристика сетевых заведений</a></span></li><li><span><a href=\"#Среднее-количество-посадочных-мест\" data-toc-modified-id=\"Среднее-количество-посадочных-мест-3.5\"><span class=\"toc-item-num\">3.5&nbsp;&nbsp;</span>Среднее количество посадочных мест</a></span></li><li><span><a href=\"#Информация-об-улице-из-столбца-address\" data-toc-modified-id=\"Информация-об-улице-из-столбца-address-3.6\"><span class=\"toc-item-num\">3.6&nbsp;&nbsp;</span>Информация об улице из столбца address</a></span></li><li><span><a href=\"#Топ-10-улиц-по-количеству-объектов-общественного-питания\" data-toc-modified-id=\"Топ-10-улиц-по-количеству-объектов-общественного-питания-3.7\"><span class=\"toc-item-num\">3.7&nbsp;&nbsp;</span>Топ-10 улиц по количеству объектов общественного питания</a></span></li><li><span><a href=\"#Улицы-с-одним-объектом-общественного-питания\" data-toc-modified-id=\"Улицы-с-одним-объектом-общественного-питания-3.8\"><span class=\"toc-item-num\">3.8&nbsp;&nbsp;</span>Улицы с одним объектом общественного питания</a></span></li></ul></li><li><span><a href=\"#Общие-выводы\" data-toc-modified-id=\"Общие-выводы-4\"><span class=\"toc-item-num\">4&nbsp;&nbsp;</span>Общие выводы</a></span></li><li><span><a href=\"#Презентация\" data-toc-modified-id=\"Презентация-5\"><span class=\"toc-item-num\">5&nbsp;&nbsp;</span>Презентация</a></span></li></ul></div>"
   ]
  },
  {
   "cell_type": "markdown",
   "metadata": {},
   "source": [
    "# Исследование заведений общественного питания Москвы"
   ]
  },
  {
   "cell_type": "markdown",
   "metadata": {},
   "source": [
    "**Цель исследования:**\n",
    "Выяснить для инвесторов текущее положение дел на рынке: будет ли кафе с официантами-роботами в Москве популярным в долгосрочной перспективе?\n",
    "\n",
    "**Описание данных:** открытые данные о заведениях общественного питания в Москве.\n",
    "\n",
    "   Таблица `rest_data`:\n",
    "\n",
    " - `id` — идентификатор объекта;\n",
    " - `object_name` — название объекта общественного питания;\n",
    " - `chain` — сетевой ресторан;\n",
    " - `object_type` — тип объекта общественного питания;\n",
    " - `address` — адрес;\n",
    " - `number` — количество посадочных мест.\n",
    "\n",
    "**План работ:**\n",
    "\n",
    " - [x] Исследовать соотношение видов объектов общественного питания по количеству.\n",
    " - [x] Исследовать соотношение сетевых и несетевых заведений по количеству.\n",
    " - [x] Выяснить для какого вида объекта общественного питания характерно сетевое распространение.\n",
    " - [x] Выяснить что характерно для сетевых заведений: много заведений с небольшим числом посадочных мест в каждом или мало заведений с большим количеством посадочных мест.\n",
    " - [x] Для каждого вида объекта общественного питания описать среднее количество посадочных мест. Выяснить какой вид предоставляет в среднем самое большое количество посадочных мест.\n",
    " - [x] Выделить в отдельный столбец информацию об улице из столбца address.\n",
    " - [x] Построить график топ-10 улиц по количеству объектов общественного питания. Выяснить в каких районах Москвы находятся эти улицы.\n",
    " - [x] Найти число улиц с одним объектом общественного питания. Выяснить в каких районах Москвы находятся эти улицы.\n",
    " - [x] Сделать общий вывод и дать рекомендации о виде заведения, количестве посадочных мест, а также районе расположения. Прокомментировать возможность развития сети.\n",
    " - [x] Подготовить презентацию исследования для инвесторов."
   ]
  },
  {
   "cell_type": "markdown",
   "metadata": {},
   "source": [
    "## Обзор данных"
   ]
  },
  {
   "cell_type": "code",
   "execution_count": 1,
   "metadata": {},
   "outputs": [
    {
     "name": "stdout",
     "output_type": "stream",
     "text": [
      "Collecting folium\n",
      "  Downloading folium-0.12.1.post1-py2.py3-none-any.whl (95 kB)\n",
      "\u001b[K     |████████████████████████████████| 95 kB 2.1 MB/s eta 0:00:011\n",
      "\u001b[?25hCollecting branca>=0.3.0\n",
      "  Downloading branca-0.5.0-py3-none-any.whl (24 kB)\n",
      "Requirement already satisfied: requests in /opt/conda/lib/python3.9/site-packages (from folium) (2.25.1)\n",
      "Requirement already satisfied: numpy in /opt/conda/lib/python3.9/site-packages (from folium) (1.21.1)\n",
      "Requirement already satisfied: jinja2>=2.9 in /opt/conda/lib/python3.9/site-packages (from folium) (3.0.1)\n",
      "Requirement already satisfied: MarkupSafe>=2.0 in /opt/conda/lib/python3.9/site-packages (from jinja2>=2.9->folium) (2.0.1)\n",
      "Requirement already satisfied: urllib3<1.27,>=1.21.1 in /opt/conda/lib/python3.9/site-packages (from requests->folium) (1.26.6)\n",
      "Requirement already satisfied: certifi>=2017.4.17 in /opt/conda/lib/python3.9/site-packages (from requests->folium) (2022.5.18.1)\n",
      "Requirement already satisfied: idna<3,>=2.5 in /opt/conda/lib/python3.9/site-packages (from requests->folium) (2.10)\n",
      "Requirement already satisfied: chardet<5,>=3.0.2 in /opt/conda/lib/python3.9/site-packages (from requests->folium) (4.0.0)\n",
      "Installing collected packages: branca, folium\n",
      "Successfully installed branca-0.5.0 folium-0.12.1.post1\n",
      "Note: you may need to restart the kernel to use updated packages.\n"
     ]
    }
   ],
   "source": [
    "pip install folium"
   ]
  },
  {
   "cell_type": "code",
   "execution_count": 2,
   "metadata": {},
   "outputs": [],
   "source": [
    "# импортируем все необходимые библиотеки для исследования \n",
    "\n",
    "import pandas as pd\n",
    "import seaborn as sns\n",
    "import plotly.express as px\n",
    "import numpy as np\n",
    "import folium\n",
    "import requests\n",
    "import os\n",
    "import re\n",
    "from matplotlib import pyplot as plt\n",
    "from termcolor import colored, cprint\n",
    "from io import BytesIO\n",
    "\n",
    "\n",
    "\n",
    "%matplotlib inline\n",
    "\n",
    "pd.options.display.float_format = '{:.2f}'.format"
   ]
  },
  {
   "cell_type": "code",
   "execution_count": 3,
   "metadata": {},
   "outputs": [],
   "source": [
    "def import_data(pth_1, pth_2):\n",
    "    \"\"\"Функция загрузки данных из csv. \n",
    "    На вход функция принимает два варианта пути (локальный/сервер).\n",
    "    Загрузка происходит из доступного.\"\"\"\n",
    "    if os.path.exists(pth_1):\n",
    "        return pd.read_csv(pth_1)\n",
    "    elif os.path.exists(pth_2):\n",
    "        return pd.read_csv(pth_2)\n",
    "    else:\n",
    "        print('Загрузка данных не удалась. Что-то пошло не так.')"
   ]
  },
  {
   "cell_type": "code",
   "execution_count": 4,
   "metadata": {},
   "outputs": [],
   "source": [
    "# Загружаем данные \n",
    "df = import_data('/datasets/rest_data.csv', 'D:/anaconda3/rest_data.csv')"
   ]
  },
  {
   "cell_type": "code",
   "execution_count": 5,
   "metadata": {},
   "outputs": [],
   "source": [
    "def display_df(df):\n",
    "    \"\"\" Функция переименует столбцы в соответствии со змеиным регистром и покажет:\n",
    "    - произвольные 5 строк датафрейма\n",
    "    - типы данных\n",
    "    - пропуски\n",
    "    - дубликаты\"\"\"\n",
    "    \n",
    "    def to_snake_case(name):\n",
    "        name = re.sub('(.)([A-Z][a-z]+)', r'\\1_\\2', name)\n",
    "        name = re.sub('__([A-Z])', r'_\\1', name)\n",
    "        name = re.sub('([a-z0-9])([A-Z])', r'\\1_\\2', name)\n",
    "        return name.lower()\n",
    "\n",
    "    df.columns = df.columns.to_series().apply(to_snake_case)\n",
    "    print('')\n",
    "    cprint('Первые 5 строк датафрейма', 'green', attrs=['blink'])\n",
    "    display(df.head())\n",
    "    print('')\n",
    "    print('')\n",
    "    cprint('Типы данных', 'green', attrs=['blink'])\n",
    "    print('')\n",
    "    print(df.info())\n",
    "    print('')\n",
    "    print('')\n",
    "    cprint('Пропуски', 'green', attrs=['blink'])\n",
    "    print('')\n",
    "    count = 0\n",
    "    for element in df.columns:\n",
    "        if df[element].isna().sum() > 0:\n",
    "            print(element, '-', df[element].isna().sum(), 'пропусков')\n",
    "            count =+1\n",
    "    if count == 0:\n",
    "        print('Пропусков нет')\n",
    "    print('')\n",
    "    print('')\n",
    "    cprint('Дубликаты', 'green', attrs=['blink'])\n",
    "    print('')\n",
    "    if df.duplicated().sum() > 0:\n",
    "        print('Дубликатов:', df.duplicated().sum())\n",
    "    else:\n",
    "        print('Дубликатов нет')   "
   ]
  },
  {
   "cell_type": "code",
   "execution_count": 6,
   "metadata": {},
   "outputs": [
    {
     "name": "stdout",
     "output_type": "stream",
     "text": [
      "\n",
      "\u001b[5m\u001b[32mПервые 5 строк датафрейма\u001b[0m\n"
     ]
    },
    {
     "data": {
      "text/html": [
       "<div>\n",
       "<style scoped>\n",
       "    .dataframe tbody tr th:only-of-type {\n",
       "        vertical-align: middle;\n",
       "    }\n",
       "\n",
       "    .dataframe tbody tr th {\n",
       "        vertical-align: top;\n",
       "    }\n",
       "\n",
       "    .dataframe thead th {\n",
       "        text-align: right;\n",
       "    }\n",
       "</style>\n",
       "<table border=\"1\" class=\"dataframe\">\n",
       "  <thead>\n",
       "    <tr style=\"text-align: right;\">\n",
       "      <th></th>\n",
       "      <th>id</th>\n",
       "      <th>object_name</th>\n",
       "      <th>chain</th>\n",
       "      <th>object_type</th>\n",
       "      <th>address</th>\n",
       "      <th>number</th>\n",
       "    </tr>\n",
       "  </thead>\n",
       "  <tbody>\n",
       "    <tr>\n",
       "      <th>0</th>\n",
       "      <td>151635</td>\n",
       "      <td>СМЕТАНА</td>\n",
       "      <td>нет</td>\n",
       "      <td>кафе</td>\n",
       "      <td>город Москва, улица Егора Абакумова, дом 9</td>\n",
       "      <td>48</td>\n",
       "    </tr>\n",
       "    <tr>\n",
       "      <th>1</th>\n",
       "      <td>77874</td>\n",
       "      <td>Родник</td>\n",
       "      <td>нет</td>\n",
       "      <td>кафе</td>\n",
       "      <td>город Москва, улица Талалихина, дом 2/1, корпус 1</td>\n",
       "      <td>35</td>\n",
       "    </tr>\n",
       "    <tr>\n",
       "      <th>2</th>\n",
       "      <td>24309</td>\n",
       "      <td>Кафе «Академия»</td>\n",
       "      <td>нет</td>\n",
       "      <td>кафе</td>\n",
       "      <td>город Москва, Абельмановская улица, дом 6</td>\n",
       "      <td>95</td>\n",
       "    </tr>\n",
       "    <tr>\n",
       "      <th>3</th>\n",
       "      <td>21894</td>\n",
       "      <td>ПИЦЦЕТОРИЯ</td>\n",
       "      <td>да</td>\n",
       "      <td>кафе</td>\n",
       "      <td>город Москва, Абрамцевская улица, дом 1</td>\n",
       "      <td>40</td>\n",
       "    </tr>\n",
       "    <tr>\n",
       "      <th>4</th>\n",
       "      <td>119365</td>\n",
       "      <td>Кафе «Вишневая метель»</td>\n",
       "      <td>нет</td>\n",
       "      <td>кафе</td>\n",
       "      <td>город Москва, Абрамцевская улица, дом 9, корпус 1</td>\n",
       "      <td>50</td>\n",
       "    </tr>\n",
       "  </tbody>\n",
       "</table>\n",
       "</div>"
      ],
      "text/plain": [
       "       id             object_name chain object_type  \\\n",
       "0  151635                 СМЕТАНА   нет        кафе   \n",
       "1   77874                  Родник   нет        кафе   \n",
       "2   24309         Кафе «Академия»   нет        кафе   \n",
       "3   21894              ПИЦЦЕТОРИЯ    да        кафе   \n",
       "4  119365  Кафе «Вишневая метель»   нет        кафе   \n",
       "\n",
       "                                             address  number  \n",
       "0         город Москва, улица Егора Абакумова, дом 9      48  \n",
       "1  город Москва, улица Талалихина, дом 2/1, корпус 1      35  \n",
       "2          город Москва, Абельмановская улица, дом 6      95  \n",
       "3            город Москва, Абрамцевская улица, дом 1      40  \n",
       "4  город Москва, Абрамцевская улица, дом 9, корпус 1      50  "
      ]
     },
     "metadata": {},
     "output_type": "display_data"
    },
    {
     "name": "stdout",
     "output_type": "stream",
     "text": [
      "\n",
      "\n",
      "\u001b[5m\u001b[32mТипы данных\u001b[0m\n",
      "\n",
      "<class 'pandas.core.frame.DataFrame'>\n",
      "RangeIndex: 15366 entries, 0 to 15365\n",
      "Data columns (total 6 columns):\n",
      " #   Column       Non-Null Count  Dtype \n",
      "---  ------       --------------  ----- \n",
      " 0   id           15366 non-null  int64 \n",
      " 1   object_name  15366 non-null  object\n",
      " 2   chain        15366 non-null  object\n",
      " 3   object_type  15366 non-null  object\n",
      " 4   address      15366 non-null  object\n",
      " 5   number       15366 non-null  int64 \n",
      "dtypes: int64(2), object(4)\n",
      "memory usage: 720.4+ KB\n",
      "None\n",
      "\n",
      "\n",
      "\u001b[5m\u001b[32mПропуски\u001b[0m\n",
      "\n",
      "Пропусков нет\n",
      "\n",
      "\n",
      "\u001b[5m\u001b[32mДубликаты\u001b[0m\n",
      "\n",
      "Дубликатов нет\n"
     ]
    }
   ],
   "source": [
    "display_df(df)"
   ]
  },
  {
   "cell_type": "markdown",
   "metadata": {},
   "source": [
    "**По итогам первичного обзора данных:**\n",
    "- названия колонок приведены к змеиному регистру\n",
    "- пропусков не обнаружено\n",
    "- явных дубликатов не обнаружено"
   ]
  },
  {
   "cell_type": "markdown",
   "metadata": {},
   "source": [
    "## Предобработка данных"
   ]
  },
  {
   "cell_type": "code",
   "execution_count": 7,
   "metadata": {},
   "outputs": [],
   "source": [
    "#Напишем функцию для анализа столбцов\n",
    "\n",
    "def category_analysis(df, bins):\n",
    "    for elem in df.columns:\n",
    "        print('')\n",
    "        cprint(f'Уникальные значения столбца {elem}', 'blue', attrs=['blink'])\n",
    "        print('')\n",
    "        print(df[elem].sort_values().unique())\n",
    "        print('')\n",
    "        print(f'Количество: {df[elem].nunique()}')\n",
    "        if df[elem].nunique() <= bins:\n",
    "            plt.figure(figsize=(9,5))\n",
    "            plt.hist(df[elem], bins=bins, ec='black', alpha=0.5)\n",
    "            plt.xticks(rotation=45, ha='right')\n",
    "            plt.title('Гистограмма парметра: {}'.format(df[elem].name))\n",
    "            plt.show();\n",
    "        elif df[elem].nunique() <= 315:\n",
    "            plt.figure(figsize=(9,5))\n",
    "            plt.hist(df[elem], bins=30, ec='black', alpha=0.5)\n",
    "            plt.xticks()\n",
    "            plt.title('Гистограмма парметра: {}'.format(df[elem].name))\n",
    "            plt.show();\n",
    "        else:\n",
    "            print('')\n",
    "            cprint('Гистограмму посторить невозможно, слишком много значений', 'red')"
   ]
  },
  {
   "cell_type": "code",
   "execution_count": 8,
   "metadata": {
    "scrolled": false
   },
   "outputs": [
    {
     "name": "stdout",
     "output_type": "stream",
     "text": [
      "\n",
      "\u001b[5m\u001b[34mУникальные значения столбца id\u001b[0m\n",
      "\n",
      "[   838   5882  19613 ... 223437 223438 223439]\n",
      "\n",
      "Количество: 15366\n",
      "\n",
      "\u001b[31mГистограмму посторить невозможно, слишком много значений\u001b[0m\n",
      "\n",
      "\u001b[5m\u001b[34mУникальные значения столбца object_name\u001b[0m\n",
      "\n",
      "['1-ЫЙ МОСКОВСКИЙ КАДЕТСКИЙ КОРПУС' '1-й МОК' '100 личная столовая' ...\n",
      " 'школа 775' 'школа 913' 'школа 919']\n",
      "\n",
      "Количество: 10393\n",
      "\n",
      "\u001b[31mГистограмму посторить невозможно, слишком много значений\u001b[0m\n",
      "\n",
      "\u001b[5m\u001b[34mУникальные значения столбца chain\u001b[0m\n",
      "\n",
      "['да' 'нет']\n",
      "\n",
      "Количество: 2\n"
     ]
    },
    {
     "data": {
      "image/png": "[encoded data removed]",
      "text/plain": [
       "<Figure size 648x360 with 1 Axes>"
      ]
     },
     "metadata": {
      "needs_background": "light"
     },
     "output_type": "display_data"
    },
    {
     "name": "stdout",
     "output_type": "stream",
     "text": [
      "\n",
      "\u001b[5m\u001b[34mУникальные значения столбца object_type\u001b[0m\n",
      "\n",
      "['бар' 'буфет' 'закусочная' 'кафе' 'кафетерий' 'магазин (отдел кулинарии)'\n",
      " 'предприятие быстрого обслуживания' 'ресторан' 'столовая']\n",
      "\n",
      "Количество: 9\n"
     ]
    },
    {
     "data": {
      "image/png": "[encoded data removed]",
      "text/plain": [
       "<Figure size 648x360 with 1 Axes>"
      ]
     },
     "metadata": {
      "needs_background": "light"
     },
     "output_type": "display_data"
    },
    {
     "name": "stdout",
     "output_type": "stream",
     "text": [
      "\n",
      "\u001b[5m\u001b[34mУникальные значения столбца address\u001b[0m\n",
      "\n",
      "['1-й Нагатинский проезд, дом 10'\n",
      " '1-я Тверская-Ямская улица, дом 29/66, корпус 1'\n",
      " '2-я Брестская улица, дом 1, строение 1' ...\n",
      " 'улица Миклухо-Маклая, дом 18' 'улица Обручева, дом 23, строение 1'\n",
      " 'улица Сергея Макеева, дом 9, строение 2']\n",
      "\n",
      "Количество: 9108\n",
      "\n",
      "\u001b[31mГистограмму посторить невозможно, слишком много значений\u001b[0m\n",
      "\n",
      "\u001b[5m\u001b[34mУникальные значения столбца number\u001b[0m\n",
      "\n",
      "[   0    1    2    3    4    5    6    7    8    9   10   11   12   13\n",
      "   14   15   16   17   18   19   20   21   22   23   24   25   26   27\n",
      "   28   29   30   31   32   33   34   35   36   37   38   39   40   41\n",
      "   42   43   44   45   46   47   48   49   50   51   52   53   54   55\n",
      "   56   57   58   59   60   61   62   63   64   65   66   67   68   69\n",
      "   70   71   72   73   74   75   76   77   78   79   80   81   82   83\n",
      "   84   85   86   87   88   89   90   91   92   93   94   95   96   97\n",
      "   98   99  100  101  102  103  104  105  106  107  108  109  110  111\n",
      "  112  113  114  115  116  118  119  120  121  122  123  124  125  126\n",
      "  127  128  130  131  132  133  134  135  136  138  139  140  141  142\n",
      "  143  144  145  146  147  148  149  150  151  152  153  154  155  156\n",
      "  157  158  159  160  161  162  164  165  166  167  168  170  172  173\n",
      "  174  175  176  177  178  180  181  184  185  186  187  188  189  190\n",
      "  192  194  195  196  198  199  200  202  204  205  206  207  208  210\n",
      "  212  213  214  215  216  217  218  220  222  224  225  226  228  229\n",
      "  230  232  234  236  237  238  239  240  242  243  244  245  246  247\n",
      "  248  250  252  255  257  259  260  266  268  270  271  272  273  275\n",
      "  276  277  278  280  282  283  284  286  287  288  290  292  295  300\n",
      "  301  302  305  306  307  308  310  313  320  324  326  328  330  337\n",
      "  338  340  343  350  356  360  362  371  380  395  398  400  420  424\n",
      "  428  430  450  455  456  472  478  480  481  483  490  491  495  500\n",
      "  520  533  542  580  585  600  625  644  650  660  675  680  700  760\n",
      "  920 1040 1200 1288 1400 1500 1700]\n",
      "\n",
      "Количество: 315\n"
     ]
    },
    {
     "data": {
      "image/png": "[encoded data removed]",
      "text/plain": [
       "<Figure size 648x360 with 1 Axes>"
      ]
     },
     "metadata": {
      "needs_background": "light"
     },
     "output_type": "display_data"
    }
   ],
   "source": [
    "category_analysis(df, 9)"
   ]
  },
  {
   "cell_type": "code",
   "execution_count": 9,
   "metadata": {},
   "outputs": [
    {
     "data": {
      "text/plain": [
       "['1-ЫЙ МОСКОВСКИЙ КАДЕТСКИЙ КОРПУС',\n",
       " '1-й МОК',\n",
       " '100 личная столовая',\n",
       " '100 личное кафе',\n",
       " '1001 ночь',\n",
       " '100лоФФка',\n",
       " '101 вкус',\n",
       " '13 RULES',\n",
       " '13 RULES KRAFT BEER',\n",
       " '13 Rules',\n",
       " '15 Kitchen+bar',\n",
       " '18 АВТОБУСНЫЙ ПАРК',\n",
       " '19bar Atmosphere',\n",
       " '1x bet',\n",
       " '2-Й АВТОБУСНЫЙ ПАРК',\n",
       " \"23'00\",\n",
       " '24 Градуса',\n",
       " '259',\n",
       " '3 Skovorodki',\n",
       " '3 правила',\n",
       " '33 пингвина',\n",
       " '37-37',\n",
       " '44 Чашма',\n",
       " '495',\n",
       " '5звезд Юг 52',\n",
       " '68. ПАУЗА',\n",
       " '69 Pints Бар',\n",
       " '69 pints',\n",
       " '7 Сендвичей',\n",
       " '7 злаков',\n",
       " '7 сэндвичей-Meating',\n",
       " '7717 LOUNGE (Кальянная)',\n",
       " '8 OZ Унций',\n",
       " '8-ОЙ ТРОЛЛЕЙБУСНЫЙ ПАРК',\n",
       " '9 АВТОБУСНЫЙ ПАРК',\n",
       " '9bar',\n",
       " 'ABC Coffee Roasters',\n",
       " 'ACCENTI',\n",
       " 'ADRY',\n",
       " 'AGLOMERAT',\n",
       " 'AL33 Пиццерия Бар Ботега',\n",
       " 'ALOHA POKE BAR',\n",
       " 'AMARSI',\n",
       " 'AMG',\n",
       " 'APARTAMENT Пар Бар',\n",
       " 'AQKitchen',\n",
       " 'ART PUB',\n",
       " 'Abbey Players Irish Pub',\n",
       " 'Absolem',\n",
       " 'Acai Family',\n",
       " 'Alex Пекарня',\n",
       " 'Amande Cafe',\n",
       " 'Americano Кафе',\n",
       " 'Amerigos Pizza',\n",
       " 'Amore Grande',\n",
       " 'Amore, итальянское мороженое',\n",
       " 'Amster bar snacks',\n",
       " 'An Nam',\n",
       " 'Andiamo',\n",
       " \"Andy's friends\",\n",
       " 'Arahis Pub',\n",
       " 'Arbat hall',\n",
       " 'Arena by Soho Family',\n",
       " 'Aroma',\n",
       " 'Art Cafe',\n",
       " 'Art lunch',\n",
       " 'Art&Food',\n",
       " 'Avenue 6',\n",
       " 'BARBADOS',\n",
       " 'BARRIQUE',\n",
       " 'BAZAR',\n",
       " 'BB & Burgers',\n",
       " 'BB Grill',\n",
       " 'BB энд Burger',\n",
       " 'BB&BURGERS',\n",
       " 'BB&Burgers',\n",
       " 'BBBurgers',\n",
       " 'BBQ',\n",
       " 'BBQ AM Барбекю',\n",
       " 'BEER BEER bar',\n",
       " 'BEER DOCK',\n",
       " 'BENEFIT фреш бар',\n",
       " 'BIBI-ДОНЕР',\n",
       " 'BIG суши',\n",
       " 'BISTROT',\n",
       " 'BLACK STAR BURGER',\n",
       " 'BLIN.RU FOOD&TEA',\n",
       " 'BLINДАЖ',\n",
       " 'BO',\n",
       " 'BOKKER',\n",
       " 'BORODA BURGER',\n",
       " 'BOSTON',\n",
       " 'BP',\n",
       " 'BQ Cafe & Osteria Mario',\n",
       " 'BRASSERIE МОСТ',\n",
       " 'BRB',\n",
       " 'BREAC CAFE',\n",
       " 'BREWERY&BAR POET',\n",
       " 'BRawleRS PAB',\n",
       " 'BUBA by SUMOSAN',\n",
       " 'BUBBA SHERI',\n",
       " 'BURGER HEROES',\n",
       " 'BURO TSUM',\n",
       " 'BUZfood',\n",
       " 'BaMi',\n",
       " 'Babbles dessert&babbles',\n",
       " 'Bambule',\n",
       " 'Bananas',\n",
       " 'Bar BQ',\n",
       " 'Bar BQ Cafe',\n",
       " 'Bar Dag',\n",
       " 'Bar LosBandidos',\n",
       " 'Bar for Bikers',\n",
       " 'BarBQcafe',\n",
       " 'Barbecue Beer Bar',\n",
       " 'Barbecue bbq storege',\n",
       " 'Barbeque',\n",
       " 'Barbeque bbq',\n",
       " 'Bardak кафе по-турецки',\n",
       " 'Baristo Coffee',\n",
       " 'Barrister',\n",
       " 'Barton',\n",
       " 'Baskin Robbins',\n",
       " 'Be Positive',\n",
       " 'Be my pizza',\n",
       " 'Beef Роял',\n",
       " 'Beer Gik',\n",
       " 'Beer Happens',\n",
       " 'Beer Harbor',\n",
       " 'Beer and Fries',\n",
       " 'BeerNation',\n",
       " 'Beermood',\n",
       " 'Beertep',\n",
       " \"Benner's\",\n",
       " 'Berikoni',\n",
       " 'Berry Fruit',\n",
       " 'Beverly Hills Diner',\n",
       " 'Bierloga',\n",
       " 'Big Wall Cafe',\n",
       " 'Big boys',\n",
       " 'Bigati Bar',\n",
       " 'Bistrof & Boutigue №7',\n",
       " 'Bizone Hookah',\n",
       " 'Bizone Антикафе',\n",
       " 'Black & White',\n",
       " 'Black Hat',\n",
       " 'Black Star Burger',\n",
       " 'Black Star Burger Prime',\n",
       " 'Black Star Burgers',\n",
       " 'Black Swan pub&shop',\n",
       " 'Black cafe',\n",
       " 'Black coffe and food',\n",
       " 'Black star burgers',\n",
       " 'Black&Black',\n",
       " 'Blak Tai',\n",
       " \"Blak's\",\n",
       " 'Bloom-n-brew',\n",
       " 'Blush',\n",
       " 'Bo',\n",
       " 'Bo-Bo Lounge',\n",
       " \"Bob's Your Uncle\",\n",
       " 'Bocconcino',\n",
       " 'Bodrero',\n",
       " 'Bodro coffee',\n",
       " 'Bodrum',\n",
       " 'Boilerman craft beer',\n",
       " 'Bokker',\n",
       " 'Bolognetta',\n",
       " 'Bon App',\n",
       " 'Bongo coffee',\n",
       " 'BooBo',\n",
       " 'Bootleggers',\n",
       " 'Born to Burn',\n",
       " 'Boroda',\n",
       " 'Bosco Bar',\n",
       " 'Bosco Cafe',\n",
       " 'BottomsUp',\n",
       " 'Bridge Coffee',\n",
       " 'Brioche',\n",
       " 'Brisket BBQ',\n",
       " 'Broms',\n",
       " 'Brooklyn Burgers Bar',\n",
       " 'Brou star Броубар',\n",
       " 'Brut Bar',\n",
       " 'Buba by Sumosan',\n",
       " 'Bubble Mania',\n",
       " 'Bubbleology',\n",
       " 'Bucks Coffee',\n",
       " 'Buffalo',\n",
       " \"Buffalo's & Tacodor\",\n",
       " 'Buffalos',\n",
       " 'Burger & Pizzetta',\n",
       " 'Burger Club',\n",
       " 'Burger First',\n",
       " 'Burger Heroes',\n",
       " 'Burger №1',\n",
       " 'BurgerKing',\n",
       " 'Burgerbar Dos Bandidos',\n",
       " 'Bushe',\n",
       " 'Buthers Стейк бар',\n",
       " 'C CUPS сеть стильных кофеен',\n",
       " 'CAFE DE ARTS',\n",
       " 'CASA LEONE',\n",
       " 'CATCH',\n",
       " 'CEDRO',\n",
       " 'CHEESE connection',\n",
       " 'CHEHONTE',\n",
       " 'CHILL&BEER',\n",
       " 'CIAO BELLA',\n",
       " 'CIAO PIZZA',\n",
       " 'CIDERELLA',\n",
       " 'CINNABON',\n",
       " 'CITO',\n",
       " 'COFE FEST',\n",
       " 'COFFE',\n",
       " 'COFFE NOBE',\n",
       " 'COFFE WAY',\n",
       " 'COFFEE BAR',\n",
       " 'COFFEE GATE',\n",
       " 'COFFEE LIKE',\n",
       " 'COFFEE SOVA',\n",
       " 'COFFEE WAY',\n",
       " 'COFIX',\n",
       " 'COFIX+PLOMBIR',\n",
       " 'COLLIDER',\n",
       " 'COLORS',\n",
       " 'CORREAS',\n",
       " 'CRAFTER',\n",
       " 'CRECO',\n",
       " 'CROSS KEYS PAB',\n",
       " 'CUBA ПАБ',\n",
       " 'CUPS & HUGS',\n",
       " 'Cafe 88',\n",
       " 'Cafe Giusto',\n",
       " 'Cafe Rioba',\n",
       " 'Cafe del Parco',\n",
       " 'Cafe&Spa Art De Vie',\n",
       " 'Cafetera',\n",
       " 'Caffeine',\n",
       " 'Calabash Club',\n",
       " 'Camera Obscura',\n",
       " 'Carte D Or',\n",
       " 'Casa di Moska',\n",
       " 'Casa di familiya',\n",
       " 'Cash&Curry',\n",
       " 'Cassette Cafe',\n",
       " 'Castle DiSH',\n",
       " 'Catavina',\n",
       " 'Cavlar bar',\n",
       " 'Cernovar',\n",
       " 'Cevicheria.Tartaria',\n",
       " 'Cezve Coffee',\n",
       " 'Chaikhana Shurpa',\n",
       " \"Charley's\",\n",
       " 'Charlie Moscow',\n",
       " 'Chefs Table',\n",
       " 'Chicken Duck',\n",
       " 'Chilling Moscow',\n",
       " 'Chilling Time',\n",
       " 'China Blue',\n",
       " 'China Street',\n",
       " 'Chinese Market',\n",
       " 'Chinook ресторан',\n",
       " 'Chipl',\n",
       " 'Chips',\n",
       " 'Choice bar',\n",
       " 'ChopEat',\n",
       " 'Ciao Pizza',\n",
       " 'Cihan Steak and Kebab',\n",
       " 'Cinnabon',\n",
       " 'Cinnabon2',\n",
       " 'CityLunch',\n",
       " 'Classiko Bar',\n",
       " 'Club Le Shateau',\n",
       " 'Cobra Game House',\n",
       " 'Cofe Mix',\n",
       " 'Coffe & master',\n",
       " 'Coffe Bar',\n",
       " 'Coffe Ko',\n",
       " 'Coffe Point',\n",
       " 'Coffe TO GO',\n",
       " 'Coffe crew',\n",
       " 'Coffe in time',\n",
       " 'Coffe to go',\n",
       " 'Coffe&Kitchen',\n",
       " 'Coffe-like',\n",
       " 'CoffeBrain',\n",
       " 'Coffee',\n",
       " 'Coffee & Talk',\n",
       " 'Coffee & Waffles & Movenpick',\n",
       " 'Coffee Bo',\n",
       " 'Coffee Energy',\n",
       " 'Coffee Good',\n",
       " 'Coffee Like',\n",
       " 'Coffee Moose',\n",
       " 'Coffee Play',\n",
       " 'Coffee in',\n",
       " 'Coffee moments',\n",
       " 'Coffee moose кофейня',\n",
       " 'Coffee port',\n",
       " 'Coffee smile',\n",
       " 'CoffeeShop',\n",
       " 'Coffeefresh',\n",
       " 'Coffeeist',\n",
       " 'Coffeek',\n",
       " 'Coffeeshop Company',\n",
       " 'Coffey',\n",
       " 'Cofix',\n",
       " 'Cofix-Bright',\n",
       " 'Cola Burger',\n",
       " 'Community',\n",
       " 'Cookhouse',\n",
       " 'Copybara',\n",
       " 'Corner Burger',\n",
       " 'Corner cafe kitchen',\n",
       " 'Correas',\n",
       " 'Cosmohookah bar',\n",
       " 'Costa Coffee',\n",
       " 'Courvoisier',\n",
       " 'Craft & Draft',\n",
       " 'Craft Beer',\n",
       " 'Craft Beer RePUBlic',\n",
       " 'Craft RePUBlic',\n",
       " 'Craft Station',\n",
       " 'Craft beer',\n",
       " 'Crafted',\n",
       " 'Craftlaand',\n",
       " 'Crazy Brothers',\n",
       " 'Cream Station',\n",
       " 'Crema espresso bar',\n",
       " 'Crop',\n",
       " 'Croquette cafe',\n",
       " 'Crush Hof',\n",
       " 'Crystal',\n",
       " 'Cure Bar',\n",
       " 'Curry Up',\n",
       " 'Cutlet',\n",
       " 'CУШИ.ПИЦЦА',\n",
       " 'Cити Гольф',\n",
       " 'D Wine',\n",
       " 'D&D cafe',\n",
       " 'DANTE bar and kitchen',\n",
       " 'DIM SUM',\n",
       " 'DIMSUM&CO',\n",
       " 'DISTRICT',\n",
       " 'DONER KEBAB',\n",
       " 'DONER ШАУРМА',\n",
       " 'DONER-JN',\n",
       " 'DOUBLE B',\n",
       " 'DRAKE',\n",
       " 'DUCK IT',\n",
       " 'DUCKIT',\n",
       " 'DUCKSTARS',\n",
       " 'Dagda Irish Pub',\n",
       " 'Daily Chef',\n",
       " 'Danatos пицца',\n",
       " 'Dankin Donats',\n",
       " 'Darbars',\n",
       " \"Dark Patrik's Pub\",\n",
       " 'Dead Rabbit Pub',\n",
       " 'Deli by Prime Прайм-кафе',\n",
       " 'Devi',\n",
       " 'Di ПАОЛО',\n",
       " 'Dim Sum',\n",
       " 'Dim Sum & Co',\n",
       " 'Dim Sum&Co',\n",
       " 'Dim Sun',\n",
       " 'Dim&Sam',\n",
       " 'Dippin Dots',\n",
       " 'Dippin dots, мороженое',\n",
       " 'Dizengof99',\n",
       " 'Django Lounge Кальян-бар',\n",
       " 'Do Do пицца',\n",
       " 'Dobrosco',\n",
       " 'Dodici wine and Kitchen',\n",
       " 'Dolce Gamarjoba',\n",
       " 'Dolce crema',\n",
       " 'Domino-s Pizza',\n",
       " 'Dominos Pizza',\n",
       " \"Donatello's\",\n",
       " 'Doner Club',\n",
       " 'Doner House',\n",
       " 'Doner Kebab',\n",
       " 'Doner Kebab-Куры Гриль',\n",
       " 'Doner Хаус',\n",
       " 'Doubl B',\n",
       " 'Double Pizza',\n",
       " 'Doughnats Coffee',\n",
       " 'Down House',\n",
       " 'Dream & Drink Caffee',\n",
       " 'Dream Lounge Moscow Кальянная',\n",
       " 'DreamWok',\n",
       " 'Drive',\n",
       " 'DroVa',\n",
       " 'Dry and wet Bar',\n",
       " \"Duck Star'S\",\n",
       " 'DuckIt',\n",
       " 'Dunkin Donuts',\n",
       " 'Dunkin Donuts (Азия Box - Бургер Box)',\n",
       " 'Dым Вино',\n",
       " 'EATALY',\n",
       " 'EFIR lounge',\n",
       " 'EL CAFE',\n",
       " 'ELSE kafe',\n",
       " 'ESHAK',\n",
       " 'EVEREST HOOKAH Кальянная',\n",
       " 'EXLIBRIS',\n",
       " 'Easy Brix',\n",
       " 'Eat Georgian',\n",
       " 'Eat Market',\n",
       " 'Eat and talk',\n",
       " 'EateriaKitchen (Паста)',\n",
       " 'Ecook',\n",
       " 'Edison',\n",
       " 'El Inka',\n",
       " 'Eleven-Hall',\n",
       " 'Embers Speakeasy',\n",
       " 'Enjoylife',\n",
       " 'Eshak',\n",
       " 'Executive lounge (Клубная гостинная)',\n",
       " 'Extra Lounge',\n",
       " 'FABRIKA DELI',\n",
       " 'FAN FOOD',\n",
       " 'FARRO',\n",
       " 'FARШ',\n",
       " 'FOOD PLACE',\n",
       " 'FOOD POINT',\n",
       " 'FOOD STORE еда&бар',\n",
       " 'FRESH CAFE',\n",
       " 'FRIDAYS',\n",
       " 'FROM ROME TO HOME',\n",
       " 'FUMISAWA SUSHI',\n",
       " 'Fair play',\n",
       " 'Fame',\n",
       " 'Familly Film',\n",
       " 'Family Farm Burgers',\n",
       " 'Fan Zone',\n",
       " 'Farinari',\n",
       " 'Farsh',\n",
       " 'Farш',\n",
       " 'Fibonacci',\n",
       " 'Filin good bar',\n",
       " 'Filini',\n",
       " 'Fish Me',\n",
       " 'Fish burger',\n",
       " 'Fishop и Ramen&Noodles',\n",
       " 'Five',\n",
       " 'Flames Lounge',\n",
       " 'Fleur Cafe',\n",
       " 'Flight Club',\n",
       " 'Florentini',\n",
       " 'Food Cafe',\n",
       " 'Food Embassy Юлии Высоцкой',\n",
       " 'Food Mama',\n",
       " 'Food Market',\n",
       " 'Food Place',\n",
       " 'Food Room',\n",
       " 'Food Store',\n",
       " 'Food Trip Cafe',\n",
       " 'Food and Cakes',\n",
       " 'Foood bazar',\n",
       " 'Forest',\n",
       " 'Forneria',\n",
       " 'Fornetto',\n",
       " 'Forte Bello, Zafferano, Edoko',\n",
       " 'Frank by Баста',\n",
       " \"Franklin's Roll&Burger\",\n",
       " 'Franklins',\n",
       " 'Franklins Roll&Burger,Yamkee',\n",
       " 'Franllins',\n",
       " 'French kiss',\n",
       " 'Frenchkiss',\n",
       " 'Frenchkiss Free',\n",
       " 'Fresh Bar',\n",
       " 'Fresh Cacao',\n",
       " 'Fresh bar',\n",
       " 'Fresh for you',\n",
       " 'FreshCafe',\n",
       " 'FreshUP & Cream Bar',\n",
       " 'Frid Chicken',\n",
       " 'Fridays KFC',\n",
       " 'Fried chicken',\n",
       " 'Friends',\n",
       " 'Friends&Family',\n",
       " 'Fritado Мир на сковороде',\n",
       " 'Froyolla',\n",
       " 'Fruit Lab',\n",
       " 'Fruity yummy',\n",
       " 'Fudzy',\n",
       " 'Fusion',\n",
       " 'Fusion Menu',\n",
       " 'Fарш',\n",
       " 'G arbuz',\n",
       " 'GAGAWA',\n",
       " 'GARDEN',\n",
       " 'GIANFRANCO',\n",
       " 'GIPSY',\n",
       " 'GOKOS греческая кухня',\n",
       " 'GOOD ENOUGH',\n",
       " 'GRAMMY S',\n",
       " 'GRAND УРЮК',\n",
       " 'GRANNY Кафе ОШ',\n",
       " 'GRILLFEST (колбаски гриль)',\n",
       " 'Gagawa',\n",
       " 'Galateria plombir',\n",
       " 'Gallo pizza burger',\n",
       " 'Garden Lounge кальянная',\n",
       " 'Garnets & Рассольников',\n",
       " 'Gelateria Plombir',\n",
       " 'Gelato Bacio',\n",
       " 'Genso',\n",
       " 'Genso Sushi, Явтай',\n",
       " 'Gentleman coffee',\n",
       " 'Geometric Pizza',\n",
       " 'Get Lucky',\n",
       " 'Get and Jerry',\n",
       " 'Glenuill',\n",
       " 'Gloster',\n",
       " 'Glow sabs',\n",
       " 'GlowSubs Sandwiches',\n",
       " 'Go Кофе',\n",
       " 'GoCoffe',\n",
       " 'Goat Metal Bar',\n",
       " 'Gold',\n",
       " 'Golden Palace',\n",
       " 'Goncharov',\n",
       " 'Gonzo LOUNGE',\n",
       " 'Good Food',\n",
       " 'Good chillout коллекция',\n",
       " 'Goodman Гудман',\n",
       " 'Gotham lounge',\n",
       " 'Gournest гнездо гурмана',\n",
       " 'Graff Lounge',\n",
       " 'Granat',\n",
       " 'Grand Cru',\n",
       " 'Grano',\n",
       " 'Greek Freak',\n",
       " 'Grill Room',\n",
       " 'Grill&Garden',\n",
       " 'Grill-House',\n",
       " 'Guinness Steak Pub',\n",
       " 'Gvido',\n",
       " 'Gvido Gelato',\n",
       " 'HAGGIS',\n",
       " \"HAMM'S FOOD\",\n",
       " 'HAND',\n",
       " 'HANG KONG',\n",
       " 'HEALTHY Food',\n",
       " 'HELP and FRIEND',\n",
       " 'HERITAGE',\n",
       " 'HYGGE',\n",
       " 'Hadwok',\n",
       " 'Happy Cup club',\n",
       " \"Harat's Pub\",\n",
       " 'Harats Pub',\n",
       " 'Hard Wok Cafe',\n",
       " 'Hardy Lounge Bar',\n",
       " 'Healthy Food',\n",
       " 'Healthy food',\n",
       " 'Helthy Food',\n",
       " 'Hidden bar',\n",
       " 'High Wok & Sushi',\n",
       " 'Holy Vegan',\n",
       " 'Hook Time',\n",
       " 'Hookah Burger',\n",
       " 'Hookah Cloud Lounge',\n",
       " 'Hookah Maryino',\n",
       " 'Hookah Place',\n",
       " 'Hookah Place Semenovskaya',\n",
       " 'Hookah Time',\n",
       " 'Hookah burger',\n",
       " 'Hookah place',\n",
       " 'HookahPlace',\n",
       " 'HookahXV',\n",
       " 'HookanPlace',\n",
       " 'Hot Noodle',\n",
       " 'Howards Loves Craft',\n",
       " 'Hub столовая',\n",
       " 'Hudson Bar',\n",
       " 'Hungry wolf',\n",
       " 'Hunters',\n",
       " 'I AM OK',\n",
       " 'I Like Craft',\n",
       " 'I Like Grill',\n",
       " 'I Lounge',\n",
       " 'I Van Gogh',\n",
       " 'I like bar',\n",
       " 'I-Chef',\n",
       " 'I-Chet',\n",
       " 'IBROHIM Кебаб',\n",
       " 'ICE TUBE',\n",
       " 'ICON',\n",
       " 'ID Cafe здоровое питание',\n",
       " 'IL Borgo',\n",
       " 'IL FORNETTO',\n",
       " 'IL Forno Иль Форно',\n",
       " 'IL PATIO',\n",
       " 'IL PIZZAIOLO',\n",
       " 'IL Patio',\n",
       " 'IL Pizzaiolo',\n",
       " 'IL Tocco',\n",
       " 'IL Патио',\n",
       " 'IL ПатиоПланета Суши',\n",
       " 'IN ROCKI',\n",
       " 'INDIYSKAYA TOCHKA',\n",
       " 'IPho cafe',\n",
       " 'IQ Wine',\n",
       " 'IQOS',\n",
       " 'IRISH MIST PUB',\n",
       " 'ISTANBUL corner',\n",
       " 'IVAS LOUNGE',\n",
       " 'Ibis kitchen',\n",
       " 'Idola',\n",
       " 'Il Massimo',\n",
       " 'Il pizzaolo',\n",
       " 'Im smoking',\n",
       " 'Imho bar',\n",
       " 'InDuke',\n",
       " 'Inbox',\n",
       " 'Inferno',\n",
       " 'Inferno Kitchen правильная еда',\n",
       " 'Italy',\n",
       " 'J cafe Moscow',\n",
       " 'J.Gilroys Pub',\n",
       " 'JACK & JANE',\n",
       " 'JD Burgers',\n",
       " 'JJ Coffee',\n",
       " 'JUNGLE JOY',\n",
       " 'JW Джерри Вингс (Jerry Wings)',\n",
       " 'Jacky Jacky Gastrobar',\n",
       " 'Jai Hind',\n",
       " 'Jamies italian',\n",
       " 'Jeffreys Coffee',\n",
       " 'Jeffreys coffee',\n",
       " 'Jis Asian Bistro & Wine',\n",
       " 'Johny Friends',\n",
       " 'JohnyJosper Pub',\n",
       " 'Jpan bistro',\n",
       " 'K-Grill',\n",
       " 'K-Town',\n",
       " 'K-Town Korean Noodle Bar',\n",
       " 'KAFIN',\n",
       " 'KFC',\n",
       " 'KFC Волгоградский',\n",
       " 'KFC.',\n",
       " 'KINGBERRY',\n",
       " 'KREVETKA Seafood',\n",
       " 'KROMBACHER BEER KITCHEN',\n",
       " 'KU Рамен Изакая Бар',\n",
       " 'KULINARI',\n",
       " 'KURKUMA',\n",
       " 'KUZINA',\n",
       " 'KVARTA',\n",
       " 'KVARTAL',\n",
       " 'Kafe Les',\n",
       " 'Kafin. best coffe. best price',\n",
       " 'Kalimera',\n",
       " 'Kalyan4you',\n",
       " 'Karaoke Lounge VS',\n",
       " 'Katie OSheas',\n",
       " 'Kaufman кафе',\n",
       " 'Kebab grill',\n",
       " 'Kebab house',\n",
       " 'KebabLab',\n",
       " 'Ketch Up',\n",
       " 'Ketch up',\n",
       " 'Khinkalnaya',\n",
       " 'KillFish',\n",
       " 'Kislovsky',\n",
       " 'Kitchen',\n",
       " 'KofeWay',\n",
       " 'Koffee Moose',\n",
       " 'Kombinat Deli',\n",
       " 'Kombinat Deli Кафе Кулинария',\n",
       " 'Kozlovna',\n",
       " 'KoпTeam',\n",
       " 'Kripto Cafe and Bar',\n",
       " 'Krispy Creme',\n",
       " 'Krispy Krem',\n",
       " 'Krispy Kreme',\n",
       " 'Kuksu House',\n",
       " 'Kurnik русские традиции сегодня',\n",
       " 'Kusselita',\n",
       " 'Kuvings',\n",
       " 'Kuzina',\n",
       " 'LA CASA DEL VINO',\n",
       " 'LA VERONA',\n",
       " 'LAFKA BAR',\n",
       " 'LALTRO BOSCO',\n",
       " 'LAMBIC',\n",
       " 'LAMBIC Брассерия',\n",
       " 'LATINOS',\n",
       " 'LAVKA Хлеб',\n",
       " 'LAVKALAVKA',\n",
       " 'LAWSON BAR',\n",
       " 'LES',\n",
       " 'LIFE BOWL',\n",
       " 'LIFT',\n",
       " 'LOCALS',\n",
       " 'LOFT Bar',\n",
       " 'LOFTSMOKE Кальянная',\n",
       " 'LUCE',\n",
       " 'LUNA караоке-ресторан',\n",
       " 'LUNCHROOM',\n",
       " 'LUSUN',\n",
       " 'La Casa Cubana',\n",
       " 'La Corte di Milano',\n",
       " 'La Mia Georgia',\n",
       " 'La Piazza',\n",
       " 'La Provincia',\n",
       " 'La SPEZIA',\n",
       " 'La Scala',\n",
       " 'La Scarpetta',\n",
       " 'La cafe',\n",
       " 'La casa',\n",
       " 'Laboratoria coffee',\n",
       " 'Lacky Ducks bar',\n",
       " 'Laffa Laffa',\n",
       " 'Lambic',\n",
       " 'Lampa cafe',\n",
       " 'Lancheria by Bruno',\n",
       " 'Lao Lee',\n",
       " 'Lari Georgian Kitchen',\n",
       " 'Larionov Grill & Bar',\n",
       " 'Larionov Grill and Bar',\n",
       " 'Le Bar A Vin',\n",
       " 'Legendario',\n",
       " 'Legio Syshi',\n",
       " 'Legion',\n",
       " 'Leningrad',\n",
       " 'Leto Lounge',\n",
       " 'Lets Rok bar',\n",
       " 'Lift',\n",
       " 'Ligeros Club',\n",
       " 'Like wine',\n",
       " 'Limassol',\n",
       " \"Lion's head Pub\",\n",
       " 'Lions Lairs',\n",
       " 'Litro',\n",
       " 'Little Garden Kitchen&Bar',\n",
       " 'Little Osaka',\n",
       " 'Little БЕЙРУТ',\n",
       " 'Live Stars',\n",
       " 'Local Band',\n",
       " 'Local Bar by Timur Lansky',\n",
       " 'Lock Stock',\n",
       " 'Loft 17',\n",
       " 'Loft Hall',\n",
       " 'Loft Soft Bar',\n",
       " 'London beer&grill',\n",
       " 'Look in Rooms',\n",
       " 'Lookin Rooms, Диско 90-х',\n",
       " 'Los Bandidos',\n",
       " 'Lost Bar',\n",
       " 'Louis',\n",
       " 'Lounge 1847',\n",
       " 'Lounge Bar 19-90',\n",
       " 'Lounge bar M&F',\n",
       " 'Lova Lova Multibar',\n",
       " 'Love',\n",
       " 'Love Coffee',\n",
       " 'Love Suchi and...',\n",
       " 'Lovin kafe',\n",
       " 'Lowenbrau Haus',\n",
       " 'Luciano',\n",
       " 'Lucky B Starols',\n",
       " 'Lumberjack Bar',\n",
       " 'LunchJoy Ресторан Китайской Кухни',\n",
       " 'LЮSTRA',\n",
       " 'M Cafe Хинкальная',\n",
       " 'MADEO',\n",
       " 'MASHUP',\n",
       " 'MATCHA Sushi&Bento',\n",
       " 'MATRЁSHKA ФРИ',\n",
       " 'MAX BaKery',\n",
       " 'MEAT PUPPETS',\n",
       " 'MEATSTREET',\n",
       " 'MEDUZZA Lounge Bar',\n",
       " 'MEL кафе',\n",
       " 'MELT ME',\n",
       " 'MICHAELS ISLAND CAFE',\n",
       " 'MOJO бар',\n",
       " 'MR. BURGEROVICH',\n",
       " 'MUKUZANI',\n",
       " 'Ma Mi ХАНОЙСКАЯ ЛАПША',\n",
       " 'Mac&Cheese',\n",
       " 'Macaronika',\n",
       " 'Mad Man',\n",
       " 'Mad city bar',\n",
       " 'Mad wine bar',\n",
       " 'Maestro Wok',\n",
       " 'Magic Fox',\n",
       " 'Main Street кафе',\n",
       " 'Maison Declair',\n",
       " 'Maison declaiz',\n",
       " 'Maki Maki',\n",
       " \"Mandy's Apothecary Irish Pub\",\n",
       " 'Maneki Neko',\n",
       " 'Marfino Delivery',\n",
       " 'Market Burger Bar',\n",
       " 'Market Place',\n",
       " 'Marmalato',\n",
       " 'Marrakesh Хинкальная',\n",
       " 'Marx Urban Grill',\n",
       " 'Masons lounge bar',\n",
       " 'Massala House',\n",
       " 'Master Gyros',\n",
       " 'MatchA DOPE',\n",
       " 'Matcha Botanicals',\n",
       " 'Matcha Sushi Bento',\n",
       " 'Matreshka Coffee',\n",
       " 'Matreshka Free',\n",
       " 'Maxi Pizza',\n",
       " 'Maxima cafe',\n",
       " 'McDonalds',\n",
       " 'Mealty',\n",
       " 'Meat Avenue',\n",
       " 'Meat Meet',\n",
       " 'Meat and Fish',\n",
       " 'Meat love burger',\n",
       " 'MeatChell',\n",
       " 'Meatless',\n",
       " 'Medusa Asian Kitchen bar',\n",
       " 'Meduzzza Кальян-бар',\n",
       " 'Meet Meat',\n",
       " 'Mentano',\n",
       " 'Mery',\n",
       " 'Metafora Bar',\n",
       " 'Miles',\n",
       " 'Milk&Beans',\n",
       " 'Milky Moons',\n",
       " 'Mini Pizza E.F.',\n",
       " 'Mino biFF burger',\n",
       " 'Minori Sushi',\n",
       " 'Mister X',\n",
       " 'Mitrofood',\n",
       " 'MixSalad',\n",
       " 'Modus Friends',\n",
       " 'Mojo',\n",
       " 'Momento eat',\n",
       " 'Mon Bon',\n",
       " 'MondriannLounge',\n",
       " \"Monkeys'S\",\n",
       " 'Monster Hills',\n",
       " 'Moregrill',\n",
       " 'MosInYaz кафе',\n",
       " 'MosKalyan',\n",
       " 'Movenpick',\n",
       " 'Mr Doodls',\n",
       " 'Mr Falafel',\n",
       " 'Mr. Kiko',\n",
       " 'Mr.Chef',\n",
       " 'Mr.Doner',\n",
       " 'Mr.Ginger',\n",
       " 'Mr.Tutti - 2',\n",
       " 'Mr.Тутти',\n",
       " 'Much more',\n",
       " 'Mukuzani',\n",
       " 'Mulberry lounge',\n",
       " 'Munchies pizza&bierra',\n",
       " 'Mushrooms',\n",
       " 'My Gelato',\n",
       " 'My Place',\n",
       " 'My box',\n",
       " 'My gelato КАФЕ',\n",
       " 'MyBar',\n",
       " 'Mystery Hookah Bar',\n",
       " 'MОS Gastronomic Smart и Casual',\n",
       " 'NATHANS',\n",
       " 'NGON',\n",
       " 'NICE TO MEAT YOU Бургерная',\n",
       " 'NOBU',\n",
       " 'NOODLE BAR',\n",
       " 'NOOSH',\n",
       " 'Nargilia Loft. Кальянная. Центр паровых коктелей',\n",
       " 'Natura Sanat',\n",
       " 'Nem & Pho',\n",
       " 'New York Pizza',\n",
       " 'Ngon',\n",
       " 'No Security Grill & Bar',\n",
       " 'Non La',\n",
       " 'Noodles',\n",
       " 'Nook Cofee',\n",
       " 'Nordiclub',\n",
       " 'O Eskimo Chistaya Liniya',\n",
       " 'O escimo',\n",
       " \"O'Donoghue's\",\n",
       " 'OConnells Pub',\n",
       " 'OK DONER',\n",
       " 'OK Food Story',\n",
       " 'OMGcoffee',\n",
       " 'ORIGINAL',\n",
       " 'OVO',\n",
       " 'OXUS',\n",
       " 'Officina',\n",
       " 'Oh My Pho',\n",
       " 'Oki Sushi',\n",
       " 'Oli oli',\n",
       " \"Olster's Pub\",\n",
       " 'One Level',\n",
       " 'One More Pub',\n",
       " 'One Price Coffe',\n",
       " 'One Price Coffee',\n",
       " 'One bucks coffee',\n",
       " 'One more pab',\n",
       " 'One price coffee',\n",
       " 'OnePrice',\n",
       " 'OnePriceCoffe',\n",
       " 'OnePriceCoffee',\n",
       " 'Oriental',\n",
       " 'Osteria Mario',\n",
       " 'Osteria Mario+Швили',\n",
       " 'Osteria Toscana',\n",
       " 'OsteriaMario',\n",
       " 'OverSalad',\n",
       " 'P.Square',\n",
       " 'P4B Lounge Bar',\n",
       " 'PARTY BUN',\n",
       " 'PASTA',\n",
       " 'PAUL',\n",
       " 'PAUL Поль',\n",
       " 'PECIVO',\n",
       " 'PETRUSHKA',\n",
       " 'PHO BO 360',\n",
       " 'PHO U',\n",
       " 'PHO U Вьетнамская еда',\n",
       " 'PHO VIET Въетнамская кухня',\n",
       " 'PHO вкусный',\n",
       " 'PICNIC Cafe',\n",
       " 'PINOCCHIO',\n",
       " 'PINSAPOINT',\n",
       " 'PIOPPO ALBERO',\n",
       " 'PITAS',\n",
       " 'PIVBAR',\n",
       " 'PIZZA HUT',\n",
       " 'PLAN B',\n",
       " 'PLOV BOX',\n",
       " 'PLOV.COM',\n",
       " 'PLPB пицца',\n",
       " 'POINTCoffe&Food',\n",
       " 'PQ Coffee and Friends',\n",
       " 'PRIME',\n",
       " 'PRIME STAR Прайм стар',\n",
       " 'PRIME Прайм стар Прайм-кафе',\n",
       " 'PRO Суши Пицца',\n",
       " 'PS Гвозди',\n",
       " 'PUBLIC CAFE',\n",
       " 'Palacio',\n",
       " 'Palas des Thes',\n",
       " 'Panda Express',\n",
       " 'Papa Grill',\n",
       " 'Papas Burgers',\n",
       " 'Paprika Picante',\n",
       " 'Paradise SPA Club',\n",
       " 'Pari-Joli',\n",
       " 'Passion',\n",
       " 'Pasta + Salsa',\n",
       " 'Pasta Cup&pinsa',\n",
       " 'Pasta Deli',\n",
       " 'Pastoria',\n",
       " 'Paul Cafe',\n",
       " 'Paulaner Brauhaus',\n",
       " 'Pelmeniki Club',\n",
       " 'Pelmesh',\n",
       " 'Per se Cafe',\n",
       " 'Peri',\n",
       " 'Peshi',\n",
       " 'Petite Pierre Cafe',\n",
       " 'Pho',\n",
       " 'Pho Bo',\n",
       " 'Pho Bo ханойский стрит-фуд',\n",
       " 'Pho Fighters',\n",
       " 'Pho Hanoi',\n",
       " 'Pho Point',\n",
       " 'Pho Viet',\n",
       " 'Pho Viet (Вьетнамский стритфуд)',\n",
       " 'Pho bo San',\n",
       " 'PhoBo',\n",
       " 'Picciotti',\n",
       " 'Piccolo',\n",
       " 'Pie Factore',\n",
       " 'Pinsapositana',\n",
       " 'PinzaUno',\n",
       " 'Pinzeria by Bontempi',\n",
       " 'Pinzeria by Bontempo',\n",
       " 'Pioppo Albero',\n",
       " 'PitStopКафе',\n",
       " 'Pita Gyros',\n",
       " 'Pita Mix',\n",
       " 'Pita&meat',\n",
       " 'Piu del Cibo',\n",
       " 'PivBar',\n",
       " 'Pizengof99 СПБ',\n",
       " 'Pizza 24 express',\n",
       " 'Pizza Express',\n",
       " 'Pizza Hut',\n",
       " 'Pizza Loft Coffee',\n",
       " 'Pizza Mia',\n",
       " 'Pizza Napoleana',\n",
       " 'Pizza OH',\n",
       " ...]"
      ]
     },
     "execution_count": 9,
     "metadata": {},
     "output_type": "execute_result"
    }
   ],
   "source": [
    "#Рассмотрим подробнее перечень наименований объектов\n",
    "df['object_name'].sort_values().unique().tolist()"
   ]
  },
  {
   "cell_type": "markdown",
   "metadata": {},
   "source": [
    "В столбце с наименованиями объектов общепита встречаются названия, написанные с лишними пробелами или знаками, а также одни и те же названия, которые записаны на разных языках. Возможно, это действительно разные наименования, зарегистрированные как разные юридические лица, но так же может быть, что это ошибки выгрузки/человеческий фактор при заполнении данных. Мы не можем однозначно ответить на этот вопрос и если приводить все похожие названия к единому виду, рискуем испортить данные. Будем работать с тем, что есть, зафиксировав данную проблему."
   ]
  },
  {
   "cell_type": "code",
   "execution_count": 10,
   "metadata": {},
   "outputs": [],
   "source": [
    "#Наименования из столбца object_name приведем к нижнему регистру\n",
    "df['object_name'] = df['object_name'].str.lower()"
   ]
  },
  {
   "cell_type": "code",
   "execution_count": 11,
   "metadata": {},
   "outputs": [
    {
     "data": {
      "text/plain": [
       "85"
      ]
     },
     "execution_count": 11,
     "metadata": {},
     "output_type": "execute_result"
    }
   ],
   "source": [
    "#Проверим на неявные дубликаты, отбросив столбец с id объектов\n",
    "df.duplicated(subset=['object_name', 'chain', 'object_type', 'address', 'number']).sum()"
   ]
  },
  {
   "cell_type": "code",
   "execution_count": 12,
   "metadata": {},
   "outputs": [],
   "source": [
    "#Удалим неявные дубликаты\n",
    "df = (df.drop_duplicates(subset=['object_name', 'chain', 'object_type', 'address', 'number'])\n",
    "      .reset_index(drop=True))"
   ]
  },
  {
   "cell_type": "markdown",
   "metadata": {},
   "source": [
    "По итогу предобработки данных:\n",
    " - зафиксирована проблема с названиями объектов - встречаются названия, написанные с лишними пробелами или знаками, а также одни и те же названия, которые записаны на разных языках\n",
    " - наименования из столбца object_name приведены к нижнему регистру\n",
    " - удалены неявные дубликаты - 85 шт.\n",
    " - в данных преобладают несетевые заведения,\n",
    " - в данных преобладаютзаведения типа \"кафе\",\n",
    " - около 2/3 всех заведений имеют уникальные названия, значит, остальные - сетевые;\n",
    " - около 60% заведений имеют уникальные адреса, значит, по одному адресу могут располагаться несколько заведений. Чаще всего это фудкорты в торговых центрах;\n",
    " - количество посадочных мест в заведениях варьируется от 0 до 1700, чаще всего - до 50 мест."
   ]
  },
  {
   "cell_type": "markdown",
   "metadata": {},
   "source": [
    "## Анализ данных"
   ]
  },
  {
   "cell_type": "markdown",
   "metadata": {},
   "source": [
    "### Cоотношение видов объектов общественного питания по количеству"
   ]
  },
  {
   "cell_type": "code",
   "execution_count": 13,
   "metadata": {
    "scrolled": true
   },
   "outputs": [
    {
     "data": {
      "text/html": [
       "<div>\n",
       "<style scoped>\n",
       "    .dataframe tbody tr th:only-of-type {\n",
       "        vertical-align: middle;\n",
       "    }\n",
       "\n",
       "    .dataframe tbody tr th {\n",
       "        vertical-align: top;\n",
       "    }\n",
       "\n",
       "    .dataframe thead th {\n",
       "        text-align: right;\n",
       "    }\n",
       "</style>\n",
       "<table border=\"1\" class=\"dataframe\">\n",
       "  <thead>\n",
       "    <tr style=\"text-align: right;\">\n",
       "      <th></th>\n",
       "      <th>object_type</th>\n",
       "      <th>count</th>\n",
       "    </tr>\n",
       "  </thead>\n",
       "  <tbody>\n",
       "    <tr>\n",
       "      <th>0</th>\n",
       "      <td>кафе</td>\n",
       "      <td>6071</td>\n",
       "    </tr>\n",
       "    <tr>\n",
       "      <th>1</th>\n",
       "      <td>столовая</td>\n",
       "      <td>2584</td>\n",
       "    </tr>\n",
       "    <tr>\n",
       "      <th>2</th>\n",
       "      <td>ресторан</td>\n",
       "      <td>2282</td>\n",
       "    </tr>\n",
       "    <tr>\n",
       "      <th>3</th>\n",
       "      <td>предприятие быстрого обслуживания</td>\n",
       "      <td>1897</td>\n",
       "    </tr>\n",
       "    <tr>\n",
       "      <th>4</th>\n",
       "      <td>бар</td>\n",
       "      <td>855</td>\n",
       "    </tr>\n",
       "    <tr>\n",
       "      <th>5</th>\n",
       "      <td>буфет</td>\n",
       "      <td>576</td>\n",
       "    </tr>\n",
       "    <tr>\n",
       "      <th>6</th>\n",
       "      <td>кафетерий</td>\n",
       "      <td>395</td>\n",
       "    </tr>\n",
       "    <tr>\n",
       "      <th>7</th>\n",
       "      <td>закусочная</td>\n",
       "      <td>348</td>\n",
       "    </tr>\n",
       "    <tr>\n",
       "      <th>8</th>\n",
       "      <td>магазин (отдел кулинарии)</td>\n",
       "      <td>273</td>\n",
       "    </tr>\n",
       "  </tbody>\n",
       "</table>\n",
       "</div>"
      ],
      "text/plain": [
       "                         object_type  count\n",
       "0                               кафе   6071\n",
       "1                           столовая   2584\n",
       "2                           ресторан   2282\n",
       "3  предприятие быстрого обслуживания   1897\n",
       "4                                бар    855\n",
       "5                              буфет    576\n",
       "6                          кафетерий    395\n",
       "7                         закусочная    348\n",
       "8          магазин (отдел кулинарии)    273"
      ]
     },
     "metadata": {},
     "output_type": "display_data"
    }
   ],
   "source": [
    "df_types = (df.groupby('object_type').agg(\n",
    "                        count = ('id', 'count')).\n",
    "                        sort_values(by='count', ascending=False).\n",
    "                        reset_index())\n",
    "            \n",
    "display(df_types)"
   ]
  },
  {
   "cell_type": "code",
   "execution_count": 57,
   "metadata": {},
   "outputs": [
    {
     "data": {
      "image/png": "[encoded data removed]",
      "text/plain": [
       "<Figure size 1008x576 with 1 Axes>"
      ]
     },
     "metadata": {
      "needs_background": "light"
     },
     "output_type": "display_data"
    }
   ],
   "source": [
    "plt.figure(figsize=(14, 8))\n",
    "plt.style.use('seaborn-pastel')\n",
    "colors = sns.color_palette('Set1')[7]\n",
    "plot = sns.barplot(x='count', y='object_type', data=df_types, color=colors)\n",
    "plt.title('Распределение по видам общепита', fontsize=20)\n",
    "plt.xlabel('Количество заведений', fontsize=16)\n",
    "plt.ylabel(' ', fontsize=16)\n",
    "plt.yticks(fontsize=14)\n",
    "# добавление процентов на график\n",
    "total = sum(df_types['count']) # расчет общего количества объектов\n",
    "for p in plot.patches: # цикл для каждого столбца графика\n",
    "    width = p.get_width() # ширина\n",
    "    height = p.get_height() # высота\n",
    "    x, y = p.get_xy()\n",
    "    percentage = '{:.1f}%'.format(100 * p.get_width() / total) # расчет процентов\n",
    "        \n",
    "    plot.annotate(percentage, (x + width / 2, y + height / 2), \n",
    "                  ha='center', fontsize=15) # размещение %\n",
    "plt.show();"
   ]
  },
  {
   "cell_type": "markdown",
   "metadata": {},
   "source": [
    "Таким образом, почти 40% от всех объектов общественного питания в г.Москва составляют кафе.\n",
    "\n",
    "Следом с заметным отставанием идут столовые, рестораны и фастфуды.\n",
    "\n",
    "По 2-3% приходится на кафетерии, закусочные и отделы кулинарии.\n",
    "\n",
    "Из этого можно сделать вывод, что наиболее популярным видом общепита являются кафе, поэтому формат небольшого кафе для проекта с роботами-официантами будет наиболее привлекателен."
   ]
  },
  {
   "cell_type": "markdown",
   "metadata": {},
   "source": [
    "### Cоотношение сетевых и несетевых заведений по количеству"
   ]
  },
  {
   "cell_type": "code",
   "execution_count": 15,
   "metadata": {},
   "outputs": [
    {
     "data": {
      "text/html": [
       "<div>\n",
       "<style scoped>\n",
       "    .dataframe tbody tr th:only-of-type {\n",
       "        vertical-align: middle;\n",
       "    }\n",
       "\n",
       "    .dataframe tbody tr th {\n",
       "        vertical-align: top;\n",
       "    }\n",
       "\n",
       "    .dataframe thead th {\n",
       "        text-align: right;\n",
       "    }\n",
       "</style>\n",
       "<table border=\"1\" class=\"dataframe\">\n",
       "  <thead>\n",
       "    <tr style=\"text-align: right;\">\n",
       "      <th></th>\n",
       "      <th>chain</th>\n",
       "      <th>count</th>\n",
       "    </tr>\n",
       "  </thead>\n",
       "  <tbody>\n",
       "    <tr>\n",
       "      <th>0</th>\n",
       "      <td>нет</td>\n",
       "      <td>12317</td>\n",
       "    </tr>\n",
       "    <tr>\n",
       "      <th>1</th>\n",
       "      <td>да</td>\n",
       "      <td>2964</td>\n",
       "    </tr>\n",
       "  </tbody>\n",
       "</table>\n",
       "</div>"
      ],
      "text/plain": [
       "  chain  count\n",
       "0   нет  12317\n",
       "1    да   2964"
      ]
     },
     "metadata": {},
     "output_type": "display_data"
    }
   ],
   "source": [
    "df_chains =  (df.groupby('chain').agg(\n",
    "                        count = ('id', 'count')).\n",
    "                        sort_values(by='count', ascending=False).\n",
    "                        reset_index())\n",
    "            \n",
    "display(df_chains)"
   ]
  },
  {
   "cell_type": "code",
   "execution_count": 16,
   "metadata": {},
   "outputs": [
    {
     "data": {
      "image/png": "[encoded data removed]",
      "text/plain": [
       "<Figure size 1080x648 with 1 Axes>"
      ]
     },
     "metadata": {},
     "output_type": "display_data"
    }
   ],
   "source": [
    "plt.figure(figsize=(15, 9))\n",
    "explode = (0.1, 0.1)\n",
    "colors = sns.color_palette('Set1')[7:9]\n",
    "plt.pie(df_chains['count'], labels=df_chains['chain'], \n",
    "        labeldistance=1.1, autopct='%1.0f%%,', \n",
    "        explode = explode, startangle=35, colors=colors)\n",
    "plt.title('Cоотношение сетевых и несетевых заведений', fontsize=20)\n",
    "plt.show();"
   ]
  },
  {
   "cell_type": "markdown",
   "metadata": {},
   "source": [
    "По итогам анализа 81% заведений общественного питания не являются сетевыми. Это является положительным марекром для входа на рынок, поскольку если бы преобладали сетевые заведения, было бы сложнее войти на рынок и конкурировать с ними из-за потребительской лояльности к сетевикам и эффекта масштаба. \n",
    "\n",
    "Таким образом, по соотношению сетевых и несетевых заведений, ситуация на рынке благоприятна для открытия мини-кафе с официантами-роботами."
   ]
  },
  {
   "cell_type": "markdown",
   "metadata": {},
   "source": [
    "### Объекты общественного питания с сетевым распространением"
   ]
  },
  {
   "cell_type": "code",
   "execution_count": 17,
   "metadata": {},
   "outputs": [],
   "source": [
    "df_grouped = (df.groupby(['object_type', 'chain']).agg(\n",
    "                                                   count = ('id', 'count'))\n",
    "                                                  .sort_values(by='count', ascending=False)\n",
    "                                                  .reset_index()\n",
    "             )"
   ]
  },
  {
   "cell_type": "code",
   "execution_count": 18,
   "metadata": {},
   "outputs": [
    {
     "data": {
      "text/plain": [
       "<Figure size 1080x648 with 0 Axes>"
      ]
     },
     "metadata": {},
     "output_type": "display_data"
    },
    {
     "data": {
      "image/png": "[encoded data removed]",
      "text/plain": [
       "<Figure size 774.5x360 with 1 Axes>"
      ]
     },
     "metadata": {
      "needs_background": "light"
     },
     "output_type": "display_data"
    }
   ],
   "source": [
    "plt.figure(figsize=(15, 9))\n",
    "color = sns.color_palette('Set1')[7:9]\n",
    "ax = sns.catplot(x='object_type', y='count',\n",
    "            hue='chain', kind='bar',\n",
    "            data=df_grouped,\n",
    "            height=5, aspect=2,\n",
    "            palette=color)\n",
    "plt.xticks(rotation=45, ha='right')\n",
    "plt.title('Сетевое распространение по видам объекта', fontsize=20)\n",
    "plt.xlabel(' ', fontsize=14)\n",
    "plt.ylabel('Количество заведений', fontsize=14)\n",
    "plt.show();"
   ]
  },
  {
   "cell_type": "code",
   "execution_count": 19,
   "metadata": {},
   "outputs": [],
   "source": [
    "df['chain'] = df['chain'].replace('да', 1)\n",
    "df['chain'] = df['chain'].replace('нет', 0)"
   ]
  },
  {
   "cell_type": "code",
   "execution_count": 20,
   "metadata": {},
   "outputs": [
    {
     "data": {
      "text/html": [
       "<style  type=\"text/css\" >\n",
       "</style><table id=\"T_b405f_\" ><thead>    <tr>        <th class=\"blank level0\" ></th>        <th class=\"col_heading level0 col0\" >chain</th>    </tr>    <tr>        <th class=\"index_name level0\" >object_type</th>        <th class=\"blank\" ></th>    </tr></thead><tbody>\n",
       "                <tr>\n",
       "                        <th id=\"T_b405f_level0_row0\" class=\"row_heading level0 row0\" >предприятие быстрого обслуживания</th>\n",
       "                        <td id=\"T_b405f_row0_col0\" class=\"data row0 col0\" >41.54%</td>\n",
       "            </tr>\n",
       "            <tr>\n",
       "                        <th id=\"T_b405f_level0_row1\" class=\"row_heading level0 row1\" >магазин (отдел кулинарии)</th>\n",
       "                        <td id=\"T_b405f_row1_col0\" class=\"data row1 col0\" >28.57%</td>\n",
       "            </tr>\n",
       "            <tr>\n",
       "                        <th id=\"T_b405f_level0_row2\" class=\"row_heading level0 row2\" >ресторан</th>\n",
       "                        <td id=\"T_b405f_row2_col0\" class=\"data row2 col0\" >23.79%</td>\n",
       "            </tr>\n",
       "            <tr>\n",
       "                        <th id=\"T_b405f_level0_row3\" class=\"row_heading level0 row3\" >кафе</th>\n",
       "                        <td id=\"T_b405f_row3_col0\" class=\"data row3 col0\" >22.99%</td>\n",
       "            </tr>\n",
       "            <tr>\n",
       "                        <th id=\"T_b405f_level0_row4\" class=\"row_heading level0 row4\" >закусочная</th>\n",
       "                        <td id=\"T_b405f_row4_col0\" class=\"data row4 col0\" >16.09%</td>\n",
       "            </tr>\n",
       "            <tr>\n",
       "                        <th id=\"T_b405f_level0_row5\" class=\"row_heading level0 row5\" >кафетерий</th>\n",
       "                        <td id=\"T_b405f_row5_col0\" class=\"data row5 col0\" >13.16%</td>\n",
       "            </tr>\n",
       "            <tr>\n",
       "                        <th id=\"T_b405f_level0_row6\" class=\"row_heading level0 row6\" >бар</th>\n",
       "                        <td id=\"T_b405f_row6_col0\" class=\"data row6 col0\" >4.33%</td>\n",
       "            </tr>\n",
       "            <tr>\n",
       "                        <th id=\"T_b405f_level0_row7\" class=\"row_heading level0 row7\" >буфет</th>\n",
       "                        <td id=\"T_b405f_row7_col0\" class=\"data row7 col0\" >1.91%</td>\n",
       "            </tr>\n",
       "            <tr>\n",
       "                        <th id=\"T_b405f_level0_row8\" class=\"row_heading level0 row8\" >столовая</th>\n",
       "                        <td id=\"T_b405f_row8_col0\" class=\"data row8 col0\" >0.12%</td>\n",
       "            </tr>\n",
       "    </tbody></table>"
      ],
      "text/plain": [
       "<pandas.io.formats.style.Styler at 0x7ff99e231fd0>"
      ]
     },
     "execution_count": 20,
     "metadata": {},
     "output_type": "execute_result"
    }
   ],
   "source": [
    "df_chain_on = (df.pivot_table(index='object_type',\n",
    "                             values='chain',\n",
    "                             aggfunc='mean'\n",
    "                             )\n",
    "               .sort_values(by='chain', ascending=False)\n",
    "               .style.format({'chain' : '{:.2%}'}))\n",
    "\n",
    "df_chain_on"
   ]
  },
  {
   "cell_type": "markdown",
   "metadata": {},
   "source": [
    "Из анализа видно, что сетевое распространение наиболее характерно для фастфудов - 42% предприятий быстрого обслуживания являются сетевыми.\n",
    "\n",
    "Также 20-30% кулинарий, ресторанов и кафе являются сетевыми.\n",
    "\n",
    "Сетевое распространение наименее характерно для баров, буфетов и столовых - менее 5% таких заведений являются сетевыми.\n",
    "\n",
    "Таким образом, по анализу объектов общественного питания с сетевым распространением можно сделать вывод, что ситуация на рынке благоприятна для открытия мини-кафе с официантами-роботами, поскольку лишь 23% кафе на рынке являются сетевыми, это не будет создавать дополнительных трудностей при входе на рынок и дальнейшей конкуренции за потребителя."
   ]
  },
  {
   "cell_type": "markdown",
   "metadata": {},
   "source": [
    "### Характеристика сетевых заведений"
   ]
  },
  {
   "cell_type": "code",
   "execution_count": 94,
   "metadata": {},
   "outputs": [
    {
     "data": {
      "text/html": [
       "<div>\n",
       "<style scoped>\n",
       "    .dataframe tbody tr th:only-of-type {\n",
       "        vertical-align: middle;\n",
       "    }\n",
       "\n",
       "    .dataframe tbody tr th {\n",
       "        vertical-align: top;\n",
       "    }\n",
       "\n",
       "    .dataframe thead th {\n",
       "        text-align: right;\n",
       "    }\n",
       "</style>\n",
       "<table border=\"1\" class=\"dataframe\">\n",
       "  <thead>\n",
       "    <tr style=\"text-align: right;\">\n",
       "      <th></th>\n",
       "      <th>object_name</th>\n",
       "      <th>count</th>\n",
       "      <th>avg_seats</th>\n",
       "    </tr>\n",
       "  </thead>\n",
       "  <tbody>\n",
       "    <tr>\n",
       "      <th>0</th>\n",
       "      <td>шоколадница</td>\n",
       "      <td>157</td>\n",
       "      <td>57.18</td>\n",
       "    </tr>\n",
       "    <tr>\n",
       "      <th>1</th>\n",
       "      <td>kfc</td>\n",
       "      <td>155</td>\n",
       "      <td>55.34</td>\n",
       "    </tr>\n",
       "    <tr>\n",
       "      <th>2</th>\n",
       "      <td>макдоналдс</td>\n",
       "      <td>150</td>\n",
       "      <td>87.70</td>\n",
       "    </tr>\n",
       "    <tr>\n",
       "      <th>3</th>\n",
       "      <td>бургер кинг</td>\n",
       "      <td>137</td>\n",
       "      <td>46.65</td>\n",
       "    </tr>\n",
       "    <tr>\n",
       "      <th>4</th>\n",
       "      <td>теремок</td>\n",
       "      <td>94</td>\n",
       "      <td>25.61</td>\n",
       "    </tr>\n",
       "  </tbody>\n",
       "</table>\n",
       "</div>"
      ],
      "text/plain": [
       "   object_name  count  avg_seats\n",
       "0  шоколадница    157      57.18\n",
       "1          kfc    155      55.34\n",
       "2   макдоналдс    150      87.70\n",
       "3  бургер кинг    137      46.65\n",
       "4      теремок     94      25.61"
      ]
     },
     "execution_count": 94,
     "metadata": {},
     "output_type": "execute_result"
    }
   ],
   "source": [
    "df_corr = (df.query('chain == 1').groupby('object_name')\n",
    "                          .agg(\n",
    "                          count = ('id', 'count'),\n",
    "                          avg_seats = ('number', 'mean'))\n",
    "                          .sort_values(by='count', ascending=False)\n",
    "                          .reset_index())\n",
    "df_corr = df_corr.query('count != 1')\n",
    "df_corr.head(5)"
   ]
  },
  {
   "cell_type": "code",
   "execution_count": 93,
   "metadata": {},
   "outputs": [
    {
     "data": {
      "text/html": [
       "<div>\n",
       "<style scoped>\n",
       "    .dataframe tbody tr th:only-of-type {\n",
       "        vertical-align: middle;\n",
       "    }\n",
       "\n",
       "    .dataframe tbody tr th {\n",
       "        vertical-align: top;\n",
       "    }\n",
       "\n",
       "    .dataframe thead th {\n",
       "        text-align: right;\n",
       "    }\n",
       "</style>\n",
       "<table border=\"1\" class=\"dataframe\">\n",
       "  <thead>\n",
       "    <tr style=\"text-align: right;\">\n",
       "      <th></th>\n",
       "      <th>count</th>\n",
       "      <th>avg_seats</th>\n",
       "    </tr>\n",
       "  </thead>\n",
       "  <tbody>\n",
       "    <tr>\n",
       "      <th>count</th>\n",
       "      <td>246.00</td>\n",
       "      <td>246.00</td>\n",
       "    </tr>\n",
       "    <tr>\n",
       "      <th>mean</th>\n",
       "      <td>10.70</td>\n",
       "      <td>56.87</td>\n",
       "    </tr>\n",
       "    <tr>\n",
       "      <th>std</th>\n",
       "      <td>22.64</td>\n",
       "      <td>47.30</td>\n",
       "    </tr>\n",
       "    <tr>\n",
       "      <th>min</th>\n",
       "      <td>2.00</td>\n",
       "      <td>0.00</td>\n",
       "    </tr>\n",
       "    <tr>\n",
       "      <th>25%</th>\n",
       "      <td>2.00</td>\n",
       "      <td>20.00</td>\n",
       "    </tr>\n",
       "    <tr>\n",
       "      <th>50%</th>\n",
       "      <td>4.00</td>\n",
       "      <td>44.25</td>\n",
       "    </tr>\n",
       "    <tr>\n",
       "      <th>75%</th>\n",
       "      <td>7.00</td>\n",
       "      <td>85.00</td>\n",
       "    </tr>\n",
       "    <tr>\n",
       "      <th>max</th>\n",
       "      <td>157.00</td>\n",
       "      <td>245.00</td>\n",
       "    </tr>\n",
       "  </tbody>\n",
       "</table>\n",
       "</div>"
      ],
      "text/plain": [
       "       count  avg_seats\n",
       "count 246.00     246.00\n",
       "mean   10.70      56.87\n",
       "std    22.64      47.30\n",
       "min     2.00       0.00\n",
       "25%     2.00      20.00\n",
       "50%     4.00      44.25\n",
       "75%     7.00      85.00\n",
       "max   157.00     245.00"
      ]
     },
     "execution_count": 93,
     "metadata": {},
     "output_type": "execute_result"
    }
   ],
   "source": [
    "#Посмотрим на характеристики распределений\n",
    "df_corr.describe()"
   ]
  },
  {
   "cell_type": "code",
   "execution_count": 98,
   "metadata": {},
   "outputs": [],
   "source": [
    "# Сохраним средние значения\n",
    "count_mean = df_corr['count'].mean()\n",
    "seats_mean = df_corr['avg_seats'].mean()"
   ]
  },
  {
   "cell_type": "code",
   "execution_count": 99,
   "metadata": {},
   "outputs": [],
   "source": [
    "#Напишем функцию для категоризации заведений\n",
    "\n",
    "def categorizer(row):\n",
    "    if row['count'] < count_mean and row['avg_seats'] < seats_mean:\n",
    "        return 'Мало заведений и мало посадочных мест'\n",
    "    if row['count'] < count_mean and row['avg_seats'] > seats_mean:\n",
    "        return 'Мало заведений и много посадочных мест'\n",
    "    if row['count'] > count_mean and row['avg_seats'] > seats_mean:\n",
    "        return 'Много заведений и много посадочных мест'\n",
    "    return 'Много заведений и мало посадочных мест'"
   ]
  },
  {
   "cell_type": "code",
   "execution_count": 100,
   "metadata": {},
   "outputs": [],
   "source": [
    "df_corr['category'] = df_corr.apply(categorizer, axis=1)"
   ]
  },
  {
   "cell_type": "code",
   "execution_count": 101,
   "metadata": {},
   "outputs": [
    {
     "data": {
      "text/html": [
       "<div>\n",
       "<style scoped>\n",
       "    .dataframe tbody tr th:only-of-type {\n",
       "        vertical-align: middle;\n",
       "    }\n",
       "\n",
       "    .dataframe tbody tr th {\n",
       "        vertical-align: top;\n",
       "    }\n",
       "\n",
       "    .dataframe thead th {\n",
       "        text-align: right;\n",
       "    }\n",
       "</style>\n",
       "<table border=\"1\" class=\"dataframe\">\n",
       "  <thead>\n",
       "    <tr style=\"text-align: right;\">\n",
       "      <th></th>\n",
       "      <th>object_name</th>\n",
       "      <th>count</th>\n",
       "      <th>avg_seats</th>\n",
       "      <th>category</th>\n",
       "    </tr>\n",
       "  </thead>\n",
       "  <tbody>\n",
       "    <tr>\n",
       "      <th>0</th>\n",
       "      <td>шоколадница</td>\n",
       "      <td>157</td>\n",
       "      <td>57.18</td>\n",
       "      <td>Много заведений и мало посадочных мест</td>\n",
       "    </tr>\n",
       "    <tr>\n",
       "      <th>1</th>\n",
       "      <td>kfc</td>\n",
       "      <td>155</td>\n",
       "      <td>55.34</td>\n",
       "      <td>Много заведений и мало посадочных мест</td>\n",
       "    </tr>\n",
       "    <tr>\n",
       "      <th>2</th>\n",
       "      <td>макдоналдс</td>\n",
       "      <td>150</td>\n",
       "      <td>87.70</td>\n",
       "      <td>Много заведений и много посадочных мест</td>\n",
       "    </tr>\n",
       "    <tr>\n",
       "      <th>3</th>\n",
       "      <td>бургер кинг</td>\n",
       "      <td>137</td>\n",
       "      <td>46.65</td>\n",
       "      <td>Много заведений и мало посадочных мест</td>\n",
       "    </tr>\n",
       "    <tr>\n",
       "      <th>4</th>\n",
       "      <td>теремок</td>\n",
       "      <td>94</td>\n",
       "      <td>25.61</td>\n",
       "      <td>Много заведений и мало посадочных мест</td>\n",
       "    </tr>\n",
       "  </tbody>\n",
       "</table>\n",
       "</div>"
      ],
      "text/plain": [
       "   object_name  count  avg_seats                                 category\n",
       "0  шоколадница    157      57.18   Много заведений и мало посадочных мест\n",
       "1          kfc    155      55.34   Много заведений и мало посадочных мест\n",
       "2   макдоналдс    150      87.70  Много заведений и много посадочных мест\n",
       "3  бургер кинг    137      46.65   Много заведений и мало посадочных мест\n",
       "4      теремок     94      25.61   Много заведений и мало посадочных мест"
      ]
     },
     "execution_count": 101,
     "metadata": {},
     "output_type": "execute_result"
    }
   ],
   "source": [
    "df_corr.head()"
   ]
  },
  {
   "cell_type": "code",
   "execution_count": 102,
   "metadata": {},
   "outputs": [
    {
     "data": {
      "image/png": "[encoded data removed]",
      "text/plain": [
       "<Figure size 1080x648 with 1 Axes>"
      ]
     },
     "metadata": {
      "needs_background": "light"
     },
     "output_type": "display_data"
    }
   ],
   "source": [
    "plt.rcParams[\"figure.figsize\"] = [15, 9]\n",
    "sns.scatterplot(x='avg_seats', y='count', hue='category', data=df_corr)\n",
    "plt.title('Зависимость количества заведений и посадочных мест', fontsize=18)\n",
    "plt.xlabel('Количество посадочных мест', fontsize=14)\n",
    "plt.ylabel('Количество заведений', fontsize=14)\n",
    "plt.show();"
   ]
  },
  {
   "cell_type": "markdown",
   "metadata": {},
   "source": [
    "Как видно из графика, для сетевиков характерно иметь мало заведений с небольшим числом посадочных мест в каждом. Скорее всего, такой формат наиболее оптимален для большего охвата потребителей из разных районов и экономии на обслуживании. \n",
    "\n",
    "Если в долгосрочной перспективе планируется расширение до сети мини-кафе с официантами-роботами, стоит присмотреться к такому формату."
   ]
  },
  {
   "cell_type": "markdown",
   "metadata": {},
   "source": [
    "### Среднее количество посадочных мест"
   ]
  },
  {
   "cell_type": "code",
   "execution_count": 103,
   "metadata": {},
   "outputs": [
    {
     "data": {
      "text/plain": [
       "count   15281.00\n",
       "mean       59.79\n",
       "std        74.84\n",
       "min         0.00\n",
       "25%        14.00\n",
       "50%        40.00\n",
       "75%        80.00\n",
       "max      1700.00\n",
       "Name: number, dtype: float64"
      ]
     },
     "execution_count": 103,
     "metadata": {},
     "output_type": "execute_result"
    }
   ],
   "source": [
    "#Посмотрим распределение посадочных мест\n",
    "df['number'].describe()"
   ]
  },
  {
   "cell_type": "markdown",
   "metadata": {},
   "source": [
    "Среднее больше медианы, значит, распределение смещено вправо и имеет много выбросов. В данном случае медиана будет более корректной мерой центральной тенденции, в расчетах среднего количества посадочных мест будем использовать медиану."
   ]
  },
  {
   "cell_type": "code",
   "execution_count": 107,
   "metadata": {},
   "outputs": [
    {
     "data": {
      "text/html": [
       "<div>\n",
       "<style scoped>\n",
       "    .dataframe tbody tr th:only-of-type {\n",
       "        vertical-align: middle;\n",
       "    }\n",
       "\n",
       "    .dataframe tbody tr th {\n",
       "        vertical-align: top;\n",
       "    }\n",
       "\n",
       "    .dataframe thead th {\n",
       "        text-align: right;\n",
       "    }\n",
       "</style>\n",
       "<table border=\"1\" class=\"dataframe\">\n",
       "  <thead>\n",
       "    <tr style=\"text-align: right;\">\n",
       "      <th></th>\n",
       "      <th>object_type</th>\n",
       "      <th>mean_seats</th>\n",
       "      <th>median_seats</th>\n",
       "    </tr>\n",
       "  </thead>\n",
       "  <tbody>\n",
       "    <tr>\n",
       "      <th>0</th>\n",
       "      <td>столовая</td>\n",
       "      <td>130.34</td>\n",
       "      <td>103</td>\n",
       "    </tr>\n",
       "    <tr>\n",
       "      <th>1</th>\n",
       "      <td>ресторан</td>\n",
       "      <td>96.88</td>\n",
       "      <td>80</td>\n",
       "    </tr>\n",
       "    <tr>\n",
       "      <th>2</th>\n",
       "      <td>буфет</td>\n",
       "      <td>51.43</td>\n",
       "      <td>32</td>\n",
       "    </tr>\n",
       "    <tr>\n",
       "      <th>3</th>\n",
       "      <td>бар</td>\n",
       "      <td>43.53</td>\n",
       "      <td>35</td>\n",
       "    </tr>\n",
       "    <tr>\n",
       "      <th>4</th>\n",
       "      <td>кафе</td>\n",
       "      <td>39.79</td>\n",
       "      <td>30</td>\n",
       "    </tr>\n",
       "    <tr>\n",
       "      <th>5</th>\n",
       "      <td>предприятие быстрого обслуживания</td>\n",
       "      <td>20.81</td>\n",
       "      <td>6</td>\n",
       "    </tr>\n",
       "    <tr>\n",
       "      <th>6</th>\n",
       "      <td>кафетерий</td>\n",
       "      <td>9.18</td>\n",
       "      <td>6</td>\n",
       "    </tr>\n",
       "    <tr>\n",
       "      <th>7</th>\n",
       "      <td>закусочная</td>\n",
       "      <td>7.85</td>\n",
       "      <td>0</td>\n",
       "    </tr>\n",
       "    <tr>\n",
       "      <th>8</th>\n",
       "      <td>магазин (отдел кулинарии)</td>\n",
       "      <td>5.59</td>\n",
       "      <td>0</td>\n",
       "    </tr>\n",
       "  </tbody>\n",
       "</table>\n",
       "</div>"
      ],
      "text/plain": [
       "                         object_type  mean_seats  median_seats\n",
       "0                           столовая      130.34           103\n",
       "1                           ресторан       96.88            80\n",
       "2                              буфет       51.43            32\n",
       "3                                бар       43.53            35\n",
       "4                               кафе       39.79            30\n",
       "5  предприятие быстрого обслуживания       20.81             6\n",
       "6                          кафетерий        9.18             6\n",
       "7                         закусочная        7.85             0\n",
       "8          магазин (отдел кулинарии)        5.59             0"
      ]
     },
     "execution_count": 107,
     "metadata": {},
     "output_type": "execute_result"
    }
   ],
   "source": [
    "df_numbers = (df.groupby('object_type')\n",
    "              .agg(\n",
    "              mean_seats = ('number', 'mean'),\n",
    "              median_seats = ('number', 'median'))\n",
    "              .sort_values(by='mean_seats', ascending=False)\n",
    "              .reset_index())\n",
    "df_numbers"
   ]
  },
  {
   "cell_type": "code",
   "execution_count": 110,
   "metadata": {},
   "outputs": [
    {
     "data": {
      "image/png": "[encoded data removed]",
      "text/plain": [
       "<Figure size 1080x648 with 1 Axes>"
      ]
     },
     "metadata": {
      "needs_background": "light"
     },
     "output_type": "display_data"
    }
   ],
   "source": [
    "plt.figure(figsize=(15, 9))\n",
    "colors = sns.color_palette('Set1')[7]\n",
    "plot = sns.barplot(x='median_seats', y='object_type', data=df_numbers, color=colors)\n",
    "plt.yticks(fontsize=16)\n",
    "plt.title('Среднее количество посадочных мест по видам общепита', fontsize=20)\n",
    "plt.xlabel('Количество посадочных мест', fontsize=16)\n",
    "plt.ylabel(' ', fontsize=16)\n",
    "# добавление значений на график\n",
    "for p in plot.patches: # цикл для каждого столбца графика\n",
    "    width = p.get_width() # ширина\n",
    "    height = p.get_height() # высота\n",
    "    x, y = p.get_xy()\n",
    "    meaning = '{:.0f}'.format(width)\n",
    "    plot.annotate(meaning, (x + width / 2, y + height / 2), \n",
    "                  ha='center', fontsize=15) # размещение %\n",
    "plt.show();"
   ]
  },
  {
   "cell_type": "markdown",
   "metadata": {},
   "source": [
    "По среднему количеству посадочных мест лидируют столовые - 103 посадочных мест в среднем.\n",
    "\n",
    "На рестораны в среднем приходится 80 посадочных мест.\n",
    "\n",
    "На буфеты, бары и кафе - 30-35 посадочных мест в среднем.\n",
    "\n",
    "Для выбранного формата мини-кафе для проекта с роботами-официантами следует рассмотреть 30 и менее посадочных мест."
   ]
  },
  {
   "cell_type": "markdown",
   "metadata": {},
   "source": [
    "### Информация об улице из столбца address"
   ]
  },
  {
   "cell_type": "code",
   "execution_count": 25,
   "metadata": {},
   "outputs": [],
   "source": [
    "# Создаем новый датафрейм, в котором каждому столбцу соответствует элемент адреса, разделенный ','\n",
    "new_df = df['address'].str.split(',',expand=True)"
   ]
  },
  {
   "cell_type": "code",
   "execution_count": 26,
   "metadata": {},
   "outputs": [
    {
     "data": {
      "text/html": [
       "<div>\n",
       "<style scoped>\n",
       "    .dataframe tbody tr th:only-of-type {\n",
       "        vertical-align: middle;\n",
       "    }\n",
       "\n",
       "    .dataframe tbody tr th {\n",
       "        vertical-align: top;\n",
       "    }\n",
       "\n",
       "    .dataframe thead th {\n",
       "        text-align: right;\n",
       "    }\n",
       "</style>\n",
       "<table border=\"1\" class=\"dataframe\">\n",
       "  <thead>\n",
       "    <tr style=\"text-align: right;\">\n",
       "      <th></th>\n",
       "      <th>0</th>\n",
       "      <th>1</th>\n",
       "      <th>2</th>\n",
       "      <th>3</th>\n",
       "      <th>4</th>\n",
       "      <th>5</th>\n",
       "      <th>6</th>\n",
       "    </tr>\n",
       "  </thead>\n",
       "  <tbody>\n",
       "    <tr>\n",
       "      <th>0</th>\n",
       "      <td>город Москва</td>\n",
       "      <td>улица Егора Абакумова</td>\n",
       "      <td>дом 9</td>\n",
       "      <td>None</td>\n",
       "      <td>None</td>\n",
       "      <td>None</td>\n",
       "      <td>None</td>\n",
       "    </tr>\n",
       "    <tr>\n",
       "      <th>1</th>\n",
       "      <td>город Москва</td>\n",
       "      <td>улица Талалихина</td>\n",
       "      <td>дом 2/1</td>\n",
       "      <td>корпус 1</td>\n",
       "      <td>None</td>\n",
       "      <td>None</td>\n",
       "      <td>None</td>\n",
       "    </tr>\n",
       "    <tr>\n",
       "      <th>2</th>\n",
       "      <td>город Москва</td>\n",
       "      <td>Абельмановская улица</td>\n",
       "      <td>дом 6</td>\n",
       "      <td>None</td>\n",
       "      <td>None</td>\n",
       "      <td>None</td>\n",
       "      <td>None</td>\n",
       "    </tr>\n",
       "    <tr>\n",
       "      <th>3</th>\n",
       "      <td>город Москва</td>\n",
       "      <td>Абрамцевская улица</td>\n",
       "      <td>дом 1</td>\n",
       "      <td>None</td>\n",
       "      <td>None</td>\n",
       "      <td>None</td>\n",
       "      <td>None</td>\n",
       "    </tr>\n",
       "    <tr>\n",
       "      <th>4</th>\n",
       "      <td>город Москва</td>\n",
       "      <td>Абрамцевская улица</td>\n",
       "      <td>дом 9</td>\n",
       "      <td>корпус 1</td>\n",
       "      <td>None</td>\n",
       "      <td>None</td>\n",
       "      <td>None</td>\n",
       "    </tr>\n",
       "    <tr>\n",
       "      <th>...</th>\n",
       "      <td>...</td>\n",
       "      <td>...</td>\n",
       "      <td>...</td>\n",
       "      <td>...</td>\n",
       "      <td>...</td>\n",
       "      <td>...</td>\n",
       "      <td>...</td>\n",
       "    </tr>\n",
       "    <tr>\n",
       "      <th>15276</th>\n",
       "      <td>город Москва</td>\n",
       "      <td>3-й Крутицкий переулок</td>\n",
       "      <td>дом 18</td>\n",
       "      <td>None</td>\n",
       "      <td>None</td>\n",
       "      <td>None</td>\n",
       "      <td>None</td>\n",
       "    </tr>\n",
       "    <tr>\n",
       "      <th>15277</th>\n",
       "      <td>город Москва</td>\n",
       "      <td>улица Земляной Вал</td>\n",
       "      <td>дом 33</td>\n",
       "      <td>None</td>\n",
       "      <td>None</td>\n",
       "      <td>None</td>\n",
       "      <td>None</td>\n",
       "    </tr>\n",
       "    <tr>\n",
       "      <th>15278</th>\n",
       "      <td>город Москва</td>\n",
       "      <td>улица Земляной Вал</td>\n",
       "      <td>дом 33</td>\n",
       "      <td>None</td>\n",
       "      <td>None</td>\n",
       "      <td>None</td>\n",
       "      <td>None</td>\n",
       "    </tr>\n",
       "    <tr>\n",
       "      <th>15279</th>\n",
       "      <td>город Москва</td>\n",
       "      <td>поселение Московский</td>\n",
       "      <td>Киевское шоссе</td>\n",
       "      <td>22-й километр</td>\n",
       "      <td>домовладение 4</td>\n",
       "      <td>строение 1</td>\n",
       "      <td>None</td>\n",
       "    </tr>\n",
       "    <tr>\n",
       "      <th>15280</th>\n",
       "      <td>город Москва</td>\n",
       "      <td>Ходынский бульвар</td>\n",
       "      <td>дом 4</td>\n",
       "      <td>None</td>\n",
       "      <td>None</td>\n",
       "      <td>None</td>\n",
       "      <td>None</td>\n",
       "    </tr>\n",
       "  </tbody>\n",
       "</table>\n",
       "<p>15281 rows × 7 columns</p>\n",
       "</div>"
      ],
      "text/plain": [
       "                  0                        1                2               3  \\\n",
       "0      город Москва    улица Егора Абакумова            дом 9            None   \n",
       "1      город Москва         улица Талалихина          дом 2/1        корпус 1   \n",
       "2      город Москва     Абельмановская улица            дом 6            None   \n",
       "3      город Москва       Абрамцевская улица            дом 1            None   \n",
       "4      город Москва       Абрамцевская улица            дом 9        корпус 1   \n",
       "...             ...                      ...              ...             ...   \n",
       "15276  город Москва   3-й Крутицкий переулок           дом 18            None   \n",
       "15277  город Москва       улица Земляной Вал           дом 33            None   \n",
       "15278  город Москва       улица Земляной Вал           дом 33            None   \n",
       "15279  город Москва     поселение Московский   Киевское шоссе   22-й километр   \n",
       "15280  город Москва        Ходынский бульвар            дом 4            None   \n",
       "\n",
       "                     4            5     6  \n",
       "0                 None         None  None  \n",
       "1                 None         None  None  \n",
       "2                 None         None  None  \n",
       "3                 None         None  None  \n",
       "4                 None         None  None  \n",
       "...                ...          ...   ...  \n",
       "15276             None         None  None  \n",
       "15277             None         None  None  \n",
       "15278             None         None  None  \n",
       "15279   домовладение 4   строение 1  None  \n",
       "15280             None         None  None  \n",
       "\n",
       "[15281 rows x 7 columns]"
      ]
     },
     "execution_count": 26,
     "metadata": {},
     "output_type": "execute_result"
    }
   ],
   "source": [
    "new_df"
   ]
  },
  {
   "cell_type": "code",
   "execution_count": 27,
   "metadata": {},
   "outputs": [],
   "source": [
    "# Напишем функцию, которая отбирает элементы, присущие для категории \"улица\"\n",
    "def find_street(row):\n",
    "    if 'улица' in row:\n",
    "        return row\n",
    "    elif 'шоссе' in row:\n",
    "        return row\n",
    "    elif 'проспект' in row:\n",
    "        return row\n",
    "    elif 'бульвар' in row:\n",
    "        return row\n",
    "    elif 'площадь' in row:\n",
    "        return row\n",
    "    elif 'аллея' in row:\n",
    "        return row\n",
    "    elif 'проезд' in row:\n",
    "        return row\n",
    "    elif 'переулок' in row:\n",
    "        return row\n",
    "    return None"
   ]
  },
  {
   "cell_type": "code",
   "execution_count": 28,
   "metadata": {},
   "outputs": [],
   "source": [
    "#Отберем нужные столбцы, в которых есть наименования улиц\n",
    "new_df = new_df[[1, 2, 3]]"
   ]
  },
  {
   "cell_type": "code",
   "execution_count": 29,
   "metadata": {},
   "outputs": [],
   "source": [
    "#Заполним пропуски чтобы функция работала корректно\n",
    "new_df = new_df.fillna('')"
   ]
  },
  {
   "cell_type": "code",
   "execution_count": 30,
   "metadata": {},
   "outputs": [],
   "source": [
    "#Сохраним в столбце 4 улицы из столбца 2\n",
    "new_df[4] = new_df[2].apply(find_street)"
   ]
  },
  {
   "cell_type": "code",
   "execution_count": 31,
   "metadata": {},
   "outputs": [],
   "source": [
    "#Сохраним в столбце 5 улицы из столбца 3\n",
    "new_df[5] = new_df[3].apply(find_street)"
   ]
  },
  {
   "cell_type": "code",
   "execution_count": 32,
   "metadata": {},
   "outputs": [],
   "source": [
    "#В пропущенных строках столбца 5 проставим значения из столбца 4\n",
    "new_df.loc[new_df[5].isna(), 5] = new_df[4]"
   ]
  },
  {
   "cell_type": "code",
   "execution_count": 33,
   "metadata": {},
   "outputs": [],
   "source": [
    "#В пропущенных строках столбца 5 проставим значения из столбца 1\n",
    "new_df.loc[new_df[5].isna(), 5] = new_df[1]"
   ]
  },
  {
   "cell_type": "code",
   "execution_count": 34,
   "metadata": {},
   "outputs": [
    {
     "data": {
      "text/plain": [
       "0"
      ]
     },
     "execution_count": 34,
     "metadata": {},
     "output_type": "execute_result"
    }
   ],
   "source": [
    "#Проверим не осталось ли пропусков\n",
    "new_df[5].isna().sum()"
   ]
  },
  {
   "cell_type": "code",
   "execution_count": 35,
   "metadata": {},
   "outputs": [],
   "source": [
    "df['street'] = new_df[5]"
   ]
  },
  {
   "cell_type": "code",
   "execution_count": 36,
   "metadata": {},
   "outputs": [
    {
     "data": {
      "text/html": [
       "<div>\n",
       "<style scoped>\n",
       "    .dataframe tbody tr th:only-of-type {\n",
       "        vertical-align: middle;\n",
       "    }\n",
       "\n",
       "    .dataframe tbody tr th {\n",
       "        vertical-align: top;\n",
       "    }\n",
       "\n",
       "    .dataframe thead th {\n",
       "        text-align: right;\n",
       "    }\n",
       "</style>\n",
       "<table border=\"1\" class=\"dataframe\">\n",
       "  <thead>\n",
       "    <tr style=\"text-align: right;\">\n",
       "      <th></th>\n",
       "      <th>id</th>\n",
       "      <th>object_name</th>\n",
       "      <th>chain</th>\n",
       "      <th>object_type</th>\n",
       "      <th>address</th>\n",
       "      <th>number</th>\n",
       "      <th>street</th>\n",
       "    </tr>\n",
       "  </thead>\n",
       "  <tbody>\n",
       "    <tr>\n",
       "      <th>0</th>\n",
       "      <td>151635</td>\n",
       "      <td>сметана</td>\n",
       "      <td>0</td>\n",
       "      <td>кафе</td>\n",
       "      <td>город Москва, улица Егора Абакумова, дом 9</td>\n",
       "      <td>48</td>\n",
       "      <td>улица Егора Абакумова</td>\n",
       "    </tr>\n",
       "    <tr>\n",
       "      <th>1</th>\n",
       "      <td>77874</td>\n",
       "      <td>родник</td>\n",
       "      <td>0</td>\n",
       "      <td>кафе</td>\n",
       "      <td>город Москва, улица Талалихина, дом 2/1, корпус 1</td>\n",
       "      <td>35</td>\n",
       "      <td>улица Талалихина</td>\n",
       "    </tr>\n",
       "    <tr>\n",
       "      <th>2</th>\n",
       "      <td>24309</td>\n",
       "      <td>кафе «академия»</td>\n",
       "      <td>0</td>\n",
       "      <td>кафе</td>\n",
       "      <td>город Москва, Абельмановская улица, дом 6</td>\n",
       "      <td>95</td>\n",
       "      <td>Абельмановская улица</td>\n",
       "    </tr>\n",
       "    <tr>\n",
       "      <th>3</th>\n",
       "      <td>21894</td>\n",
       "      <td>пиццетория</td>\n",
       "      <td>1</td>\n",
       "      <td>кафе</td>\n",
       "      <td>город Москва, Абрамцевская улица, дом 1</td>\n",
       "      <td>40</td>\n",
       "      <td>Абрамцевская улица</td>\n",
       "    </tr>\n",
       "    <tr>\n",
       "      <th>4</th>\n",
       "      <td>119365</td>\n",
       "      <td>кафе «вишневая метель»</td>\n",
       "      <td>0</td>\n",
       "      <td>кафе</td>\n",
       "      <td>город Москва, Абрамцевская улица, дом 9, корпус 1</td>\n",
       "      <td>50</td>\n",
       "      <td>Абрамцевская улица</td>\n",
       "    </tr>\n",
       "    <tr>\n",
       "      <th>...</th>\n",
       "      <td>...</td>\n",
       "      <td>...</td>\n",
       "      <td>...</td>\n",
       "      <td>...</td>\n",
       "      <td>...</td>\n",
       "      <td>...</td>\n",
       "      <td>...</td>\n",
       "    </tr>\n",
       "    <tr>\n",
       "      <th>15276</th>\n",
       "      <td>208537</td>\n",
       "      <td>шоколадница</td>\n",
       "      <td>1</td>\n",
       "      <td>кафе</td>\n",
       "      <td>город Москва, 3-й Крутицкий переулок, дом 18</td>\n",
       "      <td>50</td>\n",
       "      <td>3-й Крутицкий переулок</td>\n",
       "    </tr>\n",
       "    <tr>\n",
       "      <th>15277</th>\n",
       "      <td>209264</td>\n",
       "      <td>шоколадница</td>\n",
       "      <td>1</td>\n",
       "      <td>кафе</td>\n",
       "      <td>город Москва, улица Земляной Вал, дом 33</td>\n",
       "      <td>10</td>\n",
       "      <td>улица Земляной Вал</td>\n",
       "    </tr>\n",
       "    <tr>\n",
       "      <th>15278</th>\n",
       "      <td>209186</td>\n",
       "      <td>шоколадница</td>\n",
       "      <td>1</td>\n",
       "      <td>кафе</td>\n",
       "      <td>город Москва, улица Земляной Вал, дом 33</td>\n",
       "      <td>20</td>\n",
       "      <td>улица Земляной Вал</td>\n",
       "    </tr>\n",
       "    <tr>\n",
       "      <th>15279</th>\n",
       "      <td>221900</td>\n",
       "      <td>шоколадница</td>\n",
       "      <td>1</td>\n",
       "      <td>кафе</td>\n",
       "      <td>город Москва, поселение Московский, Киевское ш...</td>\n",
       "      <td>36</td>\n",
       "      <td>Киевское шоссе</td>\n",
       "    </tr>\n",
       "    <tr>\n",
       "      <th>15280</th>\n",
       "      <td>222535</td>\n",
       "      <td>шоколадница</td>\n",
       "      <td>1</td>\n",
       "      <td>кафе</td>\n",
       "      <td>город Москва, Ходынский бульвар, дом 4</td>\n",
       "      <td>10</td>\n",
       "      <td>Ходынский бульвар</td>\n",
       "    </tr>\n",
       "  </tbody>\n",
       "</table>\n",
       "<p>15281 rows × 7 columns</p>\n",
       "</div>"
      ],
      "text/plain": [
       "           id             object_name  chain object_type  \\\n",
       "0      151635                 сметана      0        кафе   \n",
       "1       77874                  родник      0        кафе   \n",
       "2       24309         кафе «академия»      0        кафе   \n",
       "3       21894              пиццетория      1        кафе   \n",
       "4      119365  кафе «вишневая метель»      0        кафе   \n",
       "...       ...                     ...    ...         ...   \n",
       "15276  208537             шоколадница      1        кафе   \n",
       "15277  209264             шоколадница      1        кафе   \n",
       "15278  209186             шоколадница      1        кафе   \n",
       "15279  221900             шоколадница      1        кафе   \n",
       "15280  222535             шоколадница      1        кафе   \n",
       "\n",
       "                                                 address  number  \\\n",
       "0             город Москва, улица Егора Абакумова, дом 9      48   \n",
       "1      город Москва, улица Талалихина, дом 2/1, корпус 1      35   \n",
       "2              город Москва, Абельмановская улица, дом 6      95   \n",
       "3                город Москва, Абрамцевская улица, дом 1      40   \n",
       "4      город Москва, Абрамцевская улица, дом 9, корпус 1      50   \n",
       "...                                                  ...     ...   \n",
       "15276       город Москва, 3-й Крутицкий переулок, дом 18      50   \n",
       "15277           город Москва, улица Земляной Вал, дом 33      10   \n",
       "15278           город Москва, улица Земляной Вал, дом 33      20   \n",
       "15279  город Москва, поселение Московский, Киевское ш...      36   \n",
       "15280             город Москва, Ходынский бульвар, дом 4      10   \n",
       "\n",
       "                        street  \n",
       "0        улица Егора Абакумова  \n",
       "1             улица Талалихина  \n",
       "2         Абельмановская улица  \n",
       "3           Абрамцевская улица  \n",
       "4           Абрамцевская улица  \n",
       "...                        ...  \n",
       "15276   3-й Крутицкий переулок  \n",
       "15277       улица Земляной Вал  \n",
       "15278       улица Земляной Вал  \n",
       "15279           Киевское шоссе  \n",
       "15280        Ходынский бульвар  \n",
       "\n",
       "[15281 rows x 7 columns]"
      ]
     },
     "execution_count": 36,
     "metadata": {},
     "output_type": "execute_result"
    }
   ],
   "source": [
    "df"
   ]
  },
  {
   "cell_type": "markdown",
   "metadata": {},
   "source": [
    "В столбец `street` выделена информация об улице заведения из столбца `address`."
   ]
  },
  {
   "cell_type": "code",
   "execution_count": 37,
   "metadata": {},
   "outputs": [
    {
     "ename": "NameError",
     "evalue": "name 'data' is not defined",
     "output_type": "error",
     "traceback": [
      "\u001b[0;31m---------------------------------------------------------------------------\u001b[0m",
      "\u001b[0;31mNameError\u001b[0m                                 Traceback (most recent call last)",
      "\u001b[0;32m/tmp/ipykernel_49/1738829820.py\u001b[0m in \u001b[0;36m<module>\u001b[0;34m\u001b[0m\n\u001b[1;32m      7\u001b[0m \u001b[0;34m\u001b[0m\u001b[0m\n\u001b[1;32m      8\u001b[0m \u001b[0;31m# создание столбца с названием улиц\u001b[0m\u001b[0;34m\u001b[0m\u001b[0;34m\u001b[0m\u001b[0;34m\u001b[0m\u001b[0m\n\u001b[0;32m----> 9\u001b[0;31m \u001b[0mdata\u001b[0m\u001b[0;34m[\u001b[0m\u001b[0;34m'street_name'\u001b[0m\u001b[0;34m]\u001b[0m \u001b[0;34m=\u001b[0m \u001b[0mdata\u001b[0m\u001b[0;34m[\u001b[0m\u001b[0;34m'address'\u001b[0m\u001b[0;34m]\u001b[0m\u001b[0;34m.\u001b[0m\u001b[0mapply\u001b[0m\u001b[0;34m(\u001b[0m\u001b[0mstreet_name\u001b[0m\u001b[0;34m)\u001b[0m\u001b[0;34m\u001b[0m\u001b[0;34m\u001b[0m\u001b[0m\n\u001b[0m\u001b[1;32m     10\u001b[0m \u001b[0mdata\u001b[0m\u001b[0;34m\u001b[0m\u001b[0;34m\u001b[0m\u001b[0m\n",
      "\u001b[0;31mNameError\u001b[0m: name 'data' is not defined"
     ]
    }
   ],
   "source": [
    "# код ревьюера\n",
    "# создаем функцию для выборки наименований улиц (ищет ключевые слова)\n",
    "def street_name(address):\n",
    "    for address_part in address.split(','):\n",
    "        if any(word in address_part for word in list_street):\n",
    "            return address_part\n",
    "\n",
    "# создание столбца с названием улиц\n",
    "data['street_name'] = data['address'].apply(street_name)\n",
    "data"
   ]
  },
  {
   "cell_type": "code",
   "execution_count": 112,
   "metadata": {},
   "outputs": [],
   "source": [
    "list_street = ['проезд','пр.','прзд.','шоссе','шос.','ш.','улица','ул.','переулок','пер.', \\\n",
    "               'микрорайон', 'мкр.','мкрн.', 'мкад','автодороги','деревня','проспект','пр.', \\\n",
    "               'площадь','пл','село','аллея', 'бульвар', 'набережная','наб.','тупик','линия', \\\n",
    "               'территория','квартал','просек', 'вблизи', 'парк','мост']"
   ]
  },
  {
   "cell_type": "code",
   "execution_count": 114,
   "metadata": {},
   "outputs": [
    {
     "data": {
      "text/html": [
       "<div>\n",
       "<style scoped>\n",
       "    .dataframe tbody tr th:only-of-type {\n",
       "        vertical-align: middle;\n",
       "    }\n",
       "\n",
       "    .dataframe tbody tr th {\n",
       "        vertical-align: top;\n",
       "    }\n",
       "\n",
       "    .dataframe thead th {\n",
       "        text-align: right;\n",
       "    }\n",
       "</style>\n",
       "<table border=\"1\" class=\"dataframe\">\n",
       "  <thead>\n",
       "    <tr style=\"text-align: right;\">\n",
       "      <th></th>\n",
       "      <th>id</th>\n",
       "      <th>object_name</th>\n",
       "      <th>chain</th>\n",
       "      <th>object_type</th>\n",
       "      <th>address</th>\n",
       "      <th>number</th>\n",
       "      <th>street</th>\n",
       "      <th>street_name</th>\n",
       "    </tr>\n",
       "  </thead>\n",
       "  <tbody>\n",
       "    <tr>\n",
       "      <th>0</th>\n",
       "      <td>151635</td>\n",
       "      <td>сметана</td>\n",
       "      <td>0</td>\n",
       "      <td>кафе</td>\n",
       "      <td>город Москва, улица Егора Абакумова, дом 9</td>\n",
       "      <td>48</td>\n",
       "      <td>улица Егора Абакумова</td>\n",
       "      <td>улица Егора Абакумова</td>\n",
       "    </tr>\n",
       "    <tr>\n",
       "      <th>1</th>\n",
       "      <td>77874</td>\n",
       "      <td>родник</td>\n",
       "      <td>0</td>\n",
       "      <td>кафе</td>\n",
       "      <td>город Москва, улица Талалихина, дом 2/1, корпус 1</td>\n",
       "      <td>35</td>\n",
       "      <td>улица Талалихина</td>\n",
       "      <td>улица Талалихина</td>\n",
       "    </tr>\n",
       "    <tr>\n",
       "      <th>2</th>\n",
       "      <td>24309</td>\n",
       "      <td>кафе «академия»</td>\n",
       "      <td>0</td>\n",
       "      <td>кафе</td>\n",
       "      <td>город Москва, Абельмановская улица, дом 6</td>\n",
       "      <td>95</td>\n",
       "      <td>Абельмановская улица</td>\n",
       "      <td>Абельмановская улица</td>\n",
       "    </tr>\n",
       "    <tr>\n",
       "      <th>3</th>\n",
       "      <td>21894</td>\n",
       "      <td>пиццетория</td>\n",
       "      <td>1</td>\n",
       "      <td>кафе</td>\n",
       "      <td>город Москва, Абрамцевская улица, дом 1</td>\n",
       "      <td>40</td>\n",
       "      <td>Абрамцевская улица</td>\n",
       "      <td>Абрамцевская улица</td>\n",
       "    </tr>\n",
       "    <tr>\n",
       "      <th>4</th>\n",
       "      <td>119365</td>\n",
       "      <td>кафе «вишневая метель»</td>\n",
       "      <td>0</td>\n",
       "      <td>кафе</td>\n",
       "      <td>город Москва, Абрамцевская улица, дом 9, корпус 1</td>\n",
       "      <td>50</td>\n",
       "      <td>Абрамцевская улица</td>\n",
       "      <td>Абрамцевская улица</td>\n",
       "    </tr>\n",
       "  </tbody>\n",
       "</table>\n",
       "</div>"
      ],
      "text/plain": [
       "       id             object_name  chain object_type  \\\n",
       "0  151635                 сметана      0        кафе   \n",
       "1   77874                  родник      0        кафе   \n",
       "2   24309         кафе «академия»      0        кафе   \n",
       "3   21894              пиццетория      1        кафе   \n",
       "4  119365  кафе «вишневая метель»      0        кафе   \n",
       "\n",
       "                                             address  number  \\\n",
       "0         город Москва, улица Егора Абакумова, дом 9      48   \n",
       "1  город Москва, улица Талалихина, дом 2/1, корпус 1      35   \n",
       "2          город Москва, Абельмановская улица, дом 6      95   \n",
       "3            город Москва, Абрамцевская улица, дом 1      40   \n",
       "4  город Москва, Абрамцевская улица, дом 9, корпус 1      50   \n",
       "\n",
       "                   street             street_name  \n",
       "0   улица Егора Абакумова   улица Егора Абакумова  \n",
       "1        улица Талалихина        улица Талалихина  \n",
       "2    Абельмановская улица    Абельмановская улица  \n",
       "3      Абрамцевская улица      Абрамцевская улица  \n",
       "4      Абрамцевская улица      Абрамцевская улица  "
      ]
     },
     "execution_count": 114,
     "metadata": {},
     "output_type": "execute_result"
    }
   ],
   "source": [
    "# создаем функцию для выборки наименований улиц (ищет ключевые слова)\n",
    "def street_name(address):\n",
    "    for address_part in address.split(','):\n",
    "        if any(word in address_part for word in list_street):\n",
    "            return address_part\n",
    "\n",
    "# создание столбца с названием улиц\n",
    "df['street_name'] = df['address'].apply(street_name)\n",
    "df.head()"
   ]
  },
  {
   "cell_type": "markdown",
   "metadata": {},
   "source": [
    "### Топ-10 улиц по количеству объектов общественного питания"
   ]
  },
  {
   "cell_type": "markdown",
   "metadata": {},
   "source": [
    "На сайте портала открытых данных Правительства Москвы представлены данные по общественному питанию г.Москвы, воспользуемся ими для получения информации о районе Москвы и координат объектов общественного питания."
   ]
  },
  {
   "cell_type": "code",
   "execution_count": null,
   "metadata": {},
   "outputs": [],
   "source": [
    "spreadsheet_id = '1DO1r4aK-7riAl4qlkSa7C_EJvUAkI47Tu6LOLX_jfRk'\n",
    "file_name = 'https://docs.google.com/spreadsheets/d/{}/export?format=csv'.format(spreadsheet_id)\n",
    "r = requests.get(file_name)\n",
    "data = pd.read_csv(BytesIO(r.content))"
   ]
  },
  {
   "cell_type": "code",
   "execution_count": null,
   "metadata": {},
   "outputs": [],
   "source": [
    "data.head()"
   ]
  },
  {
   "cell_type": "code",
   "execution_count": null,
   "metadata": {},
   "outputs": [],
   "source": [
    "# удалим первую строку, дублирующую наименования столбцов на русском языке\n",
    "data = data.drop(axis=0, index=0)"
   ]
  },
  {
   "cell_type": "code",
   "execution_count": null,
   "metadata": {},
   "outputs": [],
   "source": [
    "# функция для приведения названий столбцов к змеиному регистру\n",
    "def to_snake_case(name):\n",
    "        name = re.sub('(.)([A-Z][a-z]+)', r'\\1_\\2', name)\n",
    "        name = re.sub('__([A-Z])', r'_\\1', name)\n",
    "        name = re.sub('([a-z0-9])([A-Z])', r'\\1_\\2', name)\n",
    "        return name.lower()"
   ]
  },
  {
   "cell_type": "code",
   "execution_count": null,
   "metadata": {},
   "outputs": [],
   "source": [
    "# приведем названия столбцов к змеиному регистру\n",
    "data.columns = data.columns.to_series().apply(to_snake_case)"
   ]
  },
  {
   "cell_type": "code",
   "execution_count": null,
   "metadata": {},
   "outputs": [],
   "source": [
    "# оставим нужные столбцы\n",
    "data = data[['id', 'district', 'adm_area', 'longitude_wgs84', 'latitude_wgs84']]"
   ]
  },
  {
   "cell_type": "code",
   "execution_count": null,
   "metadata": {},
   "outputs": [],
   "source": [
    "# Избавимся от ведущих нулей в стообце ID\n",
    "data['id'] = [s.lstrip(\"0\") for s in data['id']]"
   ]
  },
  {
   "cell_type": "code",
   "execution_count": null,
   "metadata": {},
   "outputs": [],
   "source": [
    "# поменяем тип данных на int\n",
    "data['id'] = data['id'].astype(int)"
   ]
  },
  {
   "cell_type": "code",
   "execution_count": null,
   "metadata": {},
   "outputs": [],
   "source": [
    "# объединим с основной таблицей df по id\n",
    "df = df.merge(data, on='id', how='left')"
   ]
  },
  {
   "cell_type": "code",
   "execution_count": null,
   "metadata": {},
   "outputs": [],
   "source": [
    "df.head()"
   ]
  },
  {
   "cell_type": "code",
   "execution_count": null,
   "metadata": {},
   "outputs": [],
   "source": [
    "df.info()"
   ]
  },
  {
   "cell_type": "markdown",
   "metadata": {},
   "source": [
    "Около 50% значений в столбцах с новыми данными пропущены, значит, на сайте портала открытых данных Правительства Москвы представлена информация не по всем интересующим нас объектам общепита. Имеющейся информации должно быть достаточно для определения районов, в которых находятся улицы с максимальным количеством объектов общепита."
   ]
  },
  {
   "cell_type": "code",
   "execution_count": null,
   "metadata": {},
   "outputs": [],
   "source": [
    "# Выделим топ-10 улиц по количетсву объектов общепита\n",
    "df_streets = df.groupby('street')['id'].count().reset_index()\n",
    "df_streets_top = df_streets.sort_values(by='id', ascending=False).head(10)\n",
    "df_streets_top"
   ]
  },
  {
   "cell_type": "code",
   "execution_count": null,
   "metadata": {},
   "outputs": [],
   "source": [
    "# Посмотрим в каких районах находятся эти улицы, \n",
    "# для этого объединим таблицу с основной таблицей df\n",
    "df_streets_top = df_streets_top.merge(df[['street', 'district']], on='street', how='left')"
   ]
  },
  {
   "cell_type": "code",
   "execution_count": null,
   "metadata": {},
   "outputs": [],
   "source": [
    "df_streets_top = (df_streets_top.dropna()\n",
    "                                .drop_duplicates().reset_index(drop = True))\n",
    "df_streets_top"
   ]
  },
  {
   "cell_type": "code",
   "execution_count": null,
   "metadata": {},
   "outputs": [],
   "source": [
    "df_streets_top['district'].sort_values().unique()"
   ]
  },
  {
   "cell_type": "markdown",
   "metadata": {},
   "source": [
    "Как видно из таблицы, улицы из топ-10 очень длинные и входят в состав сразу нескольких районов г.Москвы. Для иллюстрации этих улиц с объектами общепита на карте г.Москвы воспользуемся библиотекой folium."
   ]
  },
  {
   "cell_type": "code",
   "execution_count": null,
   "metadata": {},
   "outputs": [],
   "source": [
    "# поменяем тип данных на float\n",
    "df['longitude_wgs84'] = df['longitude_wgs84'].astype(float)\n",
    "df['latitude_wgs84'] = df['latitude_wgs84'].astype(float)"
   ]
  },
  {
   "cell_type": "code",
   "execution_count": null,
   "metadata": {},
   "outputs": [],
   "source": [
    "moscow = folium.Map(location= [df['latitude_wgs84'].mean(), df['longitude_wgs84'].mean()], \n",
    "                 zoom_start = 11)\n",
    "top_streets = df_streets_top['street'].unique() # выделим топ-10 улицы по количеству объектов общепита\n",
    "df_map_1 = df[df['street'].isin(top_streets)].dropna() # отфильтруем таблицу по этим улицам\n",
    "latitudes = df_map_1['latitude_wgs84'] # выделим широту объектов на этих улицах\n",
    "longitudes = df_map_1['longitude_wgs84'] # выделим долготу объектов на этих улицах\n",
    "for lat, lng in zip(latitudes, longitudes): # добавим маркеры этих объектов на карту Москвы\n",
    "    folium.Marker([lat, lng]).add_to(moscow)\n",
    "moscow"
   ]
  },
  {
   "cell_type": "markdown",
   "metadata": {},
   "source": [
    "Как видно из илюстрации, улицы с максимальным количеством заведений общепита очень длинные и входят в состав сразу нескольких районов Москвы. Характерно, что заведения на этих улицах расположены за Садовым кольцом, в центре города нет улиц с такой концентрацией заведений общепита. \n",
    "\n",
    "Следовательно, для размещения мини-кафе с официантами-роботами следует рассмотреть либо центральные улицы, где меньше концентрация заведений общепита и, следовательно, меньше конкуренции, либо те улицы за пределами Садового кольца, где имеется меньшее количество заведений."
   ]
  },
  {
   "cell_type": "markdown",
   "metadata": {},
   "source": [
    "### Улицы с одним объектом общественного питания"
   ]
  },
  {
   "cell_type": "code",
   "execution_count": null,
   "metadata": {},
   "outputs": [],
   "source": [
    "df_streets_one = df_streets.query('id == 1').reset_index(drop=True)\n",
    "df_streets_one.head()"
   ]
  },
  {
   "cell_type": "code",
   "execution_count": null,
   "metadata": {},
   "outputs": [],
   "source": [
    "len(df_streets_one)"
   ]
  },
  {
   "cell_type": "markdown",
   "metadata": {},
   "source": [
    "Согласно данным таблицы, 605 улиц в г.Москва имеют по 1 объекту общепита."
   ]
  },
  {
   "cell_type": "code",
   "execution_count": null,
   "metadata": {},
   "outputs": [],
   "source": [
    "# Посмотрим в каких районах находятся эти улицы, \n",
    "# для этого объединим таблицу с основной таблицей df\n",
    "df_streets_one = df_streets_one.merge(df[['street', 'district']], on='street', how='left')"
   ]
  },
  {
   "cell_type": "code",
   "execution_count": null,
   "metadata": {},
   "outputs": [],
   "source": [
    "df_streets_one = (df_streets_one.dropna()\n",
    "                                .drop_duplicates().reset_index(drop = True))\n",
    "df_streets_one['district'].sort_values().unique()"
   ]
  },
  {
   "cell_type": "markdown",
   "metadata": {},
   "source": [
    "С помощью библиотеки plotly покажем на карте г.Москвы объекты, которые являются единственными объектами общепита на своей улице."
   ]
  },
  {
   "cell_type": "code",
   "execution_count": null,
   "metadata": {},
   "outputs": [],
   "source": [
    "one_streets = df_streets_one['street'] # выделим улицы с 1 объектом общепита\n",
    "df_map_2 = df[df['street'].isin(one_streets)].dropna() # отфильтруем таблицу по этим улицам\n",
    "fig = px.scatter_mapbox(df_map_2, lat=\"latitude_wgs84\", lon=\"longitude_wgs84\", \n",
    "                        hover_name=\"object_name\", hover_data=[\"address\", \"number\"],\n",
    "                        zoom=9, height=400)\n",
    "fig.update_layout(mapbox_style=\"open-street-map\")\n",
    "fig.update_layout(margin={\"r\":0,\"t\":0,\"l\":0,\"b\":0})\n",
    "fig.show()"
   ]
  },
  {
   "cell_type": "markdown",
   "metadata": {},
   "source": [
    "605 улиц в г.Москва имеют по одному объекту общепита. В большей степени они сконцентрированы в центре города. Стоит проанализировать эти улицы на наличие в них крупных жилых комплексов и бизнес-центров, чтобы закрыть потребности жителей/работников в предоставлении услуг общественного питания. Размещение мини-кафе с официантами-роботами будет более рационально на этих улицах ввиду меньшей конкуренции вследствие меньшей концентрации заведений на этих улицах."
   ]
  },
  {
   "cell_type": "markdown",
   "metadata": {},
   "source": [
    "## Общие выводы"
   ]
  },
  {
   "cell_type": "markdown",
   "metadata": {},
   "source": [
    "В ходе исследования заведений общественного питания г.Москвы проанализированы открытые данные о заведениях общественного питания в г.Москва.\n",
    "\n",
    "По итогу предобработки данных:\n",
    " - зафиксирована проблема с названиями объектов - встречаются названия, написанные с лишними пробелами или знаками, а также одни и те же названия, которые записаны на разных языках\n",
    " - удалены неявные дубликаты - 82 шт.\n",
    " - в данных преобладают несетевые заведения,\n",
    " - в данных преобладаютзаведения типа \"кафе\",\n",
    " - около 2/3 всех заведений имеют уникальные названия, значит, остальные - сетевые;\n",
    " - около 60% заведений имеют уникальные адреса, значит, по одному адресу могут располагаться несколько заведений. Чаще всего это фудкорты в торговых центрах;\n",
    " - количество посадочных мест в заведениях варьируется от 0 до 1700, чаще всего - до 50 мест.\n",
    " \n",
    "**Cоотношение видов объектов общественного питания по количеству**\n",
    " \n",
    "Почти 40% от всех объектов общественного питания в г.Москва составляют кафе.\n",
    "\n",
    "Следом с заметным отставанием идут столовые, рестораны и фастфуды.\n",
    "\n",
    "Из этого можно сделать вывод, что наиболее популярным видом общепита являются кафе, поэтому формат небольшого кафе для проекта с роботами-официантами будет наиболее привлекателен.\n",
    "\n",
    " **Cоотношение сетевых и несетевых заведений по количеству**\n",
    " \n",
    " 81% заведений общественного питания не являются сетевыми. Это является положительным марекром для входа на рынок, поскольку если бы преобладали сетевые заведения, было бы сложнее войти на рынок и конкурировать с ними из-за потребительской лояльности к сетевикам и эффекта масштаба.\n",
    "\n",
    "Таким образом, по соотношению сетевых и несетевых заведений, ситуация на рынке благоприятна для открытия мини-кафе с официантами-роботами.\n",
    "\n",
    " **Объекты общественного питания с сетевым распространением**\n",
    " \n",
    " Сетевое распространение наиболее характерно для фастфудов - 42% предприятий быстрого обслуживания являются сетевыми.\n",
    "\n",
    "Также 20-30% кулинарий, ресторанов и кафе являются сетевыми.\n",
    "\n",
    "Таким образом, по анализу объектов общественного питания с сетевым распространением можно сделать вывод, что ситуация на рынке благоприятна для открытия мини-кафе с официантами-роботами, поскольку лишь 23% кафе на рынке являются сетевыми, это не будет создавать дополнительных трудностей при входе на рынок и дальнейшей конкуренции за потребителя.\n",
    " \n",
    " **Характеристика сетевых заведений** \n",
    " \n",
    " Для сетевиков характерно иметь мало заведений с небольшим числом посадочных мест в каждом. Скорее всего, такой формат наиболее оптимален для большего охвата потребителей из разных районов и экономии на обслуживании.\n",
    "\n",
    "Если в долгосрочной перспективе планируется расширение до сети мини-кафе с официантами-роботами, стоит присмотреться к такому формату.\n",
    "\n",
    " **Среднее количество посадочных мест**\n",
    " \n",
    " По среднему количеству посадочных мест лидируют столовые - 103 посадочных мест в среднем.\n",
    "\n",
    "На рестораны в среднем приходится 80 посадочных мест.\n",
    "\n",
    "На буфеты, бары и кафе - 30-35 посадочных мест в среднем.\n",
    "\n",
    "Для выбранного формата мини-кафе для проекта с роботами-официантами следует рассмотреть 30 и менее посадочных мест.\n",
    "\n",
    " **Топ-10 улиц по количеству объектов общественного питания**\n",
    " \n",
    " Улицы с максимальным количеством заведений общепита очень длинные и входят в состав сразу нескольких районов Москвы. Характерно, что заведения на этих улицах расположены за Садовым кольцом, в центре города нет улиц с такой концентрацией заведений общепита.\n",
    "\n",
    "Следовательно, для размещения мини-кафе с официантами-роботами следует рассмотреть либо центральные улицы, где меньше концентрация заведений общепита и, следовательно, меньше конкуренции, либо те улицы за пределами Садового кольца, где имеется меньшее количество заведений.\n",
    "\n",
    " **Улицы с одним объектом общественного питания**\n",
    " \n",
    " 605 улиц в г.Москва имеют по одному объекту общепита. В большей степени они сконцентрированы в центре города. Стоит проанализировать эти улицы на наличие в них крупных жилых комплексов и бизнес-центров, чтобы закрыть потребности жителей/работников в предоставлении услуг общественного питания. Размещение мини-кафе с официантами-роботами будет более рационально на этих улицах ввиду меньшей конкуренции вследствие меньшей концентрации заведений на этих улицах.\n",
    " "
   ]
  },
  {
   "cell_type": "markdown",
   "metadata": {},
   "source": [
    "## Презентация"
   ]
  },
  {
   "cell_type": "markdown",
   "metadata": {},
   "source": [
    "https://drive.google.com/file/d/1KYpUSnhJ7iPde7Mpko4wVpMWgj_CKxNh/view?usp=sharing"
   ]
  }
 ],
 "metadata": {
  "ExecuteTimeLog": [
   {
    "duration": 1404,
    "start_time": "2022-06-03T08:32:10.162Z"
   },
   {
    "duration": 5,
    "start_time": "2022-06-03T08:32:43.311Z"
   },
   {
    "duration": 3,
    "start_time": "2022-06-03T08:32:59.740Z"
   },
   {
    "duration": 13,
    "start_time": "2022-06-03T08:33:38.095Z"
   },
   {
    "duration": 4,
    "start_time": "2022-06-03T08:33:40.040Z"
   },
   {
    "duration": 187,
    "start_time": "2022-06-03T08:34:53.510Z"
   },
   {
    "duration": 7,
    "start_time": "2022-06-03T08:35:43.689Z"
   },
   {
    "duration": 41,
    "start_time": "2022-06-03T08:36:05.646Z"
   },
   {
    "duration": 6,
    "start_time": "2022-06-03T08:51:19.069Z"
   },
   {
    "duration": 9,
    "start_time": "2022-06-03T08:51:28.263Z"
   },
   {
    "duration": 6,
    "start_time": "2022-06-03T08:52:05.039Z"
   },
   {
    "duration": 4,
    "start_time": "2022-06-03T08:53:56.658Z"
   },
   {
    "duration": 134,
    "start_time": "2022-06-03T08:55:27.716Z"
   },
   {
    "duration": 0,
    "start_time": "2022-06-03T08:57:33.760Z"
   },
   {
    "duration": 413,
    "start_time": "2022-06-03T08:57:35.219Z"
   },
   {
    "duration": 302,
    "start_time": "2022-06-03T08:57:49.713Z"
   },
   {
    "duration": 6,
    "start_time": "2022-06-03T09:08:34.481Z"
   },
   {
    "duration": 15,
    "start_time": "2022-06-03T09:08:36.181Z"
   },
   {
    "duration": 7,
    "start_time": "2022-06-03T09:08:59.395Z"
   },
   {
    "duration": 361,
    "start_time": "2022-06-03T09:09:02.013Z"
   },
   {
    "duration": 157004,
    "start_time": "2022-06-03T09:09:27.598Z"
   },
   {
    "duration": 0,
    "start_time": "2022-06-03T09:12:04.606Z"
   },
   {
    "duration": 5,
    "start_time": "2022-06-03T09:12:05.847Z"
   },
   {
    "duration": 32,
    "start_time": "2022-06-03T09:12:07.589Z"
   },
   {
    "duration": 7,
    "start_time": "2022-06-03T09:12:56.259Z"
   },
   {
    "duration": 26,
    "start_time": "2022-06-03T09:12:57.650Z"
   },
   {
    "duration": 7,
    "start_time": "2022-06-03T09:13:16.120Z"
   },
   {
    "duration": 140,
    "start_time": "2022-06-03T09:13:19.463Z"
   },
   {
    "duration": 5,
    "start_time": "2022-06-03T09:13:37.292Z"
   },
   {
    "duration": 427,
    "start_time": "2022-06-03T09:13:38.590Z"
   },
   {
    "duration": 6,
    "start_time": "2022-06-03T09:16:16.667Z"
   },
   {
    "duration": 398,
    "start_time": "2022-06-03T09:16:17.942Z"
   },
   {
    "duration": 7,
    "start_time": "2022-06-03T09:16:28.946Z"
   },
   {
    "duration": 360,
    "start_time": "2022-06-03T09:16:30.355Z"
   },
   {
    "duration": 6,
    "start_time": "2022-06-03T09:17:15.252Z"
   },
   {
    "duration": 5,
    "start_time": "2022-06-03T09:17:34.202Z"
   },
   {
    "duration": 287,
    "start_time": "2022-06-03T09:17:37.284Z"
   },
   {
    "duration": 5,
    "start_time": "2022-06-03T09:18:03.859Z"
   },
   {
    "duration": 304,
    "start_time": "2022-06-03T09:18:05.047Z"
   },
   {
    "duration": 5,
    "start_time": "2022-06-03T09:18:37.214Z"
   },
   {
    "duration": 337,
    "start_time": "2022-06-03T09:18:38.419Z"
   },
   {
    "duration": 5,
    "start_time": "2022-06-03T09:19:30.085Z"
   },
   {
    "duration": 392,
    "start_time": "2022-06-03T09:19:32.823Z"
   },
   {
    "duration": 360,
    "start_time": "2022-06-03T09:21:07.007Z"
   },
   {
    "duration": 112,
    "start_time": "2022-06-03T09:46:35.459Z"
   },
   {
    "duration": 312,
    "start_time": "2022-06-03T09:48:51.655Z"
   },
   {
    "duration": 5,
    "start_time": "2022-06-03T09:51:45.676Z"
   },
   {
    "duration": 13,
    "start_time": "2022-06-03T09:51:46.899Z"
   },
   {
    "duration": 5,
    "start_time": "2022-06-03T09:52:05.929Z"
   },
   {
    "duration": 14,
    "start_time": "2022-06-03T09:52:09.175Z"
   },
   {
    "duration": 5,
    "start_time": "2022-06-03T09:54:04.517Z"
   },
   {
    "duration": 352,
    "start_time": "2022-06-03T09:54:07.960Z"
   },
   {
    "duration": 6,
    "start_time": "2022-06-03T09:58:33.810Z"
   },
   {
    "duration": 867,
    "start_time": "2022-06-03T09:58:37.577Z"
   },
   {
    "duration": 6,
    "start_time": "2022-06-03T10:00:21.875Z"
   },
   {
    "duration": 1502,
    "start_time": "2022-06-03T10:00:25.261Z"
   },
   {
    "duration": 7,
    "start_time": "2022-06-03T10:00:48.523Z"
   },
   {
    "duration": 897,
    "start_time": "2022-06-03T10:01:04.119Z"
   },
   {
    "duration": 6,
    "start_time": "2022-06-03T10:03:04.877Z"
   },
   {
    "duration": 629,
    "start_time": "2022-06-03T10:03:10.454Z"
   },
   {
    "duration": 43,
    "start_time": "2022-06-03T10:06:56.186Z"
   },
   {
    "duration": 10,
    "start_time": "2022-06-03T10:07:16.468Z"
   },
   {
    "duration": 11,
    "start_time": "2022-06-03T10:07:44.044Z"
   },
   {
    "duration": 7,
    "start_time": "2022-06-03T10:09:00.976Z"
   },
   {
    "duration": 7,
    "start_time": "2022-06-03T10:09:32.130Z"
   },
   {
    "duration": 11,
    "start_time": "2022-06-03T10:09:44.616Z"
   },
   {
    "duration": 100,
    "start_time": "2022-06-03T10:14:11.423Z"
   },
   {
    "duration": 13,
    "start_time": "2022-06-03T10:14:19.879Z"
   },
   {
    "duration": 16,
    "start_time": "2022-06-03T10:15:49.511Z"
   },
   {
    "duration": 13,
    "start_time": "2022-06-03T10:15:59.187Z"
   },
   {
    "duration": 13,
    "start_time": "2022-06-03T10:16:13.884Z"
   },
   {
    "duration": 242,
    "start_time": "2022-06-03T10:21:35.255Z"
   },
   {
    "duration": 69,
    "start_time": "2022-06-03T10:24:56.614Z"
   },
   {
    "duration": 16,
    "start_time": "2022-06-03T10:25:24.554Z"
   },
   {
    "duration": 278,
    "start_time": "2022-06-03T10:26:12.680Z"
   },
   {
    "duration": 274,
    "start_time": "2022-06-03T10:26:23.879Z"
   },
   {
    "duration": 288,
    "start_time": "2022-06-03T10:36:25.341Z"
   },
   {
    "duration": 169,
    "start_time": "2022-06-03T10:42:15.624Z"
   },
   {
    "duration": 219,
    "start_time": "2022-06-03T10:42:43.187Z"
   },
   {
    "duration": 239,
    "start_time": "2022-06-03T10:42:53.623Z"
   },
   {
    "duration": 251,
    "start_time": "2022-06-03T10:45:51.972Z"
   },
   {
    "duration": 327,
    "start_time": "2022-06-03T10:46:26.703Z"
   },
   {
    "duration": 423,
    "start_time": "2022-06-03T10:46:45.451Z"
   },
   {
    "duration": 327,
    "start_time": "2022-06-03T10:47:20.208Z"
   },
   {
    "duration": 342,
    "start_time": "2022-06-03T10:47:50.641Z"
   },
   {
    "duration": 331,
    "start_time": "2022-06-03T10:48:20.397Z"
   },
   {
    "duration": 260,
    "start_time": "2022-06-03T10:48:40.738Z"
   },
   {
    "duration": 276,
    "start_time": "2022-06-03T10:49:02.620Z"
   },
   {
    "duration": 253,
    "start_time": "2022-06-03T10:49:21.064Z"
   },
   {
    "duration": 401,
    "start_time": "2022-06-03T10:49:44.655Z"
   },
   {
    "duration": 198,
    "start_time": "2022-06-03T10:50:37.801Z"
   },
   {
    "duration": 206,
    "start_time": "2022-06-03T10:50:52.008Z"
   },
   {
    "duration": 232,
    "start_time": "2022-06-03T10:51:35.554Z"
   },
   {
    "duration": 298,
    "start_time": "2022-06-03T10:52:20.885Z"
   },
   {
    "duration": 321,
    "start_time": "2022-06-03T10:52:43.601Z"
   },
   {
    "duration": 315,
    "start_time": "2022-06-03T10:52:49.630Z"
   },
   {
    "duration": 302,
    "start_time": "2022-06-03T10:53:06.540Z"
   },
   {
    "duration": 272,
    "start_time": "2022-06-03T10:55:15.898Z"
   },
   {
    "duration": 13,
    "start_time": "2022-06-03T10:57:54.206Z"
   },
   {
    "duration": 49,
    "start_time": "2022-06-03T10:58:39.507Z"
   },
   {
    "duration": 186,
    "start_time": "2022-06-03T10:58:43.720Z"
   },
   {
    "duration": 207,
    "start_time": "2022-06-03T11:00:14.141Z"
   },
   {
    "duration": 320,
    "start_time": "2022-06-03T11:01:20.402Z"
   },
   {
    "duration": 251,
    "start_time": "2022-06-03T11:02:03.560Z"
   },
   {
    "duration": 246,
    "start_time": "2022-06-03T11:06:09.607Z"
   },
   {
    "duration": 229,
    "start_time": "2022-06-03T11:06:30.036Z"
   },
   {
    "duration": 18,
    "start_time": "2022-06-03T11:09:24.879Z"
   },
   {
    "duration": 244,
    "start_time": "2022-06-03T11:12:00.441Z"
   },
   {
    "duration": 242,
    "start_time": "2022-06-03T11:12:45.194Z"
   },
   {
    "duration": 67,
    "start_time": "2022-06-03T11:14:35.043Z"
   },
   {
    "duration": 336,
    "start_time": "2022-06-03T11:14:49.053Z"
   },
   {
    "duration": 42,
    "start_time": "2022-06-03T11:15:13.997Z"
   },
   {
    "duration": 303,
    "start_time": "2022-06-03T11:15:20.653Z"
   },
   {
    "duration": 3,
    "start_time": "2022-06-03T11:16:15.526Z"
   },
   {
    "duration": 430,
    "start_time": "2022-06-03T11:16:39.756Z"
   },
   {
    "duration": 292,
    "start_time": "2022-06-03T11:16:59.418Z"
   },
   {
    "duration": 274,
    "start_time": "2022-06-03T11:17:22.540Z"
   },
   {
    "duration": 271,
    "start_time": "2022-06-03T11:17:38.545Z"
   },
   {
    "duration": 256,
    "start_time": "2022-06-03T11:18:03.793Z"
   },
   {
    "duration": 371,
    "start_time": "2022-06-03T11:18:24.366Z"
   },
   {
    "duration": 46,
    "start_time": "2022-06-03T11:27:11.513Z"
   },
   {
    "duration": 25,
    "start_time": "2022-06-03T11:27:31.460Z"
   },
   {
    "duration": 134,
    "start_time": "2022-06-03T11:30:07.873Z"
   },
   {
    "duration": 156,
    "start_time": "2022-06-03T11:30:48.048Z"
   },
   {
    "duration": 127,
    "start_time": "2022-06-03T11:31:23.948Z"
   },
   {
    "duration": 125,
    "start_time": "2022-06-03T11:31:37.921Z"
   },
   {
    "duration": 372,
    "start_time": "2022-06-03T11:37:43.138Z"
   },
   {
    "duration": 303,
    "start_time": "2022-06-03T11:37:49.171Z"
   },
   {
    "duration": 404,
    "start_time": "2022-06-03T11:37:59.813Z"
   },
   {
    "duration": 434,
    "start_time": "2022-06-03T11:38:35.147Z"
   },
   {
    "duration": 326,
    "start_time": "2022-06-03T11:42:24.498Z"
   },
   {
    "duration": 348,
    "start_time": "2022-06-03T11:42:38.243Z"
   },
   {
    "duration": 323,
    "start_time": "2022-06-03T11:42:48.491Z"
   },
   {
    "duration": 346,
    "start_time": "2022-06-03T11:43:33.645Z"
   },
   {
    "duration": 276,
    "start_time": "2022-06-03T11:45:39.127Z"
   },
   {
    "duration": 373,
    "start_time": "2022-06-03T11:46:01.751Z"
   },
   {
    "duration": 296,
    "start_time": "2022-06-03T11:46:09.503Z"
   },
   {
    "duration": 295,
    "start_time": "2022-06-03T11:46:31.647Z"
   },
   {
    "duration": 304,
    "start_time": "2022-06-03T11:47:18.187Z"
   },
   {
    "duration": 306,
    "start_time": "2022-06-03T11:47:37.134Z"
   },
   {
    "duration": 408,
    "start_time": "2022-06-03T11:47:48.223Z"
   },
   {
    "duration": 293,
    "start_time": "2022-06-03T11:48:04.830Z"
   },
   {
    "duration": 16,
    "start_time": "2022-06-03T11:48:39.685Z"
   },
   {
    "duration": 284,
    "start_time": "2022-06-03T11:48:41.473Z"
   },
   {
    "duration": 18,
    "start_time": "2022-06-03T11:49:04.275Z"
   },
   {
    "duration": 116,
    "start_time": "2022-06-03T11:49:05.651Z"
   },
   {
    "duration": 15,
    "start_time": "2022-06-03T11:52:00.897Z"
   },
   {
    "duration": 109,
    "start_time": "2022-06-03T11:52:10.695Z"
   },
   {
    "duration": 106,
    "start_time": "2022-06-03T11:52:36.343Z"
   },
   {
    "duration": 107,
    "start_time": "2022-06-03T11:52:43.346Z"
   },
   {
    "duration": 12,
    "start_time": "2022-06-03T11:59:58.747Z"
   },
   {
    "duration": 30,
    "start_time": "2022-06-03T12:00:09.017Z"
   },
   {
    "duration": 17,
    "start_time": "2022-06-03T12:00:51.239Z"
   },
   {
    "duration": 19,
    "start_time": "2022-06-03T12:07:08.096Z"
   },
   {
    "duration": 16,
    "start_time": "2022-06-03T12:07:46.910Z"
   },
   {
    "duration": 21,
    "start_time": "2022-06-03T12:08:47.748Z"
   },
   {
    "duration": 19,
    "start_time": "2022-06-03T12:42:19.067Z"
   },
   {
    "duration": 17,
    "start_time": "2022-06-03T12:42:28.355Z"
   },
   {
    "duration": 179,
    "start_time": "2022-06-03T12:44:35.052Z"
   },
   {
    "duration": 12,
    "start_time": "2022-06-03T12:49:57.521Z"
   },
   {
    "duration": 9,
    "start_time": "2022-06-03T12:50:01.643Z"
   },
   {
    "duration": 122,
    "start_time": "2022-06-03T12:50:02.757Z"
   },
   {
    "duration": 121,
    "start_time": "2022-06-03T12:50:22.076Z"
   },
   {
    "duration": 118,
    "start_time": "2022-06-03T12:50:50.969Z"
   },
   {
    "duration": 118,
    "start_time": "2022-06-03T12:51:30.128Z"
   },
   {
    "duration": 9,
    "start_time": "2022-06-03T12:56:40.311Z"
   },
   {
    "duration": 18,
    "start_time": "2022-06-03T13:04:35.796Z"
   },
   {
    "duration": 16,
    "start_time": "2022-06-03T13:04:45.788Z"
   },
   {
    "duration": 628,
    "start_time": "2022-06-03T13:07:54.968Z"
   },
   {
    "duration": 829,
    "start_time": "2022-06-03T13:08:31.460Z"
   },
   {
    "duration": 603,
    "start_time": "2022-06-03T13:08:52.484Z"
   },
   {
    "duration": 648,
    "start_time": "2022-06-03T13:10:50.166Z"
   },
   {
    "duration": 764,
    "start_time": "2022-06-03T13:12:36.967Z"
   },
   {
    "duration": 648,
    "start_time": "2022-06-03T13:18:15.578Z"
   },
   {
    "duration": 787,
    "start_time": "2022-06-03T13:18:46.368Z"
   },
   {
    "duration": 620,
    "start_time": "2022-06-03T13:23:11.924Z"
   },
   {
    "duration": 631,
    "start_time": "2022-06-03T13:26:11.302Z"
   },
   {
    "duration": 666,
    "start_time": "2022-06-03T13:26:41.056Z"
   },
   {
    "duration": 614,
    "start_time": "2022-06-03T13:26:52.294Z"
   },
   {
    "duration": 816,
    "start_time": "2022-06-03T13:26:59.784Z"
   },
   {
    "duration": 661,
    "start_time": "2022-06-03T13:27:13.290Z"
   },
   {
    "duration": 619,
    "start_time": "2022-06-03T13:27:19.138Z"
   },
   {
    "duration": 612,
    "start_time": "2022-06-03T13:27:40.468Z"
   },
   {
    "duration": 616,
    "start_time": "2022-06-03T13:27:47.385Z"
   },
   {
    "duration": 52,
    "start_time": "2022-06-03T13:31:24.463Z"
   },
   {
    "duration": 54,
    "start_time": "2022-06-03T13:31:31.339Z"
   },
   {
    "duration": 766,
    "start_time": "2022-06-03T13:32:05.474Z"
   },
   {
    "duration": 633,
    "start_time": "2022-06-03T13:32:32.576Z"
   },
   {
    "duration": 672,
    "start_time": "2022-06-03T13:32:58.343Z"
   },
   {
    "duration": 670,
    "start_time": "2022-06-03T13:33:18.698Z"
   },
   {
    "duration": 632,
    "start_time": "2022-06-03T13:35:19.315Z"
   },
   {
    "duration": 640,
    "start_time": "2022-06-03T13:35:45.665Z"
   },
   {
    "duration": 208,
    "start_time": "2022-06-03T13:42:48.178Z"
   },
   {
    "duration": 9,
    "start_time": "2022-06-03T13:43:03.246Z"
   },
   {
    "duration": 10,
    "start_time": "2022-06-03T13:43:46.594Z"
   },
   {
    "duration": 14,
    "start_time": "2022-06-03T13:43:55.695Z"
   },
   {
    "duration": 16,
    "start_time": "2022-06-03T13:45:02.644Z"
   },
   {
    "duration": 423,
    "start_time": "2022-06-03T15:34:07.170Z"
   },
   {
    "duration": 7,
    "start_time": "2022-06-03T15:34:58.939Z"
   },
   {
    "duration": 533,
    "start_time": "2022-06-03T15:35:02.067Z"
   },
   {
    "duration": 8,
    "start_time": "2022-06-03T17:39:42.498Z"
   },
   {
    "duration": 6,
    "start_time": "2022-06-03T17:39:57.058Z"
   },
   {
    "duration": 21,
    "start_time": "2022-06-03T17:43:28.551Z"
   },
   {
    "duration": 6,
    "start_time": "2022-06-03T17:44:06.648Z"
   },
   {
    "duration": 12,
    "start_time": "2022-06-03T17:44:07.764Z"
   },
   {
    "duration": 15,
    "start_time": "2022-06-03T17:44:20.987Z"
   },
   {
    "duration": 16,
    "start_time": "2022-06-03T17:44:35.944Z"
   },
   {
    "duration": 3,
    "start_time": "2022-06-03T17:44:38.178Z"
   },
   {
    "duration": 4,
    "start_time": "2022-06-03T17:44:39.592Z"
   },
   {
    "duration": 20,
    "start_time": "2022-06-03T17:44:41.759Z"
   },
   {
    "duration": 20,
    "start_time": "2022-06-03T17:45:19.923Z"
   },
   {
    "duration": 13,
    "start_time": "2022-06-03T17:45:36.890Z"
   },
   {
    "duration": 5,
    "start_time": "2022-06-03T17:47:05.718Z"
   },
   {
    "duration": 3,
    "start_time": "2022-06-03T17:47:07.166Z"
   },
   {
    "duration": 14,
    "start_time": "2022-06-03T17:47:08.323Z"
   },
   {
    "duration": 19,
    "start_time": "2022-06-03T17:47:10.956Z"
   },
   {
    "duration": 4,
    "start_time": "2022-06-03T17:47:30.802Z"
   },
   {
    "duration": 14,
    "start_time": "2022-06-03T17:47:32.381Z"
   },
   {
    "duration": 14,
    "start_time": "2022-06-03T17:47:35.173Z"
   },
   {
    "duration": 20,
    "start_time": "2022-06-03T17:47:36.576Z"
   },
   {
    "duration": 4,
    "start_time": "2022-06-03T17:47:59.354Z"
   },
   {
    "duration": 13,
    "start_time": "2022-06-03T17:48:00.275Z"
   },
   {
    "duration": 19,
    "start_time": "2022-06-03T17:48:02.708Z"
   },
   {
    "duration": 192,
    "start_time": "2022-06-03T17:49:22.905Z"
   },
   {
    "duration": 14,
    "start_time": "2022-06-03T17:51:24.289Z"
   },
   {
    "duration": 17,
    "start_time": "2022-06-03T17:51:28.750Z"
   },
   {
    "duration": 21,
    "start_time": "2022-06-03T17:52:31.100Z"
   },
   {
    "duration": 30,
    "start_time": "2022-06-03T17:53:14.609Z"
   },
   {
    "duration": 1470,
    "start_time": "2022-06-03T17:53:37.516Z"
   },
   {
    "duration": 4,
    "start_time": "2022-06-03T17:53:38.988Z"
   },
   {
    "duration": 220,
    "start_time": "2022-06-03T17:53:38.995Z"
   },
   {
    "duration": 10,
    "start_time": "2022-06-03T17:53:39.218Z"
   },
   {
    "duration": 94,
    "start_time": "2022-06-03T17:53:39.229Z"
   },
   {
    "duration": 16,
    "start_time": "2022-06-03T17:53:39.325Z"
   },
   {
    "duration": 788,
    "start_time": "2022-06-03T17:53:39.343Z"
   },
   {
    "duration": 32,
    "start_time": "2022-06-03T17:53:40.142Z"
   },
   {
    "duration": 348,
    "start_time": "2022-06-03T17:53:40.176Z"
   },
   {
    "duration": 22,
    "start_time": "2022-06-03T17:53:40.529Z"
   },
   {
    "duration": 170,
    "start_time": "2022-06-03T17:53:40.553Z"
   },
   {
    "duration": 13,
    "start_time": "2022-06-03T17:53:40.729Z"
   },
   {
    "duration": 47,
    "start_time": "2022-06-03T17:53:40.743Z"
   },
   {
    "duration": 68,
    "start_time": "2022-06-03T17:53:40.792Z"
   },
   {
    "duration": 139,
    "start_time": "2022-06-03T17:53:40.862Z"
   },
   {
    "duration": 0,
    "start_time": "2022-06-03T17:53:41.003Z"
   },
   {
    "duration": 0,
    "start_time": "2022-06-03T17:53:41.004Z"
   },
   {
    "duration": 0,
    "start_time": "2022-06-03T17:53:41.006Z"
   },
   {
    "duration": 0,
    "start_time": "2022-06-03T17:53:41.008Z"
   },
   {
    "duration": 20,
    "start_time": "2022-06-03T17:54:16.501Z"
   },
   {
    "duration": 30,
    "start_time": "2022-06-03T18:49:08.612Z"
   },
   {
    "duration": 21,
    "start_time": "2022-06-03T18:49:21.055Z"
   },
   {
    "duration": 696,
    "start_time": "2022-06-03T18:50:05.172Z"
   },
   {
    "duration": 35,
    "start_time": "2022-06-03T18:50:16.674Z"
   },
   {
    "duration": 273,
    "start_time": "2022-06-03T19:03:14.971Z"
   },
   {
    "duration": 22,
    "start_time": "2022-06-03T19:03:19.721Z"
   },
   {
    "duration": 114,
    "start_time": "2022-06-03T19:03:25.126Z"
   },
   {
    "duration": 761,
    "start_time": "2022-06-03T19:03:30.720Z"
   },
   {
    "duration": 843,
    "start_time": "2022-06-03T19:04:02.492Z"
   },
   {
    "duration": 1389,
    "start_time": "2022-06-04T08:25:10.412Z"
   },
   {
    "duration": 3,
    "start_time": "2022-06-04T08:25:11.804Z"
   },
   {
    "duration": 346,
    "start_time": "2022-06-04T08:25:11.809Z"
   },
   {
    "duration": 7,
    "start_time": "2022-06-04T08:25:12.156Z"
   },
   {
    "duration": 51,
    "start_time": "2022-06-04T08:25:12.165Z"
   },
   {
    "duration": 6,
    "start_time": "2022-06-04T08:25:12.218Z"
   },
   {
    "duration": 586,
    "start_time": "2022-06-04T08:25:12.226Z"
   },
   {
    "duration": 20,
    "start_time": "2022-06-04T08:25:12.814Z"
   },
   {
    "duration": 276,
    "start_time": "2022-06-04T08:25:12.838Z"
   },
   {
    "duration": 15,
    "start_time": "2022-06-04T08:25:13.116Z"
   },
   {
    "duration": 124,
    "start_time": "2022-06-04T08:25:13.132Z"
   },
   {
    "duration": 11,
    "start_time": "2022-06-04T08:25:13.258Z"
   },
   {
    "duration": 61,
    "start_time": "2022-06-04T08:25:13.271Z"
   },
   {
    "duration": 38,
    "start_time": "2022-06-04T08:25:13.334Z"
   },
   {
    "duration": 723,
    "start_time": "2022-06-04T08:25:13.373Z"
   },
   {
    "duration": 17,
    "start_time": "2022-06-04T08:25:14.098Z"
   },
   {
    "duration": 636,
    "start_time": "2022-06-04T08:27:29.919Z"
   },
   {
    "duration": 768,
    "start_time": "2022-06-04T08:27:36.813Z"
   },
   {
    "duration": 125,
    "start_time": "2022-06-04T08:49:08.598Z"
   },
   {
    "duration": 16,
    "start_time": "2022-06-04T08:49:39.022Z"
   },
   {
    "duration": 14,
    "start_time": "2022-06-04T08:50:12.302Z"
   },
   {
    "duration": 17,
    "start_time": "2022-06-04T08:50:23.691Z"
   },
   {
    "duration": 11,
    "start_time": "2022-06-04T08:51:09.540Z"
   },
   {
    "duration": 47,
    "start_time": "2022-06-04T08:52:27.703Z"
   },
   {
    "duration": 34,
    "start_time": "2022-06-04T08:53:23.660Z"
   },
   {
    "duration": 25,
    "start_time": "2022-06-04T09:05:03.703Z"
   },
   {
    "duration": 13,
    "start_time": "2022-06-04T09:06:00.707Z"
   },
   {
    "duration": 377,
    "start_time": "2022-06-04T09:06:51.995Z"
   },
   {
    "duration": 49,
    "start_time": "2022-06-04T09:07:13.199Z"
   },
   {
    "duration": 48,
    "start_time": "2022-06-04T09:07:25.511Z"
   },
   {
    "duration": 47,
    "start_time": "2022-06-04T09:07:34.768Z"
   },
   {
    "duration": 149,
    "start_time": "2022-06-04T09:10:06.835Z"
   },
   {
    "duration": 49,
    "start_time": "2022-06-04T09:10:28.709Z"
   },
   {
    "duration": 432,
    "start_time": "2022-06-04T09:16:17.454Z"
   },
   {
    "duration": 519,
    "start_time": "2022-06-04T09:17:47.220Z"
   },
   {
    "duration": 525,
    "start_time": "2022-06-04T09:18:15.444Z"
   },
   {
    "duration": 547,
    "start_time": "2022-06-04T09:18:58.746Z"
   },
   {
    "duration": 521,
    "start_time": "2022-06-04T09:23:52.811Z"
   },
   {
    "duration": 797,
    "start_time": "2022-06-04T09:24:09.040Z"
   },
   {
    "duration": 1142,
    "start_time": "2022-06-04T09:24:24.257Z"
   },
   {
    "duration": 899,
    "start_time": "2022-06-04T09:24:30.411Z"
   },
   {
    "duration": 1940,
    "start_time": "2022-06-04T09:24:48.435Z"
   },
   {
    "duration": 1003,
    "start_time": "2022-06-04T09:24:58.450Z"
   },
   {
    "duration": 651,
    "start_time": "2022-06-04T09:25:12.762Z"
   },
   {
    "duration": 524,
    "start_time": "2022-06-04T09:25:22.211Z"
   },
   {
    "duration": 603,
    "start_time": "2022-06-04T09:25:31.319Z"
   },
   {
    "duration": 530,
    "start_time": "2022-06-04T09:25:49.791Z"
   },
   {
    "duration": 616,
    "start_time": "2022-06-04T09:26:01.799Z"
   },
   {
    "duration": 508,
    "start_time": "2022-06-04T09:26:12.751Z"
   },
   {
    "duration": 616,
    "start_time": "2022-06-04T09:26:20.899Z"
   },
   {
    "duration": 766,
    "start_time": "2022-06-04T09:26:38.807Z"
   },
   {
    "duration": 522,
    "start_time": "2022-06-04T09:26:49.987Z"
   },
   {
    "duration": 676,
    "start_time": "2022-06-04T09:27:02.056Z"
   },
   {
    "duration": 533,
    "start_time": "2022-06-04T09:27:19.125Z"
   },
   {
    "duration": 1316,
    "start_time": "2022-06-04T09:27:57.919Z"
   },
   {
    "duration": 4,
    "start_time": "2022-06-04T09:27:59.237Z"
   },
   {
    "duration": 168,
    "start_time": "2022-06-04T09:27:59.243Z"
   },
   {
    "duration": 8,
    "start_time": "2022-06-04T09:27:59.412Z"
   },
   {
    "duration": 58,
    "start_time": "2022-06-04T09:27:59.423Z"
   },
   {
    "duration": 6,
    "start_time": "2022-06-04T09:27:59.483Z"
   },
   {
    "duration": 552,
    "start_time": "2022-06-04T09:27:59.491Z"
   },
   {
    "duration": 27,
    "start_time": "2022-06-04T09:28:00.045Z"
   },
   {
    "duration": 281,
    "start_time": "2022-06-04T09:28:00.073Z"
   },
   {
    "duration": 19,
    "start_time": "2022-06-04T09:28:00.356Z"
   },
   {
    "duration": 132,
    "start_time": "2022-06-04T09:28:00.376Z"
   },
   {
    "duration": 13,
    "start_time": "2022-06-04T09:28:00.510Z"
   },
   {
    "duration": 566,
    "start_time": "2022-06-04T09:28:00.525Z"
   },
   {
    "duration": 9,
    "start_time": "2022-06-04T09:28:01.094Z"
   },
   {
    "duration": 66,
    "start_time": "2022-06-04T09:28:01.105Z"
   },
   {
    "duration": 486,
    "start_time": "2022-06-04T09:28:01.173Z"
   },
   {
    "duration": 11,
    "start_time": "2022-06-04T09:28:01.661Z"
   },
   {
    "duration": 49,
    "start_time": "2022-06-04T09:28:01.673Z"
   },
   {
    "duration": 800,
    "start_time": "2022-06-04T09:28:01.724Z"
   },
   {
    "duration": 22,
    "start_time": "2022-06-04T09:28:02.526Z"
   },
   {
    "duration": 530,
    "start_time": "2022-06-04T09:30:06.918Z"
   },
   {
    "duration": 522,
    "start_time": "2022-06-04T09:31:31.233Z"
   },
   {
    "duration": 501,
    "start_time": "2022-06-04T09:32:13.494Z"
   },
   {
    "duration": 481,
    "start_time": "2022-06-04T09:33:07.886Z"
   },
   {
    "duration": 30,
    "start_time": "2022-06-04T09:54:32.974Z"
   },
   {
    "duration": 112,
    "start_time": "2022-06-04T09:54:47.243Z"
   },
   {
    "duration": 102,
    "start_time": "2022-06-04T09:55:08.620Z"
   },
   {
    "duration": 207,
    "start_time": "2022-06-04T09:57:04.074Z"
   },
   {
    "duration": 115,
    "start_time": "2022-06-04T09:57:13.798Z"
   },
   {
    "duration": 441,
    "start_time": "2022-06-04T09:57:44.406Z"
   },
   {
    "duration": 492,
    "start_time": "2022-06-04T09:58:15.082Z"
   },
   {
    "duration": 44,
    "start_time": "2022-06-04T10:00:35.125Z"
   },
   {
    "duration": 28,
    "start_time": "2022-06-04T10:01:08.230Z"
   },
   {
    "duration": 24,
    "start_time": "2022-06-04T10:01:41.170Z"
   },
   {
    "duration": 30,
    "start_time": "2022-06-04T10:02:01.042Z"
   },
   {
    "duration": 569,
    "start_time": "2022-06-04T10:03:20.675Z"
   },
   {
    "duration": 5,
    "start_time": "2022-06-04T10:06:12.536Z"
   },
   {
    "duration": 114,
    "start_time": "2022-06-04T10:06:40.198Z"
   },
   {
    "duration": 503,
    "start_time": "2022-06-04T10:06:57.394Z"
   },
   {
    "duration": 18,
    "start_time": "2022-06-04T10:07:39.822Z"
   },
   {
    "duration": 6,
    "start_time": "2022-06-04T10:08:10.307Z"
   },
   {
    "duration": 16,
    "start_time": "2022-06-04T10:08:38.002Z"
   },
   {
    "duration": 7,
    "start_time": "2022-06-04T10:09:11.514Z"
   },
   {
    "duration": 100,
    "start_time": "2022-06-04T10:09:37.799Z"
   },
   {
    "duration": 465,
    "start_time": "2022-06-04T10:10:04.683Z"
   },
   {
    "duration": 688,
    "start_time": "2022-06-04T10:11:14.499Z"
   },
   {
    "duration": 417,
    "start_time": "2022-06-04T10:17:16.341Z"
   },
   {
    "duration": 225,
    "start_time": "2022-06-04T10:18:14.179Z"
   },
   {
    "duration": 240,
    "start_time": "2022-06-04T10:18:37.019Z"
   },
   {
    "duration": 253,
    "start_time": "2022-06-04T10:19:59.715Z"
   },
   {
    "duration": 7,
    "start_time": "2022-06-04T10:37:56.541Z"
   },
   {
    "duration": 19,
    "start_time": "2022-06-04T10:38:07.020Z"
   },
   {
    "duration": 66,
    "start_time": "2022-06-04T10:48:18.303Z"
   },
   {
    "duration": 23,
    "start_time": "2022-06-04T10:49:28.429Z"
   },
   {
    "duration": 9,
    "start_time": "2022-06-04T11:00:58.153Z"
   },
   {
    "duration": 37,
    "start_time": "2022-06-04T11:06:03.991Z"
   },
   {
    "duration": 3,
    "start_time": "2022-06-04T11:06:16.415Z"
   },
   {
    "duration": 116,
    "start_time": "2022-06-04T11:06:58.319Z"
   },
   {
    "duration": 4,
    "start_time": "2022-06-04T11:08:48.594Z"
   },
   {
    "duration": 107,
    "start_time": "2022-06-04T11:08:49.590Z"
   },
   {
    "duration": 3,
    "start_time": "2022-06-04T11:09:13.710Z"
   },
   {
    "duration": 29,
    "start_time": "2022-06-04T11:09:15.590Z"
   },
   {
    "duration": 9,
    "start_time": "2022-06-04T11:09:52.362Z"
   },
   {
    "duration": 5,
    "start_time": "2022-06-04T11:10:16.040Z"
   },
   {
    "duration": 12,
    "start_time": "2022-06-04T11:10:35.113Z"
   },
   {
    "duration": 4,
    "start_time": "2022-06-04T11:11:56.252Z"
   },
   {
    "duration": 1277,
    "start_time": "2022-06-04T11:12:10.944Z"
   },
   {
    "duration": 4,
    "start_time": "2022-06-04T11:12:12.223Z"
   },
   {
    "duration": 155,
    "start_time": "2022-06-04T11:12:12.228Z"
   },
   {
    "duration": 8,
    "start_time": "2022-06-04T11:12:12.385Z"
   },
   {
    "duration": 52,
    "start_time": "2022-06-04T11:12:12.395Z"
   },
   {
    "duration": 23,
    "start_time": "2022-06-04T11:12:12.449Z"
   },
   {
    "duration": 567,
    "start_time": "2022-06-04T11:12:12.473Z"
   },
   {
    "duration": 14,
    "start_time": "2022-06-04T11:12:13.042Z"
   },
   {
    "duration": 271,
    "start_time": "2022-06-04T11:12:13.071Z"
   },
   {
    "duration": 29,
    "start_time": "2022-06-04T11:12:13.345Z"
   },
   {
    "duration": 123,
    "start_time": "2022-06-04T11:12:13.376Z"
   },
   {
    "duration": 13,
    "start_time": "2022-06-04T11:12:13.501Z"
   },
   {
    "duration": 566,
    "start_time": "2022-06-04T11:12:13.515Z"
   },
   {
    "duration": 8,
    "start_time": "2022-06-04T11:12:14.083Z"
   },
   {
    "duration": 60,
    "start_time": "2022-06-04T11:12:14.093Z"
   },
   {
    "duration": 29,
    "start_time": "2022-06-04T11:12:14.154Z"
   },
   {
    "duration": 725,
    "start_time": "2022-06-04T11:12:14.184Z"
   },
   {
    "duration": 16,
    "start_time": "2022-06-04T11:12:14.911Z"
   },
   {
    "duration": 279,
    "start_time": "2022-06-04T11:12:14.929Z"
   },
   {
    "duration": 145,
    "start_time": "2022-06-04T11:12:15.210Z"
   },
   {
    "duration": 4,
    "start_time": "2022-06-04T11:12:15.366Z"
   },
   {
    "duration": 26,
    "start_time": "2022-06-04T11:12:15.375Z"
   },
   {
    "duration": 17,
    "start_time": "2022-06-04T11:12:15.403Z"
   },
   {
    "duration": 20,
    "start_time": "2022-06-04T11:12:15.422Z"
   },
   {
    "duration": 5,
    "start_time": "2022-06-04T11:12:56.425Z"
   },
   {
    "duration": 1244,
    "start_time": "2022-06-04T11:15:32.443Z"
   },
   {
    "duration": 4,
    "start_time": "2022-06-04T11:15:33.689Z"
   },
   {
    "duration": 139,
    "start_time": "2022-06-04T11:15:33.695Z"
   },
   {
    "duration": 7,
    "start_time": "2022-06-04T11:15:33.836Z"
   },
   {
    "duration": 60,
    "start_time": "2022-06-04T11:15:33.845Z"
   },
   {
    "duration": 6,
    "start_time": "2022-06-04T11:15:33.907Z"
   },
   {
    "duration": 554,
    "start_time": "2022-06-04T11:15:33.914Z"
   },
   {
    "duration": 18,
    "start_time": "2022-06-04T11:15:34.469Z"
   },
   {
    "duration": 285,
    "start_time": "2022-06-04T11:15:34.489Z"
   },
   {
    "duration": 15,
    "start_time": "2022-06-04T11:15:34.777Z"
   },
   {
    "duration": 115,
    "start_time": "2022-06-04T11:15:34.794Z"
   },
   {
    "duration": 14,
    "start_time": "2022-06-04T11:15:34.910Z"
   },
   {
    "duration": 522,
    "start_time": "2022-06-04T11:15:34.925Z"
   },
   {
    "duration": 17,
    "start_time": "2022-06-04T11:15:35.449Z"
   },
   {
    "duration": 54,
    "start_time": "2022-06-04T11:15:35.479Z"
   },
   {
    "duration": 16,
    "start_time": "2022-06-04T11:15:35.535Z"
   },
   {
    "duration": 630,
    "start_time": "2022-06-04T11:15:35.552Z"
   },
   {
    "duration": 16,
    "start_time": "2022-06-04T11:15:36.184Z"
   },
   {
    "duration": 283,
    "start_time": "2022-06-04T11:15:36.202Z"
   },
   {
    "duration": 145,
    "start_time": "2022-06-04T11:15:36.486Z"
   },
   {
    "duration": 3,
    "start_time": "2022-06-04T11:15:36.633Z"
   },
   {
    "duration": 0,
    "start_time": "2022-06-04T11:15:36.637Z"
   },
   {
    "duration": 0,
    "start_time": "2022-06-04T11:15:36.639Z"
   },
   {
    "duration": 0,
    "start_time": "2022-06-04T11:15:36.640Z"
   },
   {
    "duration": 10,
    "start_time": "2022-06-04T11:15:46.763Z"
   },
   {
    "duration": 4,
    "start_time": "2022-06-04T11:16:09.827Z"
   },
   {
    "duration": 8,
    "start_time": "2022-06-04T11:16:13.453Z"
   },
   {
    "duration": 12,
    "start_time": "2022-06-04T11:16:15.106Z"
   },
   {
    "duration": 17,
    "start_time": "2022-06-04T11:16:25.019Z"
   },
   {
    "duration": 11,
    "start_time": "2022-06-04T11:16:39.831Z"
   },
   {
    "duration": 122,
    "start_time": "2022-06-04T11:17:24.839Z"
   },
   {
    "duration": 4,
    "start_time": "2022-06-04T11:18:23.902Z"
   },
   {
    "duration": 16,
    "start_time": "2022-06-04T11:18:25.161Z"
   },
   {
    "duration": 11,
    "start_time": "2022-06-04T11:18:26.719Z"
   },
   {
    "duration": 21,
    "start_time": "2022-06-04T11:18:39.146Z"
   },
   {
    "duration": 1205,
    "start_time": "2022-06-04T11:19:55.203Z"
   },
   {
    "duration": 4,
    "start_time": "2022-06-04T11:19:56.410Z"
   },
   {
    "duration": 151,
    "start_time": "2022-06-04T11:19:56.415Z"
   },
   {
    "duration": 10,
    "start_time": "2022-06-04T11:19:56.571Z"
   },
   {
    "duration": 49,
    "start_time": "2022-06-04T11:19:56.583Z"
   },
   {
    "duration": 6,
    "start_time": "2022-06-04T11:19:56.634Z"
   },
   {
    "duration": 552,
    "start_time": "2022-06-04T11:19:56.641Z"
   },
   {
    "duration": 14,
    "start_time": "2022-06-04T11:19:57.195Z"
   },
   {
    "duration": 283,
    "start_time": "2022-06-04T11:19:57.210Z"
   },
   {
    "duration": 13,
    "start_time": "2022-06-04T11:19:57.495Z"
   },
   {
    "duration": 116,
    "start_time": "2022-06-04T11:19:57.509Z"
   },
   {
    "duration": 12,
    "start_time": "2022-06-04T11:19:57.627Z"
   },
   {
    "duration": 538,
    "start_time": "2022-06-04T11:19:57.640Z"
   },
   {
    "duration": 9,
    "start_time": "2022-06-04T11:19:58.180Z"
   },
   {
    "duration": 46,
    "start_time": "2022-06-04T11:19:58.191Z"
   },
   {
    "duration": 40,
    "start_time": "2022-06-04T11:19:58.239Z"
   },
   {
    "duration": 702,
    "start_time": "2022-06-04T11:19:58.281Z"
   },
   {
    "duration": 19,
    "start_time": "2022-06-04T11:19:58.985Z"
   },
   {
    "duration": 300,
    "start_time": "2022-06-04T11:19:59.006Z"
   },
   {
    "duration": 148,
    "start_time": "2022-06-04T11:19:59.307Z"
   },
   {
    "duration": 19,
    "start_time": "2022-06-04T11:19:59.457Z"
   },
   {
    "duration": 10,
    "start_time": "2022-06-04T11:19:59.478Z"
   },
   {
    "duration": 15,
    "start_time": "2022-06-04T11:19:59.489Z"
   },
   {
    "duration": 3,
    "start_time": "2022-06-04T11:20:49.846Z"
   },
   {
    "duration": 17,
    "start_time": "2022-06-04T11:20:52.060Z"
   },
   {
    "duration": 7,
    "start_time": "2022-06-04T11:20:54.410Z"
   },
   {
    "duration": 22,
    "start_time": "2022-06-04T11:20:56.955Z"
   },
   {
    "duration": 47,
    "start_time": "2022-06-04T11:23:31.238Z"
   },
   {
    "duration": 25,
    "start_time": "2022-06-04T11:23:54.255Z"
   },
   {
    "duration": 3,
    "start_time": "2022-06-04T11:29:34.319Z"
   },
   {
    "duration": 9,
    "start_time": "2022-06-04T11:29:35.810Z"
   },
   {
    "duration": 12,
    "start_time": "2022-06-04T11:29:37.699Z"
   },
   {
    "duration": 119,
    "start_time": "2022-06-04T11:32:27.944Z"
   },
   {
    "duration": 26,
    "start_time": "2022-06-04T11:32:34.052Z"
   },
   {
    "duration": 1168,
    "start_time": "2022-06-04T11:35:55.131Z"
   },
   {
    "duration": 3,
    "start_time": "2022-06-04T11:35:56.301Z"
   },
   {
    "duration": 149,
    "start_time": "2022-06-04T11:35:56.305Z"
   },
   {
    "duration": 7,
    "start_time": "2022-06-04T11:35:56.456Z"
   },
   {
    "duration": 57,
    "start_time": "2022-06-04T11:35:56.464Z"
   },
   {
    "duration": 6,
    "start_time": "2022-06-04T11:35:56.522Z"
   },
   {
    "duration": 562,
    "start_time": "2022-06-04T11:35:56.529Z"
   },
   {
    "duration": 14,
    "start_time": "2022-06-04T11:35:57.092Z"
   },
   {
    "duration": 282,
    "start_time": "2022-06-04T11:35:57.108Z"
   },
   {
    "duration": 14,
    "start_time": "2022-06-04T11:35:57.394Z"
   },
   {
    "duration": 127,
    "start_time": "2022-06-04T11:35:57.410Z"
   },
   {
    "duration": 13,
    "start_time": "2022-06-04T11:35:57.538Z"
   },
   {
    "duration": 506,
    "start_time": "2022-06-04T11:35:57.552Z"
   },
   {
    "duration": 15,
    "start_time": "2022-06-04T11:35:58.060Z"
   },
   {
    "duration": 50,
    "start_time": "2022-06-04T11:35:58.078Z"
   },
   {
    "duration": 17,
    "start_time": "2022-06-04T11:35:58.130Z"
   },
   {
    "duration": 714,
    "start_time": "2022-06-04T11:35:58.148Z"
   },
   {
    "duration": 29,
    "start_time": "2022-06-04T11:35:58.863Z"
   },
   {
    "duration": 314,
    "start_time": "2022-06-04T11:35:58.894Z"
   },
   {
    "duration": 169,
    "start_time": "2022-06-04T11:35:59.210Z"
   },
   {
    "duration": 4,
    "start_time": "2022-06-04T11:35:59.381Z"
   },
   {
    "duration": 12,
    "start_time": "2022-06-04T11:35:59.387Z"
   },
   {
    "duration": 16,
    "start_time": "2022-06-04T11:35:59.400Z"
   },
   {
    "duration": 231,
    "start_time": "2022-06-04T11:35:59.418Z"
   },
   {
    "duration": 30,
    "start_time": "2022-06-04T11:35:59.651Z"
   },
   {
    "duration": 25,
    "start_time": "2022-06-04T11:36:21.494Z"
   },
   {
    "duration": 6,
    "start_time": "2022-06-04T11:40:43.894Z"
   },
   {
    "duration": 6,
    "start_time": "2022-06-04T11:40:54.502Z"
   },
   {
    "duration": 5,
    "start_time": "2022-06-04T11:41:17.291Z"
   },
   {
    "duration": 16,
    "start_time": "2022-06-04T11:48:03.435Z"
   },
   {
    "duration": 244,
    "start_time": "2022-06-04T11:54:28.694Z"
   },
   {
    "duration": 5,
    "start_time": "2022-06-04T11:54:30.519Z"
   },
   {
    "duration": 5,
    "start_time": "2022-06-04T11:54:32.487Z"
   },
   {
    "duration": 276,
    "start_time": "2022-06-04T11:54:47.804Z"
   },
   {
    "duration": 5,
    "start_time": "2022-06-04T11:54:49.334Z"
   },
   {
    "duration": 37,
    "start_time": "2022-06-04T12:05:19.408Z"
   },
   {
    "duration": 12,
    "start_time": "2022-06-04T12:05:29.495Z"
   },
   {
    "duration": 3,
    "start_time": "2022-06-04T12:07:10.630Z"
   },
   {
    "duration": 9,
    "start_time": "2022-06-04T12:08:16.911Z"
   },
   {
    "duration": 13,
    "start_time": "2022-06-04T12:09:26.860Z"
   },
   {
    "duration": 9,
    "start_time": "2022-06-04T12:09:45.639Z"
   },
   {
    "duration": 218,
    "start_time": "2022-06-04T12:10:19.928Z"
   },
   {
    "duration": 3,
    "start_time": "2022-06-04T12:12:20.706Z"
   },
   {
    "duration": 109,
    "start_time": "2022-06-04T12:12:23.187Z"
   },
   {
    "duration": 3,
    "start_time": "2022-06-04T12:12:56.351Z"
   },
   {
    "duration": 104,
    "start_time": "2022-06-04T12:12:57.530Z"
   },
   {
    "duration": 130,
    "start_time": "2022-06-04T12:13:22.498Z"
   },
   {
    "duration": 7,
    "start_time": "2022-06-04T12:14:04.126Z"
   },
   {
    "duration": 7,
    "start_time": "2022-06-04T12:15:01.928Z"
   },
   {
    "duration": 8,
    "start_time": "2022-06-04T12:15:09.738Z"
   },
   {
    "duration": 8,
    "start_time": "2022-06-04T12:15:15.439Z"
   },
   {
    "duration": 8,
    "start_time": "2022-06-04T12:15:55.511Z"
   },
   {
    "duration": 1241,
    "start_time": "2022-06-04T12:16:23.900Z"
   },
   {
    "duration": 4,
    "start_time": "2022-06-04T12:16:25.143Z"
   },
   {
    "duration": 145,
    "start_time": "2022-06-04T12:16:25.148Z"
   },
   {
    "duration": 7,
    "start_time": "2022-06-04T12:16:25.295Z"
   },
   {
    "duration": 78,
    "start_time": "2022-06-04T12:16:25.304Z"
   },
   {
    "duration": 6,
    "start_time": "2022-06-04T12:16:25.384Z"
   },
   {
    "duration": 560,
    "start_time": "2022-06-04T12:16:25.391Z"
   },
   {
    "duration": 28,
    "start_time": "2022-06-04T12:16:25.953Z"
   },
   {
    "duration": 267,
    "start_time": "2022-06-04T12:16:25.983Z"
   },
   {
    "duration": 23,
    "start_time": "2022-06-04T12:16:26.253Z"
   },
   {
    "duration": 119,
    "start_time": "2022-06-04T12:16:26.281Z"
   },
   {
    "duration": 12,
    "start_time": "2022-06-04T12:16:26.402Z"
   },
   {
    "duration": 568,
    "start_time": "2022-06-04T12:16:26.416Z"
   },
   {
    "duration": 9,
    "start_time": "2022-06-04T12:16:26.986Z"
   },
   {
    "duration": 63,
    "start_time": "2022-06-04T12:16:26.996Z"
   },
   {
    "duration": 26,
    "start_time": "2022-06-04T12:16:27.062Z"
   },
   {
    "duration": 724,
    "start_time": "2022-06-04T12:16:27.090Z"
   },
   {
    "duration": 16,
    "start_time": "2022-06-04T12:16:27.816Z"
   },
   {
    "duration": 277,
    "start_time": "2022-06-04T12:16:27.833Z"
   },
   {
    "duration": 139,
    "start_time": "2022-06-04T12:16:28.111Z"
   },
   {
    "duration": 37,
    "start_time": "2022-06-04T12:16:28.252Z"
   },
   {
    "duration": 10,
    "start_time": "2022-06-04T12:16:28.291Z"
   },
   {
    "duration": 12,
    "start_time": "2022-06-04T12:16:28.302Z"
   },
   {
    "duration": 17,
    "start_time": "2022-06-04T12:16:28.315Z"
   },
   {
    "duration": 13,
    "start_time": "2022-06-04T12:16:28.334Z"
   },
   {
    "duration": 141,
    "start_time": "2022-06-04T12:16:28.349Z"
   },
   {
    "duration": 14,
    "start_time": "2022-06-04T12:16:43.257Z"
   },
   {
    "duration": 5,
    "start_time": "2022-06-04T12:16:53.128Z"
   },
   {
    "duration": 6,
    "start_time": "2022-06-04T12:16:55.308Z"
   },
   {
    "duration": 8,
    "start_time": "2022-06-04T12:16:56.932Z"
   },
   {
    "duration": 1282,
    "start_time": "2022-06-04T12:17:06.344Z"
   },
   {
    "duration": 5,
    "start_time": "2022-06-04T12:17:07.629Z"
   },
   {
    "duration": 174,
    "start_time": "2022-06-04T12:17:07.636Z"
   },
   {
    "duration": 12,
    "start_time": "2022-06-04T12:17:07.813Z"
   },
   {
    "duration": 75,
    "start_time": "2022-06-04T12:17:07.827Z"
   },
   {
    "duration": 6,
    "start_time": "2022-06-04T12:17:07.904Z"
   },
   {
    "duration": 590,
    "start_time": "2022-06-04T12:17:07.911Z"
   },
   {
    "duration": 17,
    "start_time": "2022-06-04T12:17:08.502Z"
   },
   {
    "duration": 374,
    "start_time": "2022-06-04T12:17:08.520Z"
   },
   {
    "duration": 25,
    "start_time": "2022-06-04T12:17:08.902Z"
   },
   {
    "duration": 158,
    "start_time": "2022-06-04T12:17:08.929Z"
   },
   {
    "duration": 19,
    "start_time": "2022-06-04T12:17:09.089Z"
   },
   {
    "duration": 622,
    "start_time": "2022-06-04T12:17:09.110Z"
   },
   {
    "duration": 10,
    "start_time": "2022-06-04T12:17:09.734Z"
   },
   {
    "duration": 69,
    "start_time": "2022-06-04T12:17:09.747Z"
   },
   {
    "duration": 16,
    "start_time": "2022-06-04T12:17:09.818Z"
   },
   {
    "duration": 714,
    "start_time": "2022-06-04T12:17:09.836Z"
   },
   {
    "duration": 32,
    "start_time": "2022-06-04T12:17:10.552Z"
   },
   {
    "duration": 274,
    "start_time": "2022-06-04T12:17:10.586Z"
   },
   {
    "duration": 147,
    "start_time": "2022-06-04T12:17:10.864Z"
   },
   {
    "duration": 13,
    "start_time": "2022-06-04T12:17:11.013Z"
   },
   {
    "duration": 4,
    "start_time": "2022-06-04T12:17:11.028Z"
   },
   {
    "duration": 7,
    "start_time": "2022-06-04T12:17:11.034Z"
   },
   {
    "duration": 28,
    "start_time": "2022-06-04T12:17:11.042Z"
   },
   {
    "duration": 8,
    "start_time": "2022-06-04T12:17:11.071Z"
   },
   {
    "duration": 141,
    "start_time": "2022-06-04T12:17:11.081Z"
   },
   {
    "duration": 3,
    "start_time": "2022-06-04T12:18:15.711Z"
   },
   {
    "duration": 3,
    "start_time": "2022-06-04T12:18:16.899Z"
   },
   {
    "duration": 6,
    "start_time": "2022-06-04T12:18:19.909Z"
   },
   {
    "duration": 126,
    "start_time": "2022-06-04T12:18:30.251Z"
   },
   {
    "duration": 5,
    "start_time": "2022-06-04T12:19:25.450Z"
   },
   {
    "duration": 14,
    "start_time": "2022-06-04T12:19:31.415Z"
   },
   {
    "duration": 1287,
    "start_time": "2022-06-04T12:20:23.848Z"
   },
   {
    "duration": 4,
    "start_time": "2022-06-04T12:20:25.136Z"
   },
   {
    "duration": 165,
    "start_time": "2022-06-04T12:20:25.142Z"
   },
   {
    "duration": 7,
    "start_time": "2022-06-04T12:20:25.309Z"
   },
   {
    "duration": 58,
    "start_time": "2022-06-04T12:20:25.319Z"
   },
   {
    "duration": 8,
    "start_time": "2022-06-04T12:20:25.378Z"
   },
   {
    "duration": 548,
    "start_time": "2022-06-04T12:20:25.387Z"
   },
   {
    "duration": 32,
    "start_time": "2022-06-04T12:20:25.937Z"
   },
   {
    "duration": 268,
    "start_time": "2022-06-04T12:20:25.971Z"
   },
   {
    "duration": 36,
    "start_time": "2022-06-04T12:20:26.240Z"
   },
   {
    "duration": 109,
    "start_time": "2022-06-04T12:20:26.278Z"
   },
   {
    "duration": 13,
    "start_time": "2022-06-04T12:20:26.389Z"
   },
   {
    "duration": 550,
    "start_time": "2022-06-04T12:20:26.403Z"
   },
   {
    "duration": 28,
    "start_time": "2022-06-04T12:20:26.955Z"
   },
   {
    "duration": 50,
    "start_time": "2022-06-04T12:20:26.985Z"
   },
   {
    "duration": 16,
    "start_time": "2022-06-04T12:20:27.037Z"
   },
   {
    "duration": 676,
    "start_time": "2022-06-04T12:20:27.054Z"
   },
   {
    "duration": 16,
    "start_time": "2022-06-04T12:20:27.732Z"
   },
   {
    "duration": 283,
    "start_time": "2022-06-04T12:20:27.750Z"
   },
   {
    "duration": 147,
    "start_time": "2022-06-04T12:20:28.036Z"
   },
   {
    "duration": 13,
    "start_time": "2022-06-04T12:20:28.184Z"
   },
   {
    "duration": 5,
    "start_time": "2022-06-04T12:20:28.198Z"
   },
   {
    "duration": 14,
    "start_time": "2022-06-04T12:20:28.205Z"
   },
   {
    "duration": 8,
    "start_time": "2022-06-04T12:20:28.221Z"
   },
   {
    "duration": 7,
    "start_time": "2022-06-04T12:20:28.231Z"
   },
   {
    "duration": 147,
    "start_time": "2022-06-04T12:20:28.239Z"
   },
   {
    "duration": 6,
    "start_time": "2022-06-04T12:21:41.549Z"
   },
   {
    "duration": 7,
    "start_time": "2022-06-04T12:21:53.106Z"
   },
   {
    "duration": 1236,
    "start_time": "2022-06-04T12:22:03.423Z"
   },
   {
    "duration": 8,
    "start_time": "2022-06-04T12:22:04.665Z"
   },
   {
    "duration": 157,
    "start_time": "2022-06-04T12:22:04.678Z"
   },
   {
    "duration": 7,
    "start_time": "2022-06-04T12:22:04.836Z"
   },
   {
    "duration": 66,
    "start_time": "2022-06-04T12:22:04.846Z"
   },
   {
    "duration": 6,
    "start_time": "2022-06-04T12:22:04.914Z"
   },
   {
    "duration": 699,
    "start_time": "2022-06-04T12:22:04.922Z"
   },
   {
    "duration": 15,
    "start_time": "2022-06-04T12:22:05.623Z"
   },
   {
    "duration": 285,
    "start_time": "2022-06-04T12:22:05.640Z"
   },
   {
    "duration": 14,
    "start_time": "2022-06-04T12:22:05.927Z"
   },
   {
    "duration": 142,
    "start_time": "2022-06-04T12:22:05.942Z"
   },
   {
    "duration": 14,
    "start_time": "2022-06-04T12:22:06.087Z"
   },
   {
    "duration": 514,
    "start_time": "2022-06-04T12:22:06.103Z"
   },
   {
    "duration": 9,
    "start_time": "2022-06-04T12:22:06.620Z"
   },
   {
    "duration": 63,
    "start_time": "2022-06-04T12:22:06.630Z"
   },
   {
    "duration": 18,
    "start_time": "2022-06-04T12:22:06.694Z"
   },
   {
    "duration": 667,
    "start_time": "2022-06-04T12:22:06.714Z"
   },
   {
    "duration": 18,
    "start_time": "2022-06-04T12:22:07.383Z"
   },
   {
    "duration": 301,
    "start_time": "2022-06-04T12:22:07.402Z"
   },
   {
    "duration": 129,
    "start_time": "2022-06-04T12:22:07.705Z"
   },
   {
    "duration": 12,
    "start_time": "2022-06-04T12:22:07.836Z"
   },
   {
    "duration": 34,
    "start_time": "2022-06-04T12:22:07.849Z"
   },
   {
    "duration": 14,
    "start_time": "2022-06-04T12:22:07.884Z"
   },
   {
    "duration": 4,
    "start_time": "2022-06-04T12:22:07.899Z"
   },
   {
    "duration": 7,
    "start_time": "2022-06-04T12:22:07.905Z"
   },
   {
    "duration": 10,
    "start_time": "2022-06-04T12:22:07.914Z"
   },
   {
    "duration": 14,
    "start_time": "2022-06-04T12:22:07.925Z"
   },
   {
    "duration": 7,
    "start_time": "2022-06-04T12:26:36.487Z"
   },
   {
    "duration": 16,
    "start_time": "2022-06-04T12:29:28.655Z"
   },
   {
    "duration": 7,
    "start_time": "2022-06-04T12:29:34.792Z"
   },
   {
    "duration": 7,
    "start_time": "2022-06-04T12:29:42.322Z"
   },
   {
    "duration": 12,
    "start_time": "2022-06-04T12:30:00.491Z"
   },
   {
    "duration": 8,
    "start_time": "2022-06-04T12:30:59.196Z"
   },
   {
    "duration": 3,
    "start_time": "2022-06-04T12:35:39.088Z"
   },
   {
    "duration": 1319,
    "start_time": "2022-06-04T12:35:49.800Z"
   },
   {
    "duration": 3,
    "start_time": "2022-06-04T12:35:51.122Z"
   },
   {
    "duration": 158,
    "start_time": "2022-06-04T12:35:51.127Z"
   },
   {
    "duration": 8,
    "start_time": "2022-06-04T12:35:51.287Z"
   },
   {
    "duration": 50,
    "start_time": "2022-06-04T12:35:51.298Z"
   },
   {
    "duration": 33,
    "start_time": "2022-06-04T12:35:51.349Z"
   },
   {
    "duration": 561,
    "start_time": "2022-06-04T12:35:51.384Z"
   },
   {
    "duration": 24,
    "start_time": "2022-06-04T12:35:51.947Z"
   },
   {
    "duration": 281,
    "start_time": "2022-06-04T12:35:51.974Z"
   },
   {
    "duration": 22,
    "start_time": "2022-06-04T12:35:52.258Z"
   },
   {
    "duration": 143,
    "start_time": "2022-06-04T12:35:52.282Z"
   },
   {
    "duration": 14,
    "start_time": "2022-06-04T12:35:52.427Z"
   },
   {
    "duration": 552,
    "start_time": "2022-06-04T12:35:52.443Z"
   },
   {
    "duration": 23,
    "start_time": "2022-06-04T12:35:52.999Z"
   },
   {
    "duration": 83,
    "start_time": "2022-06-04T12:35:53.024Z"
   },
   {
    "duration": 18,
    "start_time": "2022-06-04T12:35:53.109Z"
   },
   {
    "duration": 691,
    "start_time": "2022-06-04T12:35:53.130Z"
   },
   {
    "duration": 16,
    "start_time": "2022-06-04T12:35:53.823Z"
   },
   {
    "duration": 315,
    "start_time": "2022-06-04T12:35:53.841Z"
   },
   {
    "duration": 145,
    "start_time": "2022-06-04T12:35:54.169Z"
   },
   {
    "duration": 12,
    "start_time": "2022-06-04T12:35:54.316Z"
   },
   {
    "duration": 7,
    "start_time": "2022-06-04T12:35:54.330Z"
   },
   {
    "duration": 13,
    "start_time": "2022-06-04T12:35:54.338Z"
   },
   {
    "duration": 19,
    "start_time": "2022-06-04T12:35:54.353Z"
   },
   {
    "duration": 22,
    "start_time": "2022-06-04T12:35:54.373Z"
   },
   {
    "duration": 13,
    "start_time": "2022-06-04T12:35:54.397Z"
   },
   {
    "duration": 15,
    "start_time": "2022-06-04T12:35:54.412Z"
   },
   {
    "duration": 9,
    "start_time": "2022-06-04T12:35:54.429Z"
   },
   {
    "duration": 3,
    "start_time": "2022-06-04T12:36:54.203Z"
   },
   {
    "duration": 1195,
    "start_time": "2022-06-04T12:37:01.997Z"
   },
   {
    "duration": 3,
    "start_time": "2022-06-04T12:37:03.194Z"
   },
   {
    "duration": 139,
    "start_time": "2022-06-04T12:37:03.199Z"
   },
   {
    "duration": 6,
    "start_time": "2022-06-04T12:37:03.340Z"
   },
   {
    "duration": 61,
    "start_time": "2022-06-04T12:37:03.348Z"
   },
   {
    "duration": 6,
    "start_time": "2022-06-04T12:37:03.411Z"
   },
   {
    "duration": 580,
    "start_time": "2022-06-04T12:37:03.418Z"
   },
   {
    "duration": 22,
    "start_time": "2022-06-04T12:37:04.000Z"
   },
   {
    "duration": 307,
    "start_time": "2022-06-04T12:37:04.024Z"
   },
   {
    "duration": 15,
    "start_time": "2022-06-04T12:37:04.333Z"
   },
   {
    "duration": 127,
    "start_time": "2022-06-04T12:37:04.350Z"
   },
   {
    "duration": 15,
    "start_time": "2022-06-04T12:37:04.480Z"
   },
   {
    "duration": 514,
    "start_time": "2022-06-04T12:37:04.497Z"
   },
   {
    "duration": 9,
    "start_time": "2022-06-04T12:37:05.015Z"
   },
   {
    "duration": 69,
    "start_time": "2022-06-04T12:37:05.026Z"
   },
   {
    "duration": 17,
    "start_time": "2022-06-04T12:37:05.097Z"
   },
   {
    "duration": 662,
    "start_time": "2022-06-04T12:37:05.115Z"
   },
   {
    "duration": 15,
    "start_time": "2022-06-04T12:37:05.779Z"
   },
   {
    "duration": 273,
    "start_time": "2022-06-04T12:37:05.796Z"
   },
   {
    "duration": 125,
    "start_time": "2022-06-04T12:37:06.079Z"
   },
   {
    "duration": 12,
    "start_time": "2022-06-04T12:37:06.206Z"
   },
   {
    "duration": 8,
    "start_time": "2022-06-04T12:37:06.220Z"
   },
   {
    "duration": 14,
    "start_time": "2022-06-04T12:37:06.229Z"
   },
   {
    "duration": 30,
    "start_time": "2022-06-04T12:37:06.245Z"
   },
   {
    "duration": 25,
    "start_time": "2022-06-04T12:37:06.276Z"
   },
   {
    "duration": 21,
    "start_time": "2022-06-04T12:37:06.303Z"
   },
   {
    "duration": 31,
    "start_time": "2022-06-04T12:37:06.326Z"
   },
   {
    "duration": 35,
    "start_time": "2022-06-04T12:37:06.359Z"
   },
   {
    "duration": 1268,
    "start_time": "2022-06-04T12:39:27.727Z"
   },
   {
    "duration": 4,
    "start_time": "2022-06-04T12:39:28.998Z"
   },
   {
    "duration": 181,
    "start_time": "2022-06-04T12:39:29.004Z"
   },
   {
    "duration": 12,
    "start_time": "2022-06-04T12:39:29.188Z"
   },
   {
    "duration": 58,
    "start_time": "2022-06-04T12:39:29.203Z"
   },
   {
    "duration": 7,
    "start_time": "2022-06-04T12:39:29.263Z"
   },
   {
    "duration": 568,
    "start_time": "2022-06-04T12:39:29.277Z"
   },
   {
    "duration": 36,
    "start_time": "2022-06-04T12:39:29.846Z"
   },
   {
    "duration": 295,
    "start_time": "2022-06-04T12:39:29.884Z"
   },
   {
    "duration": 15,
    "start_time": "2022-06-04T12:39:30.183Z"
   },
   {
    "duration": 121,
    "start_time": "2022-06-04T12:39:30.201Z"
   },
   {
    "duration": 13,
    "start_time": "2022-06-04T12:39:30.323Z"
   },
   {
    "duration": 554,
    "start_time": "2022-06-04T12:39:30.337Z"
   },
   {
    "duration": 9,
    "start_time": "2022-06-04T12:39:30.894Z"
   },
   {
    "duration": 71,
    "start_time": "2022-06-04T12:39:30.904Z"
   },
   {
    "duration": 18,
    "start_time": "2022-06-04T12:39:30.980Z"
   },
   {
    "duration": 680,
    "start_time": "2022-06-04T12:39:31.000Z"
   },
   {
    "duration": 16,
    "start_time": "2022-06-04T12:39:31.682Z"
   },
   {
    "duration": 316,
    "start_time": "2022-06-04T12:39:31.699Z"
   },
   {
    "duration": 147,
    "start_time": "2022-06-04T12:39:32.017Z"
   },
   {
    "duration": 18,
    "start_time": "2022-06-04T12:39:32.166Z"
   },
   {
    "duration": 3,
    "start_time": "2022-06-04T12:39:32.186Z"
   },
   {
    "duration": 17,
    "start_time": "2022-06-04T12:39:32.191Z"
   },
   {
    "duration": 8,
    "start_time": "2022-06-04T12:39:32.210Z"
   },
   {
    "duration": 6,
    "start_time": "2022-06-04T12:39:32.220Z"
   },
   {
    "duration": 155,
    "start_time": "2022-06-04T12:39:32.227Z"
   },
   {
    "duration": 0,
    "start_time": "2022-06-04T12:39:32.383Z"
   },
   {
    "duration": 0,
    "start_time": "2022-06-04T12:39:32.384Z"
   },
   {
    "duration": 1276,
    "start_time": "2022-06-04T12:39:53.407Z"
   },
   {
    "duration": 4,
    "start_time": "2022-06-04T12:39:54.687Z"
   },
   {
    "duration": 159,
    "start_time": "2022-06-04T12:39:54.692Z"
   },
   {
    "duration": 8,
    "start_time": "2022-06-04T12:39:54.853Z"
   },
   {
    "duration": 69,
    "start_time": "2022-06-04T12:39:54.865Z"
   },
   {
    "duration": 7,
    "start_time": "2022-06-04T12:39:54.936Z"
   },
   {
    "duration": 553,
    "start_time": "2022-06-04T12:39:54.945Z"
   },
   {
    "duration": 13,
    "start_time": "2022-06-04T12:39:55.500Z"
   },
   {
    "duration": 272,
    "start_time": "2022-06-04T12:39:55.515Z"
   },
   {
    "duration": 14,
    "start_time": "2022-06-04T12:39:55.789Z"
   },
   {
    "duration": 120,
    "start_time": "2022-06-04T12:39:55.805Z"
   },
   {
    "duration": 14,
    "start_time": "2022-06-04T12:39:55.927Z"
   },
   {
    "duration": 544,
    "start_time": "2022-06-04T12:39:55.942Z"
   },
   {
    "duration": 10,
    "start_time": "2022-06-04T12:39:56.487Z"
   },
   {
    "duration": 51,
    "start_time": "2022-06-04T12:39:56.498Z"
   },
   {
    "duration": 22,
    "start_time": "2022-06-04T12:39:56.564Z"
   },
   {
    "duration": 695,
    "start_time": "2022-06-04T12:39:56.588Z"
   },
   {
    "duration": 17,
    "start_time": "2022-06-04T12:39:57.285Z"
   },
   {
    "duration": 285,
    "start_time": "2022-06-04T12:39:57.304Z"
   },
   {
    "duration": 140,
    "start_time": "2022-06-04T12:39:57.591Z"
   },
   {
    "duration": 13,
    "start_time": "2022-06-04T12:39:57.733Z"
   },
   {
    "duration": 6,
    "start_time": "2022-06-04T12:39:57.765Z"
   },
   {
    "duration": 13,
    "start_time": "2022-06-04T12:39:57.778Z"
   },
   {
    "duration": 11,
    "start_time": "2022-06-04T12:39:57.793Z"
   },
   {
    "duration": 6,
    "start_time": "2022-06-04T12:39:57.806Z"
   },
   {
    "duration": 14,
    "start_time": "2022-06-04T12:39:57.814Z"
   },
   {
    "duration": 12,
    "start_time": "2022-06-04T12:39:57.830Z"
   },
   {
    "duration": 9,
    "start_time": "2022-06-04T12:39:57.875Z"
   },
   {
    "duration": 1164,
    "start_time": "2022-06-04T12:41:44.723Z"
   },
   {
    "duration": 3,
    "start_time": "2022-06-04T12:41:45.889Z"
   },
   {
    "duration": 149,
    "start_time": "2022-06-04T12:41:45.893Z"
   },
   {
    "duration": 7,
    "start_time": "2022-06-04T12:41:46.044Z"
   },
   {
    "duration": 56,
    "start_time": "2022-06-04T12:41:46.052Z"
   },
   {
    "duration": 6,
    "start_time": "2022-06-04T12:41:46.109Z"
   },
   {
    "duration": 544,
    "start_time": "2022-06-04T12:41:46.116Z"
   },
   {
    "duration": 18,
    "start_time": "2022-06-04T12:41:46.662Z"
   },
   {
    "duration": 265,
    "start_time": "2022-06-04T12:41:46.682Z"
   },
   {
    "duration": 29,
    "start_time": "2022-06-04T12:41:46.951Z"
   },
   {
    "duration": 111,
    "start_time": "2022-06-04T12:41:46.981Z"
   },
   {
    "duration": 13,
    "start_time": "2022-06-04T12:41:47.093Z"
   },
   {
    "duration": 562,
    "start_time": "2022-06-04T12:41:47.107Z"
   },
   {
    "duration": 8,
    "start_time": "2022-06-04T12:41:47.679Z"
   },
   {
    "duration": 49,
    "start_time": "2022-06-04T12:41:47.689Z"
   },
   {
    "duration": 17,
    "start_time": "2022-06-04T12:41:47.740Z"
   },
   {
    "duration": 707,
    "start_time": "2022-06-04T12:41:47.766Z"
   },
   {
    "duration": 15,
    "start_time": "2022-06-04T12:41:48.479Z"
   },
   {
    "duration": 265,
    "start_time": "2022-06-04T12:41:48.496Z"
   },
   {
    "duration": 147,
    "start_time": "2022-06-04T12:41:48.769Z"
   },
   {
    "duration": 14,
    "start_time": "2022-06-04T12:41:48.918Z"
   },
   {
    "duration": 7,
    "start_time": "2022-06-04T12:41:48.934Z"
   },
   {
    "duration": 30,
    "start_time": "2022-06-04T12:41:48.942Z"
   },
   {
    "duration": 31,
    "start_time": "2022-06-04T12:41:48.974Z"
   },
   {
    "duration": 22,
    "start_time": "2022-06-04T12:41:49.007Z"
   },
   {
    "duration": 19,
    "start_time": "2022-06-04T12:41:49.031Z"
   },
   {
    "duration": 22,
    "start_time": "2022-06-04T12:41:49.052Z"
   },
   {
    "duration": 15,
    "start_time": "2022-06-04T12:41:49.077Z"
   },
   {
    "duration": 128,
    "start_time": "2022-06-04T12:42:38.156Z"
   },
   {
    "duration": 16,
    "start_time": "2022-06-04T12:42:46.392Z"
   },
   {
    "duration": 1233,
    "start_time": "2022-06-04T12:46:00.700Z"
   },
   {
    "duration": 4,
    "start_time": "2022-06-04T12:46:01.936Z"
   },
   {
    "duration": 197,
    "start_time": "2022-06-04T12:46:01.942Z"
   },
   {
    "duration": 7,
    "start_time": "2022-06-04T12:46:02.141Z"
   },
   {
    "duration": 74,
    "start_time": "2022-06-04T12:46:02.150Z"
   },
   {
    "duration": 6,
    "start_time": "2022-06-04T12:46:02.226Z"
   },
   {
    "duration": 601,
    "start_time": "2022-06-04T12:46:02.234Z"
   },
   {
    "duration": 36,
    "start_time": "2022-06-04T12:46:02.837Z"
   },
   {
    "duration": 267,
    "start_time": "2022-06-04T12:46:02.882Z"
   },
   {
    "duration": 29,
    "start_time": "2022-06-04T12:46:03.152Z"
   },
   {
    "duration": 123,
    "start_time": "2022-06-04T12:46:03.184Z"
   },
   {
    "duration": 14,
    "start_time": "2022-06-04T12:46:03.309Z"
   },
   {
    "duration": 561,
    "start_time": "2022-06-04T12:46:03.325Z"
   },
   {
    "duration": 8,
    "start_time": "2022-06-04T12:46:03.889Z"
   },
   {
    "duration": 61,
    "start_time": "2022-06-04T12:46:03.899Z"
   },
   {
    "duration": 20,
    "start_time": "2022-06-04T12:46:03.962Z"
   },
   {
    "duration": 697,
    "start_time": "2022-06-04T12:46:03.984Z"
   },
   {
    "duration": 17,
    "start_time": "2022-06-04T12:46:04.683Z"
   },
   {
    "duration": 286,
    "start_time": "2022-06-04T12:46:04.702Z"
   },
   {
    "duration": 152,
    "start_time": "2022-06-04T12:46:04.990Z"
   },
   {
    "duration": 30,
    "start_time": "2022-06-04T12:46:05.144Z"
   },
   {
    "duration": 7,
    "start_time": "2022-06-04T12:46:05.179Z"
   },
   {
    "duration": 16,
    "start_time": "2022-06-04T12:46:05.188Z"
   },
   {
    "duration": 7,
    "start_time": "2022-06-04T12:46:05.206Z"
   },
   {
    "duration": 9,
    "start_time": "2022-06-04T12:46:05.215Z"
   },
   {
    "duration": 15,
    "start_time": "2022-06-04T12:46:05.226Z"
   },
   {
    "duration": 34,
    "start_time": "2022-06-04T12:46:05.243Z"
   },
   {
    "duration": 12,
    "start_time": "2022-06-04T12:46:05.279Z"
   },
   {
    "duration": 18,
    "start_time": "2022-06-04T12:46:05.292Z"
   },
   {
    "duration": 210,
    "start_time": "2022-06-04T12:47:11.432Z"
   },
   {
    "duration": 8,
    "start_time": "2022-06-04T12:47:38.413Z"
   },
   {
    "duration": 12,
    "start_time": "2022-06-04T12:47:44.116Z"
   },
   {
    "duration": 13,
    "start_time": "2022-06-04T12:47:48.199Z"
   },
   {
    "duration": 5,
    "start_time": "2022-06-04T12:48:05.695Z"
   },
   {
    "duration": 1218,
    "start_time": "2022-06-04T12:49:28.198Z"
   },
   {
    "duration": 4,
    "start_time": "2022-06-04T12:49:29.417Z"
   },
   {
    "duration": 137,
    "start_time": "2022-06-04T12:49:29.422Z"
   },
   {
    "duration": 10,
    "start_time": "2022-06-04T12:49:29.561Z"
   },
   {
    "duration": 50,
    "start_time": "2022-06-04T12:49:29.579Z"
   },
   {
    "duration": 6,
    "start_time": "2022-06-04T12:49:29.630Z"
   },
   {
    "duration": 572,
    "start_time": "2022-06-04T12:49:29.638Z"
   },
   {
    "duration": 14,
    "start_time": "2022-06-04T12:49:30.211Z"
   },
   {
    "duration": 285,
    "start_time": "2022-06-04T12:49:30.227Z"
   },
   {
    "duration": 14,
    "start_time": "2022-06-04T12:49:30.514Z"
   },
   {
    "duration": 123,
    "start_time": "2022-06-04T12:49:30.529Z"
   },
   {
    "duration": 23,
    "start_time": "2022-06-04T12:49:30.654Z"
   },
   {
    "duration": 523,
    "start_time": "2022-06-04T12:49:30.679Z"
   },
   {
    "duration": 9,
    "start_time": "2022-06-04T12:49:31.205Z"
   },
   {
    "duration": 71,
    "start_time": "2022-06-04T12:49:31.216Z"
   },
   {
    "duration": 17,
    "start_time": "2022-06-04T12:49:31.289Z"
   },
   {
    "duration": 727,
    "start_time": "2022-06-04T12:49:31.308Z"
   },
   {
    "duration": 17,
    "start_time": "2022-06-04T12:49:32.037Z"
   },
   {
    "duration": 293,
    "start_time": "2022-06-04T12:49:32.064Z"
   },
   {
    "duration": 140,
    "start_time": "2022-06-04T12:49:32.359Z"
   },
   {
    "duration": 13,
    "start_time": "2022-06-04T12:49:32.500Z"
   },
   {
    "duration": 8,
    "start_time": "2022-06-04T12:49:32.514Z"
   },
   {
    "duration": 13,
    "start_time": "2022-06-04T12:49:32.524Z"
   },
   {
    "duration": 5,
    "start_time": "2022-06-04T12:49:32.539Z"
   },
   {
    "duration": 38,
    "start_time": "2022-06-04T12:49:32.546Z"
   },
   {
    "duration": 10,
    "start_time": "2022-06-04T12:49:32.586Z"
   },
   {
    "duration": 12,
    "start_time": "2022-06-04T12:49:32.598Z"
   },
   {
    "duration": 11,
    "start_time": "2022-06-04T12:49:32.612Z"
   },
   {
    "duration": 14,
    "start_time": "2022-06-04T12:49:32.624Z"
   },
   {
    "duration": 10,
    "start_time": "2022-06-04T12:49:32.640Z"
   },
   {
    "duration": 12,
    "start_time": "2022-06-04T12:49:32.652Z"
   },
   {
    "duration": 5,
    "start_time": "2022-06-04T12:50:21.531Z"
   },
   {
    "duration": 1238,
    "start_time": "2022-06-04T13:25:40.532Z"
   },
   {
    "duration": 3,
    "start_time": "2022-06-04T13:25:41.773Z"
   },
   {
    "duration": 135,
    "start_time": "2022-06-04T13:25:41.778Z"
   },
   {
    "duration": 7,
    "start_time": "2022-06-04T13:25:41.915Z"
   },
   {
    "duration": 63,
    "start_time": "2022-06-04T13:25:41.925Z"
   },
   {
    "duration": 5,
    "start_time": "2022-06-04T13:25:41.990Z"
   },
   {
    "duration": 530,
    "start_time": "2022-06-04T13:25:41.997Z"
   },
   {
    "duration": 14,
    "start_time": "2022-06-04T13:25:42.529Z"
   },
   {
    "duration": 278,
    "start_time": "2022-06-04T13:25:42.545Z"
   },
   {
    "duration": 19,
    "start_time": "2022-06-04T13:25:42.827Z"
   },
   {
    "duration": 140,
    "start_time": "2022-06-04T13:25:42.848Z"
   },
   {
    "duration": 14,
    "start_time": "2022-06-04T13:25:42.990Z"
   },
   {
    "duration": 519,
    "start_time": "2022-06-04T13:25:43.006Z"
   },
   {
    "duration": 8,
    "start_time": "2022-06-04T13:25:43.528Z"
   },
   {
    "duration": 59,
    "start_time": "2022-06-04T13:25:43.537Z"
   },
   {
    "duration": 18,
    "start_time": "2022-06-04T13:25:43.597Z"
   },
   {
    "duration": 633,
    "start_time": "2022-06-04T13:25:43.616Z"
   },
   {
    "duration": 22,
    "start_time": "2022-06-04T13:25:44.251Z"
   },
   {
    "duration": 253,
    "start_time": "2022-06-04T13:25:44.274Z"
   },
   {
    "duration": 137,
    "start_time": "2022-06-04T13:25:44.528Z"
   },
   {
    "duration": 11,
    "start_time": "2022-06-04T13:25:44.666Z"
   },
   {
    "duration": 7,
    "start_time": "2022-06-04T13:25:44.678Z"
   },
   {
    "duration": 7,
    "start_time": "2022-06-04T13:25:44.686Z"
   },
   {
    "duration": 123,
    "start_time": "2022-06-04T13:25:44.694Z"
   },
   {
    "duration": 14,
    "start_time": "2022-06-04T13:26:33.511Z"
   },
   {
    "duration": 8,
    "start_time": "2022-06-04T13:27:46.158Z"
   },
   {
    "duration": 8,
    "start_time": "2022-06-04T13:28:21.539Z"
   },
   {
    "duration": 4,
    "start_time": "2022-06-04T13:30:27.616Z"
   },
   {
    "duration": 291,
    "start_time": "2022-06-04T13:30:46.211Z"
   },
   {
    "duration": 11,
    "start_time": "2022-06-04T13:31:00.636Z"
   },
   {
    "duration": 11,
    "start_time": "2022-06-04T13:32:01.118Z"
   },
   {
    "duration": 12,
    "start_time": "2022-06-04T13:32:05.116Z"
   },
   {
    "duration": 10,
    "start_time": "2022-06-04T13:32:23.451Z"
   },
   {
    "duration": 11,
    "start_time": "2022-06-04T13:32:25.809Z"
   },
   {
    "duration": 335,
    "start_time": "2022-06-04T13:32:37.793Z"
   },
   {
    "duration": 5,
    "start_time": "2022-06-04T13:32:44.094Z"
   },
   {
    "duration": 6,
    "start_time": "2022-06-04T13:35:16.221Z"
   },
   {
    "duration": 11,
    "start_time": "2022-06-04T13:35:21.614Z"
   },
   {
    "duration": 5,
    "start_time": "2022-06-04T13:35:33.406Z"
   },
   {
    "duration": 7,
    "start_time": "2022-06-04T13:36:08.118Z"
   },
   {
    "duration": 6,
    "start_time": "2022-06-04T13:36:32.216Z"
   },
   {
    "duration": 8,
    "start_time": "2022-06-04T13:39:11.796Z"
   },
   {
    "duration": 441,
    "start_time": "2022-06-04T13:45:09.824Z"
   },
   {
    "duration": 351,
    "start_time": "2022-06-04T13:46:06.337Z"
   },
   {
    "duration": 597,
    "start_time": "2022-06-04T13:46:12.345Z"
   },
   {
    "duration": 12,
    "start_time": "2022-06-04T13:46:24.468Z"
   },
   {
    "duration": 8,
    "start_time": "2022-06-04T13:46:46.218Z"
   },
   {
    "duration": 11,
    "start_time": "2022-06-04T13:46:47.570Z"
   },
   {
    "duration": 11,
    "start_time": "2022-06-04T13:46:49.059Z"
   },
   {
    "duration": 6,
    "start_time": "2022-06-04T13:46:50.235Z"
   },
   {
    "duration": 6,
    "start_time": "2022-06-04T13:46:51.456Z"
   },
   {
    "duration": 6,
    "start_time": "2022-06-04T13:46:56.245Z"
   },
   {
    "duration": 11,
    "start_time": "2022-06-04T13:46:57.660Z"
   },
   {
    "duration": 4,
    "start_time": "2022-06-04T13:47:26.236Z"
   },
   {
    "duration": 17,
    "start_time": "2022-06-04T13:47:34.120Z"
   },
   {
    "duration": 14,
    "start_time": "2022-06-04T13:54:17.409Z"
   },
   {
    "duration": 19,
    "start_time": "2022-06-04T13:54:26.455Z"
   },
   {
    "duration": 29,
    "start_time": "2022-06-04T13:54:42.148Z"
   },
   {
    "duration": 34,
    "start_time": "2022-06-04T13:56:22.818Z"
   },
   {
    "duration": 10,
    "start_time": "2022-06-04T13:56:27.118Z"
   },
   {
    "duration": 20,
    "start_time": "2022-06-04T13:56:52.608Z"
   },
   {
    "duration": 22,
    "start_time": "2022-06-04T13:57:14.324Z"
   },
   {
    "duration": 33,
    "start_time": "2022-06-04T14:12:39.624Z"
   },
   {
    "duration": 29,
    "start_time": "2022-06-04T14:16:58.220Z"
   },
   {
    "duration": 32,
    "start_time": "2022-06-04T14:17:55.607Z"
   },
   {
    "duration": 77,
    "start_time": "2022-06-04T14:30:45.710Z"
   },
   {
    "duration": 33,
    "start_time": "2022-06-04T14:32:00.940Z"
   },
   {
    "duration": 26,
    "start_time": "2022-06-04T14:32:20.536Z"
   },
   {
    "duration": 13,
    "start_time": "2022-06-04T14:57:34.111Z"
   },
   {
    "duration": 1478,
    "start_time": "2022-06-07T11:10:04.782Z"
   },
   {
    "duration": 3124,
    "start_time": "2022-06-07T11:10:27.597Z"
   },
   {
    "duration": 284,
    "start_time": "2022-06-07T11:10:34.036Z"
   },
   {
    "duration": 4,
    "start_time": "2022-06-07T11:10:41.024Z"
   },
   {
    "duration": 243,
    "start_time": "2022-06-07T11:10:45.642Z"
   },
   {
    "duration": 7,
    "start_time": "2022-06-07T11:10:47.372Z"
   },
   {
    "duration": 43,
    "start_time": "2022-06-07T11:10:52.267Z"
   },
   {
    "duration": 6,
    "start_time": "2022-06-07T11:11:03.961Z"
   },
   {
    "duration": 520,
    "start_time": "2022-06-07T11:11:08.146Z"
   },
   {
    "duration": 26,
    "start_time": "2022-06-07T11:11:39.978Z"
   },
   {
    "duration": 14,
    "start_time": "2022-06-07T11:16:59.901Z"
   },
   {
    "duration": 14,
    "start_time": "2022-06-07T11:17:11.937Z"
   },
   {
    "duration": 15,
    "start_time": "2022-06-07T11:17:34.622Z"
   },
   {
    "duration": 16,
    "start_time": "2022-06-07T11:18:29.143Z"
   },
   {
    "duration": 273,
    "start_time": "2022-06-07T11:18:34.030Z"
   },
   {
    "duration": 20,
    "start_time": "2022-06-07T11:18:48.900Z"
   },
   {
    "duration": 106,
    "start_time": "2022-06-07T11:18:50.168Z"
   },
   {
    "duration": 15,
    "start_time": "2022-06-07T11:18:57.022Z"
   },
   {
    "duration": 542,
    "start_time": "2022-06-07T11:18:58.177Z"
   },
   {
    "duration": 8,
    "start_time": "2022-06-07T11:19:10.482Z"
   },
   {
    "duration": 66,
    "start_time": "2022-06-07T11:19:11.598Z"
   },
   {
    "duration": 21,
    "start_time": "2022-06-07T11:19:23.101Z"
   },
   {
    "duration": 784,
    "start_time": "2022-06-07T11:19:27.714Z"
   },
   {
    "duration": 17,
    "start_time": "2022-06-07T11:19:34.552Z"
   },
   {
    "duration": 295,
    "start_time": "2022-06-07T11:19:38.686Z"
   },
   {
    "duration": 38,
    "start_time": "2022-06-07T11:19:52.888Z"
   },
   {
    "duration": 14,
    "start_time": "2022-06-07T11:19:56.526Z"
   },
   {
    "duration": 5,
    "start_time": "2022-06-07T11:20:01.781Z"
   },
   {
    "duration": 6,
    "start_time": "2022-06-07T11:20:03.606Z"
   },
   {
    "duration": 6,
    "start_time": "2022-06-07T11:20:10.235Z"
   },
   {
    "duration": 9,
    "start_time": "2022-06-07T11:20:11.503Z"
   },
   {
    "duration": 10,
    "start_time": "2022-06-07T11:20:12.384Z"
   },
   {
    "duration": 10,
    "start_time": "2022-06-07T11:20:13.178Z"
   },
   {
    "duration": 6,
    "start_time": "2022-06-07T11:20:14.285Z"
   },
   {
    "duration": 6,
    "start_time": "2022-06-07T11:20:15.277Z"
   },
   {
    "duration": 5,
    "start_time": "2022-06-07T11:20:17.229Z"
   },
   {
    "duration": 5,
    "start_time": "2022-06-07T11:20:20.167Z"
   },
   {
    "duration": 15,
    "start_time": "2022-06-07T11:20:24.217Z"
   },
   {
    "duration": 290,
    "start_time": "2022-06-07T11:26:04.561Z"
   },
   {
    "duration": 1869,
    "start_time": "2022-06-07T11:27:29.992Z"
   },
   {
    "duration": 18,
    "start_time": "2022-06-07T11:27:39.302Z"
   },
   {
    "duration": 11,
    "start_time": "2022-06-07T11:29:33.667Z"
   },
   {
    "duration": 6,
    "start_time": "2022-06-07T11:29:45.030Z"
   },
   {
    "duration": 5,
    "start_time": "2022-06-07T11:29:57.211Z"
   },
   {
    "duration": 7,
    "start_time": "2022-06-07T11:30:09.353Z"
   },
   {
    "duration": 8,
    "start_time": "2022-06-07T11:30:21.561Z"
   },
   {
    "duration": 7,
    "start_time": "2022-06-07T11:30:30.858Z"
   },
   {
    "duration": 17,
    "start_time": "2022-06-07T11:30:40.146Z"
   },
   {
    "duration": 12,
    "start_time": "2022-06-07T11:31:07.759Z"
   },
   {
    "duration": 22,
    "start_time": "2022-06-07T11:31:24.394Z"
   },
   {
    "duration": 22,
    "start_time": "2022-06-07T11:32:08.151Z"
   },
   {
    "duration": 17,
    "start_time": "2022-06-07T11:33:42.988Z"
   },
   {
    "duration": 13,
    "start_time": "2022-06-07T11:33:57.861Z"
   },
   {
    "duration": 40,
    "start_time": "2022-06-07T11:34:08.954Z"
   },
   {
    "duration": 18,
    "start_time": "2022-06-07T11:34:16.140Z"
   },
   {
    "duration": 10,
    "start_time": "2022-06-07T11:34:17.505Z"
   },
   {
    "duration": 16,
    "start_time": "2022-06-07T11:34:36.391Z"
   },
   {
    "duration": 6,
    "start_time": "2022-06-07T11:35:04.150Z"
   },
   {
    "duration": 13,
    "start_time": "2022-06-07T11:35:33.102Z"
   },
   {
    "duration": 457,
    "start_time": "2022-06-07T11:35:48.996Z"
   },
   {
    "duration": 10,
    "start_time": "2022-06-07T11:36:26.638Z"
   },
   {
    "duration": 11,
    "start_time": "2022-06-07T11:36:30.473Z"
   },
   {
    "duration": 4,
    "start_time": "2022-06-07T11:36:42.006Z"
   },
   {
    "duration": 10,
    "start_time": "2022-06-07T11:37:15.980Z"
   },
   {
    "duration": 12,
    "start_time": "2022-06-07T11:37:26.085Z"
   },
   {
    "duration": 503,
    "start_time": "2022-06-07T11:37:56.516Z"
   },
   {
    "duration": 276,
    "start_time": "2022-06-07T14:13:22.316Z"
   },
   {
    "duration": 31,
    "start_time": "2022-06-07T14:52:18.026Z"
   },
   {
    "duration": 1537,
    "start_time": "2022-06-07T15:05:05.199Z"
   },
   {
    "duration": 4,
    "start_time": "2022-06-07T15:05:06.738Z"
   },
   {
    "duration": 73,
    "start_time": "2022-06-07T15:05:06.743Z"
   },
   {
    "duration": 7,
    "start_time": "2022-06-07T15:05:06.818Z"
   },
   {
    "duration": 80,
    "start_time": "2022-06-07T15:05:06.827Z"
   },
   {
    "duration": 6,
    "start_time": "2022-06-07T15:05:06.909Z"
   },
   {
    "duration": 573,
    "start_time": "2022-06-07T15:05:06.917Z"
   },
   {
    "duration": 27,
    "start_time": "2022-06-07T15:05:07.492Z"
   },
   {
    "duration": 16,
    "start_time": "2022-06-07T15:05:07.521Z"
   },
   {
    "duration": 25,
    "start_time": "2022-06-07T15:05:07.540Z"
   },
   {
    "duration": 36,
    "start_time": "2022-06-07T15:05:07.567Z"
   },
   {
    "duration": 277,
    "start_time": "2022-06-07T15:05:07.605Z"
   },
   {
    "duration": 22,
    "start_time": "2022-06-07T15:05:07.884Z"
   },
   {
    "duration": 139,
    "start_time": "2022-06-07T15:05:07.908Z"
   },
   {
    "duration": 22,
    "start_time": "2022-06-07T15:05:08.050Z"
   },
   {
    "duration": 539,
    "start_time": "2022-06-07T15:05:08.074Z"
   },
   {
    "duration": 10,
    "start_time": "2022-06-07T15:05:08.615Z"
   },
   {
    "duration": 51,
    "start_time": "2022-06-07T15:05:08.627Z"
   },
   {
    "duration": 16,
    "start_time": "2022-06-07T15:05:08.680Z"
   },
   {
    "duration": 842,
    "start_time": "2022-06-07T15:05:08.698Z"
   },
   {
    "duration": 16,
    "start_time": "2022-06-07T15:05:09.542Z"
   },
   {
    "duration": 276,
    "start_time": "2022-06-07T15:05:09.560Z"
   },
   {
    "duration": 38,
    "start_time": "2022-06-07T15:05:09.837Z"
   },
   {
    "duration": 24,
    "start_time": "2022-06-07T15:05:09.877Z"
   },
   {
    "duration": 13,
    "start_time": "2022-06-07T15:05:09.903Z"
   },
   {
    "duration": 7,
    "start_time": "2022-06-07T15:05:09.919Z"
   },
   {
    "duration": 11,
    "start_time": "2022-06-07T15:05:09.928Z"
   },
   {
    "duration": 12,
    "start_time": "2022-06-07T15:05:09.944Z"
   },
   {
    "duration": 13,
    "start_time": "2022-06-07T15:05:09.958Z"
   },
   {
    "duration": 27,
    "start_time": "2022-06-07T15:05:09.973Z"
   },
   {
    "duration": 16,
    "start_time": "2022-06-07T15:05:10.002Z"
   },
   {
    "duration": 7,
    "start_time": "2022-06-07T15:05:10.020Z"
   },
   {
    "duration": 12,
    "start_time": "2022-06-07T15:05:10.029Z"
   },
   {
    "duration": 23,
    "start_time": "2022-06-07T15:05:10.044Z"
   },
   {
    "duration": 3159,
    "start_time": "2022-06-07T15:05:10.070Z"
   },
   {
    "duration": 19,
    "start_time": "2022-06-07T15:05:13.231Z"
   },
   {
    "duration": 12,
    "start_time": "2022-06-07T15:05:13.252Z"
   },
   {
    "duration": 3,
    "start_time": "2022-06-07T15:05:13.266Z"
   },
   {
    "duration": 25,
    "start_time": "2022-06-07T15:05:13.271Z"
   },
   {
    "duration": 10,
    "start_time": "2022-06-07T15:05:13.298Z"
   },
   {
    "duration": 10,
    "start_time": "2022-06-07T15:05:13.310Z"
   },
   {
    "duration": 8,
    "start_time": "2022-06-07T15:05:13.322Z"
   },
   {
    "duration": 16,
    "start_time": "2022-06-07T15:05:13.332Z"
   },
   {
    "duration": 12,
    "start_time": "2022-06-07T15:05:13.350Z"
   },
   {
    "duration": 43,
    "start_time": "2022-06-07T15:05:13.363Z"
   },
   {
    "duration": 15,
    "start_time": "2022-06-07T15:05:13.408Z"
   },
   {
    "duration": 12,
    "start_time": "2022-06-07T15:05:13.425Z"
   },
   {
    "duration": 16,
    "start_time": "2022-06-07T15:05:13.439Z"
   },
   {
    "duration": 5,
    "start_time": "2022-06-07T15:05:13.456Z"
   },
   {
    "duration": 39,
    "start_time": "2022-06-07T15:05:13.462Z"
   },
   {
    "duration": 390,
    "start_time": "2022-06-07T15:05:13.503Z"
   },
   {
    "duration": 14,
    "start_time": "2022-06-07T15:05:13.896Z"
   },
   {
    "duration": 6,
    "start_time": "2022-06-07T15:05:13.913Z"
   },
   {
    "duration": 17,
    "start_time": "2022-06-07T15:05:13.921Z"
   },
   {
    "duration": 17,
    "start_time": "2022-06-07T15:05:13.940Z"
   },
   {
    "duration": 484,
    "start_time": "2022-06-07T15:05:13.958Z"
   },
   {
    "duration": 1583,
    "start_time": "2022-06-08T04:12:26.302Z"
   },
   {
    "duration": 0,
    "start_time": "2022-06-08T04:12:27.889Z"
   },
   {
    "duration": 0,
    "start_time": "2022-06-08T04:12:27.891Z"
   },
   {
    "duration": 0,
    "start_time": "2022-06-08T04:12:27.892Z"
   },
   {
    "duration": 0,
    "start_time": "2022-06-08T04:12:27.893Z"
   },
   {
    "duration": 0,
    "start_time": "2022-06-08T04:12:27.895Z"
   },
   {
    "duration": 0,
    "start_time": "2022-06-08T04:12:27.896Z"
   },
   {
    "duration": 0,
    "start_time": "2022-06-08T04:12:27.897Z"
   },
   {
    "duration": 0,
    "start_time": "2022-06-08T04:12:27.898Z"
   },
   {
    "duration": 0,
    "start_time": "2022-06-08T04:12:27.900Z"
   },
   {
    "duration": 0,
    "start_time": "2022-06-08T04:12:27.901Z"
   },
   {
    "duration": 0,
    "start_time": "2022-06-08T04:12:27.903Z"
   },
   {
    "duration": 0,
    "start_time": "2022-06-08T04:12:27.927Z"
   },
   {
    "duration": 0,
    "start_time": "2022-06-08T04:12:27.931Z"
   },
   {
    "duration": 0,
    "start_time": "2022-06-08T04:12:27.932Z"
   },
   {
    "duration": 0,
    "start_time": "2022-06-08T04:12:27.933Z"
   },
   {
    "duration": 0,
    "start_time": "2022-06-08T04:12:27.935Z"
   },
   {
    "duration": 0,
    "start_time": "2022-06-08T04:12:27.936Z"
   },
   {
    "duration": 0,
    "start_time": "2022-06-08T04:12:27.937Z"
   },
   {
    "duration": 0,
    "start_time": "2022-06-08T04:12:27.938Z"
   },
   {
    "duration": 0,
    "start_time": "2022-06-08T04:12:27.940Z"
   },
   {
    "duration": 0,
    "start_time": "2022-06-08T04:12:27.941Z"
   },
   {
    "duration": 0,
    "start_time": "2022-06-08T04:12:27.949Z"
   },
   {
    "duration": 0,
    "start_time": "2022-06-08T04:12:27.950Z"
   },
   {
    "duration": 0,
    "start_time": "2022-06-08T04:12:27.951Z"
   },
   {
    "duration": 0,
    "start_time": "2022-06-08T04:12:27.952Z"
   },
   {
    "duration": 0,
    "start_time": "2022-06-08T04:12:27.954Z"
   },
   {
    "duration": 0,
    "start_time": "2022-06-08T04:12:27.955Z"
   },
   {
    "duration": 0,
    "start_time": "2022-06-08T04:12:27.956Z"
   },
   {
    "duration": 0,
    "start_time": "2022-06-08T04:12:27.958Z"
   },
   {
    "duration": 0,
    "start_time": "2022-06-08T04:12:27.959Z"
   },
   {
    "duration": 0,
    "start_time": "2022-06-08T04:12:27.960Z"
   },
   {
    "duration": 0,
    "start_time": "2022-06-08T04:12:27.962Z"
   },
   {
    "duration": 0,
    "start_time": "2022-06-08T04:12:27.963Z"
   },
   {
    "duration": 0,
    "start_time": "2022-06-08T04:12:27.965Z"
   },
   {
    "duration": 0,
    "start_time": "2022-06-08T04:12:27.966Z"
   },
   {
    "duration": 0,
    "start_time": "2022-06-08T04:12:27.967Z"
   },
   {
    "duration": 0,
    "start_time": "2022-06-08T04:12:27.968Z"
   },
   {
    "duration": 0,
    "start_time": "2022-06-08T04:12:27.970Z"
   },
   {
    "duration": 0,
    "start_time": "2022-06-08T04:12:27.971Z"
   },
   {
    "duration": 0,
    "start_time": "2022-06-08T04:12:27.972Z"
   },
   {
    "duration": 0,
    "start_time": "2022-06-08T04:12:27.973Z"
   },
   {
    "duration": 0,
    "start_time": "2022-06-08T04:12:27.974Z"
   },
   {
    "duration": 0,
    "start_time": "2022-06-08T04:12:27.975Z"
   },
   {
    "duration": 0,
    "start_time": "2022-06-08T04:12:27.976Z"
   },
   {
    "duration": 0,
    "start_time": "2022-06-08T04:12:28.028Z"
   },
   {
    "duration": 0,
    "start_time": "2022-06-08T04:12:28.034Z"
   },
   {
    "duration": 0,
    "start_time": "2022-06-08T04:12:28.034Z"
   },
   {
    "duration": 0,
    "start_time": "2022-06-08T04:12:28.035Z"
   },
   {
    "duration": 0,
    "start_time": "2022-06-08T04:12:28.039Z"
   },
   {
    "duration": 0,
    "start_time": "2022-06-08T04:12:28.040Z"
   },
   {
    "duration": 0,
    "start_time": "2022-06-08T04:12:28.041Z"
   },
   {
    "duration": 0,
    "start_time": "2022-06-08T04:12:28.042Z"
   },
   {
    "duration": 0,
    "start_time": "2022-06-08T04:12:28.044Z"
   },
   {
    "duration": 0,
    "start_time": "2022-06-08T04:12:28.045Z"
   },
   {
    "duration": 0,
    "start_time": "2022-06-08T04:12:28.046Z"
   },
   {
    "duration": 3090,
    "start_time": "2022-06-08T04:12:50.893Z"
   },
   {
    "duration": 2107,
    "start_time": "2022-06-08T04:12:59.603Z"
   },
   {
    "duration": 1464,
    "start_time": "2022-06-08T04:13:01.713Z"
   },
   {
    "duration": 3,
    "start_time": "2022-06-08T04:13:03.179Z"
   },
   {
    "duration": 296,
    "start_time": "2022-06-08T04:13:03.184Z"
   },
   {
    "duration": 7,
    "start_time": "2022-06-08T04:13:03.482Z"
   },
   {
    "duration": 74,
    "start_time": "2022-06-08T04:13:03.490Z"
   },
   {
    "duration": 6,
    "start_time": "2022-06-08T04:13:03.565Z"
   },
   {
    "duration": 540,
    "start_time": "2022-06-08T04:13:03.572Z"
   },
   {
    "duration": 37,
    "start_time": "2022-06-08T04:13:04.114Z"
   },
   {
    "duration": 12,
    "start_time": "2022-06-08T04:13:04.153Z"
   },
   {
    "duration": 13,
    "start_time": "2022-06-08T04:13:04.167Z"
   },
   {
    "duration": 15,
    "start_time": "2022-06-08T04:13:04.182Z"
   },
   {
    "duration": 273,
    "start_time": "2022-06-08T04:13:04.226Z"
   },
   {
    "duration": 14,
    "start_time": "2022-06-08T04:13:04.501Z"
   },
   {
    "duration": 107,
    "start_time": "2022-06-08T04:13:04.527Z"
   },
   {
    "duration": 19,
    "start_time": "2022-06-08T04:13:04.638Z"
   },
   {
    "duration": 533,
    "start_time": "2022-06-08T04:13:04.658Z"
   },
   {
    "duration": 8,
    "start_time": "2022-06-08T04:13:05.192Z"
   },
   {
    "duration": 55,
    "start_time": "2022-06-08T04:13:05.202Z"
   },
   {
    "duration": 26,
    "start_time": "2022-06-08T04:13:05.258Z"
   },
   {
    "duration": 704,
    "start_time": "2022-06-08T04:13:05.286Z"
   },
   {
    "duration": 14,
    "start_time": "2022-06-08T04:13:05.992Z"
   },
   {
    "duration": 303,
    "start_time": "2022-06-08T04:13:06.008Z"
   },
   {
    "duration": 55,
    "start_time": "2022-06-08T04:13:06.313Z"
   },
   {
    "duration": 17,
    "start_time": "2022-06-08T04:13:06.370Z"
   },
   {
    "duration": 30,
    "start_time": "2022-06-08T04:13:06.388Z"
   },
   {
    "duration": 34,
    "start_time": "2022-06-08T04:13:06.420Z"
   },
   {
    "duration": 41,
    "start_time": "2022-06-08T04:13:06.458Z"
   },
   {
    "duration": 64,
    "start_time": "2022-06-08T04:13:06.501Z"
   },
   {
    "duration": 39,
    "start_time": "2022-06-08T04:13:06.567Z"
   },
   {
    "duration": 57,
    "start_time": "2022-06-08T04:13:06.607Z"
   },
   {
    "duration": 38,
    "start_time": "2022-06-08T04:13:06.666Z"
   },
   {
    "duration": 11,
    "start_time": "2022-06-08T04:13:06.706Z"
   },
   {
    "duration": 46,
    "start_time": "2022-06-08T04:13:06.719Z"
   },
   {
    "duration": 54,
    "start_time": "2022-06-08T04:13:06.767Z"
   },
   {
    "duration": 8395,
    "start_time": "2022-06-08T04:13:06.822Z"
   },
   {
    "duration": 26,
    "start_time": "2022-06-08T04:13:15.219Z"
   },
   {
    "duration": 15,
    "start_time": "2022-06-08T04:13:15.247Z"
   },
   {
    "duration": 4,
    "start_time": "2022-06-08T04:13:15.263Z"
   },
   {
    "duration": 6,
    "start_time": "2022-06-08T04:13:15.269Z"
   },
   {
    "duration": 13,
    "start_time": "2022-06-08T04:13:15.276Z"
   },
   {
    "duration": 10,
    "start_time": "2022-06-08T04:13:15.291Z"
   },
   {
    "duration": 9,
    "start_time": "2022-06-08T04:13:15.303Z"
   },
   {
    "duration": 25,
    "start_time": "2022-06-08T04:13:15.313Z"
   },
   {
    "duration": 11,
    "start_time": "2022-06-08T04:13:15.341Z"
   },
   {
    "duration": 28,
    "start_time": "2022-06-08T04:13:15.353Z"
   },
   {
    "duration": 24,
    "start_time": "2022-06-08T04:13:15.383Z"
   },
   {
    "duration": 10,
    "start_time": "2022-06-08T04:13:15.408Z"
   },
   {
    "duration": 21,
    "start_time": "2022-06-08T04:13:15.420Z"
   },
   {
    "duration": 6,
    "start_time": "2022-06-08T04:13:15.443Z"
   },
   {
    "duration": 13,
    "start_time": "2022-06-08T04:13:15.451Z"
   },
   {
    "duration": 341,
    "start_time": "2022-06-08T04:13:15.466Z"
   },
   {
    "duration": 10,
    "start_time": "2022-06-08T04:13:15.808Z"
   },
   {
    "duration": 34,
    "start_time": "2022-06-08T04:13:15.819Z"
   },
   {
    "duration": 14,
    "start_time": "2022-06-08T04:13:15.854Z"
   },
   {
    "duration": 13,
    "start_time": "2022-06-08T04:13:15.870Z"
   },
   {
    "duration": 519,
    "start_time": "2022-06-08T04:13:15.885Z"
   },
   {
    "duration": 26,
    "start_time": "2022-06-08T04:45:53.419Z"
   },
   {
    "duration": 54,
    "start_time": "2022-06-11T11:36:39.410Z"
   },
   {
    "duration": 2825,
    "start_time": "2022-06-11T11:36:46.439Z"
   },
   {
    "duration": 1504,
    "start_time": "2022-06-11T11:36:49.266Z"
   },
   {
    "duration": 4,
    "start_time": "2022-06-11T11:36:50.772Z"
   },
   {
    "duration": 264,
    "start_time": "2022-06-11T11:36:50.778Z"
   },
   {
    "duration": 7,
    "start_time": "2022-06-11T11:36:51.044Z"
   },
   {
    "duration": 51,
    "start_time": "2022-06-11T11:36:51.052Z"
   },
   {
    "duration": 6,
    "start_time": "2022-06-11T11:36:51.105Z"
   },
   {
    "duration": 553,
    "start_time": "2022-06-11T11:36:51.112Z"
   },
   {
    "duration": 26,
    "start_time": "2022-06-11T11:36:51.666Z"
   },
   {
    "duration": 11,
    "start_time": "2022-06-11T11:36:51.693Z"
   },
   {
    "duration": 37,
    "start_time": "2022-06-11T11:36:51.705Z"
   },
   {
    "duration": 27,
    "start_time": "2022-06-11T11:36:51.744Z"
   },
   {
    "duration": 20,
    "start_time": "2022-06-11T11:36:51.773Z"
   },
   {
    "duration": 281,
    "start_time": "2022-06-11T11:36:51.796Z"
   },
   {
    "duration": 14,
    "start_time": "2022-06-11T11:36:52.079Z"
   },
   {
    "duration": 117,
    "start_time": "2022-06-11T11:36:52.095Z"
   },
   {
    "duration": 26,
    "start_time": "2022-06-11T11:36:52.214Z"
   },
   {
    "duration": 687,
    "start_time": "2022-06-11T11:36:52.241Z"
   },
   {
    "duration": 16,
    "start_time": "2022-06-11T11:36:52.930Z"
   },
   {
    "duration": 38,
    "start_time": "2022-06-11T11:36:52.948Z"
   },
   {
    "duration": 16,
    "start_time": "2022-06-11T11:36:52.987Z"
   },
   {
    "duration": 646,
    "start_time": "2022-06-11T11:36:53.004Z"
   },
   {
    "duration": 15,
    "start_time": "2022-06-11T11:36:53.652Z"
   },
   {
    "duration": 271,
    "start_time": "2022-06-11T11:36:53.669Z"
   },
   {
    "duration": 36,
    "start_time": "2022-06-11T11:36:53.942Z"
   },
   {
    "duration": 15,
    "start_time": "2022-06-11T11:36:53.980Z"
   },
   {
    "duration": 8,
    "start_time": "2022-06-11T11:36:53.996Z"
   },
   {
    "duration": 22,
    "start_time": "2022-06-11T11:36:54.006Z"
   },
   {
    "duration": 16,
    "start_time": "2022-06-11T11:36:54.030Z"
   },
   {
    "duration": 15,
    "start_time": "2022-06-11T11:36:54.048Z"
   },
   {
    "duration": 8,
    "start_time": "2022-06-11T11:36:54.065Z"
   },
   {
    "duration": 10,
    "start_time": "2022-06-11T11:36:54.075Z"
   },
   {
    "duration": 7,
    "start_time": "2022-06-11T11:36:54.086Z"
   },
   {
    "duration": 6,
    "start_time": "2022-06-11T11:36:54.094Z"
   },
   {
    "duration": 7,
    "start_time": "2022-06-11T11:36:54.102Z"
   },
   {
    "duration": 24,
    "start_time": "2022-06-11T11:36:54.111Z"
   },
   {
    "duration": 128,
    "start_time": "2022-06-11T11:36:54.137Z"
   },
   {
    "duration": 0,
    "start_time": "2022-06-11T11:36:54.268Z"
   },
   {
    "duration": 0,
    "start_time": "2022-06-11T11:36:54.269Z"
   },
   {
    "duration": 0,
    "start_time": "2022-06-11T11:36:54.271Z"
   },
   {
    "duration": 0,
    "start_time": "2022-06-11T11:36:54.272Z"
   },
   {
    "duration": 0,
    "start_time": "2022-06-11T11:36:54.274Z"
   },
   {
    "duration": 0,
    "start_time": "2022-06-11T11:36:54.275Z"
   },
   {
    "duration": 0,
    "start_time": "2022-06-11T11:36:54.276Z"
   },
   {
    "duration": 0,
    "start_time": "2022-06-11T11:36:54.278Z"
   },
   {
    "duration": 0,
    "start_time": "2022-06-11T11:36:54.279Z"
   },
   {
    "duration": 0,
    "start_time": "2022-06-11T11:36:54.282Z"
   },
   {
    "duration": 0,
    "start_time": "2022-06-11T11:36:54.283Z"
   },
   {
    "duration": 0,
    "start_time": "2022-06-11T11:36:54.285Z"
   },
   {
    "duration": 0,
    "start_time": "2022-06-11T11:36:54.286Z"
   },
   {
    "duration": 0,
    "start_time": "2022-06-11T11:36:54.324Z"
   },
   {
    "duration": 0,
    "start_time": "2022-06-11T11:36:54.326Z"
   },
   {
    "duration": 0,
    "start_time": "2022-06-11T11:36:54.327Z"
   },
   {
    "duration": 0,
    "start_time": "2022-06-11T11:36:54.328Z"
   },
   {
    "duration": 0,
    "start_time": "2022-06-11T11:36:54.329Z"
   },
   {
    "duration": 0,
    "start_time": "2022-06-11T11:36:54.330Z"
   },
   {
    "duration": 0,
    "start_time": "2022-06-11T11:36:54.331Z"
   },
   {
    "duration": 0,
    "start_time": "2022-06-11T11:36:54.332Z"
   },
   {
    "duration": 0,
    "start_time": "2022-06-11T11:36:54.334Z"
   },
   {
    "duration": 249,
    "start_time": "2022-06-11T11:39:24.007Z"
   },
   {
    "duration": 226,
    "start_time": "2022-06-11T11:40:24.639Z"
   },
   {
    "duration": 229,
    "start_time": "2022-06-11T11:42:34.769Z"
   },
   {
    "duration": 222,
    "start_time": "2022-06-11T11:43:48.458Z"
   },
   {
    "duration": 3,
    "start_time": "2022-06-11T11:49:40.152Z"
   },
   {
    "duration": 12,
    "start_time": "2022-06-11T11:49:45.626Z"
   },
   {
    "duration": 4,
    "start_time": "2022-06-11T11:49:52.147Z"
   },
   {
    "duration": 4,
    "start_time": "2022-06-11T11:50:09.710Z"
   },
   {
    "duration": 320,
    "start_time": "2022-06-11T11:50:23.304Z"
   },
   {
    "duration": 240,
    "start_time": "2022-06-11T11:50:40.598Z"
   },
   {
    "duration": 223,
    "start_time": "2022-06-11T11:50:55.557Z"
   },
   {
    "duration": 297,
    "start_time": "2022-06-11T11:51:31.600Z"
   },
   {
    "duration": 259,
    "start_time": "2022-06-11T11:52:03.952Z"
   },
   {
    "duration": 224,
    "start_time": "2022-06-11T11:52:34.967Z"
   },
   {
    "duration": 252,
    "start_time": "2022-06-11T11:53:01.543Z"
   },
   {
    "duration": 243,
    "start_time": "2022-06-11T11:53:14.741Z"
   },
   {
    "duration": 249,
    "start_time": "2022-06-11T11:53:33.826Z"
   },
   {
    "duration": 253,
    "start_time": "2022-06-11T11:53:50.186Z"
   },
   {
    "duration": 255,
    "start_time": "2022-06-11T11:54:56.365Z"
   },
   {
    "duration": 349,
    "start_time": "2022-06-11T11:55:37.829Z"
   },
   {
    "duration": 23,
    "start_time": "2022-06-11T12:00:24.899Z"
   },
   {
    "duration": 23,
    "start_time": "2022-06-11T12:02:13.401Z"
   },
   {
    "duration": 26,
    "start_time": "2022-06-11T12:03:25.965Z"
   },
   {
    "duration": 25,
    "start_time": "2022-06-11T12:06:36.578Z"
   },
   {
    "duration": 29,
    "start_time": "2022-06-11T12:35:50.417Z"
   },
   {
    "duration": 14,
    "start_time": "2022-06-11T12:37:25.601Z"
   },
   {
    "duration": 5,
    "start_time": "2022-06-11T12:47:10.796Z"
   },
   {
    "duration": 18,
    "start_time": "2022-06-11T12:48:21.221Z"
   },
   {
    "duration": 3,
    "start_time": "2022-06-11T12:49:16.538Z"
   },
   {
    "duration": 311,
    "start_time": "2022-06-11T12:50:17.150Z"
   },
   {
    "duration": 4,
    "start_time": "2022-06-11T12:54:37.917Z"
   },
   {
    "duration": 4,
    "start_time": "2022-06-11T12:55:54.018Z"
   },
   {
    "duration": 393,
    "start_time": "2022-06-11T12:56:26.590Z"
   },
   {
    "duration": 3,
    "start_time": "2022-06-11T12:57:17.524Z"
   },
   {
    "duration": 372,
    "start_time": "2022-06-11T12:57:18.693Z"
   },
   {
    "duration": 9,
    "start_time": "2022-06-11T12:57:44.622Z"
   },
   {
    "duration": 212,
    "start_time": "2022-06-11T12:58:41.356Z"
   },
   {
    "duration": 8,
    "start_time": "2022-06-11T12:59:38.640Z"
   },
   {
    "duration": 658,
    "start_time": "2022-06-11T13:00:18.903Z"
   },
   {
    "duration": 571,
    "start_time": "2022-06-11T13:00:44.986Z"
   },
   {
    "duration": 693,
    "start_time": "2022-06-11T13:00:58.426Z"
   },
   {
    "duration": 563,
    "start_time": "2022-06-11T13:05:21.197Z"
   },
   {
    "duration": 12,
    "start_time": "2022-06-11T13:09:24.431Z"
   },
   {
    "duration": 16,
    "start_time": "2022-06-11T13:09:35.295Z"
   },
   {
    "duration": 392,
    "start_time": "2022-06-11T13:16:47.610Z"
   },
   {
    "duration": 291,
    "start_time": "2022-06-11T13:18:15.949Z"
   },
   {
    "duration": 294,
    "start_time": "2022-06-11T13:18:21.690Z"
   },
   {
    "duration": 309,
    "start_time": "2022-06-11T13:19:01.619Z"
   },
   {
    "duration": 292,
    "start_time": "2022-06-11T13:19:15.952Z"
   },
   {
    "duration": 282,
    "start_time": "2022-06-11T13:19:40.814Z"
   },
   {
    "duration": 307,
    "start_time": "2022-06-11T13:23:08.910Z"
   },
   {
    "duration": 271,
    "start_time": "2022-06-11T13:25:29.490Z"
   },
   {
    "duration": 287,
    "start_time": "2022-06-11T13:25:43.978Z"
   },
   {
    "duration": 296,
    "start_time": "2022-06-11T13:25:54.190Z"
   },
   {
    "duration": 23,
    "start_time": "2022-06-11T13:29:07.692Z"
   },
   {
    "duration": 14,
    "start_time": "2022-06-11T13:29:19.133Z"
   },
   {
    "duration": 21,
    "start_time": "2022-06-11T13:29:32.796Z"
   },
   {
    "duration": 5,
    "start_time": "2022-06-11T13:36:40.359Z"
   },
   {
    "duration": 8,
    "start_time": "2022-06-11T13:36:45.177Z"
   },
   {
    "duration": 304,
    "start_time": "2022-06-11T13:36:50.492Z"
   },
   {
    "duration": 4,
    "start_time": "2022-06-11T13:38:00.463Z"
   },
   {
    "duration": 4,
    "start_time": "2022-06-11T13:38:17.027Z"
   },
   {
    "duration": 8,
    "start_time": "2022-06-11T13:38:18.895Z"
   },
   {
    "duration": 8,
    "start_time": "2022-06-11T13:38:21.305Z"
   },
   {
    "duration": 275,
    "start_time": "2022-06-11T13:38:25.229Z"
   },
   {
    "duration": 9,
    "start_time": "2022-06-11T13:46:17.008Z"
   },
   {
    "duration": 17,
    "start_time": "2022-06-11T13:49:34.275Z"
   },
   {
    "duration": 379,
    "start_time": "2022-06-11T13:51:17.894Z"
   },
   {
    "duration": 284,
    "start_time": "2022-06-11T13:51:42.528Z"
   },
   {
    "duration": 19,
    "start_time": "2022-06-11T13:53:18.230Z"
   },
   {
    "duration": 246,
    "start_time": "2022-06-11T13:54:31.021Z"
   },
   {
    "duration": 236,
    "start_time": "2022-06-11T13:55:28.298Z"
   },
   {
    "duration": 221,
    "start_time": "2022-06-11T13:55:46.134Z"
   },
   {
    "duration": 3,
    "start_time": "2022-06-11T14:06:40.463Z"
   },
   {
    "duration": 3,
    "start_time": "2022-06-11T14:07:19.340Z"
   },
   {
    "duration": 10,
    "start_time": "2022-06-11T14:07:49.695Z"
   },
   {
    "duration": 69,
    "start_time": "2022-06-11T14:08:00.723Z"
   },
   {
    "duration": 27,
    "start_time": "2022-06-11T14:34:04.746Z"
   }
  ],
  "kernelspec": {
   "display_name": "Python 3",
   "language": "python",
   "name": "python3"
  },
  "language_info": {
   "codemirror_mode": {
    "name": "ipython",
    "version": 3
   },
   "file_extension": ".py",
   "mimetype": "text/x-python",
   "name": "python",
   "nbconvert_exporter": "python",
   "pygments_lexer": "ipython3",
   "version": "3.7.0"
  },
  "toc": {
   "base_numbering": 1,
   "nav_menu": {},
   "number_sections": true,
   "sideBar": true,
   "skip_h1_title": true,
   "title_cell": "Table of Contents",
   "title_sidebar": "Contents",
   "toc_cell": true,
   "toc_position": {},
   "toc_section_display": true,
   "toc_window_display": false
  }
 },
 "nbformat": 4,
 "nbformat_minor": 2
}
